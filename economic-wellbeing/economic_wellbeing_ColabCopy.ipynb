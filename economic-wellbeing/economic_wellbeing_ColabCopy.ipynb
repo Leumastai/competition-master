{
  "nbformat": 4,
  "nbformat_minor": 0,
  "metadata": {
    "kernelspec": {
      "display_name": "Python 3",
      "language": "python",
      "name": "python3"
    },
    "language_info": {
      "codemirror_mode": {
        "name": "ipython",
        "version": 3
      },
      "file_extension": ".py",
      "mimetype": "text/x-python",
      "name": "python",
      "nbconvert_exporter": "python",
      "pygments_lexer": "ipython3",
      "version": "3.8.5"
    },
    "colab": {
      "name": "economic-wellbeing-ColabCopy.ipynb",
      "provenance": [],
      "collapsed_sections": [
        "330xj9IWCssB"
      ]
    }
  },
  "cells": [
    {
      "cell_type": "markdown",
      "metadata": {
        "id": "tIpExee8E8YR"
      },
      "source": [
        "## Setup"
      ]
    },
    {
      "cell_type": "code",
      "metadata": {
        "colab": {
          "base_uri": "https://localhost:8080/",
          "height": 16
        },
        "id": "EUzIN4ajCsrl",
        "outputId": "0808de86-e38f-4ae4-d288-b692e867bcb2"
      },
      "source": [
        "import pandas as pd\n",
        "import numpy as np\n",
        "import matplotlib.pyplot as plt\n",
        "%matplotlib inline\n",
        "import seaborn as sns\n",
        "from scipy import stats\n",
        "from scipy.stats import norm, skew #for some statistics\n",
        "import os\n",
        "import gc\n",
        "\n",
        "import plotly.offline as py\n",
        "py.init_notebook_mode(connected=True)\n",
        "import plotly.graph_objs as go\n",
        "import plotly.tools as tls\n",
        "\n",
        "#from tqdm import tqdm\n",
        "#import autoviz\n",
        "#import dtale\n",
        "import pandas_profiling\n",
        "\n",
        "import pickle\n",
        "import joblib\n",
        "\n",
        "import warnings\n",
        "warnings.filterwarnings('ignore')\n",
        "pd.set_option(\"display.max.columns\", None)\n",
        "\n",
        "#for AWS Sagemaker\n",
        "#import boto3, botocore\n",
        "#from sagemaker import get_execution_role"
      ],
      "execution_count": 1,
      "outputs": [
        {
          "output_type": "display_data",
          "data": {
            "text/html": [
              "        <script type=\"text/javascript\">\n",
              "        window.PlotlyConfig = {MathJaxConfig: 'local'};\n",
              "        if (window.MathJax) {MathJax.Hub.Config({SVG: {font: \"STIX-Web\"}});}\n",
              "        if (typeof require !== 'undefined') {\n",
              "        require.undef(\"plotly\");\n",
              "        requirejs.config({\n",
              "            paths: {\n",
              "                'plotly': ['https://cdn.plot.ly/plotly-latest.min']\n",
              "            }\n",
              "        });\n",
              "        require(['plotly'], function(Plotly) {\n",
              "            window._Plotly = Plotly;\n",
              "        });\n",
              "        }\n",
              "        </script>\n",
              "        "
            ]
          },
          "metadata": {}
        }
      ]
    },
    {
      "cell_type": "code",
      "metadata": {
        "colab": {
          "base_uri": "https://localhost:8080/"
        },
        "id": "UEK-HyUgC8sV",
        "outputId": "9e4aca1c-6dd0-48e2-86f1-7e8edb4142bb"
      },
      "source": [
        "#for Google Colab\n",
        "from google.colab import drive\n",
        "drive.mount(\"/content/drive/\")"
      ],
      "execution_count": 2,
      "outputs": [
        {
          "output_type": "stream",
          "name": "stdout",
          "text": [
            "Mounted at /content/drive/\n"
          ]
        }
      ]
    },
    {
      "cell_type": "code",
      "metadata": {
        "colab": {
          "base_uri": "https://localhost:8080/",
          "height": 53
        },
        "id": "4ImGwvoDCsrq",
        "outputId": "5cd5e7fa-5ce6-4714-d6f5-82cda0ced7c9"
      },
      "source": [
        "#for ASW sagemaker.\n",
        "\"\"\"\n",
        "role = get_execution_role()\n",
        "\n",
        "BUCKET = 'sam-ml-stuffs'\n",
        "PREFIX = 'economic-wellbeing-data'\n",
        "train_key = 'Train.csv'\n",
        "test_key = 'Test.csv'\n",
        "sample_key = 'SampleSubmission.csv'\n",
        "\"\"\""
      ],
      "execution_count": null,
      "outputs": [
        {
          "output_type": "execute_result",
          "data": {
            "application/vnd.google.colaboratory.intrinsic+json": {
              "type": "string"
            },
            "text/plain": [
              "\"\\nrole = get_execution_role()\\n\\nBUCKET = 'sam-ml-stuffs'\\nPREFIX = 'economic-wellbeing-data'\\ntrain_key = 'Train.csv'\\ntest_key = 'Test.csv'\\nsample_key = 'SampleSubmission.csv'\\n\""
            ]
          },
          "metadata": {},
          "execution_count": 3
        }
      ]
    },
    {
      "cell_type": "code",
      "metadata": {
        "colab": {
          "base_uri": "https://localhost:8080/",
          "height": 53
        },
        "id": "WwAmOxLMCsrs",
        "outputId": "f6ce450f-69cc-416a-b082-8e8823b35556"
      },
      "source": [
        "#for AWS sagemaker\n",
        "\"\"\"\n",
        "train = pd.read_csv('s3://{}/{}/{}'.format(BUCKET, PREFIX, train_key))\n",
        "test = pd.read_csv('s3://{}/{}/{}'.format(BUCKET, PREFIX, test_key))\n",
        "sample = pd.read_csv('s3://{}/{}/{}'.format(BUCKET, PREFIX, sample_key))\n",
        "\"\"\""
      ],
      "execution_count": null,
      "outputs": [
        {
          "output_type": "execute_result",
          "data": {
            "application/vnd.google.colaboratory.intrinsic+json": {
              "type": "string"
            },
            "text/plain": [
              "\"\\ntrain = pd.read_csv('s3://{}/{}/{}'.format(BUCKET, PREFIX, train_key))\\ntest = pd.read_csv('s3://{}/{}/{}'.format(BUCKET, PREFIX, test_key))\\nsample = pd.read_csv('s3://{}/{}/{}'.format(BUCKET, PREFIX, sample_key))\\n\""
            ]
          },
          "metadata": {},
          "execution_count": 8
        }
      ]
    },
    {
      "cell_type": "code",
      "metadata": {
        "colab": {
          "base_uri": "https://localhost:8080/",
          "height": 35
        },
        "id": "PDkzp59qCsrt",
        "outputId": "98fe683e-2ebd-46b7-a2bb-929e1e2ed25a"
      },
      "source": [
        "\"\"\"\n",
        "MAIN_PATH = os.getcwd()\n",
        "MAIN_PATH\n",
        "\"\"\""
      ],
      "execution_count": null,
      "outputs": [
        {
          "output_type": "execute_result",
          "data": {
            "application/vnd.google.colaboratory.intrinsic+json": {
              "type": "string"
            },
            "text/plain": [
              "'\\nMAIN_PATH = os.getcwd()\\nMAIN_PATH\\n'"
            ]
          },
          "metadata": {},
          "execution_count": 5
        }
      ]
    },
    {
      "cell_type": "code",
      "metadata": {
        "colab": {
          "base_uri": "https://localhost:8080/",
          "height": 35
        },
        "id": "yxeavIOXDSVw",
        "outputId": "cbac3604-b0a1-46f9-c83b-19c8b762dea6"
      },
      "source": [
        "os.chdir(\"/content/drive/MyDrive/Colab Notebooks\")\n",
        "MAIN_PATH = os.getcwd()\n",
        "MAIN_PATH"
      ],
      "execution_count": 3,
      "outputs": [
        {
          "output_type": "execute_result",
          "data": {
            "application/vnd.google.colaboratory.intrinsic+json": {
              "type": "string"
            },
            "text/plain": [
              "'/content/drive/MyDrive/Colab Notebooks'"
            ]
          },
          "metadata": {},
          "execution_count": 3
        }
      ]
    },
    {
      "cell_type": "code",
      "metadata": {
        "id": "WEilncvaCsru"
      },
      "source": [
        "train = pd.read_csv(os.path.join(MAIN_PATH, \"economic-wellbeing-data/Train.csv\"))\n",
        "test = pd.read_csv(os.path.join(MAIN_PATH, \"economic-wellbeing-data/Test.csv\"))\n",
        "sample = pd.read_csv(os.path.join(MAIN_PATH, \"economic-wellbeing-data/SampleSubmission.csv\"))"
      ],
      "execution_count": 4,
      "outputs": []
    },
    {
      "cell_type": "markdown",
      "metadata": {
        "id": "VEDRzndNCsru"
      },
      "source": [
        "## Exploratory Data Analysis"
      ]
    },
    {
      "cell_type": "code",
      "metadata": {
        "colab": {
          "base_uri": "https://localhost:8080/",
          "height": 217
        },
        "id": "juF-lDD8Csry",
        "outputId": "6f1e3885-e44c-45a6-f175-c98c7914a9ce"
      },
      "source": [
        "Train = train.copy()\n",
        "Test = test.copy()\n",
        "Train.head()"
      ],
      "execution_count": 5,
      "outputs": [
        {
          "output_type": "execute_result",
          "data": {
            "text/html": [
              "<div>\n",
              "<style scoped>\n",
              "    .dataframe tbody tr th:only-of-type {\n",
              "        vertical-align: middle;\n",
              "    }\n",
              "\n",
              "    .dataframe tbody tr th {\n",
              "        vertical-align: top;\n",
              "    }\n",
              "\n",
              "    .dataframe thead th {\n",
              "        text-align: right;\n",
              "    }\n",
              "</style>\n",
              "<table border=\"1\" class=\"dataframe\">\n",
              "  <thead>\n",
              "    <tr style=\"text-align: right;\">\n",
              "      <th></th>\n",
              "      <th>ID</th>\n",
              "      <th>country</th>\n",
              "      <th>year</th>\n",
              "      <th>urban_or_rural</th>\n",
              "      <th>ghsl_water_surface</th>\n",
              "      <th>ghsl_built_pre_1975</th>\n",
              "      <th>ghsl_built_1975_to_1990</th>\n",
              "      <th>ghsl_built_1990_to_2000</th>\n",
              "      <th>ghsl_built_2000_to_2014</th>\n",
              "      <th>ghsl_not_built_up</th>\n",
              "      <th>ghsl_pop_density</th>\n",
              "      <th>landcover_crops_fraction</th>\n",
              "      <th>landcover_urban_fraction</th>\n",
              "      <th>landcover_water_permanent_10km_fraction</th>\n",
              "      <th>landcover_water_seasonal_10km_fraction</th>\n",
              "      <th>nighttime_lights</th>\n",
              "      <th>dist_to_capital</th>\n",
              "      <th>dist_to_shoreline</th>\n",
              "      <th>Target</th>\n",
              "    </tr>\n",
              "  </thead>\n",
              "  <tbody>\n",
              "    <tr>\n",
              "      <th>0</th>\n",
              "      <td>ID_AAIethGy</td>\n",
              "      <td>Ethiopia</td>\n",
              "      <td>2016</td>\n",
              "      <td>R</td>\n",
              "      <td>0.0</td>\n",
              "      <td>0.000000</td>\n",
              "      <td>0.000000</td>\n",
              "      <td>0.000055</td>\n",
              "      <td>0.000536</td>\n",
              "      <td>0.999408</td>\n",
              "      <td>12.146134</td>\n",
              "      <td>25.489659</td>\n",
              "      <td>0.879484</td>\n",
              "      <td>0.000000</td>\n",
              "      <td>0.000000</td>\n",
              "      <td>0.000000</td>\n",
              "      <td>278.788451</td>\n",
              "      <td>769.338378</td>\n",
              "      <td>0.132783</td>\n",
              "    </tr>\n",
              "    <tr>\n",
              "      <th>1</th>\n",
              "      <td>ID_AAYiaCeL</td>\n",
              "      <td>Ethiopia</td>\n",
              "      <td>2005</td>\n",
              "      <td>R</td>\n",
              "      <td>0.0</td>\n",
              "      <td>0.000000</td>\n",
              "      <td>0.000110</td>\n",
              "      <td>0.000000</td>\n",
              "      <td>0.000018</td>\n",
              "      <td>0.999872</td>\n",
              "      <td>113.806716</td>\n",
              "      <td>64.136053</td>\n",
              "      <td>0.601427</td>\n",
              "      <td>0.000000</td>\n",
              "      <td>0.005427</td>\n",
              "      <td>0.000000</td>\n",
              "      <td>200.986978</td>\n",
              "      <td>337.135243</td>\n",
              "      <td>0.004898</td>\n",
              "    </tr>\n",
              "    <tr>\n",
              "      <th>2</th>\n",
              "      <td>ID_AAdurmKj</td>\n",
              "      <td>Mozambique</td>\n",
              "      <td>2009</td>\n",
              "      <td>R</td>\n",
              "      <td>0.0</td>\n",
              "      <td>0.000000</td>\n",
              "      <td>0.000000</td>\n",
              "      <td>0.000000</td>\n",
              "      <td>0.000000</td>\n",
              "      <td>1.000000</td>\n",
              "      <td>0.000000</td>\n",
              "      <td>4.400096</td>\n",
              "      <td>0.131900</td>\n",
              "      <td>0.000000</td>\n",
              "      <td>0.003078</td>\n",
              "      <td>0.000000</td>\n",
              "      <td>642.594208</td>\n",
              "      <td>169.913773</td>\n",
              "      <td>0.097320</td>\n",
              "    </tr>\n",
              "    <tr>\n",
              "      <th>3</th>\n",
              "      <td>ID_AAgNHles</td>\n",
              "      <td>Malawi</td>\n",
              "      <td>2015</td>\n",
              "      <td>R</td>\n",
              "      <td>0.0</td>\n",
              "      <td>0.000141</td>\n",
              "      <td>0.000181</td>\n",
              "      <td>0.000254</td>\n",
              "      <td>0.000228</td>\n",
              "      <td>0.999195</td>\n",
              "      <td>5.213320</td>\n",
              "      <td>25.379371</td>\n",
              "      <td>2.017136</td>\n",
              "      <td>11.293841</td>\n",
              "      <td>0.131035</td>\n",
              "      <td>0.000000</td>\n",
              "      <td>365.349451</td>\n",
              "      <td>613.591610</td>\n",
              "      <td>0.304107</td>\n",
              "    </tr>\n",
              "    <tr>\n",
              "      <th>4</th>\n",
              "      <td>ID_AAishfND</td>\n",
              "      <td>Guinea</td>\n",
              "      <td>2012</td>\n",
              "      <td>U</td>\n",
              "      <td>0.0</td>\n",
              "      <td>0.011649</td>\n",
              "      <td>0.017560</td>\n",
              "      <td>0.017383</td>\n",
              "      <td>0.099875</td>\n",
              "      <td>0.853533</td>\n",
              "      <td>31.734661</td>\n",
              "      <td>5.081620</td>\n",
              "      <td>22.815984</td>\n",
              "      <td>0.005047</td>\n",
              "      <td>0.130475</td>\n",
              "      <td>1.461894</td>\n",
              "      <td>222.867189</td>\n",
              "      <td>192.926363</td>\n",
              "      <td>0.605328</td>\n",
              "    </tr>\n",
              "  </tbody>\n",
              "</table>\n",
              "</div>"
            ],
            "text/plain": [
              "            ID     country  year urban_or_rural  ghsl_water_surface  \\\n",
              "0  ID_AAIethGy    Ethiopia  2016              R                 0.0   \n",
              "1  ID_AAYiaCeL    Ethiopia  2005              R                 0.0   \n",
              "2  ID_AAdurmKj  Mozambique  2009              R                 0.0   \n",
              "3  ID_AAgNHles      Malawi  2015              R                 0.0   \n",
              "4  ID_AAishfND      Guinea  2012              U                 0.0   \n",
              "\n",
              "   ghsl_built_pre_1975  ghsl_built_1975_to_1990  ghsl_built_1990_to_2000  \\\n",
              "0             0.000000                 0.000000                 0.000055   \n",
              "1             0.000000                 0.000110                 0.000000   \n",
              "2             0.000000                 0.000000                 0.000000   \n",
              "3             0.000141                 0.000181                 0.000254   \n",
              "4             0.011649                 0.017560                 0.017383   \n",
              "\n",
              "   ghsl_built_2000_to_2014  ghsl_not_built_up  ghsl_pop_density  \\\n",
              "0                 0.000536           0.999408         12.146134   \n",
              "1                 0.000018           0.999872        113.806716   \n",
              "2                 0.000000           1.000000          0.000000   \n",
              "3                 0.000228           0.999195          5.213320   \n",
              "4                 0.099875           0.853533         31.734661   \n",
              "\n",
              "   landcover_crops_fraction  landcover_urban_fraction  \\\n",
              "0                 25.489659                  0.879484   \n",
              "1                 64.136053                  0.601427   \n",
              "2                  4.400096                  0.131900   \n",
              "3                 25.379371                  2.017136   \n",
              "4                  5.081620                 22.815984   \n",
              "\n",
              "   landcover_water_permanent_10km_fraction  \\\n",
              "0                                 0.000000   \n",
              "1                                 0.000000   \n",
              "2                                 0.000000   \n",
              "3                                11.293841   \n",
              "4                                 0.005047   \n",
              "\n",
              "   landcover_water_seasonal_10km_fraction  nighttime_lights  dist_to_capital  \\\n",
              "0                                0.000000          0.000000       278.788451   \n",
              "1                                0.005427          0.000000       200.986978   \n",
              "2                                0.003078          0.000000       642.594208   \n",
              "3                                0.131035          0.000000       365.349451   \n",
              "4                                0.130475          1.461894       222.867189   \n",
              "\n",
              "   dist_to_shoreline    Target  \n",
              "0         769.338378  0.132783  \n",
              "1         337.135243  0.004898  \n",
              "2         169.913773  0.097320  \n",
              "3         613.591610  0.304107  \n",
              "4         192.926363  0.605328  "
            ]
          },
          "metadata": {},
          "execution_count": 5
        }
      ]
    },
    {
      "cell_type": "code",
      "metadata": {
        "colab": {
          "base_uri": "https://localhost:8080/",
          "height": 301
        },
        "id": "CKz5HLRECsrz",
        "outputId": "a69bf7c7-6b1d-4b7a-c20f-4a2748aef4ef"
      },
      "source": [
        "Test.head()"
      ],
      "execution_count": null,
      "outputs": [
        {
          "output_type": "execute_result",
          "data": {
            "text/html": [
              "<div>\n",
              "<style scoped>\n",
              "    .dataframe tbody tr th:only-of-type {\n",
              "        vertical-align: middle;\n",
              "    }\n",
              "\n",
              "    .dataframe tbody tr th {\n",
              "        vertical-align: top;\n",
              "    }\n",
              "\n",
              "    .dataframe thead th {\n",
              "        text-align: right;\n",
              "    }\n",
              "</style>\n",
              "<table border=\"1\" class=\"dataframe\">\n",
              "  <thead>\n",
              "    <tr style=\"text-align: right;\">\n",
              "      <th></th>\n",
              "      <th>ID</th>\n",
              "      <th>country</th>\n",
              "      <th>year</th>\n",
              "      <th>urban_or_rural</th>\n",
              "      <th>ghsl_water_surface</th>\n",
              "      <th>ghsl_built_pre_1975</th>\n",
              "      <th>ghsl_built_1975_to_1990</th>\n",
              "      <th>ghsl_built_1990_to_2000</th>\n",
              "      <th>ghsl_built_2000_to_2014</th>\n",
              "      <th>ghsl_not_built_up</th>\n",
              "      <th>ghsl_pop_density</th>\n",
              "      <th>landcover_crops_fraction</th>\n",
              "      <th>landcover_urban_fraction</th>\n",
              "      <th>landcover_water_permanent_10km_fraction</th>\n",
              "      <th>landcover_water_seasonal_10km_fraction</th>\n",
              "      <th>nighttime_lights</th>\n",
              "      <th>dist_to_capital</th>\n",
              "      <th>dist_to_shoreline</th>\n",
              "    </tr>\n",
              "  </thead>\n",
              "  <tbody>\n",
              "    <tr>\n",
              "      <th>0</th>\n",
              "      <td>ID_AAcismbB</td>\n",
              "      <td>Democratic Republic of Congo</td>\n",
              "      <td>2007</td>\n",
              "      <td>R</td>\n",
              "      <td>0.000000</td>\n",
              "      <td>0.000000</td>\n",
              "      <td>0.000000</td>\n",
              "      <td>0.000523</td>\n",
              "      <td>0.000131</td>\n",
              "      <td>0.999347</td>\n",
              "      <td>0.660758</td>\n",
              "      <td>0.990942</td>\n",
              "      <td>0.132264</td>\n",
              "      <td>0.069055</td>\n",
              "      <td>0.032627</td>\n",
              "      <td>0.000000</td>\n",
              "      <td>1249.294720</td>\n",
              "      <td>1364.592100</td>\n",
              "    </tr>\n",
              "    <tr>\n",
              "      <th>1</th>\n",
              "      <td>ID_AAeBMsji</td>\n",
              "      <td>Democratic Republic of Congo</td>\n",
              "      <td>2007</td>\n",
              "      <td>U</td>\n",
              "      <td>0.000000</td>\n",
              "      <td>0.004239</td>\n",
              "      <td>0.000238</td>\n",
              "      <td>0.001227</td>\n",
              "      <td>0.002860</td>\n",
              "      <td>0.991437</td>\n",
              "      <td>6.441547</td>\n",
              "      <td>5.461365</td>\n",
              "      <td>0.452400</td>\n",
              "      <td>0.000000</td>\n",
              "      <td>0.000000</td>\n",
              "      <td>0.000000</td>\n",
              "      <td>821.019579</td>\n",
              "      <td>1046.028681</td>\n",
              "    </tr>\n",
              "    <tr>\n",
              "      <th>2</th>\n",
              "      <td>ID_AAjFMjzy</td>\n",
              "      <td>Uganda</td>\n",
              "      <td>2011</td>\n",
              "      <td>U</td>\n",
              "      <td>0.007359</td>\n",
              "      <td>0.525682</td>\n",
              "      <td>0.132795</td>\n",
              "      <td>0.095416</td>\n",
              "      <td>0.042375</td>\n",
              "      <td>0.196373</td>\n",
              "      <td>587.516458</td>\n",
              "      <td>2.881811</td>\n",
              "      <td>87.387991</td>\n",
              "      <td>3.248483</td>\n",
              "      <td>3.950374</td>\n",
              "      <td>60.070041</td>\n",
              "      <td>3.620455</td>\n",
              "      <td>906.057334</td>\n",
              "    </tr>\n",
              "    <tr>\n",
              "      <th>3</th>\n",
              "      <td>ID_AAmMOEEC</td>\n",
              "      <td>Burkina Faso</td>\n",
              "      <td>2010</td>\n",
              "      <td>U</td>\n",
              "      <td>0.000000</td>\n",
              "      <td>0.000089</td>\n",
              "      <td>0.000036</td>\n",
              "      <td>0.001519</td>\n",
              "      <td>0.001358</td>\n",
              "      <td>0.996997</td>\n",
              "      <td>35.141762</td>\n",
              "      <td>33.878927</td>\n",
              "      <td>4.166437</td>\n",
              "      <td>0.000000</td>\n",
              "      <td>0.130727</td>\n",
              "      <td>1.333999</td>\n",
              "      <td>109.493969</td>\n",
              "      <td>775.139189</td>\n",
              "    </tr>\n",
              "    <tr>\n",
              "      <th>4</th>\n",
              "      <td>ID_ABguzDxp</td>\n",
              "      <td>Zambia</td>\n",
              "      <td>2007</td>\n",
              "      <td>R</td>\n",
              "      <td>0.000000</td>\n",
              "      <td>0.000138</td>\n",
              "      <td>0.000623</td>\n",
              "      <td>0.000615</td>\n",
              "      <td>0.002961</td>\n",
              "      <td>0.995663</td>\n",
              "      <td>3.442449</td>\n",
              "      <td>33.491994</td>\n",
              "      <td>3.437129</td>\n",
              "      <td>0.133563</td>\n",
              "      <td>0.128997</td>\n",
              "      <td>0.502203</td>\n",
              "      <td>133.643319</td>\n",
              "      <td>835.591501</td>\n",
              "    </tr>\n",
              "  </tbody>\n",
              "</table>\n",
              "</div>"
            ],
            "text/plain": [
              "            ID                       country  year urban_or_rural  \\\n",
              "0  ID_AAcismbB  Democratic Republic of Congo  2007              R   \n",
              "1  ID_AAeBMsji  Democratic Republic of Congo  2007              U   \n",
              "2  ID_AAjFMjzy                        Uganda  2011              U   \n",
              "3  ID_AAmMOEEC                  Burkina Faso  2010              U   \n",
              "4  ID_ABguzDxp                        Zambia  2007              R   \n",
              "\n",
              "   ghsl_water_surface  ghsl_built_pre_1975  ghsl_built_1975_to_1990  \\\n",
              "0            0.000000             0.000000                 0.000000   \n",
              "1            0.000000             0.004239                 0.000238   \n",
              "2            0.007359             0.525682                 0.132795   \n",
              "3            0.000000             0.000089                 0.000036   \n",
              "4            0.000000             0.000138                 0.000623   \n",
              "\n",
              "   ghsl_built_1990_to_2000  ghsl_built_2000_to_2014  ghsl_not_built_up  \\\n",
              "0                 0.000523                 0.000131           0.999347   \n",
              "1                 0.001227                 0.002860           0.991437   \n",
              "2                 0.095416                 0.042375           0.196373   \n",
              "3                 0.001519                 0.001358           0.996997   \n",
              "4                 0.000615                 0.002961           0.995663   \n",
              "\n",
              "   ghsl_pop_density  landcover_crops_fraction  landcover_urban_fraction  \\\n",
              "0          0.660758                  0.990942                  0.132264   \n",
              "1          6.441547                  5.461365                  0.452400   \n",
              "2        587.516458                  2.881811                 87.387991   \n",
              "3         35.141762                 33.878927                  4.166437   \n",
              "4          3.442449                 33.491994                  3.437129   \n",
              "\n",
              "   landcover_water_permanent_10km_fraction  \\\n",
              "0                                 0.069055   \n",
              "1                                 0.000000   \n",
              "2                                 3.248483   \n",
              "3                                 0.000000   \n",
              "4                                 0.133563   \n",
              "\n",
              "   landcover_water_seasonal_10km_fraction  nighttime_lights  dist_to_capital  \\\n",
              "0                                0.032627          0.000000      1249.294720   \n",
              "1                                0.000000          0.000000       821.019579   \n",
              "2                                3.950374         60.070041         3.620455   \n",
              "3                                0.130727          1.333999       109.493969   \n",
              "4                                0.128997          0.502203       133.643319   \n",
              "\n",
              "   dist_to_shoreline  \n",
              "0        1364.592100  \n",
              "1        1046.028681  \n",
              "2         906.057334  \n",
              "3         775.139189  \n",
              "4         835.591501  "
            ]
          },
          "metadata": {},
          "execution_count": 10
        }
      ]
    },
    {
      "cell_type": "code",
      "metadata": {
        "colab": {
          "base_uri": "https://localhost:8080/"
        },
        "id": "tHZY-UbYCsr0",
        "outputId": "a243a7c6-0e9f-4f52-c868-7f3ae2f269b2"
      },
      "source": [
        "Train.shape, Test.shape"
      ],
      "execution_count": null,
      "outputs": [
        {
          "output_type": "execute_result",
          "data": {
            "text/plain": [
              "((21454, 19), (7194, 18))"
            ]
          },
          "metadata": {},
          "execution_count": 14
        }
      ]
    },
    {
      "cell_type": "code",
      "metadata": {
        "id": "vmAFe3N0Csr1",
        "outputId": "f4f5f39b-59e8-42ef-a9d3-64079c8b5363"
      },
      "source": [
        "Train.country.unique()"
      ],
      "execution_count": null,
      "outputs": [
        {
          "data": {
            "text/plain": [
              "array(['Ethiopia', 'Mozambique', 'Malawi', 'Guinea', 'Cameroon', 'Ghana',\n",
              "       'Senegal', 'Kenya', 'Tanzania', 'Mali', 'Swaziland', 'Rwanda',\n",
              "       'Nigeria', 'Lesotho', 'Sierra Leone', 'Central African Republic',\n",
              "       \"Cote d'Ivoire\", 'Togo'], dtype=object)"
            ]
          },
          "execution_count": 8,
          "metadata": {},
          "output_type": "execute_result"
        }
      ]
    },
    {
      "cell_type": "code",
      "metadata": {
        "id": "R3VDTTgCCsr2",
        "outputId": "6f870ec2-2cb0-449e-c873-eabeab780d7c"
      },
      "source": [
        "Test.country.unique()"
      ],
      "execution_count": null,
      "outputs": [
        {
          "data": {
            "text/plain": [
              "array(['Democratic Republic of Congo', 'Uganda', 'Burkina Faso', 'Zambia',\n",
              "       'Angola', 'Zimbabwe', 'Benin'], dtype=object)"
            ]
          },
          "execution_count": 9,
          "metadata": {},
          "output_type": "execute_result"
        }
      ]
    },
    {
      "cell_type": "markdown",
      "metadata": {
        "id": "mCp3MwQvCsr5"
      },
      "source": [
        "## Data Visulaization"
      ]
    },
    {
      "cell_type": "code",
      "metadata": {
        "id": "qjezQQz3Csr5"
      },
      "source": [
        "def plot_histogram(table,col, bins = 10):\n",
        "  \"\"\"\n",
        "  This function plots histogram of numerical columns present in teh data\n",
        "\n",
        "  args:\n",
        "    table: a tabular data\n",
        "    col: a numerical columns\n",
        "\n",
        "  returns:\n",
        "    returns a histogram of the numerical columns\n",
        "  \"\"\"\n",
        "\n",
        "  for col in cols:\n",
        "      fig = plt.figure(figsize=(6,6))\n",
        "      ax = fig.gca()\n",
        "      table[col].plot.hist(ax = ax, bins = bins, color='blue')\n",
        "      ax.set_title(\"Histogram of \" + col)\n",
        "      ax.set_xlabel(col)\n",
        "      ax.set_ylabel(\"Number of Count\")\n",
        "      plt.show()"
      ],
      "execution_count": 6,
      "outputs": []
    },
    {
      "cell_type": "code",
      "metadata": {
        "id": "tejEKPkxCsr6"
      },
      "source": [
        "def categorical_plot(table, col, bins = 10):\n",
        "  \"\"\"\n",
        "  This function plots categorical columns present in teh data\n",
        "\n",
        "  args:\n",
        "    table: a tabular data\n",
        "    col: a categorical columns\n",
        "\n",
        "  returns:\n",
        "    returns a histogram of the categorical columns\n",
        "  \"\"\"\n",
        "\n",
        "  data = dict(pd.value_counts(table[col]))\n",
        "  #fig, ax = plt.subplots()\n",
        "  ax = fig.gca()\n",
        "  ax.bar(data.keys(), data.values(), color = \"lightgray\")\n",
        "  ax.set_title(\"Categorical Plotting\")\n",
        "  ax.set_ytitle(\"Number of count\")\n",
        "  ax.set_xtitle(\"Histogram of \" + col)\n",
        "  plt.show()    "
      ],
      "execution_count": 7,
      "outputs": []
    },
    {
      "cell_type": "code",
      "metadata": {
        "id": "qF2qr8XcCsr6"
      },
      "source": [
        "def numerical_cols(data):\n",
        "  \"\"\"\n",
        "  This function gets the numerical columns\n",
        "\n",
        "  args:\n",
        "    This function takes in a tabular data\n",
        "\n",
        "  returns:\n",
        "   This function returns a list of numerical columns present in the data\n",
        "  \"\"\"\n",
        "  num_cols = []\n",
        "  for col in data.columns:\n",
        "    if data[col].dtype == 'float64':\n",
        "      num_cols.append(col)\n",
        "    elif data[col].dtype == 'int64':\n",
        "      num_cols.append(col)\n",
        "  return num_cols\n",
        "\n",
        "def categorical_columns(data):\n",
        "  \"\"\"\n",
        "  This function gets the categorical columns\n",
        "\n",
        "  args:\n",
        "    This function takes in a tabular data\n",
        "\n",
        "  returns:\n",
        "   This function returns a list of catrgorical columns present in the data\n",
        "  \"\"\"\n",
        "  cat_cols = []\n",
        "  for col in data.columns:\n",
        "      if data[col].dtype == 'object':\n",
        "          cat_cols.append(col)\n",
        "  return cat_cols"
      ],
      "execution_count": 8,
      "outputs": []
    },
    {
      "cell_type": "code",
      "metadata": {
        "id": "-58e-VhxCsr6"
      },
      "source": [
        "def outlier_check(num_col, y, data):\n",
        "  \"\"\"\n",
        "  This function check for outlier in numerical columns\n",
        "\n",
        "  args:\n",
        "    num_col: a numerical colums\n",
        "    target: the target of the data\n",
        "\n",
        "  returns:\n",
        "    returns a plot of outlier\n",
        "  \"\"\"\n",
        "\n",
        "  fig, ax = plt.subplots()\n",
        "  ax.scatter(x = data[num_col], y = data[y])\n",
        "  plt.ylabel(y, fontsize=13)\n",
        "  plt.xlabel(num_col, fontsize=13)\n",
        "  plt.show()"
      ],
      "execution_count": 9,
      "outputs": []
    },
    {
      "cell_type": "code",
      "metadata": {
        "collapsed": true,
        "jupyter": {
          "outputs_hidden": true
        },
        "id": "7CDhSiPqCsr6"
      },
      "source": [
        "Train.hist(figsize=(25,20))"
      ],
      "execution_count": null,
      "outputs": []
    },
    {
      "cell_type": "code",
      "metadata": {
        "collapsed": true,
        "jupyter": {
          "outputs_hidden": true
        },
        "id": "WPd5XGCICsr7",
        "outputId": "6e9f41e1-d7fe-4ed3-aafc-daad83cd1ee8"
      },
      "source": [
        "Test.hist(figsize=(20,15))"
      ],
      "execution_count": null,
      "outputs": [
        {
          "data": {
            "text/plain": [
              "array([[<AxesSubplot:title={'center':'year'}>,\n",
              "        <AxesSubplot:title={'center':'ghsl_water_surface'}>,\n",
              "        <AxesSubplot:title={'center':'ghsl_built_pre_1975'}>,\n",
              "        <AxesSubplot:title={'center':'ghsl_built_1975_to_1990'}>],\n",
              "       [<AxesSubplot:title={'center':'ghsl_built_1990_to_2000'}>,\n",
              "        <AxesSubplot:title={'center':'ghsl_built_2000_to_2014'}>,\n",
              "        <AxesSubplot:title={'center':'ghsl_not_built_up'}>,\n",
              "        <AxesSubplot:title={'center':'ghsl_pop_density'}>],\n",
              "       [<AxesSubplot:title={'center':'landcover_crops_fraction'}>,\n",
              "        <AxesSubplot:title={'center':'landcover_urban_fraction'}>,\n",
              "        <AxesSubplot:title={'center':'landcover_water_permanent_10km_fraction'}>,\n",
              "        <AxesSubplot:title={'center':'landcover_water_seasonal_10km_fraction'}>],\n",
              "       [<AxesSubplot:title={'center':'nighttime_lights'}>,\n",
              "        <AxesSubplot:title={'center':'dist_to_capital'}>,\n",
              "        <AxesSubplot:title={'center':'dist_to_shoreline'}>,\n",
              "        <AxesSubplot:>]], dtype=object)"
            ]
          },
          "execution_count": 24,
          "metadata": {},
          "output_type": "execute_result"
        },
        {
          "data": {
            "image/png": "[encoded data removed]",
            "text/plain": [
              "<Figure size 1440x1080 with 16 Axes>"
            ]
          },
          "metadata": {
            "needs_background": "light"
          },
          "output_type": "display_data"
        }
      ]
    },
    {
      "cell_type": "code",
      "metadata": {
        "colab": {
          "base_uri": "https://localhost:8080/"
        },
        "id": "K9Lk92IoCsr7",
        "outputId": "f7ea468e-f678-4f55-f4b7-b93a4a75f8e1"
      },
      "source": [
        "high = pd.DataFrame(Train[Train['Target'] >= 0.7])#.tail(5)\n",
        "low = pd.DataFrame(Train[Train['Target'] <= 0.4])\n",
        "len(high), len(low)\n",
        "#results shows the data is not evenly distributed i.e there is a class imbanlace"
      ],
      "execution_count": null,
      "outputs": [
        {
          "output_type": "execute_result",
          "data": {
            "text/plain": [
              "(1182, 13865)"
            ]
          },
          "metadata": {},
          "execution_count": 20
        }
      ]
    },
    {
      "cell_type": "code",
      "metadata": {
        "collapsed": true,
        "jupyter": {
          "outputs_hidden": true
        },
        "id": "owMTkkx5Csr8",
        "outputId": "50781153-b046-4b2c-fa7f-252dcc0e34c6"
      },
      "source": [
        "high.hist(figsize=(20,15))"
      ],
      "execution_count": null,
      "outputs": [
        {
          "data": {
            "text/plain": [
              "array([[<AxesSubplot:title={'center':'year'}>,\n",
              "        <AxesSubplot:title={'center':'ghsl_water_surface'}>,\n",
              "        <AxesSubplot:title={'center':'ghsl_built_pre_1975'}>,\n",
              "        <AxesSubplot:title={'center':'ghsl_built_1975_to_1990'}>],\n",
              "       [<AxesSubplot:title={'center':'ghsl_built_1990_to_2000'}>,\n",
              "        <AxesSubplot:title={'center':'ghsl_built_2000_to_2014'}>,\n",
              "        <AxesSubplot:title={'center':'ghsl_not_built_up'}>,\n",
              "        <AxesSubplot:title={'center':'ghsl_pop_density'}>],\n",
              "       [<AxesSubplot:title={'center':'landcover_crops_fraction'}>,\n",
              "        <AxesSubplot:title={'center':'landcover_urban_fraction'}>,\n",
              "        <AxesSubplot:title={'center':'landcover_water_permanent_10km_fraction'}>,\n",
              "        <AxesSubplot:title={'center':'landcover_water_seasonal_10km_fraction'}>],\n",
              "       [<AxesSubplot:title={'center':'nighttime_lights'}>,\n",
              "        <AxesSubplot:title={'center':'dist_to_capital'}>,\n",
              "        <AxesSubplot:title={'center':'dist_to_shoreline'}>,\n",
              "        <AxesSubplot:title={'center':'Target'}>]], dtype=object)"
            ]
          },
          "execution_count": 26,
          "metadata": {},
          "output_type": "execute_result"
        },
        {
          "data": {
            "image/png": "[encoded data removed]",
            "text/plain": [
              "<Figure size 1440x1080 with 16 Axes>"
            ]
          },
          "metadata": {
            "needs_background": "light"
          },
          "output_type": "display_data"
        }
      ]
    },
    {
      "cell_type": "code",
      "metadata": {
        "jupyter": {
          "outputs_hidden": true
        },
        "id": "PRdp9wgJCsr8"
      },
      "source": [
        "low.hist(figsize=(20,15))"
      ],
      "execution_count": null,
      "outputs": []
    },
    {
      "cell_type": "code",
      "metadata": {
        "collapsed": true,
        "jupyter": {
          "outputs_hidden": true
        },
        "colab": {
          "base_uri": "https://localhost:8080/",
          "height": 322
        },
        "id": "Xnxcf-bmCsr8",
        "outputId": "61e26ddb-e748-430e-ff0f-1b3798d6b777"
      },
      "source": [
        "Train.corr().style.background_gradient(cmap='coolwarm')"
      ],
      "execution_count": null,
      "outputs": [
        {
          "output_type": "execute_result",
          "data": {
            "text/html": [
              "<style  type=\"text/css\" >\n",
              "#T_b5b91b88_1ec2_11ec_ba04_0242ac1c0002row0_col0,#T_b5b91b88_1ec2_11ec_ba04_0242ac1c0002row1_col1,#T_b5b91b88_1ec2_11ec_ba04_0242ac1c0002row2_col2,#T_b5b91b88_1ec2_11ec_ba04_0242ac1c0002row3_col3,#T_b5b91b88_1ec2_11ec_ba04_0242ac1c0002row4_col4,#T_b5b91b88_1ec2_11ec_ba04_0242ac1c0002row5_col5,#T_b5b91b88_1ec2_11ec_ba04_0242ac1c0002row6_col6,#T_b5b91b88_1ec2_11ec_ba04_0242ac1c0002row7_col7,#T_b5b91b88_1ec2_11ec_ba04_0242ac1c0002row8_col8,#T_b5b91b88_1ec2_11ec_ba04_0242ac1c0002row9_col9,#T_b5b91b88_1ec2_11ec_ba04_0242ac1c0002row10_col10,#T_b5b91b88_1ec2_11ec_ba04_0242ac1c0002row11_col11,#T_b5b91b88_1ec2_11ec_ba04_0242ac1c0002row12_col12,#T_b5b91b88_1ec2_11ec_ba04_0242ac1c0002row13_col13,#T_b5b91b88_1ec2_11ec_ba04_0242ac1c0002row14_col14{\n",
              "            background-color:  #b40426;\n",
              "            color:  #f1f1f1;\n",
              "        }#T_b5b91b88_1ec2_11ec_ba04_0242ac1c0002row0_col1{\n",
              "            background-color:  #abc8fd;\n",
              "            color:  #000000;\n",
              "        }#T_b5b91b88_1ec2_11ec_ba04_0242ac1c0002row0_col2,#T_b5b91b88_1ec2_11ec_ba04_0242ac1c0002row1_col4{\n",
              "            background-color:  #c1d4f4;\n",
              "            color:  #000000;\n",
              "        }#T_b5b91b88_1ec2_11ec_ba04_0242ac1c0002row0_col3,#T_b5b91b88_1ec2_11ec_ba04_0242ac1c0002row10_col4,#T_b5b91b88_1ec2_11ec_ba04_0242ac1c0002row11_col4{\n",
              "            background-color:  #bed2f6;\n",
              "            color:  #000000;\n",
              "        }#T_b5b91b88_1ec2_11ec_ba04_0242ac1c0002row0_col4,#T_b5b91b88_1ec2_11ec_ba04_0242ac1c0002row1_col5,#T_b5b91b88_1ec2_11ec_ba04_0242ac1c0002row5_col1,#T_b5b91b88_1ec2_11ec_ba04_0242ac1c0002row13_col2{\n",
              "            background-color:  #b6cefa;\n",
              "            color:  #000000;\n",
              "        }#T_b5b91b88_1ec2_11ec_ba04_0242ac1c0002row0_col5{\n",
              "            background-color:  #b2ccfb;\n",
              "            color:  #000000;\n",
              "        }#T_b5b91b88_1ec2_11ec_ba04_0242ac1c0002row0_col6,#T_b5b91b88_1ec2_11ec_ba04_0242ac1c0002row10_col9{\n",
              "            background-color:  #dedcdb;\n",
              "            color:  #000000;\n",
              "        }#T_b5b91b88_1ec2_11ec_ba04_0242ac1c0002row0_col7{\n",
              "            background-color:  #c5d6f2;\n",
              "            color:  #000000;\n",
              "        }#T_b5b91b88_1ec2_11ec_ba04_0242ac1c0002row0_col8,#T_b5b91b88_1ec2_11ec_ba04_0242ac1c0002row6_col13,#T_b5b91b88_1ec2_11ec_ba04_0242ac1c0002row13_col14,#T_b5b91b88_1ec2_11ec_ba04_0242ac1c0002row14_col13{\n",
              "            background-color:  #aac7fd;\n",
              "            color:  #000000;\n",
              "        }#T_b5b91b88_1ec2_11ec_ba04_0242ac1c0002row0_col9{\n",
              "            background-color:  #cdd9ec;\n",
              "            color:  #000000;\n",
              "        }#T_b5b91b88_1ec2_11ec_ba04_0242ac1c0002row0_col10,#T_b5b91b88_1ec2_11ec_ba04_0242ac1c0002row8_col7,#T_b5b91b88_1ec2_11ec_ba04_0242ac1c0002row12_col10{\n",
              "            background-color:  #90b2fe;\n",
              "            color:  #000000;\n",
              "        }#T_b5b91b88_1ec2_11ec_ba04_0242ac1c0002row0_col11,#T_b5b91b88_1ec2_11ec_ba04_0242ac1c0002row1_col0,#T_b5b91b88_1ec2_11ec_ba04_0242ac1c0002row14_col0{\n",
              "            background-color:  #4e68d8;\n",
              "            color:  #000000;\n",
              "        }#T_b5b91b88_1ec2_11ec_ba04_0242ac1c0002row0_col12{\n",
              "            background-color:  #c0d4f5;\n",
              "            color:  #000000;\n",
              "        }#T_b5b91b88_1ec2_11ec_ba04_0242ac1c0002row0_col13,#T_b5b91b88_1ec2_11ec_ba04_0242ac1c0002row1_col6,#T_b5b91b88_1ec2_11ec_ba04_0242ac1c0002row5_col6,#T_b5b91b88_1ec2_11ec_ba04_0242ac1c0002row10_col8{\n",
              "            background-color:  #799cf8;\n",
              "            color:  #000000;\n",
              "        }#T_b5b91b88_1ec2_11ec_ba04_0242ac1c0002row0_col14{\n",
              "            background-color:  #6e90f2;\n",
              "            color:  #000000;\n",
              "        }#T_b5b91b88_1ec2_11ec_ba04_0242ac1c0002row1_col2{\n",
              "            background-color:  #ebd3c6;\n",
              "            color:  #000000;\n",
              "        }#T_b5b91b88_1ec2_11ec_ba04_0242ac1c0002row1_col3{\n",
              "            background-color:  #d8dce2;\n",
              "            color:  #000000;\n",
              "        }#T_b5b91b88_1ec2_11ec_ba04_0242ac1c0002row1_col7,#T_b5b91b88_1ec2_11ec_ba04_0242ac1c0002row1_col12{\n",
              "            background-color:  #e1dad6;\n",
              "            color:  #000000;\n",
              "        }#T_b5b91b88_1ec2_11ec_ba04_0242ac1c0002row1_col8{\n",
              "            background-color:  #5e7de7;\n",
              "            color:  #000000;\n",
              "        }#T_b5b91b88_1ec2_11ec_ba04_0242ac1c0002row1_col9{\n",
              "            background-color:  #f2cab5;\n",
              "            color:  #000000;\n",
              "        }#T_b5b91b88_1ec2_11ec_ba04_0242ac1c0002row1_col10,#T_b5b91b88_1ec2_11ec_ba04_0242ac1c0002row4_col7{\n",
              "            background-color:  #f6a385;\n",
              "            color:  #000000;\n",
              "        }#T_b5b91b88_1ec2_11ec_ba04_0242ac1c0002row1_col11,#T_b5b91b88_1ec2_11ec_ba04_0242ac1c0002row9_col10,#T_b5b91b88_1ec2_11ec_ba04_0242ac1c0002row13_col4,#T_b5b91b88_1ec2_11ec_ba04_0242ac1c0002row14_col10{\n",
              "            background-color:  #97b8ff;\n",
              "            color:  #000000;\n",
              "        }#T_b5b91b88_1ec2_11ec_ba04_0242ac1c0002row1_col13,#T_b5b91b88_1ec2_11ec_ba04_0242ac1c0002row4_col6{\n",
              "            background-color:  #6a8bef;\n",
              "            color:  #000000;\n",
              "        }#T_b5b91b88_1ec2_11ec_ba04_0242ac1c0002row1_col14,#T_b5b91b88_1ec2_11ec_ba04_0242ac1c0002row3_col14,#T_b5b91b88_1ec2_11ec_ba04_0242ac1c0002row12_col0,#T_b5b91b88_1ec2_11ec_ba04_0242ac1c0002row12_col8{\n",
              "            background-color:  #4a63d3;\n",
              "            color:  #f1f1f1;\n",
              "        }#T_b5b91b88_1ec2_11ec_ba04_0242ac1c0002row2_col0,#T_b5b91b88_1ec2_11ec_ba04_0242ac1c0002row6_col1,#T_b5b91b88_1ec2_11ec_ba04_0242ac1c0002row6_col2,#T_b5b91b88_1ec2_11ec_ba04_0242ac1c0002row6_col3,#T_b5b91b88_1ec2_11ec_ba04_0242ac1c0002row6_col4,#T_b5b91b88_1ec2_11ec_ba04_0242ac1c0002row6_col5,#T_b5b91b88_1ec2_11ec_ba04_0242ac1c0002row6_col7,#T_b5b91b88_1ec2_11ec_ba04_0242ac1c0002row6_col9,#T_b5b91b88_1ec2_11ec_ba04_0242ac1c0002row6_col10,#T_b5b91b88_1ec2_11ec_ba04_0242ac1c0002row6_col11,#T_b5b91b88_1ec2_11ec_ba04_0242ac1c0002row6_col12,#T_b5b91b88_1ec2_11ec_ba04_0242ac1c0002row9_col6,#T_b5b91b88_1ec2_11ec_ba04_0242ac1c0002row9_col8,#T_b5b91b88_1ec2_11ec_ba04_0242ac1c0002row9_col13,#T_b5b91b88_1ec2_11ec_ba04_0242ac1c0002row9_col14{\n",
              "            background-color:  #3b4cc0;\n",
              "            color:  #f1f1f1;\n",
              "        }#T_b5b91b88_1ec2_11ec_ba04_0242ac1c0002row2_col1,#T_b5b91b88_1ec2_11ec_ba04_0242ac1c0002row11_col2,#T_b5b91b88_1ec2_11ec_ba04_0242ac1c0002row14_col8{\n",
              "            background-color:  #d7dce3;\n",
              "            color:  #000000;\n",
              "        }#T_b5b91b88_1ec2_11ec_ba04_0242ac1c0002row2_col3,#T_b5b91b88_1ec2_11ec_ba04_0242ac1c0002row7_col4,#T_b5b91b88_1ec2_11ec_ba04_0242ac1c0002row8_col6{\n",
              "            background-color:  #f7af91;\n",
              "            color:  #000000;\n",
              "        }#T_b5b91b88_1ec2_11ec_ba04_0242ac1c0002row2_col4{\n",
              "            background-color:  #f7b79b;\n",
              "            color:  #000000;\n",
              "        }#T_b5b91b88_1ec2_11ec_ba04_0242ac1c0002row2_col5{\n",
              "            background-color:  #e4d9d2;\n",
              "            color:  #000000;\n",
              "        }#T_b5b91b88_1ec2_11ec_ba04_0242ac1c0002row2_col6,#T_b5b91b88_1ec2_11ec_ba04_0242ac1c0002row3_col0,#T_b5b91b88_1ec2_11ec_ba04_0242ac1c0002row4_col13,#T_b5b91b88_1ec2_11ec_ba04_0242ac1c0002row7_col14{\n",
              "            background-color:  #465ecf;\n",
              "            color:  #f1f1f1;\n",
              "        }#T_b5b91b88_1ec2_11ec_ba04_0242ac1c0002row2_col7,#T_b5b91b88_1ec2_11ec_ba04_0242ac1c0002row2_col9{\n",
              "            background-color:  #d75445;\n",
              "            color:  #000000;\n",
              "        }#T_b5b91b88_1ec2_11ec_ba04_0242ac1c0002row2_col8{\n",
              "            background-color:  #4358cb;\n",
              "            color:  #f1f1f1;\n",
              "        }#T_b5b91b88_1ec2_11ec_ba04_0242ac1c0002row2_col10{\n",
              "            background-color:  #9dbdff;\n",
              "            color:  #000000;\n",
              "        }#T_b5b91b88_1ec2_11ec_ba04_0242ac1c0002row2_col11,#T_b5b91b88_1ec2_11ec_ba04_0242ac1c0002row13_col11{\n",
              "            background-color:  #6c8ff1;\n",
              "            color:  #000000;\n",
              "        }#T_b5b91b88_1ec2_11ec_ba04_0242ac1c0002row2_col12,#T_b5b91b88_1ec2_11ec_ba04_0242ac1c0002row9_col3{\n",
              "            background-color:  #e36b54;\n",
              "            color:  #000000;\n",
              "        }#T_b5b91b88_1ec2_11ec_ba04_0242ac1c0002row2_col13,#T_b5b91b88_1ec2_11ec_ba04_0242ac1c0002row3_col8,#T_b5b91b88_1ec2_11ec_ba04_0242ac1c0002row7_col6{\n",
              "            background-color:  #4b64d5;\n",
              "            color:  #f1f1f1;\n",
              "        }#T_b5b91b88_1ec2_11ec_ba04_0242ac1c0002row2_col14,#T_b5b91b88_1ec2_11ec_ba04_0242ac1c0002row8_col11,#T_b5b91b88_1ec2_11ec_ba04_0242ac1c0002row9_col0,#T_b5b91b88_1ec2_11ec_ba04_0242ac1c0002row11_col0{\n",
              "            background-color:  #4257c9;\n",
              "            color:  #f1f1f1;\n",
              "        }#T_b5b91b88_1ec2_11ec_ba04_0242ac1c0002row3_col1{\n",
              "            background-color:  #c6d6f1;\n",
              "            color:  #000000;\n",
              "        }#T_b5b91b88_1ec2_11ec_ba04_0242ac1c0002row3_col2{\n",
              "            background-color:  #f7a889;\n",
              "            color:  #000000;\n",
              "        }#T_b5b91b88_1ec2_11ec_ba04_0242ac1c0002row3_col4{\n",
              "            background-color:  #f7b99e;\n",
              "            color:  #000000;\n",
              "        }#T_b5b91b88_1ec2_11ec_ba04_0242ac1c0002row3_col5,#T_b5b91b88_1ec2_11ec_ba04_0242ac1c0002row12_col4{\n",
              "            background-color:  #f5c0a7;\n",
              "            color:  #000000;\n",
              "        }#T_b5b91b88_1ec2_11ec_ba04_0242ac1c0002row3_col6{\n",
              "            background-color:  #5977e3;\n",
              "            color:  #000000;\n",
              "        }#T_b5b91b88_1ec2_11ec_ba04_0242ac1c0002row3_col7,#T_b5b91b88_1ec2_11ec_ba04_0242ac1c0002row4_col9{\n",
              "            background-color:  #ec7f63;\n",
              "            color:  #000000;\n",
              "        }#T_b5b91b88_1ec2_11ec_ba04_0242ac1c0002row3_col9{\n",
              "            background-color:  #df634e;\n",
              "            color:  #000000;\n",
              "        }#T_b5b91b88_1ec2_11ec_ba04_0242ac1c0002row3_col10,#T_b5b91b88_1ec2_11ec_ba04_0242ac1c0002row7_col10,#T_b5b91b88_1ec2_11ec_ba04_0242ac1c0002row8_col2{\n",
              "            background-color:  #93b5fe;\n",
              "            color:  #000000;\n",
              "        }#T_b5b91b88_1ec2_11ec_ba04_0242ac1c0002row3_col11{\n",
              "            background-color:  #7295f4;\n",
              "            color:  #000000;\n",
              "        }#T_b5b91b88_1ec2_11ec_ba04_0242ac1c0002row3_col12,#T_b5b91b88_1ec2_11ec_ba04_0242ac1c0002row12_col3{\n",
              "            background-color:  #f49a7b;\n",
              "            color:  #000000;\n",
              "        }#T_b5b91b88_1ec2_11ec_ba04_0242ac1c0002row3_col13,#T_b5b91b88_1ec2_11ec_ba04_0242ac1c0002row12_col13{\n",
              "            background-color:  #4055c8;\n",
              "            color:  #f1f1f1;\n",
              "        }#T_b5b91b88_1ec2_11ec_ba04_0242ac1c0002row4_col0,#T_b5b91b88_1ec2_11ec_ba04_0242ac1c0002row4_col14{\n",
              "            background-color:  #4c66d6;\n",
              "            color:  #000000;\n",
              "        }#T_b5b91b88_1ec2_11ec_ba04_0242ac1c0002row4_col1{\n",
              "            background-color:  #b7cff9;\n",
              "            color:  #000000;\n",
              "        }#T_b5b91b88_1ec2_11ec_ba04_0242ac1c0002row4_col2{\n",
              "            background-color:  #f7aa8c;\n",
              "            color:  #000000;\n",
              "        }#T_b5b91b88_1ec2_11ec_ba04_0242ac1c0002row4_col3{\n",
              "            background-color:  #f7b396;\n",
              "            color:  #000000;\n",
              "        }#T_b5b91b88_1ec2_11ec_ba04_0242ac1c0002row4_col5{\n",
              "            background-color:  #f6a586;\n",
              "            color:  #000000;\n",
              "        }#T_b5b91b88_1ec2_11ec_ba04_0242ac1c0002row4_col8{\n",
              "            background-color:  #5572df;\n",
              "            color:  #000000;\n",
              "        }#T_b5b91b88_1ec2_11ec_ba04_0242ac1c0002row4_col10,#T_b5b91b88_1ec2_11ec_ba04_0242ac1c0002row14_col1{\n",
              "            background-color:  #8caffe;\n",
              "            color:  #000000;\n",
              "        }#T_b5b91b88_1ec2_11ec_ba04_0242ac1c0002row4_col11{\n",
              "            background-color:  #6282ea;\n",
              "            color:  #000000;\n",
              "        }#T_b5b91b88_1ec2_11ec_ba04_0242ac1c0002row4_col12{\n",
              "            background-color:  #f7ba9f;\n",
              "            color:  #000000;\n",
              "        }#T_b5b91b88_1ec2_11ec_ba04_0242ac1c0002row5_col0{\n",
              "            background-color:  #5673e0;\n",
              "            color:  #000000;\n",
              "        }#T_b5b91b88_1ec2_11ec_ba04_0242ac1c0002row5_col2{\n",
              "            background-color:  #f2c9b4;\n",
              "            color:  #000000;\n",
              "        }#T_b5b91b88_1ec2_11ec_ba04_0242ac1c0002row5_col3{\n",
              "            background-color:  #f7b497;\n",
              "            color:  #000000;\n",
              "        }#T_b5b91b88_1ec2_11ec_ba04_0242ac1c0002row5_col4{\n",
              "            background-color:  #f59f80;\n",
              "            color:  #000000;\n",
              "        }#T_b5b91b88_1ec2_11ec_ba04_0242ac1c0002row5_col7{\n",
              "            background-color:  #f7b599;\n",
              "            color:  #000000;\n",
              "        }#T_b5b91b88_1ec2_11ec_ba04_0242ac1c0002row5_col8,#T_b5b91b88_1ec2_11ec_ba04_0242ac1c0002row10_col0,#T_b5b91b88_1ec2_11ec_ba04_0242ac1c0002row14_col11{\n",
              "            background-color:  #5b7ae5;\n",
              "            color:  #000000;\n",
              "        }#T_b5b91b88_1ec2_11ec_ba04_0242ac1c0002row5_col9{\n",
              "            background-color:  #f08b6e;\n",
              "            color:  #000000;\n",
              "        }#T_b5b91b88_1ec2_11ec_ba04_0242ac1c0002row5_col10,#T_b5b91b88_1ec2_11ec_ba04_0242ac1c0002row13_col5,#T_b5b91b88_1ec2_11ec_ba04_0242ac1c0002row13_col10{\n",
              "            background-color:  #88abfd;\n",
              "            color:  #000000;\n",
              "        }#T_b5b91b88_1ec2_11ec_ba04_0242ac1c0002row5_col11{\n",
              "            background-color:  #6485ec;\n",
              "            color:  #000000;\n",
              "        }#T_b5b91b88_1ec2_11ec_ba04_0242ac1c0002row5_col12{\n",
              "            background-color:  #f5c4ac;\n",
              "            color:  #000000;\n",
              "        }#T_b5b91b88_1ec2_11ec_ba04_0242ac1c0002row5_col13,#T_b5b91b88_1ec2_11ec_ba04_0242ac1c0002row7_col8{\n",
              "            background-color:  #455cce;\n",
              "            color:  #f1f1f1;\n",
              "        }#T_b5b91b88_1ec2_11ec_ba04_0242ac1c0002row5_col14{\n",
              "            background-color:  #5a78e4;\n",
              "            color:  #000000;\n",
              "        }#T_b5b91b88_1ec2_11ec_ba04_0242ac1c0002row6_col0,#T_b5b91b88_1ec2_11ec_ba04_0242ac1c0002row8_col13{\n",
              "            background-color:  #6384eb;\n",
              "            color:  #000000;\n",
              "        }#T_b5b91b88_1ec2_11ec_ba04_0242ac1c0002row6_col8,#T_b5b91b88_1ec2_11ec_ba04_0242ac1c0002row13_col6{\n",
              "            background-color:  #eed0c0;\n",
              "            color:  #000000;\n",
              "        }#T_b5b91b88_1ec2_11ec_ba04_0242ac1c0002row6_col14{\n",
              "            background-color:  #b5cdfa;\n",
              "            color:  #000000;\n",
              "        }#T_b5b91b88_1ec2_11ec_ba04_0242ac1c0002row7_col0{\n",
              "            background-color:  #445acc;\n",
              "            color:  #f1f1f1;\n",
              "        }#T_b5b91b88_1ec2_11ec_ba04_0242ac1c0002row7_col1,#T_b5b91b88_1ec2_11ec_ba04_0242ac1c0002row10_col3,#T_b5b91b88_1ec2_11ec_ba04_0242ac1c0002row10_col12,#T_b5b91b88_1ec2_11ec_ba04_0242ac1c0002row11_col12{\n",
              "            background-color:  #ccd9ed;\n",
              "            color:  #000000;\n",
              "        }#T_b5b91b88_1ec2_11ec_ba04_0242ac1c0002row7_col2{\n",
              "            background-color:  #d65244;\n",
              "            color:  #000000;\n",
              "        }#T_b5b91b88_1ec2_11ec_ba04_0242ac1c0002row7_col3{\n",
              "            background-color:  #ed8366;\n",
              "            color:  #000000;\n",
              "        }#T_b5b91b88_1ec2_11ec_ba04_0242ac1c0002row7_col5{\n",
              "            background-color:  #f4c6af;\n",
              "            color:  #000000;\n",
              "        }#T_b5b91b88_1ec2_11ec_ba04_0242ac1c0002row7_col9{\n",
              "            background-color:  #cd423b;\n",
              "            color:  #f1f1f1;\n",
              "        }#T_b5b91b88_1ec2_11ec_ba04_0242ac1c0002row7_col11,#T_b5b91b88_1ec2_11ec_ba04_0242ac1c0002row8_col10,#T_b5b91b88_1ec2_11ec_ba04_0242ac1c0002row12_col11{\n",
              "            background-color:  #688aef;\n",
              "            color:  #000000;\n",
              "        }#T_b5b91b88_1ec2_11ec_ba04_0242ac1c0002row7_col12,#T_b5b91b88_1ec2_11ec_ba04_0242ac1c0002row9_col12,#T_b5b91b88_1ec2_11ec_ba04_0242ac1c0002row12_col2{\n",
              "            background-color:  #e16751;\n",
              "            color:  #000000;\n",
              "        }#T_b5b91b88_1ec2_11ec_ba04_0242ac1c0002row7_col13{\n",
              "            background-color:  #485fd1;\n",
              "            color:  #f1f1f1;\n",
              "        }#T_b5b91b88_1ec2_11ec_ba04_0242ac1c0002row8_col0{\n",
              "            background-color:  #6b8df0;\n",
              "            color:  #000000;\n",
              "        }#T_b5b91b88_1ec2_11ec_ba04_0242ac1c0002row8_col1,#T_b5b91b88_1ec2_11ec_ba04_0242ac1c0002row11_col8{\n",
              "            background-color:  #7da0f9;\n",
              "            color:  #000000;\n",
              "        }#T_b5b91b88_1ec2_11ec_ba04_0242ac1c0002row8_col3,#T_b5b91b88_1ec2_11ec_ba04_0242ac1c0002row8_col12{\n",
              "            background-color:  #89acfd;\n",
              "            color:  #000000;\n",
              "        }#T_b5b91b88_1ec2_11ec_ba04_0242ac1c0002row8_col4{\n",
              "            background-color:  #82a6fb;\n",
              "            color:  #000000;\n",
              "        }#T_b5b91b88_1ec2_11ec_ba04_0242ac1c0002row8_col5{\n",
              "            background-color:  #7a9df8;\n",
              "            color:  #000000;\n",
              "        }#T_b5b91b88_1ec2_11ec_ba04_0242ac1c0002row8_col9{\n",
              "            background-color:  #96b7ff;\n",
              "            color:  #000000;\n",
              "        }#T_b5b91b88_1ec2_11ec_ba04_0242ac1c0002row8_col14,#T_b5b91b88_1ec2_11ec_ba04_0242ac1c0002row11_col6{\n",
              "            background-color:  #c3d5f4;\n",
              "            color:  #000000;\n",
              "        }#T_b5b91b88_1ec2_11ec_ba04_0242ac1c0002row9_col1,#T_b5b91b88_1ec2_11ec_ba04_0242ac1c0002row11_col9{\n",
              "            background-color:  #dfdbd9;\n",
              "            color:  #000000;\n",
              "        }#T_b5b91b88_1ec2_11ec_ba04_0242ac1c0002row9_col2{\n",
              "            background-color:  #d85646;\n",
              "            color:  #000000;\n",
              "        }#T_b5b91b88_1ec2_11ec_ba04_0242ac1c0002row9_col4{\n",
              "            background-color:  #f18f71;\n",
              "            color:  #000000;\n",
              "        }#T_b5b91b88_1ec2_11ec_ba04_0242ac1c0002row9_col5{\n",
              "            background-color:  #f6a283;\n",
              "            color:  #000000;\n",
              "        }#T_b5b91b88_1ec2_11ec_ba04_0242ac1c0002row9_col7{\n",
              "            background-color:  #cf453c;\n",
              "            color:  #f1f1f1;\n",
              "        }#T_b5b91b88_1ec2_11ec_ba04_0242ac1c0002row9_col11,#T_b5b91b88_1ec2_11ec_ba04_0242ac1c0002row11_col14{\n",
              "            background-color:  #7093f3;\n",
              "            color:  #000000;\n",
              "        }#T_b5b91b88_1ec2_11ec_ba04_0242ac1c0002row10_col1{\n",
              "            background-color:  #f39475;\n",
              "            color:  #000000;\n",
              "        }#T_b5b91b88_1ec2_11ec_ba04_0242ac1c0002row10_col2{\n",
              "            background-color:  #dbdcde;\n",
              "            color:  #000000;\n",
              "        }#T_b5b91b88_1ec2_11ec_ba04_0242ac1c0002row10_col5,#T_b5b91b88_1ec2_11ec_ba04_0242ac1c0002row13_col7,#T_b5b91b88_1ec2_11ec_ba04_0242ac1c0002row14_col2,#T_b5b91b88_1ec2_11ec_ba04_0242ac1c0002row14_col7{\n",
              "            background-color:  #afcafc;\n",
              "            color:  #000000;\n",
              "        }#T_b5b91b88_1ec2_11ec_ba04_0242ac1c0002row10_col6{\n",
              "            background-color:  #a3c2fe;\n",
              "            color:  #000000;\n",
              "        }#T_b5b91b88_1ec2_11ec_ba04_0242ac1c0002row10_col7{\n",
              "            background-color:  #d4dbe6;\n",
              "            color:  #000000;\n",
              "        }#T_b5b91b88_1ec2_11ec_ba04_0242ac1c0002row10_col11{\n",
              "            background-color:  #7ea1fa;\n",
              "            color:  #000000;\n",
              "        }#T_b5b91b88_1ec2_11ec_ba04_0242ac1c0002row10_col13{\n",
              "            background-color:  #7396f5;\n",
              "            color:  #000000;\n",
              "        }#T_b5b91b88_1ec2_11ec_ba04_0242ac1c0002row10_col14{\n",
              "            background-color:  #85a8fc;\n",
              "            color:  #000000;\n",
              "        }#T_b5b91b88_1ec2_11ec_ba04_0242ac1c0002row11_col1{\n",
              "            background-color:  #d5dbe5;\n",
              "            color:  #000000;\n",
              "        }#T_b5b91b88_1ec2_11ec_ba04_0242ac1c0002row11_col3,#T_b5b91b88_1ec2_11ec_ba04_0242ac1c0002row12_col1{\n",
              "            background-color:  #d2dbe8;\n",
              "            color:  #000000;\n",
              "        }#T_b5b91b88_1ec2_11ec_ba04_0242ac1c0002row11_col5,#T_b5b91b88_1ec2_11ec_ba04_0242ac1c0002row13_col9,#T_b5b91b88_1ec2_11ec_ba04_0242ac1c0002row14_col9{\n",
              "            background-color:  #b3cdfb;\n",
              "            color:  #000000;\n",
              "        }#T_b5b91b88_1ec2_11ec_ba04_0242ac1c0002row11_col7{\n",
              "            background-color:  #d3dbe7;\n",
              "            color:  #000000;\n",
              "        }#T_b5b91b88_1ec2_11ec_ba04_0242ac1c0002row11_col10{\n",
              "            background-color:  #a5c3fe;\n",
              "            color:  #000000;\n",
              "        }#T_b5b91b88_1ec2_11ec_ba04_0242ac1c0002row11_col13{\n",
              "            background-color:  #81a4fb;\n",
              "            color:  #000000;\n",
              "        }#T_b5b91b88_1ec2_11ec_ba04_0242ac1c0002row12_col5{\n",
              "            background-color:  #efcfbf;\n",
              "            color:  #000000;\n",
              "        }#T_b5b91b88_1ec2_11ec_ba04_0242ac1c0002row12_col6,#T_b5b91b88_1ec2_11ec_ba04_0242ac1c0002row13_col0{\n",
              "            background-color:  #5875e1;\n",
              "            color:  #000000;\n",
              "        }#T_b5b91b88_1ec2_11ec_ba04_0242ac1c0002row12_col7{\n",
              "            background-color:  #e0654f;\n",
              "            color:  #000000;\n",
              "        }#T_b5b91b88_1ec2_11ec_ba04_0242ac1c0002row12_col9{\n",
              "            background-color:  #de614d;\n",
              "            color:  #000000;\n",
              "        }#T_b5b91b88_1ec2_11ec_ba04_0242ac1c0002row12_col14{\n",
              "            background-color:  #3f53c6;\n",
              "            color:  #f1f1f1;\n",
              "        }#T_b5b91b88_1ec2_11ec_ba04_0242ac1c0002row13_col1,#T_b5b91b88_1ec2_11ec_ba04_0242ac1c0002row14_col3{\n",
              "            background-color:  #a7c5fe;\n",
              "            color:  #000000;\n",
              "        }#T_b5b91b88_1ec2_11ec_ba04_0242ac1c0002row13_col3,#T_b5b91b88_1ec2_11ec_ba04_0242ac1c0002row13_col12,#T_b5b91b88_1ec2_11ec_ba04_0242ac1c0002row14_col12{\n",
              "            background-color:  #a1c0ff;\n",
              "            color:  #000000;\n",
              "        }#T_b5b91b88_1ec2_11ec_ba04_0242ac1c0002row13_col8{\n",
              "            background-color:  #86a9fc;\n",
              "            color:  #000000;\n",
              "        }#T_b5b91b88_1ec2_11ec_ba04_0242ac1c0002row14_col4,#T_b5b91b88_1ec2_11ec_ba04_0242ac1c0002row14_col5{\n",
              "            background-color:  #9bbcff;\n",
              "            color:  #000000;\n",
              "        }#T_b5b91b88_1ec2_11ec_ba04_0242ac1c0002row14_col6{\n",
              "            background-color:  #f1ccb8;\n",
              "            color:  #000000;\n",
              "        }</style><table id=\"T_b5b91b88_1ec2_11ec_ba04_0242ac1c0002\" ><thead>    <tr>        <th class=\"blank level0\" ></th>        <th class=\"col_heading level0 col0\" >year</th>        <th class=\"col_heading level0 col1\" >ghsl_water_surface</th>        <th class=\"col_heading level0 col2\" >ghsl_built_pre_1975</th>        <th class=\"col_heading level0 col3\" >ghsl_built_1975_to_1990</th>        <th class=\"col_heading level0 col4\" >ghsl_built_1990_to_2000</th>        <th class=\"col_heading level0 col5\" >ghsl_built_2000_to_2014</th>        <th class=\"col_heading level0 col6\" >ghsl_not_built_up</th>        <th class=\"col_heading level0 col7\" >ghsl_pop_density</th>        <th class=\"col_heading level0 col8\" >landcover_crops_fraction</th>        <th class=\"col_heading level0 col9\" >landcover_urban_fraction</th>        <th class=\"col_heading level0 col10\" >landcover_water_permanent_10km_fraction</th>        <th class=\"col_heading level0 col11\" >landcover_water_seasonal_10km_fraction</th>        <th class=\"col_heading level0 col12\" >nighttime_lights</th>        <th class=\"col_heading level0 col13\" >dist_to_capital</th>        <th class=\"col_heading level0 col14\" >dist_to_shoreline</th>    </tr></thead><tbody>\n",
              "                <tr>\n",
              "                        <th id=\"T_b5b91b88_1ec2_11ec_ba04_0242ac1c0002level0_row0\" class=\"row_heading level0 row0\" >year</th>\n",
              "                        <td id=\"T_b5b91b88_1ec2_11ec_ba04_0242ac1c0002row0_col0\" class=\"data row0 col0\" >1.000000</td>\n",
              "                        <td id=\"T_b5b91b88_1ec2_11ec_ba04_0242ac1c0002row0_col1\" class=\"data row0 col1\" >-0.012947</td>\n",
              "                        <td id=\"T_b5b91b88_1ec2_11ec_ba04_0242ac1c0002row0_col2\" class=\"data row0 col2\" >-0.083721</td>\n",
              "                        <td id=\"T_b5b91b88_1ec2_11ec_ba04_0242ac1c0002row0_col3\" class=\"data row0 col3\" >-0.038382</td>\n",
              "                        <td id=\"T_b5b91b88_1ec2_11ec_ba04_0242ac1c0002row0_col4\" class=\"data row0 col4\" >-0.018690</td>\n",
              "                        <td id=\"T_b5b91b88_1ec2_11ec_ba04_0242ac1c0002row0_col5\" class=\"data row0 col5\" >0.017530</td>\n",
              "                        <td id=\"T_b5b91b88_1ec2_11ec_ba04_0242ac1c0002row0_col6\" class=\"data row0 col6\" >0.057279</td>\n",
              "                        <td id=\"T_b5b91b88_1ec2_11ec_ba04_0242ac1c0002row0_col7\" class=\"data row0 col7\" >-0.048618</td>\n",
              "                        <td id=\"T_b5b91b88_1ec2_11ec_ba04_0242ac1c0002row0_col8\" class=\"data row0 col8\" >0.082205</td>\n",
              "                        <td id=\"T_b5b91b88_1ec2_11ec_ba04_0242ac1c0002row0_col9\" class=\"data row0 col9\" >-0.055750</td>\n",
              "                        <td id=\"T_b5b91b88_1ec2_11ec_ba04_0242ac1c0002row0_col10\" class=\"data row0 col10\" >0.034326</td>\n",
              "                        <td id=\"T_b5b91b88_1ec2_11ec_ba04_0242ac1c0002row0_col11\" class=\"data row0 col11\" >-0.054697</td>\n",
              "                        <td id=\"T_b5b91b88_1ec2_11ec_ba04_0242ac1c0002row0_col12\" class=\"data row0 col12\" >-0.028213</td>\n",
              "                        <td id=\"T_b5b91b88_1ec2_11ec_ba04_0242ac1c0002row0_col13\" class=\"data row0 col13\" >0.019710</td>\n",
              "                        <td id=\"T_b5b91b88_1ec2_11ec_ba04_0242ac1c0002row0_col14\" class=\"data row0 col14\" >-0.015886</td>\n",
              "            </tr>\n",
              "            <tr>\n",
              "                        <th id=\"T_b5b91b88_1ec2_11ec_ba04_0242ac1c0002level0_row1\" class=\"row_heading level0 row1\" >ghsl_water_surface</th>\n",
              "                        <td id=\"T_b5b91b88_1ec2_11ec_ba04_0242ac1c0002row1_col0\" class=\"data row1 col0\" >-0.012947</td>\n",
              "                        <td id=\"T_b5b91b88_1ec2_11ec_ba04_0242ac1c0002row1_col1\" class=\"data row1 col1\" >1.000000</td>\n",
              "                        <td id=\"T_b5b91b88_1ec2_11ec_ba04_0242ac1c0002row1_col2\" class=\"data row1 col2\" >0.197961</td>\n",
              "                        <td id=\"T_b5b91b88_1ec2_11ec_ba04_0242ac1c0002row1_col3\" class=\"data row1 col3\" >0.110012</td>\n",
              "                        <td id=\"T_b5b91b88_1ec2_11ec_ba04_0242ac1c0002row1_col4\" class=\"data row1 col4\" >0.040389</td>\n",
              "                        <td id=\"T_b5b91b88_1ec2_11ec_ba04_0242ac1c0002row1_col5\" class=\"data row1 col5\" >0.034900</td>\n",
              "                        <td id=\"T_b5b91b88_1ec2_11ec_ba04_0242ac1c0002row1_col6\" class=\"data row1 col6\" >-0.533573</td>\n",
              "                        <td id=\"T_b5b91b88_1ec2_11ec_ba04_0242ac1c0002row1_col7\" class=\"data row1 col7\" >0.137382</td>\n",
              "                        <td id=\"T_b5b91b88_1ec2_11ec_ba04_0242ac1c0002row1_col8\" class=\"data row1 col8\" >-0.221121</td>\n",
              "                        <td id=\"T_b5b91b88_1ec2_11ec_ba04_0242ac1c0002row1_col9\" class=\"data row1 col9\" >0.246438</td>\n",
              "                        <td id=\"T_b5b91b88_1ec2_11ec_ba04_0242ac1c0002row1_col10\" class=\"data row1 col10\" >0.639638</td>\n",
              "                        <td id=\"T_b5b91b88_1ec2_11ec_ba04_0242ac1c0002row1_col11\" class=\"data row1 col11\" >0.185985</td>\n",
              "                        <td id=\"T_b5b91b88_1ec2_11ec_ba04_0242ac1c0002row1_col12\" class=\"data row1 col12\" >0.171599</td>\n",
              "                        <td id=\"T_b5b91b88_1ec2_11ec_ba04_0242ac1c0002row1_col13\" class=\"data row1 col13\" >-0.030484</td>\n",
              "                        <td id=\"T_b5b91b88_1ec2_11ec_ba04_0242ac1c0002row1_col14\" class=\"data row1 col14\" >-0.152016</td>\n",
              "            </tr>\n",
              "            <tr>\n",
              "                        <th id=\"T_b5b91b88_1ec2_11ec_ba04_0242ac1c0002level0_row2\" class=\"row_heading level0 row2\" >ghsl_built_pre_1975</th>\n",
              "                        <td id=\"T_b5b91b88_1ec2_11ec_ba04_0242ac1c0002row2_col0\" class=\"data row2 col0\" >-0.083721</td>\n",
              "                        <td id=\"T_b5b91b88_1ec2_11ec_ba04_0242ac1c0002row2_col1\" class=\"data row2 col1\" >0.197961</td>\n",
              "                        <td id=\"T_b5b91b88_1ec2_11ec_ba04_0242ac1c0002row2_col2\" class=\"data row2 col2\" >1.000000</td>\n",
              "                        <td id=\"T_b5b91b88_1ec2_11ec_ba04_0242ac1c0002row2_col3\" class=\"data row2 col3\" >0.474982</td>\n",
              "                        <td id=\"T_b5b91b88_1ec2_11ec_ba04_0242ac1c0002row2_col4\" class=\"data row2 col4\" >0.464407</td>\n",
              "                        <td id=\"T_b5b91b88_1ec2_11ec_ba04_0242ac1c0002row2_col5\" class=\"data row2 col5\" >0.281641</td>\n",
              "                        <td id=\"T_b5b91b88_1ec2_11ec_ba04_0242ac1c0002row2_col6\" class=\"data row2 col6\" >-0.821521</td>\n",
              "                        <td id=\"T_b5b91b88_1ec2_11ec_ba04_0242ac1c0002row2_col7\" class=\"data row2 col7\" >0.816594</td>\n",
              "                        <td id=\"T_b5b91b88_1ec2_11ec_ba04_0242ac1c0002row2_col8\" class=\"data row2 col8\" >-0.337366</td>\n",
              "                        <td id=\"T_b5b91b88_1ec2_11ec_ba04_0242ac1c0002row2_col9\" class=\"data row2 col9\" >0.804210</td>\n",
              "                        <td id=\"T_b5b91b88_1ec2_11ec_ba04_0242ac1c0002row2_col10\" class=\"data row2 col10\" >0.079085</td>\n",
              "                        <td id=\"T_b5b91b88_1ec2_11ec_ba04_0242ac1c0002row2_col11\" class=\"data row2 col11\" >0.053655</td>\n",
              "                        <td id=\"T_b5b91b88_1ec2_11ec_ba04_0242ac1c0002row2_col12\" class=\"data row2 col12\" >0.746656</td>\n",
              "                        <td id=\"T_b5b91b88_1ec2_11ec_ba04_0242ac1c0002row2_col13\" class=\"data row2 col13\" >-0.147007</td>\n",
              "                        <td id=\"T_b5b91b88_1ec2_11ec_ba04_0242ac1c0002row2_col14\" class=\"data row2 col14\" >-0.186005</td>\n",
              "            </tr>\n",
              "            <tr>\n",
              "                        <th id=\"T_b5b91b88_1ec2_11ec_ba04_0242ac1c0002level0_row3\" class=\"row_heading level0 row3\" >ghsl_built_1975_to_1990</th>\n",
              "                        <td id=\"T_b5b91b88_1ec2_11ec_ba04_0242ac1c0002row3_col0\" class=\"data row3 col0\" >-0.038382</td>\n",
              "                        <td id=\"T_b5b91b88_1ec2_11ec_ba04_0242ac1c0002row3_col1\" class=\"data row3 col1\" >0.110012</td>\n",
              "                        <td id=\"T_b5b91b88_1ec2_11ec_ba04_0242ac1c0002row3_col2\" class=\"data row3 col2\" >0.474982</td>\n",
              "                        <td id=\"T_b5b91b88_1ec2_11ec_ba04_0242ac1c0002row3_col3\" class=\"data row3 col3\" >1.000000</td>\n",
              "                        <td id=\"T_b5b91b88_1ec2_11ec_ba04_0242ac1c0002row3_col4\" class=\"data row3 col4\" >0.451552</td>\n",
              "                        <td id=\"T_b5b91b88_1ec2_11ec_ba04_0242ac1c0002row3_col5\" class=\"data row3 col5\" >0.445210</td>\n",
              "                        <td id=\"T_b5b91b88_1ec2_11ec_ba04_0242ac1c0002row3_col6\" class=\"data row3 col6\" >-0.713104</td>\n",
              "                        <td id=\"T_b5b91b88_1ec2_11ec_ba04_0242ac1c0002row3_col7\" class=\"data row3 col7\" >0.658810</td>\n",
              "                        <td id=\"T_b5b91b88_1ec2_11ec_ba04_0242ac1c0002row3_col8\" class=\"data row3 col8\" >-0.298848</td>\n",
              "                        <td id=\"T_b5b91b88_1ec2_11ec_ba04_0242ac1c0002row3_col9\" class=\"data row3 col9\" >0.750170</td>\n",
              "                        <td id=\"T_b5b91b88_1ec2_11ec_ba04_0242ac1c0002row3_col10\" class=\"data row3 col10\" >0.042565</td>\n",
              "                        <td id=\"T_b5b91b88_1ec2_11ec_ba04_0242ac1c0002row3_col11\" class=\"data row3 col11\" >0.070884</td>\n",
              "                        <td id=\"T_b5b91b88_1ec2_11ec_ba04_0242ac1c0002row3_col12\" class=\"data row3 col12\" >0.567003</td>\n",
              "                        <td id=\"T_b5b91b88_1ec2_11ec_ba04_0242ac1c0002row3_col13\" class=\"data row3 col13\" >-0.186747</td>\n",
              "                        <td id=\"T_b5b91b88_1ec2_11ec_ba04_0242ac1c0002row3_col14\" class=\"data row3 col14\" >-0.151022</td>\n",
              "            </tr>\n",
              "            <tr>\n",
              "                        <th id=\"T_b5b91b88_1ec2_11ec_ba04_0242ac1c0002level0_row4\" class=\"row_heading level0 row4\" >ghsl_built_1990_to_2000</th>\n",
              "                        <td id=\"T_b5b91b88_1ec2_11ec_ba04_0242ac1c0002row4_col0\" class=\"data row4 col0\" >-0.018690</td>\n",
              "                        <td id=\"T_b5b91b88_1ec2_11ec_ba04_0242ac1c0002row4_col1\" class=\"data row4 col1\" >0.040389</td>\n",
              "                        <td id=\"T_b5b91b88_1ec2_11ec_ba04_0242ac1c0002row4_col2\" class=\"data row4 col2\" >0.464407</td>\n",
              "                        <td id=\"T_b5b91b88_1ec2_11ec_ba04_0242ac1c0002row4_col3\" class=\"data row4 col3\" >0.451552</td>\n",
              "                        <td id=\"T_b5b91b88_1ec2_11ec_ba04_0242ac1c0002row4_col4\" class=\"data row4 col4\" >1.000000</td>\n",
              "                        <td id=\"T_b5b91b88_1ec2_11ec_ba04_0242ac1c0002row4_col5\" class=\"data row4 col5\" >0.574375</td>\n",
              "                        <td id=\"T_b5b91b88_1ec2_11ec_ba04_0242ac1c0002row4_col6\" class=\"data row4 col6\" >-0.614719</td>\n",
              "                        <td id=\"T_b5b91b88_1ec2_11ec_ba04_0242ac1c0002row4_col7\" class=\"data row4 col7\" >0.507582</td>\n",
              "                        <td id=\"T_b5b91b88_1ec2_11ec_ba04_0242ac1c0002row4_col8\" class=\"data row4 col8\" >-0.257735</td>\n",
              "                        <td id=\"T_b5b91b88_1ec2_11ec_ba04_0242ac1c0002row4_col9\" class=\"data row4 col9\" >0.638640</td>\n",
              "                        <td id=\"T_b5b91b88_1ec2_11ec_ba04_0242ac1c0002row4_col10\" class=\"data row4 col10\" >0.017545</td>\n",
              "                        <td id=\"T_b5b91b88_1ec2_11ec_ba04_0242ac1c0002row4_col11\" class=\"data row4 col11\" >0.017371</td>\n",
              "                        <td id=\"T_b5b91b88_1ec2_11ec_ba04_0242ac1c0002row4_col12\" class=\"data row4 col12\" >0.414382</td>\n",
              "                        <td id=\"T_b5b91b88_1ec2_11ec_ba04_0242ac1c0002row4_col13\" class=\"data row4 col13\" >-0.166710</td>\n",
              "                        <td id=\"T_b5b91b88_1ec2_11ec_ba04_0242ac1c0002row4_col14\" class=\"data row4 col14\" >-0.142295</td>\n",
              "            </tr>\n",
              "            <tr>\n",
              "                        <th id=\"T_b5b91b88_1ec2_11ec_ba04_0242ac1c0002level0_row5\" class=\"row_heading level0 row5\" >ghsl_built_2000_to_2014</th>\n",
              "                        <td id=\"T_b5b91b88_1ec2_11ec_ba04_0242ac1c0002row5_col0\" class=\"data row5 col0\" >0.017530</td>\n",
              "                        <td id=\"T_b5b91b88_1ec2_11ec_ba04_0242ac1c0002row5_col1\" class=\"data row5 col1\" >0.034900</td>\n",
              "                        <td id=\"T_b5b91b88_1ec2_11ec_ba04_0242ac1c0002row5_col2\" class=\"data row5 col2\" >0.281641</td>\n",
              "                        <td id=\"T_b5b91b88_1ec2_11ec_ba04_0242ac1c0002row5_col3\" class=\"data row5 col3\" >0.445210</td>\n",
              "                        <td id=\"T_b5b91b88_1ec2_11ec_ba04_0242ac1c0002row5_col4\" class=\"data row5 col4\" >0.574375</td>\n",
              "                        <td id=\"T_b5b91b88_1ec2_11ec_ba04_0242ac1c0002row5_col5\" class=\"data row5 col5\" >1.000000</td>\n",
              "                        <td id=\"T_b5b91b88_1ec2_11ec_ba04_0242ac1c0002row5_col6\" class=\"data row5 col6\" >-0.531842</td>\n",
              "                        <td id=\"T_b5b91b88_1ec2_11ec_ba04_0242ac1c0002row5_col7\" class=\"data row5 col7\" >0.416470</td>\n",
              "                        <td id=\"T_b5b91b88_1ec2_11ec_ba04_0242ac1c0002row5_col8\" class=\"data row5 col8\" >-0.226773</td>\n",
              "                        <td id=\"T_b5b91b88_1ec2_11ec_ba04_0242ac1c0002row5_col9\" class=\"data row5 col9\" >0.587058</td>\n",
              "                        <td id=\"T_b5b91b88_1ec2_11ec_ba04_0242ac1c0002row5_col10\" class=\"data row5 col10\" >0.003370</td>\n",
              "                        <td id=\"T_b5b91b88_1ec2_11ec_ba04_0242ac1c0002row5_col11\" class=\"data row5 col11\" >0.023246</td>\n",
              "                        <td id=\"T_b5b91b88_1ec2_11ec_ba04_0242ac1c0002row5_col12\" class=\"data row5 col12\" >0.355522</td>\n",
              "                        <td id=\"T_b5b91b88_1ec2_11ec_ba04_0242ac1c0002row5_col13\" class=\"data row5 col13\" >-0.167433</td>\n",
              "                        <td id=\"T_b5b91b88_1ec2_11ec_ba04_0242ac1c0002row5_col14\" class=\"data row5 col14\" >-0.088179</td>\n",
              "            </tr>\n",
              "            <tr>\n",
              "                        <th id=\"T_b5b91b88_1ec2_11ec_ba04_0242ac1c0002level0_row6\" class=\"row_heading level0 row6\" >ghsl_not_built_up</th>\n",
              "                        <td id=\"T_b5b91b88_1ec2_11ec_ba04_0242ac1c0002row6_col0\" class=\"data row6 col0\" >0.057279</td>\n",
              "                        <td id=\"T_b5b91b88_1ec2_11ec_ba04_0242ac1c0002row6_col1\" class=\"data row6 col1\" >-0.533573</td>\n",
              "                        <td id=\"T_b5b91b88_1ec2_11ec_ba04_0242ac1c0002row6_col2\" class=\"data row6 col2\" >-0.821521</td>\n",
              "                        <td id=\"T_b5b91b88_1ec2_11ec_ba04_0242ac1c0002row6_col3\" class=\"data row6 col3\" >-0.713104</td>\n",
              "                        <td id=\"T_b5b91b88_1ec2_11ec_ba04_0242ac1c0002row6_col4\" class=\"data row6 col4\" >-0.614719</td>\n",
              "                        <td id=\"T_b5b91b88_1ec2_11ec_ba04_0242ac1c0002row6_col5\" class=\"data row6 col5\" >-0.531842</td>\n",
              "                        <td id=\"T_b5b91b88_1ec2_11ec_ba04_0242ac1c0002row6_col6\" class=\"data row6 col6\" >1.000000</td>\n",
              "                        <td id=\"T_b5b91b88_1ec2_11ec_ba04_0242ac1c0002row6_col7\" class=\"data row6 col7\" >-0.791663</td>\n",
              "                        <td id=\"T_b5b91b88_1ec2_11ec_ba04_0242ac1c0002row6_col8\" class=\"data row6 col8\" >0.415382</td>\n",
              "                        <td id=\"T_b5b91b88_1ec2_11ec_ba04_0242ac1c0002row6_col9\" class=\"data row6 col9\" >-0.902559</td>\n",
              "                        <td id=\"T_b5b91b88_1ec2_11ec_ba04_0242ac1c0002row6_col10\" class=\"data row6 col10\" >-0.305384</td>\n",
              "                        <td id=\"T_b5b91b88_1ec2_11ec_ba04_0242ac1c0002row6_col11\" class=\"data row6 col11\" >-0.126775</td>\n",
              "                        <td id=\"T_b5b91b88_1ec2_11ec_ba04_0242ac1c0002row6_col12\" class=\"data row6 col12\" >-0.720076</td>\n",
              "                        <td id=\"T_b5b91b88_1ec2_11ec_ba04_0242ac1c0002row6_col13\" class=\"data row6 col13\" >0.191176</td>\n",
              "                        <td id=\"T_b5b91b88_1ec2_11ec_ba04_0242ac1c0002row6_col14\" class=\"data row6 col14\" >0.230617</td>\n",
              "            </tr>\n",
              "            <tr>\n",
              "                        <th id=\"T_b5b91b88_1ec2_11ec_ba04_0242ac1c0002level0_row7\" class=\"row_heading level0 row7\" >ghsl_pop_density</th>\n",
              "                        <td id=\"T_b5b91b88_1ec2_11ec_ba04_0242ac1c0002row7_col0\" class=\"data row7 col0\" >-0.048618</td>\n",
              "                        <td id=\"T_b5b91b88_1ec2_11ec_ba04_0242ac1c0002row7_col1\" class=\"data row7 col1\" >0.137382</td>\n",
              "                        <td id=\"T_b5b91b88_1ec2_11ec_ba04_0242ac1c0002row7_col2\" class=\"data row7 col2\" >0.816594</td>\n",
              "                        <td id=\"T_b5b91b88_1ec2_11ec_ba04_0242ac1c0002row7_col3\" class=\"data row7 col3\" >0.658810</td>\n",
              "                        <td id=\"T_b5b91b88_1ec2_11ec_ba04_0242ac1c0002row7_col4\" class=\"data row7 col4\" >0.507582</td>\n",
              "                        <td id=\"T_b5b91b88_1ec2_11ec_ba04_0242ac1c0002row7_col5\" class=\"data row7 col5\" >0.416470</td>\n",
              "                        <td id=\"T_b5b91b88_1ec2_11ec_ba04_0242ac1c0002row7_col6\" class=\"data row7 col6\" >-0.791663</td>\n",
              "                        <td id=\"T_b5b91b88_1ec2_11ec_ba04_0242ac1c0002row7_col7\" class=\"data row7 col7\" >1.000000</td>\n",
              "                        <td id=\"T_b5b91b88_1ec2_11ec_ba04_0242ac1c0002row7_col8\" class=\"data row7 col8\" >-0.323615</td>\n",
              "                        <td id=\"T_b5b91b88_1ec2_11ec_ba04_0242ac1c0002row7_col9\" class=\"data row7 col9\" >0.860147</td>\n",
              "                        <td id=\"T_b5b91b88_1ec2_11ec_ba04_0242ac1c0002row7_col10\" class=\"data row7 col10\" >0.044945</td>\n",
              "                        <td id=\"T_b5b91b88_1ec2_11ec_ba04_0242ac1c0002row7_col11\" class=\"data row7 col11\" >0.038811</td>\n",
              "                        <td id=\"T_b5b91b88_1ec2_11ec_ba04_0242ac1c0002row7_col12\" class=\"data row7 col12\" >0.761638</td>\n",
              "                        <td id=\"T_b5b91b88_1ec2_11ec_ba04_0242ac1c0002row7_col13\" class=\"data row7 col13\" >-0.162155</td>\n",
              "                        <td id=\"T_b5b91b88_1ec2_11ec_ba04_0242ac1c0002row7_col14\" class=\"data row7 col14\" >-0.164513</td>\n",
              "            </tr>\n",
              "            <tr>\n",
              "                        <th id=\"T_b5b91b88_1ec2_11ec_ba04_0242ac1c0002level0_row8\" class=\"row_heading level0 row8\" >landcover_crops_fraction</th>\n",
              "                        <td id=\"T_b5b91b88_1ec2_11ec_ba04_0242ac1c0002row8_col0\" class=\"data row8 col0\" >0.082205</td>\n",
              "                        <td id=\"T_b5b91b88_1ec2_11ec_ba04_0242ac1c0002row8_col1\" class=\"data row8 col1\" >-0.221121</td>\n",
              "                        <td id=\"T_b5b91b88_1ec2_11ec_ba04_0242ac1c0002row8_col2\" class=\"data row8 col2\" >-0.337366</td>\n",
              "                        <td id=\"T_b5b91b88_1ec2_11ec_ba04_0242ac1c0002row8_col3\" class=\"data row8 col3\" >-0.298848</td>\n",
              "                        <td id=\"T_b5b91b88_1ec2_11ec_ba04_0242ac1c0002row8_col4\" class=\"data row8 col4\" >-0.257735</td>\n",
              "                        <td id=\"T_b5b91b88_1ec2_11ec_ba04_0242ac1c0002row8_col5\" class=\"data row8 col5\" >-0.226773</td>\n",
              "                        <td id=\"T_b5b91b88_1ec2_11ec_ba04_0242ac1c0002row8_col6\" class=\"data row8 col6\" >0.415382</td>\n",
              "                        <td id=\"T_b5b91b88_1ec2_11ec_ba04_0242ac1c0002row8_col7\" class=\"data row8 col7\" >-0.323615</td>\n",
              "                        <td id=\"T_b5b91b88_1ec2_11ec_ba04_0242ac1c0002row8_col8\" class=\"data row8 col8\" >1.000000</td>\n",
              "                        <td id=\"T_b5b91b88_1ec2_11ec_ba04_0242ac1c0002row8_col9\" class=\"data row8 col9\" >-0.377178</td>\n",
              "                        <td id=\"T_b5b91b88_1ec2_11ec_ba04_0242ac1c0002row8_col10\" class=\"data row8 col10\" >-0.112033</td>\n",
              "                        <td id=\"T_b5b91b88_1ec2_11ec_ba04_0242ac1c0002row8_col11\" class=\"data row8 col11\" >-0.096018</td>\n",
              "                        <td id=\"T_b5b91b88_1ec2_11ec_ba04_0242ac1c0002row8_col12\" class=\"data row8 col12\" >-0.304454</td>\n",
              "                        <td id=\"T_b5b91b88_1ec2_11ec_ba04_0242ac1c0002row8_col13\" class=\"data row8 col13\" >-0.055470</td>\n",
              "                        <td id=\"T_b5b91b88_1ec2_11ec_ba04_0242ac1c0002row8_col14\" class=\"data row8 col14\" >0.281731</td>\n",
              "            </tr>\n",
              "            <tr>\n",
              "                        <th id=\"T_b5b91b88_1ec2_11ec_ba04_0242ac1c0002level0_row9\" class=\"row_heading level0 row9\" >landcover_urban_fraction</th>\n",
              "                        <td id=\"T_b5b91b88_1ec2_11ec_ba04_0242ac1c0002row9_col0\" class=\"data row9 col0\" >-0.055750</td>\n",
              "                        <td id=\"T_b5b91b88_1ec2_11ec_ba04_0242ac1c0002row9_col1\" class=\"data row9 col1\" >0.246438</td>\n",
              "                        <td id=\"T_b5b91b88_1ec2_11ec_ba04_0242ac1c0002row9_col2\" class=\"data row9 col2\" >0.804210</td>\n",
              "                        <td id=\"T_b5b91b88_1ec2_11ec_ba04_0242ac1c0002row9_col3\" class=\"data row9 col3\" >0.750170</td>\n",
              "                        <td id=\"T_b5b91b88_1ec2_11ec_ba04_0242ac1c0002row9_col4\" class=\"data row9 col4\" >0.638640</td>\n",
              "                        <td id=\"T_b5b91b88_1ec2_11ec_ba04_0242ac1c0002row9_col5\" class=\"data row9 col5\" >0.587058</td>\n",
              "                        <td id=\"T_b5b91b88_1ec2_11ec_ba04_0242ac1c0002row9_col6\" class=\"data row9 col6\" >-0.902559</td>\n",
              "                        <td id=\"T_b5b91b88_1ec2_11ec_ba04_0242ac1c0002row9_col7\" class=\"data row9 col7\" >0.860147</td>\n",
              "                        <td id=\"T_b5b91b88_1ec2_11ec_ba04_0242ac1c0002row9_col8\" class=\"data row9 col8\" >-0.377178</td>\n",
              "                        <td id=\"T_b5b91b88_1ec2_11ec_ba04_0242ac1c0002row9_col9\" class=\"data row9 col9\" >1.000000</td>\n",
              "                        <td id=\"T_b5b91b88_1ec2_11ec_ba04_0242ac1c0002row9_col10\" class=\"data row9 col10\" >0.059166</td>\n",
              "                        <td id=\"T_b5b91b88_1ec2_11ec_ba04_0242ac1c0002row9_col11\" class=\"data row9 col11\" >0.066508</td>\n",
              "                        <td id=\"T_b5b91b88_1ec2_11ec_ba04_0242ac1c0002row9_col12\" class=\"data row9 col12\" >0.761303</td>\n",
              "                        <td id=\"T_b5b91b88_1ec2_11ec_ba04_0242ac1c0002row9_col13\" class=\"data row9 col13\" >-0.214692</td>\n",
              "                        <td id=\"T_b5b91b88_1ec2_11ec_ba04_0242ac1c0002row9_col14\" class=\"data row9 col14\" >-0.214850</td>\n",
              "            </tr>\n",
              "            <tr>\n",
              "                        <th id=\"T_b5b91b88_1ec2_11ec_ba04_0242ac1c0002level0_row10\" class=\"row_heading level0 row10\" >landcover_water_permanent_10km_fraction</th>\n",
              "                        <td id=\"T_b5b91b88_1ec2_11ec_ba04_0242ac1c0002row10_col0\" class=\"data row10 col0\" >0.034326</td>\n",
              "                        <td id=\"T_b5b91b88_1ec2_11ec_ba04_0242ac1c0002row10_col1\" class=\"data row10 col1\" >0.639638</td>\n",
              "                        <td id=\"T_b5b91b88_1ec2_11ec_ba04_0242ac1c0002row10_col2\" class=\"data row10 col2\" >0.079085</td>\n",
              "                        <td id=\"T_b5b91b88_1ec2_11ec_ba04_0242ac1c0002row10_col3\" class=\"data row10 col3\" >0.042565</td>\n",
              "                        <td id=\"T_b5b91b88_1ec2_11ec_ba04_0242ac1c0002row10_col4\" class=\"data row10 col4\" >0.017545</td>\n",
              "                        <td id=\"T_b5b91b88_1ec2_11ec_ba04_0242ac1c0002row10_col5\" class=\"data row10 col5\" >0.003370</td>\n",
              "                        <td id=\"T_b5b91b88_1ec2_11ec_ba04_0242ac1c0002row10_col6\" class=\"data row10 col6\" >-0.305384</td>\n",
              "                        <td id=\"T_b5b91b88_1ec2_11ec_ba04_0242ac1c0002row10_col7\" class=\"data row10 col7\" >0.044945</td>\n",
              "                        <td id=\"T_b5b91b88_1ec2_11ec_ba04_0242ac1c0002row10_col8\" class=\"data row10 col8\" >-0.112033</td>\n",
              "                        <td id=\"T_b5b91b88_1ec2_11ec_ba04_0242ac1c0002row10_col9\" class=\"data row10 col9\" >0.059166</td>\n",
              "                        <td id=\"T_b5b91b88_1ec2_11ec_ba04_0242ac1c0002row10_col10\" class=\"data row10 col10\" >1.000000</td>\n",
              "                        <td id=\"T_b5b91b88_1ec2_11ec_ba04_0242ac1c0002row10_col11\" class=\"data row10 col11\" >0.110541</td>\n",
              "                        <td id=\"T_b5b91b88_1ec2_11ec_ba04_0242ac1c0002row10_col12\" class=\"data row10 col12\" >0.035453</td>\n",
              "                        <td id=\"T_b5b91b88_1ec2_11ec_ba04_0242ac1c0002row10_col13\" class=\"data row10 col13\" >0.001938</td>\n",
              "                        <td id=\"T_b5b91b88_1ec2_11ec_ba04_0242ac1c0002row10_col14\" class=\"data row10 col14\" >0.060882</td>\n",
              "            </tr>\n",
              "            <tr>\n",
              "                        <th id=\"T_b5b91b88_1ec2_11ec_ba04_0242ac1c0002level0_row11\" class=\"row_heading level0 row11\" >landcover_water_seasonal_10km_fraction</th>\n",
              "                        <td id=\"T_b5b91b88_1ec2_11ec_ba04_0242ac1c0002row11_col0\" class=\"data row11 col0\" >-0.054697</td>\n",
              "                        <td id=\"T_b5b91b88_1ec2_11ec_ba04_0242ac1c0002row11_col1\" class=\"data row11 col1\" >0.185985</td>\n",
              "                        <td id=\"T_b5b91b88_1ec2_11ec_ba04_0242ac1c0002row11_col2\" class=\"data row11 col2\" >0.053655</td>\n",
              "                        <td id=\"T_b5b91b88_1ec2_11ec_ba04_0242ac1c0002row11_col3\" class=\"data row11 col3\" >0.070884</td>\n",
              "                        <td id=\"T_b5b91b88_1ec2_11ec_ba04_0242ac1c0002row11_col4\" class=\"data row11 col4\" >0.017371</td>\n",
              "                        <td id=\"T_b5b91b88_1ec2_11ec_ba04_0242ac1c0002row11_col5\" class=\"data row11 col5\" >0.023246</td>\n",
              "                        <td id=\"T_b5b91b88_1ec2_11ec_ba04_0242ac1c0002row11_col6\" class=\"data row11 col6\" >-0.126775</td>\n",
              "                        <td id=\"T_b5b91b88_1ec2_11ec_ba04_0242ac1c0002row11_col7\" class=\"data row11 col7\" >0.038811</td>\n",
              "                        <td id=\"T_b5b91b88_1ec2_11ec_ba04_0242ac1c0002row11_col8\" class=\"data row11 col8\" >-0.096018</td>\n",
              "                        <td id=\"T_b5b91b88_1ec2_11ec_ba04_0242ac1c0002row11_col9\" class=\"data row11 col9\" >0.066508</td>\n",
              "                        <td id=\"T_b5b91b88_1ec2_11ec_ba04_0242ac1c0002row11_col10\" class=\"data row11 col10\" >0.110541</td>\n",
              "                        <td id=\"T_b5b91b88_1ec2_11ec_ba04_0242ac1c0002row11_col11\" class=\"data row11 col11\" >1.000000</td>\n",
              "                        <td id=\"T_b5b91b88_1ec2_11ec_ba04_0242ac1c0002row11_col12\" class=\"data row11 col12\" >0.037150</td>\n",
              "                        <td id=\"T_b5b91b88_1ec2_11ec_ba04_0242ac1c0002row11_col13\" class=\"data row11 col13\" >0.049984</td>\n",
              "                        <td id=\"T_b5b91b88_1ec2_11ec_ba04_0242ac1c0002row11_col14\" class=\"data row11 col14\" >-0.007002</td>\n",
              "            </tr>\n",
              "            <tr>\n",
              "                        <th id=\"T_b5b91b88_1ec2_11ec_ba04_0242ac1c0002level0_row12\" class=\"row_heading level0 row12\" >nighttime_lights</th>\n",
              "                        <td id=\"T_b5b91b88_1ec2_11ec_ba04_0242ac1c0002row12_col0\" class=\"data row12 col0\" >-0.028213</td>\n",
              "                        <td id=\"T_b5b91b88_1ec2_11ec_ba04_0242ac1c0002row12_col1\" class=\"data row12 col1\" >0.171599</td>\n",
              "                        <td id=\"T_b5b91b88_1ec2_11ec_ba04_0242ac1c0002row12_col2\" class=\"data row12 col2\" >0.746656</td>\n",
              "                        <td id=\"T_b5b91b88_1ec2_11ec_ba04_0242ac1c0002row12_col3\" class=\"data row12 col3\" >0.567003</td>\n",
              "                        <td id=\"T_b5b91b88_1ec2_11ec_ba04_0242ac1c0002row12_col4\" class=\"data row12 col4\" >0.414382</td>\n",
              "                        <td id=\"T_b5b91b88_1ec2_11ec_ba04_0242ac1c0002row12_col5\" class=\"data row12 col5\" >0.355522</td>\n",
              "                        <td id=\"T_b5b91b88_1ec2_11ec_ba04_0242ac1c0002row12_col6\" class=\"data row12 col6\" >-0.720076</td>\n",
              "                        <td id=\"T_b5b91b88_1ec2_11ec_ba04_0242ac1c0002row12_col7\" class=\"data row12 col7\" >0.761638</td>\n",
              "                        <td id=\"T_b5b91b88_1ec2_11ec_ba04_0242ac1c0002row12_col8\" class=\"data row12 col8\" >-0.304454</td>\n",
              "                        <td id=\"T_b5b91b88_1ec2_11ec_ba04_0242ac1c0002row12_col9\" class=\"data row12 col9\" >0.761303</td>\n",
              "                        <td id=\"T_b5b91b88_1ec2_11ec_ba04_0242ac1c0002row12_col10\" class=\"data row12 col10\" >0.035453</td>\n",
              "                        <td id=\"T_b5b91b88_1ec2_11ec_ba04_0242ac1c0002row12_col11\" class=\"data row12 col11\" >0.037150</td>\n",
              "                        <td id=\"T_b5b91b88_1ec2_11ec_ba04_0242ac1c0002row12_col12\" class=\"data row12 col12\" >1.000000</td>\n",
              "                        <td id=\"T_b5b91b88_1ec2_11ec_ba04_0242ac1c0002row12_col13\" class=\"data row12 col13\" >-0.190259</td>\n",
              "                        <td id=\"T_b5b91b88_1ec2_11ec_ba04_0242ac1c0002row12_col14\" class=\"data row12 col14\" >-0.195173</td>\n",
              "            </tr>\n",
              "            <tr>\n",
              "                        <th id=\"T_b5b91b88_1ec2_11ec_ba04_0242ac1c0002level0_row13\" class=\"row_heading level0 row13\" >dist_to_capital</th>\n",
              "                        <td id=\"T_b5b91b88_1ec2_11ec_ba04_0242ac1c0002row13_col0\" class=\"data row13 col0\" >0.019710</td>\n",
              "                        <td id=\"T_b5b91b88_1ec2_11ec_ba04_0242ac1c0002row13_col1\" class=\"data row13 col1\" >-0.030484</td>\n",
              "                        <td id=\"T_b5b91b88_1ec2_11ec_ba04_0242ac1c0002row13_col2\" class=\"data row13 col2\" >-0.147007</td>\n",
              "                        <td id=\"T_b5b91b88_1ec2_11ec_ba04_0242ac1c0002row13_col3\" class=\"data row13 col3\" >-0.186747</td>\n",
              "                        <td id=\"T_b5b91b88_1ec2_11ec_ba04_0242ac1c0002row13_col4\" class=\"data row13 col4\" >-0.166710</td>\n",
              "                        <td id=\"T_b5b91b88_1ec2_11ec_ba04_0242ac1c0002row13_col5\" class=\"data row13 col5\" >-0.167433</td>\n",
              "                        <td id=\"T_b5b91b88_1ec2_11ec_ba04_0242ac1c0002row13_col6\" class=\"data row13 col6\" >0.191176</td>\n",
              "                        <td id=\"T_b5b91b88_1ec2_11ec_ba04_0242ac1c0002row13_col7\" class=\"data row13 col7\" >-0.162155</td>\n",
              "                        <td id=\"T_b5b91b88_1ec2_11ec_ba04_0242ac1c0002row13_col8\" class=\"data row13 col8\" >-0.055470</td>\n",
              "                        <td id=\"T_b5b91b88_1ec2_11ec_ba04_0242ac1c0002row13_col9\" class=\"data row13 col9\" >-0.214692</td>\n",
              "                        <td id=\"T_b5b91b88_1ec2_11ec_ba04_0242ac1c0002row13_col10\" class=\"data row13 col10\" >0.001938</td>\n",
              "                        <td id=\"T_b5b91b88_1ec2_11ec_ba04_0242ac1c0002row13_col11\" class=\"data row13 col11\" >0.049984</td>\n",
              "                        <td id=\"T_b5b91b88_1ec2_11ec_ba04_0242ac1c0002row13_col12\" class=\"data row13 col12\" >-0.190259</td>\n",
              "                        <td id=\"T_b5b91b88_1ec2_11ec_ba04_0242ac1c0002row13_col13\" class=\"data row13 col13\" >1.000000</td>\n",
              "                        <td id=\"T_b5b91b88_1ec2_11ec_ba04_0242ac1c0002row13_col14\" class=\"data row13 col14\" >0.192835</td>\n",
              "            </tr>\n",
              "            <tr>\n",
              "                        <th id=\"T_b5b91b88_1ec2_11ec_ba04_0242ac1c0002level0_row14\" class=\"row_heading level0 row14\" >dist_to_shoreline</th>\n",
              "                        <td id=\"T_b5b91b88_1ec2_11ec_ba04_0242ac1c0002row14_col0\" class=\"data row14 col0\" >-0.015886</td>\n",
              "                        <td id=\"T_b5b91b88_1ec2_11ec_ba04_0242ac1c0002row14_col1\" class=\"data row14 col1\" >-0.152016</td>\n",
              "                        <td id=\"T_b5b91b88_1ec2_11ec_ba04_0242ac1c0002row14_col2\" class=\"data row14 col2\" >-0.186005</td>\n",
              "                        <td id=\"T_b5b91b88_1ec2_11ec_ba04_0242ac1c0002row14_col3\" class=\"data row14 col3\" >-0.151022</td>\n",
              "                        <td id=\"T_b5b91b88_1ec2_11ec_ba04_0242ac1c0002row14_col4\" class=\"data row14 col4\" >-0.142295</td>\n",
              "                        <td id=\"T_b5b91b88_1ec2_11ec_ba04_0242ac1c0002row14_col5\" class=\"data row14 col5\" >-0.088179</td>\n",
              "                        <td id=\"T_b5b91b88_1ec2_11ec_ba04_0242ac1c0002row14_col6\" class=\"data row14 col6\" >0.230617</td>\n",
              "                        <td id=\"T_b5b91b88_1ec2_11ec_ba04_0242ac1c0002row14_col7\" class=\"data row14 col7\" >-0.164513</td>\n",
              "                        <td id=\"T_b5b91b88_1ec2_11ec_ba04_0242ac1c0002row14_col8\" class=\"data row14 col8\" >0.281731</td>\n",
              "                        <td id=\"T_b5b91b88_1ec2_11ec_ba04_0242ac1c0002row14_col9\" class=\"data row14 col9\" >-0.214850</td>\n",
              "                        <td id=\"T_b5b91b88_1ec2_11ec_ba04_0242ac1c0002row14_col10\" class=\"data row14 col10\" >0.060882</td>\n",
              "                        <td id=\"T_b5b91b88_1ec2_11ec_ba04_0242ac1c0002row14_col11\" class=\"data row14 col11\" >-0.007002</td>\n",
              "                        <td id=\"T_b5b91b88_1ec2_11ec_ba04_0242ac1c0002row14_col12\" class=\"data row14 col12\" >-0.195173</td>\n",
              "                        <td id=\"T_b5b91b88_1ec2_11ec_ba04_0242ac1c0002row14_col13\" class=\"data row14 col13\" >0.192835</td>\n",
              "                        <td id=\"T_b5b91b88_1ec2_11ec_ba04_0242ac1c0002row14_col14\" class=\"data row14 col14\" >1.000000</td>\n",
              "            </tr>\n",
              "    </tbody></table>"
            ],
            "text/plain": [
              "<pandas.io.formats.style.Styler at 0x7f6c3532c750>"
            ]
          },
          "metadata": {},
          "execution_count": 26
        }
      ]
    },
    {
      "cell_type": "code",
      "metadata": {
        "collapsed": true,
        "jupyter": {
          "outputs_hidden": true
        },
        "colab": {
          "base_uri": "https://localhost:8080/",
          "height": 1000
        },
        "id": "d50ixlvzCsr9",
        "outputId": "d6457c13-4967-45d5-ae12-2366c5a0db4d"
      },
      "source": [
        "#checking for outliers\n",
        "num_cols = numerical_cols(Train)\n",
        "for num_col in num_cols[:-1]:\n",
        "    outlier_check(num_col, 'Target', Train)"
      ],
      "execution_count": null,
      "outputs": [
        {
          "output_type": "display_data",
          "data": {
            "image/png": "[encoded data removed]",
            "text/plain": [
              "<Figure size 432x288 with 1 Axes>"
            ]
          },
          "metadata": {
            "needs_background": "light"
          }
        },
        {
          "output_type": "display_data",
          "data": {
            "image/png": "[encoded data removed]",
            "text/plain": [
              "<Figure size 432x288 with 1 Axes>"
            ]
          },
          "metadata": {
            "needs_background": "light"
          }
        },
        {
          "output_type": "display_data",
          "data": {
            "image/png": "[encoded data removed]",
            "text/plain": [
              "<Figure size 432x288 with 1 Axes>"
            ]
          },
          "metadata": {
            "needs_background": "light"
          }
        },
        {
          "output_type": "display_data",
          "data": {
            "image/png": "[encoded data removed]",
            "text/plain": [
              "<Figure size 432x288 with 1 Axes>"
            ]
          },
          "metadata": {
            "needs_background": "light"
          }
        },
        {
          "output_type": "display_data",
          "data": {
            "image/png": "[encoded data removed]",
            "text/plain": [
              "<Figure size 432x288 with 1 Axes>"
            ]
          },
          "metadata": {
            "needs_background": "light"
          }
        },
        {
          "output_type": "display_data",
          "data": {
            "image/png": "[encoded data removed]",
            "text/plain": [
              "<Figure size 432x288 with 1 Axes>"
            ]
          },
          "metadata": {
            "needs_background": "light"
          }
        },
        {
          "output_type": "display_data",
          "data": {
            "image/png": "[encoded data removed]",
            "text/plain": [
              "<Figure size 432x288 with 1 Axes>"
            ]
          },
          "metadata": {
            "needs_background": "light"
          }
        },
        {
          "output_type": "display_data",
          "data": {
            "image/png": "[encoded data removed]",
            "text/plain": [
              "<Figure size 432x288 with 1 Axes>"
            ]
          },
          "metadata": {
            "needs_background": "light"
          }
        },
        {
          "output_type": "display_data",
          "data": {
            "image/png": "[encoded data removed]",
            "text/plain": [
              "<Figure size 432x288 with 1 Axes>"
            ]
          },
          "metadata": {
            "needs_background": "light"
          }
        },
        {
          "output_type": "display_data",
          "data": {
            "image/png": "[encoded data removed]",
            "text/plain": [
              "<Figure size 432x288 with 1 Axes>"
            ]
          },
          "metadata": {
            "needs_background": "light"
          }
        },
        {
          "output_type": "display_data",
          "data": {
            "image/png": "[encoded data removed]",
            "text/plain": [
              "<Figure size 432x288 with 1 Axes>"
            ]
          },
          "metadata": {
            "needs_background": "light"
          }
        },
        {
          "output_type": "display_data",
          "data": {
            "image/png": "[encoded data removed]",
            "text/plain": [
              "<Figure size 432x288 with 1 Axes>"
            ]
          },
          "metadata": {
            "needs_background": "light"
          }
        },
        {
          "output_type": "display_data",
          "data": {
            "image/png": "[encoded data removed]",
            "text/plain": [
              "<Figure size 432x288 with 1 Axes>"
            ]
          },
          "metadata": {
            "needs_background": "light"
          }
        },
        {
          "output_type": "display_data",
          "data": {
            "image/png": "[encoded data removed]",
            "text/plain": [
              "<Figure size 432x288 with 1 Axes>"
            ]
          },
          "metadata": {
            "needs_background": "light"
          }
        },
        {
          "output_type": "display_data",
          "data": {
            "image/png": "[encoded data removed]",
            "text/plain": [
              "<Figure size 432x288 with 1 Axes>"
            ]
          },
          "metadata": {
            "needs_background": "light"
          }
        }
      ]
    },
    {
      "cell_type": "code",
      "metadata": {
        "id": "PIcpV1lQCsr-",
        "outputId": "556a5b1d-0499-4b38-aae4-f8af442d4b04"
      },
      "source": [
        "np.mean(Train['Target']), min(Train['Target']), max(Train['Target'])#(0.35073609036460734, 0.0, 1.0)"
      ],
      "execution_count": null,
      "outputs": [
        {
          "data": {
            "text/plain": [
              "(0.29072538125468683, 0.0, 0.6931471805599453)"
            ]
          },
          "execution_count": 11,
          "metadata": {},
          "output_type": "execute_result"
        }
      ]
    },
    {
      "cell_type": "code",
      "metadata": {
        "id": "DqMaEA0aCsr-"
      },
      "source": [
        ""
      ],
      "execution_count": null,
      "outputs": []
    },
    {
      "cell_type": "markdown",
      "metadata": {
        "id": "546zojGMCsr-"
      },
      "source": [
        "# Atrributes of Data and Observation of EDA\n",
        "- Train data entirely diffrent from test data in terms of atrributes\n",
        "- No missing data\n",
        "- Normalization is neccesary due to the diffrence of figures within features\n",
        "- Data was generated\n",
        "- Cross-validation and addition of data is neccesary\n",
        "- Split method was combined i.e random row wise split and country ID\n",
        "- Data contains representation of more low income folks than high income folks\n",
        "- There are meaningful diffrences between features of low income folks and high income folks so all features should be considered"
      ]
    },
    {
      "cell_type": "markdown",
      "metadata": {
        "id": "EQadHY6TCsr-"
      },
      "source": [
        "- Use all features\n",
        "- Cross validation\n",
        "- Train on both Train and Test data\n"
      ]
    },
    {
      "cell_type": "markdown",
      "metadata": {
        "id": "oGfL-iE2Csr-"
      },
      "source": [
        "## Extract Transform Load (ETL)"
      ]
    },
    {
      "cell_type": "markdown",
      "metadata": {
        "id": "nltyHqchCsr_"
      },
      "source": [
        "- build a baseline model\n",
        "- Analyze data"
      ]
    },
    {
      "cell_type": "code",
      "metadata": {
        "colab": {
          "base_uri": "https://localhost:8080/"
        },
        "id": "Bq7IPs5NCsr_",
        "outputId": "c93924b8-2b2d-4a5e-a956-d5e3898f82ef"
      },
      "source": [
        "!pip install xgboost\n",
        "!pip install lightgbm\n",
        "!pip install scikit-learn==0.23.2"
      ],
      "execution_count": 10,
      "outputs": [
        {
          "output_type": "stream",
          "name": "stdout",
          "text": [
            "Requirement already satisfied: xgboost in /usr/local/lib/python3.7/dist-packages (0.90)\n",
            "Requirement already satisfied: numpy in /usr/local/lib/python3.7/dist-packages (from xgboost) (1.19.5)\n",
            "Requirement already satisfied: scipy in /usr/local/lib/python3.7/dist-packages (from xgboost) (1.4.1)\n",
            "Requirement already satisfied: lightgbm in /usr/local/lib/python3.7/dist-packages (2.2.3)\n",
            "Requirement already satisfied: scipy in /usr/local/lib/python3.7/dist-packages (from lightgbm) (1.4.1)\n",
            "Requirement already satisfied: scikit-learn in /usr/local/lib/python3.7/dist-packages (from lightgbm) (0.22.2.post1)\n",
            "Requirement already satisfied: numpy in /usr/local/lib/python3.7/dist-packages (from lightgbm) (1.19.5)\n",
            "Requirement already satisfied: joblib>=0.11 in /usr/local/lib/python3.7/dist-packages (from scikit-learn->lightgbm) (1.0.1)\n",
            "Collecting scikit-learn==0.23.2\n",
            "  Downloading scikit_learn-0.23.2-cp37-cp37m-manylinux1_x86_64.whl (6.8 MB)\n",
            "\u001b[K     |████████████████████████████████| 6.8 MB 4.9 MB/s \n",
            "\u001b[?25hRequirement already satisfied: scipy>=0.19.1 in /usr/local/lib/python3.7/dist-packages (from scikit-learn==0.23.2) (1.4.1)\n",
            "Collecting threadpoolctl>=2.0.0\n",
            "  Downloading threadpoolctl-2.2.0-py3-none-any.whl (12 kB)\n",
            "Requirement already satisfied: numpy>=1.13.3 in /usr/local/lib/python3.7/dist-packages (from scikit-learn==0.23.2) (1.19.5)\n",
            "Requirement already satisfied: joblib>=0.11 in /usr/local/lib/python3.7/dist-packages (from scikit-learn==0.23.2) (1.0.1)\n",
            "Installing collected packages: threadpoolctl, scikit-learn\n",
            "  Attempting uninstall: scikit-learn\n",
            "    Found existing installation: scikit-learn 0.22.2.post1\n",
            "    Uninstalling scikit-learn-0.22.2.post1:\n",
            "      Successfully uninstalled scikit-learn-0.22.2.post1\n",
            "Successfully installed scikit-learn-0.23.2 threadpoolctl-2.2.0\n"
          ]
        }
      ]
    },
    {
      "cell_type": "code",
      "metadata": {
        "id": "5inc6NaLCsr_"
      },
      "source": [
        "from sklearn.feature_selection import RFECV\n",
        "from sklearn.model_selection import train_test_split\n",
        "from sklearn.preprocessing import OneHotEncoder, LabelEncoder\n",
        "from sklearn.preprocessing import StandardScaler, MinMaxScaler, RobustScaler\n",
        "from sklearn.model_selection import RandomizedSearchCV, GridSearchCV, KFold, cross_val_score\n",
        "from sklearn.ensemble import RandomForestRegressor\n",
        "from sklearn.metrics import mean_squared_error\n",
        "from sklearn.linear_model import ElasticNet, Lasso,  BayesianRidge, SGDRegressor\n",
        "from sklearn.ensemble import RandomForestRegressor,  GradientBoostingRegressor, AdaBoostRegressor\n",
        "from sklearn.kernel_ridge import KernelRidge\n",
        "from sklearn.pipeline import make_pipeline\n",
        "from sklearn.preprocessing import RobustScaler\n",
        "from sklearn.base import BaseEstimator, TransformerMixin, RegressorMixin, clone\n",
        "from sklearn.model_selection import KFold, cross_val_score, train_test_split\n",
        "from sklearn.svm import SVR# should be used for data labels with less than 10000 samples.\n",
        "from xgboost import XGBRegressor#as xgb\n",
        "from lightgbm import LGBMRegressor#as lgb\n",
        "#import statsmodel.api as sm"
      ],
      "execution_count": 11,
      "outputs": []
    },
    {
      "cell_type": "code",
      "metadata": {
        "id": "mRXMlu8pCssA"
      },
      "source": [
        "def convertCatVar(cols, data_):\n",
        "    \"\"\"\n",
        "    This function converts categorical variables to numerical variables\n",
        "    \n",
        "    args: \n",
        "      Takes in list of categorical variables and dataset to transform\n",
        "    \n",
        "    returns:\n",
        "      Return a cat transformed dataset\n",
        "    \"\"\"\n",
        "\n",
        "    lencoder = LabelEncoder()\n",
        "    for col in cols:\n",
        "        data_[col] = lencoder.fit_transform(data_[col].astype(str))"
      ],
      "execution_count": 12,
      "outputs": []
    },
    {
      "cell_type": "code",
      "metadata": {
        "colab": {
          "base_uri": "https://localhost:8080/"
        },
        "id": "oa4fNcSLCssA",
        "outputId": "6d41c714-0779-42b0-89c4-cf35bd1158d6"
      },
      "source": [
        "ntrain = Train.shape[0]\n",
        "ntest = Test.shape[0]\n",
        "ntrain, ntest"
      ],
      "execution_count": 13,
      "outputs": [
        {
          "output_type": "execute_result",
          "data": {
            "text/plain": [
              "(21454, 7194)"
            ]
          },
          "metadata": {},
          "execution_count": 13
        }
      ]
    },
    {
      "cell_type": "code",
      "metadata": {
        "colab": {
          "base_uri": "https://localhost:8080/"
        },
        "id": "zvJcJW7rCssA",
        "outputId": "50ae0b9c-63c6-4d45-ab33-aa5a1b57a36a"
      },
      "source": [
        "y = Train['Target']\n",
        "data = pd.concat((Train, Test)).reset_index(drop=True)\n",
        "data.drop(['Target', 'ID'], axis=1, inplace=True)\n",
        "del Train, Test\n",
        "gc.collect\n",
        "data.shape, y.shape"
      ],
      "execution_count": 14,
      "outputs": [
        {
          "output_type": "execute_result",
          "data": {
            "text/plain": [
              "((28648, 17), (21454,))"
            ]
          },
          "metadata": {},
          "execution_count": 14
        }
      ]
    },
    {
      "cell_type": "code",
      "metadata": {
        "id": "EmjfOJfbMx0y"
      },
      "source": [
        "#adding colums that have similar attributes\n",
        "data['all_ghsl'] = data['ghsl_built_1975_to_1990']+ data['ghsl_built_1990_to_2000']+ data['ghsl_built_2000_to_2014']+ data['ghsl_built_pre_1975']\n",
        "data['all_landcover_fraction'] = data['landcover_crops_fraction']+ data['landcover_urban_fraction']\n",
        "data['all_waters'] = data['landcover_water_permanent_10km_fraction']+ data['landcover_water_seasonal_10km_fraction']"
      ],
      "execution_count": 18,
      "outputs": []
    },
    {
      "cell_type": "code",
      "metadata": {
        "colab": {
          "base_uri": "https://localhost:8080/",
          "height": 217
        },
        "id": "kYpUFIPtCssA",
        "outputId": "cf49c8cf-715e-40fb-d200-32f03f7714d7"
      },
      "source": [
        "data.head()"
      ],
      "execution_count": null,
      "outputs": [
        {
          "output_type": "execute_result",
          "data": {
            "text/html": [
              "<div>\n",
              "<style scoped>\n",
              "    .dataframe tbody tr th:only-of-type {\n",
              "        vertical-align: middle;\n",
              "    }\n",
              "\n",
              "    .dataframe tbody tr th {\n",
              "        vertical-align: top;\n",
              "    }\n",
              "\n",
              "    .dataframe thead th {\n",
              "        text-align: right;\n",
              "    }\n",
              "</style>\n",
              "<table border=\"1\" class=\"dataframe\">\n",
              "  <thead>\n",
              "    <tr style=\"text-align: right;\">\n",
              "      <th></th>\n",
              "      <th>country</th>\n",
              "      <th>year</th>\n",
              "      <th>urban_or_rural</th>\n",
              "      <th>ghsl_water_surface</th>\n",
              "      <th>ghsl_built_pre_1975</th>\n",
              "      <th>ghsl_built_1975_to_1990</th>\n",
              "      <th>ghsl_built_1990_to_2000</th>\n",
              "      <th>ghsl_built_2000_to_2014</th>\n",
              "      <th>ghsl_not_built_up</th>\n",
              "      <th>ghsl_pop_density</th>\n",
              "      <th>landcover_crops_fraction</th>\n",
              "      <th>landcover_urban_fraction</th>\n",
              "      <th>landcover_water_permanent_10km_fraction</th>\n",
              "      <th>landcover_water_seasonal_10km_fraction</th>\n",
              "      <th>nighttime_lights</th>\n",
              "      <th>dist_to_capital</th>\n",
              "      <th>dist_to_shoreline</th>\n",
              "      <th>all_ghsl</th>\n",
              "      <th>all_landcover_fraction</th>\n",
              "      <th>all_waters</th>\n",
              "    </tr>\n",
              "  </thead>\n",
              "  <tbody>\n",
              "    <tr>\n",
              "      <th>0</th>\n",
              "      <td>Ethiopia</td>\n",
              "      <td>2016</td>\n",
              "      <td>R</td>\n",
              "      <td>0.0</td>\n",
              "      <td>0.000000</td>\n",
              "      <td>0.000000</td>\n",
              "      <td>0.000055</td>\n",
              "      <td>0.000536</td>\n",
              "      <td>0.999408</td>\n",
              "      <td>12.146134</td>\n",
              "      <td>25.489659</td>\n",
              "      <td>0.879484</td>\n",
              "      <td>0.000000</td>\n",
              "      <td>0.000000</td>\n",
              "      <td>0.000000</td>\n",
              "      <td>278.788451</td>\n",
              "      <td>769.338378</td>\n",
              "      <td>0.000592</td>\n",
              "      <td>26.369143</td>\n",
              "      <td>0.000000</td>\n",
              "    </tr>\n",
              "    <tr>\n",
              "      <th>1</th>\n",
              "      <td>Ethiopia</td>\n",
              "      <td>2005</td>\n",
              "      <td>R</td>\n",
              "      <td>0.0</td>\n",
              "      <td>0.000000</td>\n",
              "      <td>0.000110</td>\n",
              "      <td>0.000000</td>\n",
              "      <td>0.000018</td>\n",
              "      <td>0.999872</td>\n",
              "      <td>113.806716</td>\n",
              "      <td>64.136053</td>\n",
              "      <td>0.601427</td>\n",
              "      <td>0.000000</td>\n",
              "      <td>0.005427</td>\n",
              "      <td>0.000000</td>\n",
              "      <td>200.986978</td>\n",
              "      <td>337.135243</td>\n",
              "      <td>0.000128</td>\n",
              "      <td>64.737481</td>\n",
              "      <td>0.005427</td>\n",
              "    </tr>\n",
              "    <tr>\n",
              "      <th>2</th>\n",
              "      <td>Mozambique</td>\n",
              "      <td>2009</td>\n",
              "      <td>R</td>\n",
              "      <td>0.0</td>\n",
              "      <td>0.000000</td>\n",
              "      <td>0.000000</td>\n",
              "      <td>0.000000</td>\n",
              "      <td>0.000000</td>\n",
              "      <td>1.000000</td>\n",
              "      <td>0.000000</td>\n",
              "      <td>4.400096</td>\n",
              "      <td>0.131900</td>\n",
              "      <td>0.000000</td>\n",
              "      <td>0.003078</td>\n",
              "      <td>0.000000</td>\n",
              "      <td>642.594208</td>\n",
              "      <td>169.913773</td>\n",
              "      <td>0.000000</td>\n",
              "      <td>4.531996</td>\n",
              "      <td>0.003078</td>\n",
              "    </tr>\n",
              "    <tr>\n",
              "      <th>3</th>\n",
              "      <td>Malawi</td>\n",
              "      <td>2015</td>\n",
              "      <td>R</td>\n",
              "      <td>0.0</td>\n",
              "      <td>0.000141</td>\n",
              "      <td>0.000181</td>\n",
              "      <td>0.000254</td>\n",
              "      <td>0.000228</td>\n",
              "      <td>0.999195</td>\n",
              "      <td>5.213320</td>\n",
              "      <td>25.379371</td>\n",
              "      <td>2.017136</td>\n",
              "      <td>11.293841</td>\n",
              "      <td>0.131035</td>\n",
              "      <td>0.000000</td>\n",
              "      <td>365.349451</td>\n",
              "      <td>613.591610</td>\n",
              "      <td>0.000805</td>\n",
              "      <td>27.396507</td>\n",
              "      <td>11.424876</td>\n",
              "    </tr>\n",
              "    <tr>\n",
              "      <th>4</th>\n",
              "      <td>Guinea</td>\n",
              "      <td>2012</td>\n",
              "      <td>U</td>\n",
              "      <td>0.0</td>\n",
              "      <td>0.011649</td>\n",
              "      <td>0.017560</td>\n",
              "      <td>0.017383</td>\n",
              "      <td>0.099875</td>\n",
              "      <td>0.853533</td>\n",
              "      <td>31.734661</td>\n",
              "      <td>5.081620</td>\n",
              "      <td>22.815984</td>\n",
              "      <td>0.005047</td>\n",
              "      <td>0.130475</td>\n",
              "      <td>1.461894</td>\n",
              "      <td>222.867189</td>\n",
              "      <td>192.926363</td>\n",
              "      <td>0.146467</td>\n",
              "      <td>27.897604</td>\n",
              "      <td>0.135523</td>\n",
              "    </tr>\n",
              "  </tbody>\n",
              "</table>\n",
              "</div>"
            ],
            "text/plain": [
              "      country  year urban_or_rural  ghsl_water_surface  ghsl_built_pre_1975  \\\n",
              "0    Ethiopia  2016              R                 0.0             0.000000   \n",
              "1    Ethiopia  2005              R                 0.0             0.000000   \n",
              "2  Mozambique  2009              R                 0.0             0.000000   \n",
              "3      Malawi  2015              R                 0.0             0.000141   \n",
              "4      Guinea  2012              U                 0.0             0.011649   \n",
              "\n",
              "   ghsl_built_1975_to_1990  ghsl_built_1990_to_2000  ghsl_built_2000_to_2014  \\\n",
              "0                 0.000000                 0.000055                 0.000536   \n",
              "1                 0.000110                 0.000000                 0.000018   \n",
              "2                 0.000000                 0.000000                 0.000000   \n",
              "3                 0.000181                 0.000254                 0.000228   \n",
              "4                 0.017560                 0.017383                 0.099875   \n",
              "\n",
              "   ghsl_not_built_up  ghsl_pop_density  landcover_crops_fraction  \\\n",
              "0           0.999408         12.146134                 25.489659   \n",
              "1           0.999872        113.806716                 64.136053   \n",
              "2           1.000000          0.000000                  4.400096   \n",
              "3           0.999195          5.213320                 25.379371   \n",
              "4           0.853533         31.734661                  5.081620   \n",
              "\n",
              "   landcover_urban_fraction  landcover_water_permanent_10km_fraction  \\\n",
              "0                  0.879484                                 0.000000   \n",
              "1                  0.601427                                 0.000000   \n",
              "2                  0.131900                                 0.000000   \n",
              "3                  2.017136                                11.293841   \n",
              "4                 22.815984                                 0.005047   \n",
              "\n",
              "   landcover_water_seasonal_10km_fraction  nighttime_lights  dist_to_capital  \\\n",
              "0                                0.000000          0.000000       278.788451   \n",
              "1                                0.005427          0.000000       200.986978   \n",
              "2                                0.003078          0.000000       642.594208   \n",
              "3                                0.131035          0.000000       365.349451   \n",
              "4                                0.130475          1.461894       222.867189   \n",
              "\n",
              "   dist_to_shoreline  all_ghsl  all_landcover_fraction  all_waters  \n",
              "0         769.338378  0.000592               26.369143    0.000000  \n",
              "1         337.135243  0.000128               64.737481    0.005427  \n",
              "2         169.913773  0.000000                4.531996    0.003078  \n",
              "3         613.591610  0.000805               27.396507   11.424876  \n",
              "4         192.926363  0.146467               27.897604    0.135523  "
            ]
          },
          "metadata": {},
          "execution_count": 16
        }
      ]
    },
    {
      "cell_type": "code",
      "metadata": {
        "id": "n4211XsqCssA"
      },
      "source": [
        "#convert categorical var\n",
        "cat_cols = categorical_columns(data)\n",
        "convertCatVar(cat_cols, data)"
      ],
      "execution_count": 19,
      "outputs": []
    },
    {
      "cell_type": "code",
      "metadata": {
        "id": "dKPlOMXdCssB"
      },
      "source": [
        "def splitData(trainset, testset, size):\n",
        "    x_train, x_val, y_train, y_val = train_test_split(trainset, testset, test_size = size, random_state=2021)\n",
        "    return x_train, x_val, y_train, y_val"
      ],
      "execution_count": null,
      "outputs": []
    },
    {
      "cell_type": "code",
      "metadata": {
        "collapsed": true,
        "jupyter": {
          "outputs_hidden": true
        },
        "id": "Ne26b6T_CssB"
      },
      "source": [
        "pandas_profiling.ProfileReport(data)"
      ],
      "execution_count": null,
      "outputs": []
    },
    {
      "cell_type": "code",
      "metadata": {
        "id": "shv8d9q5CssB"
      },
      "source": [
        "print(model.pvalues)"
      ],
      "execution_count": null,
      "outputs": []
    },
    {
      "cell_type": "markdown",
      "metadata": {
        "id": "330xj9IWCssB"
      },
      "source": [
        "### Using Grid search with various models and stacking"
      ]
    },
    {
      "cell_type": "markdown",
      "metadata": {
        "id": "T4hTetAuCssB"
      },
      "source": [
        "### Own CV"
      ]
    },
    {
      "cell_type": "code",
      "metadata": {
        "id": "IqpbzJq7CssC"
      },
      "source": [
        "ctrain = data[:ntrain] #cleanedtrain\n",
        "ctest = data[ntrain:]\n",
        "SEED = 42\n",
        "NFOLDS = 5\n",
        "kf = KFold(n_splits=NFOLDS)\n",
        "#kf.get_n_splits(ctrain)\n",
        "#gkf = kf.split(ctrain)"
      ],
      "execution_count": 20,
      "outputs": []
    },
    {
      "cell_type": "code",
      "metadata": {
        "colab": {
          "base_uri": "https://localhost:8080/"
        },
        "id": "I6bWWLkdCssC",
        "outputId": "1ac3f371-be76-4f47-e4ad-67daa3138808"
      },
      "source": [
        "#splitting data for grid search\n",
        "#THIS LINE SHOULD ONLY BE EXECUTED ONCE SINCE YOU ONLY NEED THE VALUES FOR THE PARAMETERS\n",
        "gsx_train, gsx_test, gsy_train, gsy_test = splitData(ctrain, y, 0.3)\n",
        "gsx_train.shape, gsy_train.shape, gsx_test.shape, gsy_test.shape"
      ],
      "execution_count": null,
      "outputs": [
        {
          "output_type": "execute_result",
          "data": {
            "text/plain": [
              "((15017, 20), (15017,), (6437, 20), (6437,))"
            ]
          },
          "metadata": {},
          "execution_count": 21
        }
      ]
    },
    {
      "cell_type": "code",
      "metadata": {
        "collapsed": true,
        "jupyter": {
          "outputs_hidden": true
        },
        "id": "-vD3jnRoCssC"
      },
      "source": [
        "# lasso\n",
        "tuned_parameters = [{'max_iter':[300, 500, 800, 1000], \n",
        "                     \"alpha\":[0.0005], \"selection\":['random','cyclic'],\n",
        "                    \"tol\":[1e-4, 1e-2, 1e-8]}]\n",
        "MSE_lasso = ['mean_squared_error(gsy_test,gsy_pred2)']\n",
        "for value in MSE_lasso:\n",
        "    lregr = GridSearchCV(Lasso(), tuned_parameters, cv=5)\n",
        "    lregr.fit(gsx_train, gsy_train)\n",
        "    gsy_true, gsy_pred2 = gsy_test, lregr.predict(gsx_test)\n",
        "\n",
        "print(\"The best hyper-parameters for Lasso are: \", lregr.best_params_)"
      ],
      "execution_count": null,
      "outputs": []
    },
    {
      "cell_type": "code",
      "metadata": {
        "collapsed": true,
        "jupyter": {
          "outputs_hidden": true
        },
        "id": "XZOCr549CssC"
      },
      "source": [
        "# elasticnet\n",
        "tuned_parameter = [{'max_iter':[300, 500, 900, 1000], 'l1_ration':[0,0.5,0.9,1]}]\n",
        "MSE_ENet = ['mean_squared_error(y_test,y_pred3)']\n",
        "for value in MSE_ENet:\n",
        "    enregr = GridSearchCV(ElasticNet(), tuned_parameters, cv=5)\n",
        "    enregr.fit(gsx_train, gsy_train)\n",
        "    gsy_true, gsy_pred3 = gsy_test, enregr.predict(gsx_test)\n",
        "\n",
        "print(\"The best hyper-parametes for ENet are: \", enregr.best_params_)"
      ],
      "execution_count": null,
      "outputs": []
    },
    {
      "cell_type": "code",
      "metadata": {
        "id": "g5brQzU3CssD"
      },
      "source": [
        "# SDG\n",
        "tuned_parameters = [{'max_iter':[300, 500, 900, 1000, 1300], 'l1_ratio':[0.5,0.9,1], 'tol':[1e-1, 1e-3, 1e-5]}]\n",
        "MSE_SDG = ['mean_squared_error(gsy_test,gsy_pred4)']\n",
        "for value in MSE_SDG:\n",
        "    enrsdg = GridSearchCV(SGDRegressor(), tuned_parameters, cv=5)\n",
        "    enrsdg.fit(gsx_train, gsy_train)\n",
        "    gsy_true, gsy_pred4 = gsy_test, enrsdg.predict(gsx_test)\n",
        "\n",
        "print(\"The best hyper-parametes for SDG are: \", enrsdg.best_params_)"
      ],
      "execution_count": null,
      "outputs": []
    },
    {
      "cell_type": "code",
      "metadata": {
        "id": "rQYNgWJQCssD"
      },
      "source": [
        ""
      ],
      "execution_count": null,
      "outputs": []
    },
    {
      "cell_type": "code",
      "metadata": {
        "id": "4EV5J-a3CssD"
      },
      "source": [
        "class ModelTrainer(object):\n",
        "    \"\"\"\n",
        "        This class helps to train diffrent models\n",
        "    \"\"\"\n",
        "    def __init__(self, clf, seed=42, params=None):\n",
        "        params['random_state'] = seed\n",
        "        self.clf = clf(**params)\n",
        "        \n",
        "    def train(self, x_train, y_train):\n",
        "        self.clf.fit(x_train, y_train)\n",
        "        \n",
        "    def predict(self, x):\n",
        "        return self.clf.predict(x)\n",
        "    \n",
        "    def fit(self, x, y):\n",
        "        return self.clf.fit(x, y)\n",
        "    \n",
        "    def feature_importance(self, x, y):\n",
        "        print(self.clf.fit(x,y).feature_importances_)"
      ],
      "execution_count": null,
      "outputs": []
    },
    {
      "cell_type": "code",
      "metadata": {
        "id": "OlAkw2z5CssD"
      },
      "source": [
        "#OOF Predictions\n",
        "def get_oof(clf, x_train, y_train, x_test):\n",
        "    oof_train = np.zeros((ntrain,))\n",
        "    oof_test = np.zeros((ntest,))\n",
        "    #split kfolds (SKF)\n",
        "    oof_test_skf = np.empty((NFOLDS, ntest))\n",
        "    \n",
        "    for i, (train_index, test_index) in enumerate(kf.split(ctrain)):\n",
        "        x_tr = x_train[train_index]\n",
        "        y_tr = y_train[train_index]\n",
        "        x_te = x_train[test_index]\n",
        "        \n",
        "        clf.train(x_tr, y_tr)\n",
        "        oof_train[test_index] = clf.predict(x_te)\n",
        "        oof_test_skf[i, :] = clf.predict(x_test)\n",
        "        \n",
        "    oof_test[:] = oof_test_skf.mean(axis=0)\n",
        "    return oof_train.reshape(-1, 1), oof_test.reshape(-1, 1)"
      ],
      "execution_count": null,
      "outputs": []
    },
    {
      "cell_type": "code",
      "metadata": {
        "id": "MfNJjs1FCssD"
      },
      "source": [
        ""
      ],
      "execution_count": null,
      "outputs": []
    },
    {
      "cell_type": "code",
      "metadata": {
        "id": "Mipzkc7gCssD"
      },
      "source": [
        "#Models Parameters\n",
        "#Lasso parameters\n",
        "ls_params = {\n",
        "    'alpha':0.0005,\n",
        "    'max_iter':800,\n",
        "    'selection':'random',\n",
        "    'tol':0.01,\n",
        "    'random_state':42\n",
        "}\n",
        "\n",
        "enet_params = {\n",
        "    'alpha':0.0005,\n",
        "    'selection':'random',\n",
        "    'max_iter':500,\n",
        "    'l1_ratio':.9,\n",
        "    'tol':0.01,\n",
        "    'random_state':42\n",
        "}\n",
        "\n",
        "krr_params = {\n",
        "    'alpha':.6,\n",
        "    'kernel':'polynomial',\n",
        "    'degree':2,\n",
        "    'coef0':2.5\n",
        "}\n",
        "\n",
        "sgd_params = {\n",
        "    'l1_ratio': 0.5,\n",
        "    'max_iter': 500,\n",
        "    'tol': 0.1\n",
        "}\n",
        "\n",
        "gbr_params = {\n",
        "    'n_estimators':3000,\n",
        "    'learning_rate':0.05,\n",
        "    'max_depth':4,\n",
        "    'max_features':'sqrt',\n",
        "    'min_samples_leaf':15,\n",
        "    'min_samples_split':10,\n",
        "    'loss':'huber',\n",
        "    'random_state':42\n",
        "}\n",
        "\n",
        "xgb_params = {\n",
        "    'colsample_bytree':0.4603,\n",
        "    'gamma':0.0468,\n",
        "    'learning_rate':0.05,\n",
        "    'max_depth':3,\n",
        "    'min_child_weight':1.7817,\n",
        "    'n_estimators':2200,\n",
        "    'reg_alpha':0.4640,\n",
        "    'reg_lambda':0.8571,\n",
        "    'subsample':0.5213,\n",
        "    'silent':1,\n",
        "    'random_state':42,\n",
        "    'nthread':-1\n",
        "}\n",
        "\n",
        "lgb_params = {\n",
        "    'objective':'regression',\n",
        "    'boosting_type':'gbdt',\n",
        "    'metric':'rmse',\n",
        "    'num_leaves':150,\n",
        "    'learning_rate':0.05,\n",
        "    'n_estimators':1520,\n",
        "    'max_bin':95,\n",
        "    'min_data_in_leaf':30,\n",
        "    'num_iterations':1510,\n",
        "    'max_depth':4\n",
        "}\n",
        "\n",
        "ada_params = {\n",
        "    'n_estimators':1000,\n",
        "    'learning_rate':0.06,\n",
        "    #'base_estimator':'svr_',\n",
        "    'random_state':42\n",
        "}"
      ],
      "execution_count": null,
      "outputs": []
    },
    {
      "cell_type": "code",
      "metadata": {
        "id": "beDvLDQaCssE"
      },
      "source": [
        "#base model for adaboost\n",
        "svr_ = SVR(kernel='linear')\n",
        "\n",
        "#create objects to represent models\n",
        "ls = ModelTrainer(clf= Lasso, seed=SEED, params=ls_params)\n",
        "enet = ModelTrainer(clf= ElasticNet, seed=SEED, params=enet_params) \n",
        "#krr = ModelTrainer(clf= KernelRidge, params=krr_params)\n",
        "sgd = ModelTrainer(clf= SGDRegressor, seed=SEED, params=sgd_params)\n",
        "gbr = ModelTrainer(clf= GradientBoostingRegressor, seed=SEED, params=gbr_params)\n",
        "xgb = ModelTrainer(clf= XGBRegressor, seed=SEED, params=xgb_params)\n",
        "lgb = ModelTrainer(clf= LGBMRegressor, seed=SEED, params=lgb_params)\n",
        "ada = ModelTrainer(clf= AdaBoostRegressor, seed=SEED, params=ada_params)"
      ],
      "execution_count": null,
      "outputs": []
    },
    {
      "cell_type": "code",
      "metadata": {
        "id": "iM6Hxe5VCssE"
      },
      "source": [
        "#creating numpy array of train, test, target of our df\n",
        "y_train = y.ravel()\n",
        "x_train = ctrain.values #Creates an array of the train data\n",
        "x_test = ctest.values #Creates an array of the test data"
      ],
      "execution_count": null,
      "outputs": []
    },
    {
      "cell_type": "code",
      "metadata": {
        "id": "bK8C-oYGCssE"
      },
      "source": [
        ""
      ],
      "execution_count": null,
      "outputs": []
    },
    {
      "cell_type": "code",
      "metadata": {
        "id": "xcrxo_uuCssE",
        "colab": {
          "base_uri": "https://localhost:8080/"
        },
        "outputId": "8ce17d7d-b66a-447a-d1a3-35e8e1b489cd"
      },
      "source": [
        "#Crreating OOF train and prediction sets\n",
        "print(\"{} training has began.... \\n.......\".format('Lasso'))\n",
        "ls_oof_train, ls_oof_test = get_oof(ls, x_train, y_train, x_test) #ls\n",
        "print(\"{} training has ended \\n\".format(\"Lasso\"))\n",
        "print(\"{} training has began.... \\n.......\".format('ElasticNet'))\n",
        "enet_oof_train, enet_oof_test = get_oof(enet, x_train, y_train, x_test) #ene_\n",
        "print(\"{} training has ended \\n\".format(\"ElasticNet\"))\n",
        "print(\"{} training has began.... \\n.......\".format('KernelRidge'))\n",
        "#krr_oof_train, krr_oof_test = get_oof(krr, x_train, y_train, x_test) #krr\n",
        "print(\"{} training has ended \\n\".format(\"KernelRidge\"))\n",
        "print(\"{} training has began.... \\n.......\".format('SVM'))\n",
        "sgd_oof_train, sgd_oof_test = get_oof(sgd, x_train, y_train, x_test) #svr\n",
        "print(\"{} training has ended \\n\".format(\"SVM\"))\n",
        "print(\"{} training has began.... \\n.......\".format('Gradient Boost'))\n",
        "gbr_oof_train, gbr_oof_test = get_oof(gbr, x_train, y_train, x_test) #gbr\n",
        "print(\"{} training has ended \\n\".format(\"Gradient Boost\"))\n",
        "print(\"{} training has began.... \\n.......\".format('XGBoost'))\n",
        "xgb_oof_train, xgb_oof_test = get_oof(xgb, x_train, y_train, x_test) #xgb\n",
        "print(\"{} training has ended \\n\".format(\"XGBoost\"))\n",
        "print(\"{} training has began.... \\n.......\".format('LightGBM'))\n",
        "lgb_oof_train, lgb_oof_test = get_oof(lgb, x_train, y_train, x_test) #lgb\n",
        "print(\"{} training has ended \\n\".format(\"LightGBM\"))\n",
        "print(\"{} training has began.... \\n.......\".format('Ada Boost'))\n",
        "ada_oof_train, ada_oof_test = get_oof(ada, x_train, y_train, x_test) #ada\n",
        "print(\"{} training has ended \\n\".format(\"Ada Boost\"))\n",
        "print(\"Training is complete!!\")"
      ],
      "execution_count": null,
      "outputs": [
        {
          "output_type": "stream",
          "name": "stdout",
          "text": [
            "Lasso training has began. \n",
            ".......\n",
            "Lasso training has ended \n",
            "\n",
            "ElasticNet training has began. \n",
            ".......\n",
            "ElasticNet training has ended \n",
            "\n",
            "KernelRidge training has began \n",
            ".......\n",
            "KernelRidge training has ended \n",
            "\n",
            "SVM training has began \n",
            ".......\n",
            "SVM training has ended \n",
            "\n",
            "Gradient Boost training has began \n",
            ".......\n",
            "Gradient Boost training has ended \n",
            "\n",
            "XGBoost training has began \n",
            ".......\n",
            "XGBoost training has ended \n",
            "\n",
            "LightGBM training has began \n",
            ".......\n",
            "LightGBM training has ended \n",
            "\n",
            "Ada Boost training has began \n",
            ".......\n",
            "Ada Boost training has ended \n",
            "\n",
            "Training is complete!!\n"
          ]
        }
      ]
    },
    {
      "cell_type": "code",
      "metadata": {
        "id": "IrT7qxUwCssF",
        "colab": {
          "base_uri": "https://localhost:8080/"
        },
        "outputId": "530ed488-6f77-4f6e-de0f-c09a9e7bd4d1"
      },
      "source": [
        "#Getting feature importance for each boosting models\n",
        "gbr_features = gbr.feature_importance(x_train, y_train)\n",
        "xgb_features = xgb.feature_importance(x_train, y_train)\n",
        "lgb_features = lgb.feature_importance(x_train, y_train)\n",
        "ada_features = ada.feature_importance(x_train, y_train)"
      ],
      "execution_count": null,
      "outputs": [
        {
          "output_type": "stream",
          "name": "stdout",
          "text": [
            "[0.04616647 0.05998477 0.08814578 0.00243608 0.06955574 0.06513715\n",
            " 0.00930669 0.00698521 0.01365947 0.0525698  0.01364184 0.06374555\n",
            " 0.003955   0.00552016 0.29106741 0.02409937 0.03706923 0.12958179\n",
            " 0.01273976 0.00463272]\n",
            "[0.02223312 0.02948013 0.5318522  0.00520271 0.00553551 0.01673702\n",
            " 0.00755122 0.00540483 0.01397084 0.044125   0.00690486 0.04705381\n",
            " 0.00462503 0.00489731 0.1857271  0.01046443 0.01879407 0.02569275\n",
            " 0.0092165  0.00453159]\n",
            "[1595 1377  289  594  900  797 1014  960  631 1067 1338 1186  660  852\n",
            " 1397 1435 1586  494 1029  554]\n",
            "[0.06274081 0.09645494 0.11384644 0.         0.00443843 0.04992147\n",
            " 0.0046432  0.00218069 0.004314   0.00766167 0.01980045 0.07406787\n",
            " 0.00730558 0.00703573 0.3869347  0.08773783 0.03903585 0.00168565\n",
            " 0.02802174 0.00217294]\n"
          ]
        }
      ]
    },
    {
      "cell_type": "code",
      "metadata": {
        "collapsed": true,
        "jupyter": {
          "outputs_hidden": true
        },
        "id": "hhX19plQCssF",
        "colab": {
          "base_uri": "https://localhost:8080/",
          "height": 674
        },
        "outputId": "d6f263dd-6179-48da-b3f4-a0ee06c7c3d9"
      },
      "source": [
        "(pd.Series(gbr.feature_importance(x_train, y_train), index=ctrain.columns)\n",
        "   .nlargest(4)\n",
        "   .plot(kind='barh').invert_yaxis())"
      ],
      "execution_count": null,
      "outputs": [
        {
          "output_type": "stream",
          "name": "stdout",
          "text": [
            "[0.04616647 0.05998477 0.08814578 0.00243608 0.06955574 0.06513715\n",
            " 0.00930669 0.00698521 0.01365947 0.0525698  0.01364184 0.06374555\n",
            " 0.003955   0.00552016 0.29106741 0.02409937 0.03706923 0.12958179\n",
            " 0.01273976 0.00463272]\n"
          ]
        },
        {
          "output_type": "error",
          "ename": "IndexError",
          "evalue": "ignored",
          "traceback": [
            "\u001b[0;31m---------------------------------------------------------------------------\u001b[0m",
            "\u001b[0;31mIndexError\u001b[0m                                Traceback (most recent call last)",
            "\u001b[0;32m<ipython-input-31-77572c678c28>\u001b[0m in \u001b[0;36m<module>\u001b[0;34m()\u001b[0m\n\u001b[1;32m      1\u001b[0m (pd.Series(gbr.feature_importance(x_train, y_train), index=ctrain.columns)\n\u001b[1;32m      2\u001b[0m    \u001b[0;34m.\u001b[0m\u001b[0mnlargest\u001b[0m\u001b[0;34m(\u001b[0m\u001b[0;36m4\u001b[0m\u001b[0;34m)\u001b[0m\u001b[0;34m\u001b[0m\u001b[0;34m\u001b[0m\u001b[0m\n\u001b[0;32m----> 3\u001b[0;31m    .plot(kind='barh').invert_yaxis())\n\u001b[0m",
            "\u001b[0;32m/usr/local/lib/python3.7/dist-packages/pandas/plotting/_core.py\u001b[0m in \u001b[0;36m__call__\u001b[0;34m(self, *args, **kwargs)\u001b[0m\n\u001b[1;32m    947\u001b[0m                     \u001b[0mdata\u001b[0m\u001b[0;34m.\u001b[0m\u001b[0mcolumns\u001b[0m \u001b[0;34m=\u001b[0m \u001b[0mlabel_name\u001b[0m\u001b[0;34m\u001b[0m\u001b[0;34m\u001b[0m\u001b[0m\n\u001b[1;32m    948\u001b[0m \u001b[0;34m\u001b[0m\u001b[0m\n\u001b[0;32m--> 949\u001b[0;31m         \u001b[0;32mreturn\u001b[0m \u001b[0mplot_backend\u001b[0m\u001b[0;34m.\u001b[0m\u001b[0mplot\u001b[0m\u001b[0;34m(\u001b[0m\u001b[0mdata\u001b[0m\u001b[0;34m,\u001b[0m \u001b[0mkind\u001b[0m\u001b[0;34m=\u001b[0m\u001b[0mkind\u001b[0m\u001b[0;34m,\u001b[0m \u001b[0;34m**\u001b[0m\u001b[0mkwargs\u001b[0m\u001b[0;34m)\u001b[0m\u001b[0;34m\u001b[0m\u001b[0;34m\u001b[0m\u001b[0m\n\u001b[0m\u001b[1;32m    950\u001b[0m \u001b[0;34m\u001b[0m\u001b[0m\n\u001b[1;32m    951\u001b[0m     \u001b[0m__call__\u001b[0m\u001b[0;34m.\u001b[0m\u001b[0m__doc__\u001b[0m \u001b[0;34m=\u001b[0m \u001b[0m__doc__\u001b[0m\u001b[0;34m\u001b[0m\u001b[0;34m\u001b[0m\u001b[0m\n",
            "\u001b[0;32m/usr/local/lib/python3.7/dist-packages/pandas/plotting/_matplotlib/__init__.py\u001b[0m in \u001b[0;36mplot\u001b[0;34m(data, kind, **kwargs)\u001b[0m\n\u001b[1;32m     59\u001b[0m             \u001b[0mkwargs\u001b[0m\u001b[0;34m[\u001b[0m\u001b[0;34m\"ax\"\u001b[0m\u001b[0;34m]\u001b[0m \u001b[0;34m=\u001b[0m \u001b[0mgetattr\u001b[0m\u001b[0;34m(\u001b[0m\u001b[0max\u001b[0m\u001b[0;34m,\u001b[0m \u001b[0;34m\"left_ax\"\u001b[0m\u001b[0;34m,\u001b[0m \u001b[0max\u001b[0m\u001b[0;34m)\u001b[0m\u001b[0;34m\u001b[0m\u001b[0;34m\u001b[0m\u001b[0m\n\u001b[1;32m     60\u001b[0m     \u001b[0mplot_obj\u001b[0m \u001b[0;34m=\u001b[0m \u001b[0mPLOT_CLASSES\u001b[0m\u001b[0;34m[\u001b[0m\u001b[0mkind\u001b[0m\u001b[0;34m]\u001b[0m\u001b[0;34m(\u001b[0m\u001b[0mdata\u001b[0m\u001b[0;34m,\u001b[0m \u001b[0;34m**\u001b[0m\u001b[0mkwargs\u001b[0m\u001b[0;34m)\u001b[0m\u001b[0;34m\u001b[0m\u001b[0;34m\u001b[0m\u001b[0m\n\u001b[0;32m---> 61\u001b[0;31m     \u001b[0mplot_obj\u001b[0m\u001b[0;34m.\u001b[0m\u001b[0mgenerate\u001b[0m\u001b[0;34m(\u001b[0m\u001b[0;34m)\u001b[0m\u001b[0;34m\u001b[0m\u001b[0;34m\u001b[0m\u001b[0m\n\u001b[0m\u001b[1;32m     62\u001b[0m     \u001b[0mplot_obj\u001b[0m\u001b[0;34m.\u001b[0m\u001b[0mdraw\u001b[0m\u001b[0;34m(\u001b[0m\u001b[0;34m)\u001b[0m\u001b[0;34m\u001b[0m\u001b[0;34m\u001b[0m\u001b[0m\n\u001b[1;32m     63\u001b[0m     \u001b[0;32mreturn\u001b[0m \u001b[0mplot_obj\u001b[0m\u001b[0;34m.\u001b[0m\u001b[0mresult\u001b[0m\u001b[0;34m\u001b[0m\u001b[0;34m\u001b[0m\u001b[0m\n",
            "\u001b[0;32m/usr/local/lib/python3.7/dist-packages/pandas/plotting/_matplotlib/core.py\u001b[0m in \u001b[0;36mgenerate\u001b[0;34m(self)\u001b[0m\n\u001b[1;32m    276\u001b[0m         \u001b[0;32mfor\u001b[0m \u001b[0max\u001b[0m \u001b[0;32min\u001b[0m \u001b[0mself\u001b[0m\u001b[0;34m.\u001b[0m\u001b[0maxes\u001b[0m\u001b[0;34m:\u001b[0m\u001b[0;34m\u001b[0m\u001b[0;34m\u001b[0m\u001b[0m\n\u001b[1;32m    277\u001b[0m             \u001b[0mself\u001b[0m\u001b[0;34m.\u001b[0m\u001b[0m_post_plot_logic_common\u001b[0m\u001b[0;34m(\u001b[0m\u001b[0max\u001b[0m\u001b[0;34m,\u001b[0m \u001b[0mself\u001b[0m\u001b[0;34m.\u001b[0m\u001b[0mdata\u001b[0m\u001b[0;34m)\u001b[0m\u001b[0;34m\u001b[0m\u001b[0;34m\u001b[0m\u001b[0m\n\u001b[0;32m--> 278\u001b[0;31m             \u001b[0mself\u001b[0m\u001b[0;34m.\u001b[0m\u001b[0m_post_plot_logic\u001b[0m\u001b[0;34m(\u001b[0m\u001b[0max\u001b[0m\u001b[0;34m,\u001b[0m \u001b[0mself\u001b[0m\u001b[0;34m.\u001b[0m\u001b[0mdata\u001b[0m\u001b[0;34m)\u001b[0m\u001b[0;34m\u001b[0m\u001b[0;34m\u001b[0m\u001b[0m\n\u001b[0m\u001b[1;32m    279\u001b[0m \u001b[0;34m\u001b[0m\u001b[0m\n\u001b[1;32m    280\u001b[0m     \u001b[0;32mdef\u001b[0m \u001b[0m_args_adjust\u001b[0m\u001b[0;34m(\u001b[0m\u001b[0mself\u001b[0m\u001b[0;34m)\u001b[0m\u001b[0;34m:\u001b[0m\u001b[0;34m\u001b[0m\u001b[0;34m\u001b[0m\u001b[0m\n",
            "\u001b[0;32m/usr/local/lib/python3.7/dist-packages/pandas/plotting/_matplotlib/core.py\u001b[0m in \u001b[0;36m_post_plot_logic\u001b[0;34m(self, ax, data)\u001b[0m\n\u001b[1;32m   1459\u001b[0m         \u001b[0mname\u001b[0m \u001b[0;34m=\u001b[0m \u001b[0mself\u001b[0m\u001b[0;34m.\u001b[0m\u001b[0m_get_index_name\u001b[0m\u001b[0;34m(\u001b[0m\u001b[0;34m)\u001b[0m\u001b[0;34m\u001b[0m\u001b[0;34m\u001b[0m\u001b[0m\n\u001b[1;32m   1460\u001b[0m \u001b[0;34m\u001b[0m\u001b[0m\n\u001b[0;32m-> 1461\u001b[0;31m         \u001b[0ms_edge\u001b[0m \u001b[0;34m=\u001b[0m \u001b[0mself\u001b[0m\u001b[0;34m.\u001b[0m\u001b[0max_pos\u001b[0m\u001b[0;34m[\u001b[0m\u001b[0;36m0\u001b[0m\u001b[0;34m]\u001b[0m \u001b[0;34m-\u001b[0m \u001b[0;36m0.25\u001b[0m \u001b[0;34m+\u001b[0m \u001b[0mself\u001b[0m\u001b[0;34m.\u001b[0m\u001b[0mlim_offset\u001b[0m\u001b[0;34m\u001b[0m\u001b[0;34m\u001b[0m\u001b[0m\n\u001b[0m\u001b[1;32m   1462\u001b[0m         \u001b[0me_edge\u001b[0m \u001b[0;34m=\u001b[0m \u001b[0mself\u001b[0m\u001b[0;34m.\u001b[0m\u001b[0max_pos\u001b[0m\u001b[0;34m[\u001b[0m\u001b[0;34m-\u001b[0m\u001b[0;36m1\u001b[0m\u001b[0;34m]\u001b[0m \u001b[0;34m+\u001b[0m \u001b[0;36m0.25\u001b[0m \u001b[0;34m+\u001b[0m \u001b[0mself\u001b[0m\u001b[0;34m.\u001b[0m\u001b[0mbar_width\u001b[0m \u001b[0;34m+\u001b[0m \u001b[0mself\u001b[0m\u001b[0;34m.\u001b[0m\u001b[0mlim_offset\u001b[0m\u001b[0;34m\u001b[0m\u001b[0;34m\u001b[0m\u001b[0m\n\u001b[1;32m   1463\u001b[0m \u001b[0;34m\u001b[0m\u001b[0m\n",
            "\u001b[0;31mIndexError\u001b[0m: index 0 is out of bounds for axis 0 with size 0"
          ]
        },
        {
          "output_type": "display_data",
          "data": {
            "image/png": "[encoded data removed]",
            "text/plain": [
              "<Figure size 432x288 with 1 Axes>"
            ]
          },
          "metadata": {
            "needs_background": "light"
          }
        }
      ]
    },
    {
      "cell_type": "code",
      "metadata": {
        "id": "HOlQtNvJCssF"
      },
      "source": [
        "gbr_features=[0.05158923, 0.05996943, 0.10435466, 0.00279059, 0.04662176, 0.11849202, \n",
        "              0.01515657, 0.00907154, 0.05389675, 0.0962652,  0.01645272, 0.09794197,\n",
        "              0.00551636, 0.00658199, 0.25559438, 0.02497005, 0.03473477]\n",
        "xgb_features=[0.02272162, 0.03546064, 0.5183776,  0.0050887,  0.00980836, 0.01802973,\n",
        "              0.00596736, 0.00674314, 0.00739339, 0.02504866, 0.00776571, 0.12762952,\n",
        "              0.00537983, 0.00539455, 0.17076913, 0.01097729, 0.01744475,]\n",
        "lgb_features=[314, 507, 76, 81, 71, 243, 73, 143, 81, 235, 100, 219, 84, 173, 104, 145, 231]\n",
        "ada_features=[5.78150581e-02, 9.20212133e-02, 1.15102371e-01, 1.68972837e-04,\n",
        "              3.95986092e-03, 5.07882596e-02, 5.25823088e-03, 7.62954666e-04,\n",
        "              2.80371621e-03, 8.26046228e-03, 2.51995708e-02, 8.14236844e-02,\n",
        "              1.00984385e-02, 7.35377402e-03, 4.10561750e-01, 9.17879569e-02,\n",
        "              3.66337255e-02]"
      ],
      "execution_count": null,
      "outputs": []
    },
    {
      "cell_type": "code",
      "metadata": {
        "id": "DS7J2o2pCssF"
      },
      "source": [
        ""
      ],
      "execution_count": null,
      "outputs": []
    },
    {
      "cell_type": "code",
      "metadata": {
        "id": "Gx6Js63UCssF"
      },
      "source": [
        ""
      ],
      "execution_count": null,
      "outputs": []
    },
    {
      "cell_type": "code",
      "metadata": {
        "id": "aXRxwjooCssF",
        "colab": {
          "base_uri": "https://localhost:8080/",
          "height": 197
        },
        "outputId": "9751236e-d22d-40f3-dd4f-a2b020b02de8"
      },
      "source": [
        "#Base Predictions\n",
        "base_predictions_train = pd.DataFrame({\n",
        "    'Lasso': ls_oof_train.ravel(),    \n",
        "    'ElasticNet': enet_oof_train.ravel(),\n",
        "    #'KernelRidge': krr_oof_train.ravel(),\n",
        "    'SGD': sgd_oof_train.ravel(),\n",
        "    'GBM': gbr_oof_train.ravel(),\n",
        "    'XGB': xgb_oof_train.ravel(),\n",
        "    'LGB': lgb_oof_train.ravel(),\n",
        "    'ADA': ada_oof_train.ravel(),\n",
        "})\n",
        "base_predictions_train.head()"
      ],
      "execution_count": null,
      "outputs": [
        {
          "output_type": "execute_result",
          "data": {
            "text/html": [
              "<div>\n",
              "<style scoped>\n",
              "    .dataframe tbody tr th:only-of-type {\n",
              "        vertical-align: middle;\n",
              "    }\n",
              "\n",
              "    .dataframe tbody tr th {\n",
              "        vertical-align: top;\n",
              "    }\n",
              "\n",
              "    .dataframe thead th {\n",
              "        text-align: right;\n",
              "    }\n",
              "</style>\n",
              "<table border=\"1\" class=\"dataframe\">\n",
              "  <thead>\n",
              "    <tr style=\"text-align: right;\">\n",
              "      <th></th>\n",
              "      <th>Lasso</th>\n",
              "      <th>ElasticNet</th>\n",
              "      <th>SGD</th>\n",
              "      <th>GBM</th>\n",
              "      <th>XGB</th>\n",
              "      <th>LGB</th>\n",
              "      <th>ADA</th>\n",
              "    </tr>\n",
              "  </thead>\n",
              "  <tbody>\n",
              "    <tr>\n",
              "      <th>0</th>\n",
              "      <td>0.250598</td>\n",
              "      <td>0.250302</td>\n",
              "      <td>-2.900468e+14</td>\n",
              "      <td>0.185198</td>\n",
              "      <td>0.185855</td>\n",
              "      <td>0.183910</td>\n",
              "      <td>0.255949</td>\n",
              "    </tr>\n",
              "    <tr>\n",
              "      <th>1</th>\n",
              "      <td>0.226568</td>\n",
              "      <td>0.226742</td>\n",
              "      <td>-6.783665e+14</td>\n",
              "      <td>0.158614</td>\n",
              "      <td>0.111083</td>\n",
              "      <td>0.162540</td>\n",
              "      <td>0.255949</td>\n",
              "    </tr>\n",
              "    <tr>\n",
              "      <th>2</th>\n",
              "      <td>0.231549</td>\n",
              "      <td>0.231632</td>\n",
              "      <td>-9.039112e+14</td>\n",
              "      <td>0.140597</td>\n",
              "      <td>0.145369</td>\n",
              "      <td>0.140071</td>\n",
              "      <td>0.260162</td>\n",
              "    </tr>\n",
              "    <tr>\n",
              "      <th>3</th>\n",
              "      <td>0.263721</td>\n",
              "      <td>0.263937</td>\n",
              "      <td>-4.280000e+14</td>\n",
              "      <td>0.250212</td>\n",
              "      <td>0.261924</td>\n",
              "      <td>0.234832</td>\n",
              "      <td>0.298296</td>\n",
              "    </tr>\n",
              "    <tr>\n",
              "      <th>4</th>\n",
              "      <td>0.525454</td>\n",
              "      <td>0.525808</td>\n",
              "      <td>-8.563707e+14</td>\n",
              "      <td>0.513971</td>\n",
              "      <td>0.505099</td>\n",
              "      <td>0.535638</td>\n",
              "      <td>0.466743</td>\n",
              "    </tr>\n",
              "  </tbody>\n",
              "</table>\n",
              "</div>"
            ],
            "text/plain": [
              "      Lasso  ElasticNet           SGD       GBM       XGB       LGB       ADA\n",
              "0  0.250598    0.250302 -2.900468e+14  0.185198  0.185855  0.183910  0.255949\n",
              "1  0.226568    0.226742 -6.783665e+14  0.158614  0.111083  0.162540  0.255949\n",
              "2  0.231549    0.231632 -9.039112e+14  0.140597  0.145369  0.140071  0.260162\n",
              "3  0.263721    0.263937 -4.280000e+14  0.250212  0.261924  0.234832  0.298296\n",
              "4  0.525454    0.525808 -8.563707e+14  0.513971  0.505099  0.535638  0.466743"
            ]
          },
          "metadata": {},
          "execution_count": 33
        }
      ]
    },
    {
      "cell_type": "code",
      "metadata": {
        "collapsed": true,
        "jupyter": {
          "outputs_hidden": true
        },
        "id": "0_rtkdCVCssG",
        "colab": {
          "base_uri": "https://localhost:8080/",
          "height": 577
        },
        "outputId": "74f8743f-bc2c-4dbd-d3dd-44628806bd09"
      },
      "source": [
        "#Correlation heatmap of the second level training set\n",
        "chst = [\n",
        "    go.Heatmap(\n",
        "    z= base_predictions_train.astype(float).corr().values,\n",
        "    x= base_predictions_train.columns.values,\n",
        "    y= base_predictions_train.columns.values,\n",
        "    colorscale='Viridis', showscale=True, reversescale=True)\n",
        "]\n",
        "py.iplot(chst, filename='labeled-heatmap')\n",
        "\n",
        "\"\"\"\n",
        "Note: There are a few articles that have suggested that they are merits\n",
        "of having trained models that are more uncorrelated with one and other\n",
        "produce better results.\n",
        "\"\"\""
      ],
      "execution_count": null,
      "outputs": [
        {
          "output_type": "display_data",
          "data": {
            "text/html": [
              "<div>\n",
              "        \n",
              "        \n",
              "            <div id=\"1e9df9e0-6b38-4347-ace0-70c45f6f0358\" class=\"plotly-graph-div\" style=\"height:525px; width:100%;\"></div>\n",
              "            <script type=\"text/javascript\">\n",
              "                require([\"plotly\"], function(Plotly) {\n",
              "                    window.PLOTLYENV=window.PLOTLYENV || {};\n",
              "                    \n",
              "                if (document.getElementById(\"1e9df9e0-6b38-4347-ace0-70c45f6f0358\")) {\n",
              "                    Plotly.newPlot(\n",
              "                        '1e9df9e0-6b38-4347-ace0-70c45f6f0358',\n",
              "                        [{\"colorscale\": [[0.0, \"#440154\"], [0.1111111111111111, \"#482878\"], [0.2222222222222222, \"#3e4989\"], [0.3333333333333333, \"#31688e\"], [0.4444444444444444, \"#26828e\"], [0.5555555555555556, \"#1f9e89\"], [0.6666666666666666, \"#35b779\"], [0.7777777777777778, \"#6ece58\"], [0.8888888888888888, \"#b5de2b\"], [1.0, \"#fde725\"]], \"reversescale\": true, \"showscale\": true, \"type\": \"heatmap\", \"x\": [\"Lasso\", \"ElasticNet\", \"SGD\", \"GBM\", \"XGB\", \"LGB\", \"ADA\"], \"y\": [\"Lasso\", \"ElasticNet\", \"SGD\", \"GBM\", \"XGB\", \"LGB\", \"ADA\"], \"z\": [[1.0, 0.9999856100414085, -0.024305849991017633, 0.8783410287901141, 0.8927030445426573, 0.8769164159224373, 0.9266721328672709], [0.9999856100414085, 1.0, -0.024226018791401932, 0.878599901545893, 0.8929569538895363, 0.8771678843366595, 0.9269497933827827], [-0.024305849991017633, -0.024226018791401932, 1.0, -0.023951890937559853, -0.02377176721093444, -0.023341781254452146, -0.01180885703388596], [0.8783410287901141, 0.878599901545893, -0.023951890937559853, 1.0, 0.9908301884062881, 0.9930947073908751, 0.9271620285109445], [0.8927030445426573, 0.8929569538895363, -0.02377176721093444, 0.9908301884062881, 1.0, 0.9905774448668361, 0.9418037985350729], [0.8769164159224373, 0.8771678843366595, -0.023341781254452146, 0.9930947073908751, 0.9905774448668361, 1.0, 0.9270212215592369], [0.9266721328672709, 0.9269497933827827, -0.01180885703388596, 0.9271620285109445, 0.9418037985350729, 0.9270212215592369, 1.0]]}],\n",
              "                        {\"template\": {\"data\": {\"bar\": [{\"error_x\": {\"color\": \"#2a3f5f\"}, \"error_y\": {\"color\": \"#2a3f5f\"}, \"marker\": {\"line\": {\"color\": \"#E5ECF6\", \"width\": 0.5}}, \"type\": \"bar\"}], \"barpolar\": [{\"marker\": {\"line\": {\"color\": \"#E5ECF6\", \"width\": 0.5}}, \"type\": \"barpolar\"}], \"carpet\": [{\"aaxis\": {\"endlinecolor\": \"#2a3f5f\", \"gridcolor\": \"white\", \"linecolor\": \"white\", \"minorgridcolor\": \"white\", \"startlinecolor\": \"#2a3f5f\"}, \"baxis\": {\"endlinecolor\": \"#2a3f5f\", \"gridcolor\": \"white\", \"linecolor\": \"white\", \"minorgridcolor\": \"white\", \"startlinecolor\": \"#2a3f5f\"}, \"type\": \"carpet\"}], \"choropleth\": [{\"colorbar\": {\"outlinewidth\": 0, \"ticks\": \"\"}, \"type\": \"choropleth\"}], \"contour\": [{\"colorbar\": {\"outlinewidth\": 0, \"ticks\": \"\"}, \"colorscale\": [[0.0, \"#0d0887\"], [0.1111111111111111, \"#46039f\"], [0.2222222222222222, \"#7201a8\"], [0.3333333333333333, \"#9c179e\"], [0.4444444444444444, \"#bd3786\"], [0.5555555555555556, \"#d8576b\"], [0.6666666666666666, \"#ed7953\"], [0.7777777777777778, \"#fb9f3a\"], [0.8888888888888888, \"#fdca26\"], [1.0, \"#f0f921\"]], \"type\": \"contour\"}], \"contourcarpet\": [{\"colorbar\": {\"outlinewidth\": 0, \"ticks\": \"\"}, \"type\": \"contourcarpet\"}], \"heatmap\": [{\"colorbar\": {\"outlinewidth\": 0, \"ticks\": \"\"}, \"colorscale\": [[0.0, \"#0d0887\"], [0.1111111111111111, \"#46039f\"], [0.2222222222222222, \"#7201a8\"], [0.3333333333333333, \"#9c179e\"], [0.4444444444444444, \"#bd3786\"], [0.5555555555555556, \"#d8576b\"], [0.6666666666666666, \"#ed7953\"], [0.7777777777777778, \"#fb9f3a\"], [0.8888888888888888, \"#fdca26\"], [1.0, \"#f0f921\"]], \"type\": \"heatmap\"}], \"heatmapgl\": [{\"colorbar\": {\"outlinewidth\": 0, \"ticks\": \"\"}, \"colorscale\": [[0.0, \"#0d0887\"], [0.1111111111111111, \"#46039f\"], [0.2222222222222222, \"#7201a8\"], [0.3333333333333333, \"#9c179e\"], [0.4444444444444444, \"#bd3786\"], [0.5555555555555556, \"#d8576b\"], [0.6666666666666666, \"#ed7953\"], [0.7777777777777778, \"#fb9f3a\"], [0.8888888888888888, \"#fdca26\"], [1.0, \"#f0f921\"]], \"type\": \"heatmapgl\"}], \"histogram\": [{\"marker\": {\"colorbar\": {\"outlinewidth\": 0, \"ticks\": \"\"}}, \"type\": \"histogram\"}], \"histogram2d\": [{\"colorbar\": {\"outlinewidth\": 0, \"ticks\": \"\"}, \"colorscale\": [[0.0, \"#0d0887\"], [0.1111111111111111, \"#46039f\"], [0.2222222222222222, \"#7201a8\"], [0.3333333333333333, \"#9c179e\"], [0.4444444444444444, \"#bd3786\"], [0.5555555555555556, \"#d8576b\"], [0.6666666666666666, \"#ed7953\"], [0.7777777777777778, \"#fb9f3a\"], [0.8888888888888888, \"#fdca26\"], [1.0, \"#f0f921\"]], \"type\": \"histogram2d\"}], \"histogram2dcontour\": [{\"colorbar\": {\"outlinewidth\": 0, \"ticks\": \"\"}, \"colorscale\": [[0.0, \"#0d0887\"], [0.1111111111111111, \"#46039f\"], [0.2222222222222222, \"#7201a8\"], [0.3333333333333333, \"#9c179e\"], [0.4444444444444444, \"#bd3786\"], [0.5555555555555556, \"#d8576b\"], [0.6666666666666666, \"#ed7953\"], [0.7777777777777778, \"#fb9f3a\"], [0.8888888888888888, \"#fdca26\"], [1.0, \"#f0f921\"]], \"type\": \"histogram2dcontour\"}], \"mesh3d\": [{\"colorbar\": {\"outlinewidth\": 0, \"ticks\": \"\"}, \"type\": \"mesh3d\"}], \"parcoords\": [{\"line\": {\"colorbar\": {\"outlinewidth\": 0, \"ticks\": \"\"}}, \"type\": \"parcoords\"}], \"pie\": [{\"automargin\": true, \"type\": \"pie\"}], \"scatter\": [{\"marker\": {\"colorbar\": {\"outlinewidth\": 0, \"ticks\": \"\"}}, \"type\": \"scatter\"}], \"scatter3d\": [{\"line\": {\"colorbar\": {\"outlinewidth\": 0, \"ticks\": \"\"}}, \"marker\": {\"colorbar\": {\"outlinewidth\": 0, \"ticks\": \"\"}}, \"type\": \"scatter3d\"}], \"scattercarpet\": [{\"marker\": {\"colorbar\": {\"outlinewidth\": 0, \"ticks\": \"\"}}, \"type\": \"scattercarpet\"}], \"scattergeo\": [{\"marker\": {\"colorbar\": {\"outlinewidth\": 0, \"ticks\": \"\"}}, \"type\": \"scattergeo\"}], \"scattergl\": [{\"marker\": {\"colorbar\": {\"outlinewidth\": 0, \"ticks\": \"\"}}, \"type\": \"scattergl\"}], \"scattermapbox\": [{\"marker\": {\"colorbar\": {\"outlinewidth\": 0, \"ticks\": \"\"}}, \"type\": \"scattermapbox\"}], \"scatterpolar\": [{\"marker\": {\"colorbar\": {\"outlinewidth\": 0, \"ticks\": \"\"}}, \"type\": \"scatterpolar\"}], \"scatterpolargl\": [{\"marker\": {\"colorbar\": {\"outlinewidth\": 0, \"ticks\": \"\"}}, \"type\": \"scatterpolargl\"}], \"scatterternary\": [{\"marker\": {\"colorbar\": {\"outlinewidth\": 0, \"ticks\": \"\"}}, \"type\": \"scatterternary\"}], \"surface\": [{\"colorbar\": {\"outlinewidth\": 0, \"ticks\": \"\"}, \"colorscale\": [[0.0, \"#0d0887\"], [0.1111111111111111, \"#46039f\"], [0.2222222222222222, \"#7201a8\"], [0.3333333333333333, \"#9c179e\"], [0.4444444444444444, \"#bd3786\"], [0.5555555555555556, \"#d8576b\"], [0.6666666666666666, \"#ed7953\"], [0.7777777777777778, \"#fb9f3a\"], [0.8888888888888888, \"#fdca26\"], [1.0, \"#f0f921\"]], \"type\": \"surface\"}], \"table\": [{\"cells\": {\"fill\": {\"color\": \"#EBF0F8\"}, \"line\": {\"color\": \"white\"}}, \"header\": {\"fill\": {\"color\": \"#C8D4E3\"}, \"line\": {\"color\": \"white\"}}, \"type\": \"table\"}]}, \"layout\": {\"annotationdefaults\": {\"arrowcolor\": \"#2a3f5f\", \"arrowhead\": 0, \"arrowwidth\": 1}, \"coloraxis\": {\"colorbar\": {\"outlinewidth\": 0, \"ticks\": \"\"}}, \"colorscale\": {\"diverging\": [[0, \"#8e0152\"], [0.1, \"#c51b7d\"], [0.2, \"#de77ae\"], [0.3, \"#f1b6da\"], [0.4, \"#fde0ef\"], [0.5, \"#f7f7f7\"], [0.6, \"#e6f5d0\"], [0.7, \"#b8e186\"], [0.8, \"#7fbc41\"], [0.9, \"#4d9221\"], [1, \"#276419\"]], \"sequential\": [[0.0, \"#0d0887\"], [0.1111111111111111, \"#46039f\"], [0.2222222222222222, \"#7201a8\"], [0.3333333333333333, \"#9c179e\"], [0.4444444444444444, \"#bd3786\"], [0.5555555555555556, \"#d8576b\"], [0.6666666666666666, \"#ed7953\"], [0.7777777777777778, \"#fb9f3a\"], [0.8888888888888888, \"#fdca26\"], [1.0, \"#f0f921\"]], \"sequentialminus\": [[0.0, \"#0d0887\"], [0.1111111111111111, \"#46039f\"], [0.2222222222222222, \"#7201a8\"], [0.3333333333333333, \"#9c179e\"], [0.4444444444444444, \"#bd3786\"], [0.5555555555555556, \"#d8576b\"], [0.6666666666666666, \"#ed7953\"], [0.7777777777777778, \"#fb9f3a\"], [0.8888888888888888, \"#fdca26\"], [1.0, \"#f0f921\"]]}, \"colorway\": [\"#636efa\", \"#EF553B\", \"#00cc96\", \"#ab63fa\", \"#FFA15A\", \"#19d3f3\", \"#FF6692\", \"#B6E880\", \"#FF97FF\", \"#FECB52\"], \"font\": {\"color\": \"#2a3f5f\"}, \"geo\": {\"bgcolor\": \"white\", \"lakecolor\": \"white\", \"landcolor\": \"#E5ECF6\", \"showlakes\": true, \"showland\": true, \"subunitcolor\": \"white\"}, \"hoverlabel\": {\"align\": \"left\"}, \"hovermode\": \"closest\", \"mapbox\": {\"style\": \"light\"}, \"paper_bgcolor\": \"white\", \"plot_bgcolor\": \"#E5ECF6\", \"polar\": {\"angularaxis\": {\"gridcolor\": \"white\", \"linecolor\": \"white\", \"ticks\": \"\"}, \"bgcolor\": \"#E5ECF6\", \"radialaxis\": {\"gridcolor\": \"white\", \"linecolor\": \"white\", \"ticks\": \"\"}}, \"scene\": {\"xaxis\": {\"backgroundcolor\": \"#E5ECF6\", \"gridcolor\": \"white\", \"gridwidth\": 2, \"linecolor\": \"white\", \"showbackground\": true, \"ticks\": \"\", \"zerolinecolor\": \"white\"}, \"yaxis\": {\"backgroundcolor\": \"#E5ECF6\", \"gridcolor\": \"white\", \"gridwidth\": 2, \"linecolor\": \"white\", \"showbackground\": true, \"ticks\": \"\", \"zerolinecolor\": \"white\"}, \"zaxis\": {\"backgroundcolor\": \"#E5ECF6\", \"gridcolor\": \"white\", \"gridwidth\": 2, \"linecolor\": \"white\", \"showbackground\": true, \"ticks\": \"\", \"zerolinecolor\": \"white\"}}, \"shapedefaults\": {\"line\": {\"color\": \"#2a3f5f\"}}, \"ternary\": {\"aaxis\": {\"gridcolor\": \"white\", \"linecolor\": \"white\", \"ticks\": \"\"}, \"baxis\": {\"gridcolor\": \"white\", \"linecolor\": \"white\", \"ticks\": \"\"}, \"bgcolor\": \"#E5ECF6\", \"caxis\": {\"gridcolor\": \"white\", \"linecolor\": \"white\", \"ticks\": \"\"}}, \"title\": {\"x\": 0.05}, \"xaxis\": {\"automargin\": true, \"gridcolor\": \"white\", \"linecolor\": \"white\", \"ticks\": \"\", \"title\": {\"standoff\": 15}, \"zerolinecolor\": \"white\", \"zerolinewidth\": 2}, \"yaxis\": {\"automargin\": true, \"gridcolor\": \"white\", \"linecolor\": \"white\", \"ticks\": \"\", \"title\": {\"standoff\": 15}, \"zerolinecolor\": \"white\", \"zerolinewidth\": 2}}}},\n",
              "                        {\"responsive\": true}\n",
              "                    ).then(function(){\n",
              "                            \n",
              "var gd = document.getElementById('1e9df9e0-6b38-4347-ace0-70c45f6f0358');\n",
              "var x = new MutationObserver(function (mutations, observer) {{\n",
              "        var display = window.getComputedStyle(gd).display;\n",
              "        if (!display || display === 'none') {{\n",
              "            console.log([gd, 'removed!']);\n",
              "            Plotly.purge(gd);\n",
              "            observer.disconnect();\n",
              "        }}\n",
              "}});\n",
              "\n",
              "// Listen for the removal of the full notebook cells\n",
              "var notebookContainer = gd.closest('#notebook-container');\n",
              "if (notebookContainer) {{\n",
              "    x.observe(notebookContainer, {childList: true});\n",
              "}}\n",
              "\n",
              "// Listen for the clearing of the current output cell\n",
              "var outputEl = gd.closest('.output');\n",
              "if (outputEl) {{\n",
              "    x.observe(outputEl, {childList: true});\n",
              "}}\n",
              "\n",
              "                        })\n",
              "                };\n",
              "                });\n",
              "            </script>\n",
              "        </div>"
            ],
            "application/vnd.plotly.v1+json": {
              "data": [
                {
                  "colorscale": [
                    [
                      0,
                      "#440154"
                    ],
                    [
                      0.1111111111111111,
                      "#482878"
                    ],
                    [
                      0.2222222222222222,
                      "#3e4989"
                    ],
                    [
                      0.3333333333333333,
                      "#31688e"
                    ],
                    [
                      0.4444444444444444,
                      "#26828e"
                    ],
                    [
                      0.5555555555555556,
                      "#1f9e89"
                    ],
                    [
                      0.6666666666666666,
                      "#35b779"
                    ],
                    [
                      0.7777777777777778,
                      "#6ece58"
                    ],
                    [
                      0.8888888888888888,
                      "#b5de2b"
                    ],
                    [
                      1,
                      "#fde725"
                    ]
                  ],
                  "reversescale": true,
                  "showscale": true,
                  "y": [
                    "Lasso",
                    "ElasticNet",
                    "SGD",
                    "GBM",
                    "XGB",
                    "LGB",
                    "ADA"
                  ],
                  "x": [
                    "Lasso",
                    "ElasticNet",
                    "SGD",
                    "GBM",
                    "XGB",
                    "LGB",
                    "ADA"
                  ],
                  "z": [
                    [
                      1,
                      0.9999856100414085,
                      -0.024305849991017633,
                      0.8783410287901141,
                      0.8927030445426573,
                      0.8769164159224373,
                      0.9266721328672709
                    ],
                    [
                      0.9999856100414085,
                      1,
                      -0.024226018791401932,
                      0.878599901545893,
                      0.8929569538895363,
                      0.8771678843366595,
                      0.9269497933827827
                    ],
                    [
                      -0.024305849991017633,
                      -0.024226018791401932,
                      1,
                      -0.023951890937559853,
                      -0.02377176721093444,
                      -0.023341781254452146,
                      -0.01180885703388596
                    ],
                    [
                      0.8783410287901141,
                      0.878599901545893,
                      -0.023951890937559853,
                      1,
                      0.9908301884062881,
                      0.9930947073908751,
                      0.9271620285109445
                    ],
                    [
                      0.8927030445426573,
                      0.8929569538895363,
                      -0.02377176721093444,
                      0.9908301884062881,
                      1,
                      0.9905774448668361,
                      0.9418037985350729
                    ],
                    [
                      0.8769164159224373,
                      0.8771678843366595,
                      -0.023341781254452146,
                      0.9930947073908751,
                      0.9905774448668361,
                      1,
                      0.9270212215592369
                    ],
                    [
                      0.9266721328672709,
                      0.9269497933827827,
                      -0.01180885703388596,
                      0.9271620285109445,
                      0.9418037985350729,
                      0.9270212215592369,
                      1
                    ]
                  ],
                  "type": "heatmap"
                }
              ],
              "config": {
                "plotlyServerURL": "https://plot.ly",
                "linkText": "Export to plot.ly",
                "showLink": false
              },
              "layout": {
                "template": {
                  "layout": {
                    "shapedefaults": {
                      "line": {
                        "color": "#2a3f5f"
                      }
                    },
                    "polar": {
                      "radialaxis": {
                        "ticks": "",
                        "gridcolor": "white",
                        "linecolor": "white"
                      },
                      "bgcolor": "#E5ECF6",
                      "angularaxis": {
                        "ticks": "",
                        "gridcolor": "white",
                        "linecolor": "white"
                      }
                    },
                    "colorway": [
                      "#636efa",
                      "#EF553B",
                      "#00cc96",
                      "#ab63fa",
                      "#FFA15A",
                      "#19d3f3",
                      "#FF6692",
                      "#B6E880",
                      "#FF97FF",
                      "#FECB52"
                    ],
                    "xaxis": {
                      "automargin": true,
                      "title": {
                        "standoff": 15
                      },
                      "zerolinewidth": 2,
                      "ticks": "",
                      "zerolinecolor": "white",
                      "gridcolor": "white",
                      "linecolor": "white"
                    },
                    "colorscale": {
                      "diverging": [
                        [
                          0,
                          "#8e0152"
                        ],
                        [
                          0.1,
                          "#c51b7d"
                        ],
                        [
                          0.2,
                          "#de77ae"
                        ],
                        [
                          0.3,
                          "#f1b6da"
                        ],
                        [
                          0.4,
                          "#fde0ef"
                        ],
                        [
                          0.5,
                          "#f7f7f7"
                        ],
                        [
                          0.6,
                          "#e6f5d0"
                        ],
                        [
                          0.7,
                          "#b8e186"
                        ],
                        [
                          0.8,
                          "#7fbc41"
                        ],
                        [
                          0.9,
                          "#4d9221"
                        ],
                        [
                          1,
                          "#276419"
                        ]
                      ],
                      "sequential": [
                        [
                          0,
                          "#0d0887"
                        ],
                        [
                          0.1111111111111111,
                          "#46039f"
                        ],
                        [
                          0.2222222222222222,
                          "#7201a8"
                        ],
                        [
                          0.3333333333333333,
                          "#9c179e"
                        ],
                        [
                          0.4444444444444444,
                          "#bd3786"
                        ],
                        [
                          0.5555555555555556,
                          "#d8576b"
                        ],
                        [
                          0.6666666666666666,
                          "#ed7953"
                        ],
                        [
                          0.7777777777777778,
                          "#fb9f3a"
                        ],
                        [
                          0.8888888888888888,
                          "#fdca26"
                        ],
                        [
                          1,
                          "#f0f921"
                        ]
                      ],
                      "sequentialminus": [
                        [
                          0,
                          "#0d0887"
                        ],
                        [
                          0.1111111111111111,
                          "#46039f"
                        ],
                        [
                          0.2222222222222222,
                          "#7201a8"
                        ],
                        [
                          0.3333333333333333,
                          "#9c179e"
                        ],
                        [
                          0.4444444444444444,
                          "#bd3786"
                        ],
                        [
                          0.5555555555555556,
                          "#d8576b"
                        ],
                        [
                          0.6666666666666666,
                          "#ed7953"
                        ],
                        [
                          0.7777777777777778,
                          "#fb9f3a"
                        ],
                        [
                          0.8888888888888888,
                          "#fdca26"
                        ],
                        [
                          1,
                          "#f0f921"
                        ]
                      ]
                    },
                    "paper_bgcolor": "white",
                    "plot_bgcolor": "#E5ECF6",
                    "title": {
                      "x": 0.05
                    },
                    "scene": {
                      "zaxis": {
                        "backgroundcolor": "#E5ECF6",
                        "ticks": "",
                        "gridwidth": 2,
                        "showbackground": true,
                        "zerolinecolor": "white",
                        "gridcolor": "white",
                        "linecolor": "white"
                      },
                      "xaxis": {
                        "backgroundcolor": "#E5ECF6",
                        "ticks": "",
                        "gridwidth": 2,
                        "showbackground": true,
                        "zerolinecolor": "white",
                        "gridcolor": "white",
                        "linecolor": "white"
                      },
                      "yaxis": {
                        "backgroundcolor": "#E5ECF6",
                        "ticks": "",
                        "gridwidth": 2,
                        "showbackground": true,
                        "zerolinecolor": "white",
                        "gridcolor": "white",
                        "linecolor": "white"
                      }
                    },
                    "yaxis": {
                      "automargin": true,
                      "title": {
                        "standoff": 15
                      },
                      "zerolinewidth": 2,
                      "ticks": "",
                      "zerolinecolor": "white",
                      "gridcolor": "white",
                      "linecolor": "white"
                    },
                    "annotationdefaults": {
                      "arrowwidth": 1,
                      "arrowhead": 0,
                      "arrowcolor": "#2a3f5f"
                    },
                    "hoverlabel": {
                      "align": "left"
                    },
                    "ternary": {
                      "bgcolor": "#E5ECF6",
                      "baxis": {
                        "ticks": "",
                        "gridcolor": "white",
                        "linecolor": "white"
                      },
                      "caxis": {
                        "ticks": "",
                        "gridcolor": "white",
                        "linecolor": "white"
                      },
                      "aaxis": {
                        "ticks": "",
                        "gridcolor": "white",
                        "linecolor": "white"
                      }
                    },
                    "mapbox": {
                      "style": "light"
                    },
                    "hovermode": "closest",
                    "font": {
                      "color": "#2a3f5f"
                    },
                    "geo": {
                      "showland": true,
                      "landcolor": "#E5ECF6",
                      "showlakes": true,
                      "bgcolor": "white",
                      "subunitcolor": "white",
                      "lakecolor": "white"
                    },
                    "coloraxis": {
                      "colorbar": {
                        "outlinewidth": 0,
                        "ticks": ""
                      }
                    }
                  },
                  "data": {
                    "mesh3d": [
                      {
                        "colorbar": {
                          "outlinewidth": 0,
                          "ticks": ""
                        },
                        "type": "mesh3d"
                      }
                    ],
                    "scattercarpet": [
                      {
                        "marker": {
                          "colorbar": {
                            "outlinewidth": 0,
                            "ticks": ""
                          }
                        },
                        "type": "scattercarpet"
                      }
                    ],
                    "pie": [
                      {
                        "automargin": true,
                        "type": "pie"
                      }
                    ],
                    "surface": [
                      {
                        "colorbar": {
                          "outlinewidth": 0,
                          "ticks": ""
                        },
                        "type": "surface",
                        "colorscale": [
                          [
                            0,
                            "#0d0887"
                          ],
                          [
                            0.1111111111111111,
                            "#46039f"
                          ],
                          [
                            0.2222222222222222,
                            "#7201a8"
                          ],
                          [
                            0.3333333333333333,
                            "#9c179e"
                          ],
                          [
                            0.4444444444444444,
                            "#bd3786"
                          ],
                          [
                            0.5555555555555556,
                            "#d8576b"
                          ],
                          [
                            0.6666666666666666,
                            "#ed7953"
                          ],
                          [
                            0.7777777777777778,
                            "#fb9f3a"
                          ],
                          [
                            0.8888888888888888,
                            "#fdca26"
                          ],
                          [
                            1,
                            "#f0f921"
                          ]
                        ]
                      }
                    ],
                    "table": [
                      {
                        "header": {
                          "line": {
                            "color": "white"
                          },
                          "fill": {
                            "color": "#C8D4E3"
                          }
                        },
                        "cells": {
                          "line": {
                            "color": "white"
                          },
                          "fill": {
                            "color": "#EBF0F8"
                          }
                        },
                        "type": "table"
                      }
                    ],
                    "scatterpolargl": [
                      {
                        "marker": {
                          "colorbar": {
                            "outlinewidth": 0,
                            "ticks": ""
                          }
                        },
                        "type": "scatterpolargl"
                      }
                    ],
                    "contour": [
                      {
                        "colorbar": {
                          "outlinewidth": 0,
                          "ticks": ""
                        },
                        "type": "contour",
                        "colorscale": [
                          [
                            0,
                            "#0d0887"
                          ],
                          [
                            0.1111111111111111,
                            "#46039f"
                          ],
                          [
                            0.2222222222222222,
                            "#7201a8"
                          ],
                          [
                            0.3333333333333333,
                            "#9c179e"
                          ],
                          [
                            0.4444444444444444,
                            "#bd3786"
                          ],
                          [
                            0.5555555555555556,
                            "#d8576b"
                          ],
                          [
                            0.6666666666666666,
                            "#ed7953"
                          ],
                          [
                            0.7777777777777778,
                            "#fb9f3a"
                          ],
                          [
                            0.8888888888888888,
                            "#fdca26"
                          ],
                          [
                            1,
                            "#f0f921"
                          ]
                        ]
                      }
                    ],
                    "carpet": [
                      {
                        "type": "carpet",
                        "baxis": {
                          "minorgridcolor": "white",
                          "gridcolor": "white",
                          "linecolor": "white",
                          "endlinecolor": "#2a3f5f",
                          "startlinecolor": "#2a3f5f"
                        },
                        "aaxis": {
                          "minorgridcolor": "white",
                          "gridcolor": "white",
                          "linecolor": "white",
                          "endlinecolor": "#2a3f5f",
                          "startlinecolor": "#2a3f5f"
                        }
                      }
                    ],
                    "contourcarpet": [
                      {
                        "colorbar": {
                          "outlinewidth": 0,
                          "ticks": ""
                        },
                        "type": "contourcarpet"
                      }
                    ],
                    "heatmap": [
                      {
                        "colorbar": {
                          "outlinewidth": 0,
                          "ticks": ""
                        },
                        "type": "heatmap",
                        "colorscale": [
                          [
                            0,
                            "#0d0887"
                          ],
                          [
                            0.1111111111111111,
                            "#46039f"
                          ],
                          [
                            0.2222222222222222,
                            "#7201a8"
                          ],
                          [
                            0.3333333333333333,
                            "#9c179e"
                          ],
                          [
                            0.4444444444444444,
                            "#bd3786"
                          ],
                          [
                            0.5555555555555556,
                            "#d8576b"
                          ],
                          [
                            0.6666666666666666,
                            "#ed7953"
                          ],
                          [
                            0.7777777777777778,
                            "#fb9f3a"
                          ],
                          [
                            0.8888888888888888,
                            "#fdca26"
                          ],
                          [
                            1,
                            "#f0f921"
                          ]
                        ]
                      }
                    ],
                    "scattermapbox": [
                      {
                        "marker": {
                          "colorbar": {
                            "outlinewidth": 0,
                            "ticks": ""
                          }
                        },
                        "type": "scattermapbox"
                      }
                    ],
                    "scatter3d": [
                      {
                        "marker": {
                          "colorbar": {
                            "outlinewidth": 0,
                            "ticks": ""
                          }
                        },
                        "line": {
                          "colorbar": {
                            "outlinewidth": 0,
                            "ticks": ""
                          }
                        },
                        "type": "scatter3d"
                      }
                    ],
                    "scattergl": [
                      {
                        "marker": {
                          "colorbar": {
                            "outlinewidth": 0,
                            "ticks": ""
                          }
                        },
                        "type": "scattergl"
                      }
                    ],
                    "scatterternary": [
                      {
                        "marker": {
                          "colorbar": {
                            "outlinewidth": 0,
                            "ticks": ""
                          }
                        },
                        "type": "scatterternary"
                      }
                    ],
                    "histogram": [
                      {
                        "marker": {
                          "colorbar": {
                            "outlinewidth": 0,
                            "ticks": ""
                          }
                        },
                        "type": "histogram"
                      }
                    ],
                    "heatmapgl": [
                      {
                        "colorbar": {
                          "outlinewidth": 0,
                          "ticks": ""
                        },
                        "type": "heatmapgl",
                        "colorscale": [
                          [
                            0,
                            "#0d0887"
                          ],
                          [
                            0.1111111111111111,
                            "#46039f"
                          ],
                          [
                            0.2222222222222222,
                            "#7201a8"
                          ],
                          [
                            0.3333333333333333,
                            "#9c179e"
                          ],
                          [
                            0.4444444444444444,
                            "#bd3786"
                          ],
                          [
                            0.5555555555555556,
                            "#d8576b"
                          ],
                          [
                            0.6666666666666666,
                            "#ed7953"
                          ],
                          [
                            0.7777777777777778,
                            "#fb9f3a"
                          ],
                          [
                            0.8888888888888888,
                            "#fdca26"
                          ],
                          [
                            1,
                            "#f0f921"
                          ]
                        ]
                      }
                    ],
                    "scatterpolar": [
                      {
                        "marker": {
                          "colorbar": {
                            "outlinewidth": 0,
                            "ticks": ""
                          }
                        },
                        "type": "scatterpolar"
                      }
                    ],
                    "histogram2d": [
                      {
                        "colorbar": {
                          "outlinewidth": 0,
                          "ticks": ""
                        },
                        "type": "histogram2d",
                        "colorscale": [
                          [
                            0,
                            "#0d0887"
                          ],
                          [
                            0.1111111111111111,
                            "#46039f"
                          ],
                          [
                            0.2222222222222222,
                            "#7201a8"
                          ],
                          [
                            0.3333333333333333,
                            "#9c179e"
                          ],
                          [
                            0.4444444444444444,
                            "#bd3786"
                          ],
                          [
                            0.5555555555555556,
                            "#d8576b"
                          ],
                          [
                            0.6666666666666666,
                            "#ed7953"
                          ],
                          [
                            0.7777777777777778,
                            "#fb9f3a"
                          ],
                          [
                            0.8888888888888888,
                            "#fdca26"
                          ],
                          [
                            1,
                            "#f0f921"
                          ]
                        ]
                      }
                    ],
                    "scattergeo": [
                      {
                        "marker": {
                          "colorbar": {
                            "outlinewidth": 0,
                            "ticks": ""
                          }
                        },
                        "type": "scattergeo"
                      }
                    ],
                    "bar": [
                      {
                        "marker": {
                          "line": {
                            "color": "#E5ECF6",
                            "width": 0.5
                          }
                        },
                        "type": "bar",
                        "error_x": {
                          "color": "#2a3f5f"
                        },
                        "error_y": {
                          "color": "#2a3f5f"
                        }
                      }
                    ],
                    "choropleth": [
                      {
                        "colorbar": {
                          "outlinewidth": 0,
                          "ticks": ""
                        },
                        "type": "choropleth"
                      }
                    ],
                    "parcoords": [
                      {
                        "line": {
                          "colorbar": {
                            "outlinewidth": 0,
                            "ticks": ""
                          }
                        },
                        "type": "parcoords"
                      }
                    ],
                    "barpolar": [
                      {
                        "marker": {
                          "line": {
                            "color": "#E5ECF6",
                            "width": 0.5
                          }
                        },
                        "type": "barpolar"
                      }
                    ],
                    "histogram2dcontour": [
                      {
                        "colorbar": {
                          "outlinewidth": 0,
                          "ticks": ""
                        },
                        "type": "histogram2dcontour",
                        "colorscale": [
                          [
                            0,
                            "#0d0887"
                          ],
                          [
                            0.1111111111111111,
                            "#46039f"
                          ],
                          [
                            0.2222222222222222,
                            "#7201a8"
                          ],
                          [
                            0.3333333333333333,
                            "#9c179e"
                          ],
                          [
                            0.4444444444444444,
                            "#bd3786"
                          ],
                          [
                            0.5555555555555556,
                            "#d8576b"
                          ],
                          [
                            0.6666666666666666,
                            "#ed7953"
                          ],
                          [
                            0.7777777777777778,
                            "#fb9f3a"
                          ],
                          [
                            0.8888888888888888,
                            "#fdca26"
                          ],
                          [
                            1,
                            "#f0f921"
                          ]
                        ]
                      }
                    ],
                    "scatter": [
                      {
                        "marker": {
                          "colorbar": {
                            "outlinewidth": 0,
                            "ticks": ""
                          }
                        },
                        "type": "scatter"
                      }
                    ]
                  }
                }
              }
            }
          },
          "metadata": {}
        },
        {
          "output_type": "execute_result",
          "data": {
            "application/vnd.google.colaboratory.intrinsic+json": {
              "type": "string"
            },
            "text/plain": [
              "'\\nNote: There are a few articles that have suggested that they are merits\\nof having trained models that are more uncorrelated with one and other\\nproduce better results.\\n'"
            ]
          },
          "metadata": {},
          "execution_count": 35
        }
      ]
    },
    {
      "cell_type": "code",
      "metadata": {
        "id": "mBFeiYDgCssG"
      },
      "source": [
        "x_train = np.concatenate((ls_oof_train, enet_oof_train,\n",
        "                          gbr_oof_train, xgb_oof_train,\n",
        "                          lgb_oof_train, ada_oof_train), axis=1)\n",
        "x_test = np.concatenate((ls_oof_test, enet_oof_test,\n",
        "                         gbr_oof_test, xgb_oof_test,\n",
        "                         lgb_oof_test, ada_oof_test), axis=1)"
      ],
      "execution_count": null,
      "outputs": []
    },
    {
      "cell_type": "code",
      "metadata": {
        "id": "p_ImS7CkCssG",
        "colab": {
          "base_uri": "https://localhost:8080/"
        },
        "outputId": "b5526b74-4ff9-43d0-da03-7e059d2d4c27"
      },
      "source": [
        "#Best to use a linear model as the meta-model\n",
        "sgd_train = SGDRegressor(l1_ratio=0.5, max_iter=500, tol=0.1).fit(x_train, y_train)\n",
        "predictions = sgd_train.predict(x_test)\n",
        "predictions.mean()"
      ],
      "execution_count": null,
      "outputs": [
        {
          "output_type": "execute_result",
          "data": {
            "text/plain": [
              "0.33149321082958416"
            ]
          },
          "metadata": {},
          "execution_count": 54
        }
      ]
    },
    {
      "cell_type": "code",
      "metadata": {
        "id": "bSKvtE80CssH"
      },
      "source": [
        "# Generate Submission File \n",
        "StackingSub = pd.DataFrame({'ID':sample['ID'], 'Target': predictions})\n",
        "StackingSub.to_csv('stackingSub.csv', index=False)"
      ],
      "execution_count": null,
      "outputs": []
    },
    {
      "cell_type": "code",
      "metadata": {
        "id": "hRTKzGpFd6k1"
      },
      "source": [
        "#save model\n",
        "filename = 'final_model.sav'\n",
        "pickle.dump(sgd_train, open(filename, 'wb'))"
      ],
      "execution_count": null,
      "outputs": []
    },
    {
      "cell_type": "code",
      "metadata": {
        "id": "bbRQaQDidwbo"
      },
      "source": [
        "#load model\n",
        "loaded_model = pickle.load(open(filename, 'rb'))\n",
        "result = loaded_model.score(data, y)\n",
        "print(result)"
      ],
      "execution_count": null,
      "outputs": []
    },
    {
      "cell_type": "code",
      "metadata": {
        "id": "Y03lZF3y297h"
      },
      "source": [
        ""
      ],
      "execution_count": null,
      "outputs": []
    },
    {
      "cell_type": "code",
      "metadata": {
        "id": "pDMFZLYy_1Gr"
      },
      "source": [
        ""
      ],
      "execution_count": null,
      "outputs": []
    },
    {
      "cell_type": "code",
      "metadata": {
        "id": "_KB-Qvcz_1EA"
      },
      "source": [
        ""
      ],
      "execution_count": null,
      "outputs": []
    },
    {
      "cell_type": "code",
      "metadata": {
        "id": "ROIvYwtu294S"
      },
      "source": [
        "features = [x for x in data.columns if x not in ['ID','country','urban_or_rural','Target','year']]"
      ],
      "execution_count": 23,
      "outputs": []
    },
    {
      "cell_type": "code",
      "metadata": {
        "id": "OAgAv0QH290y"
      },
      "source": [
        "def get_model(Name='lgbm'):\n",
        "  if Name == 'lgbm':\n",
        "    return LGBMRegressor(**{\n",
        "        'objective' :'regression','boosting_type' : 'gbdt','metric': 'rmse' ,\n",
        "        'learning_rate' : 0.05,'num_iterations': 1500,'max_depth' :4 ,'num_leaves' : 150,\n",
        "        'max_bins': 85,'min_data_in_leaf':30,'reg_lambda' :75\n",
        "    })"
      ],
      "execution_count": 24,
      "outputs": []
    },
    {
      "cell_type": "code",
      "metadata": {
        "id": "56ZL8P1U29xx"
      },
      "source": [
        "Model_Name = \"lgbm\"\n",
        "train_ = ctrain[features]\n",
        "test_ = ctest[features]"
      ],
      "execution_count": 25,
      "outputs": []
    },
    {
      "cell_type": "code",
      "metadata": {
        "colab": {
          "base_uri": "https://localhost:8080/"
        },
        "id": "9BaJaRei29uw",
        "outputId": "a3e4b117-7358-40fa-fbc3-6b18d5ff07c5"
      },
      "source": [
        "nfolds = KFold(n_splits=10, shuffle=True, random_state=42)\n",
        "oofs = np.zeros((len(train_)))\n",
        "test_predictions = np.zeros((len(test_)))\n",
        "\n",
        "for fold, (trn_idx, val_idx) in enumerate(nfolds.split(train_, y)):\n",
        "  x_trn, y_trn = train_.iloc[trn_idx], y.iloc[trn_idx]\n",
        "  x_val, y_val = train_.iloc[val_idx], y.iloc[val_idx]\n",
        "\n",
        "  clf = get_model(Name=Model_Name)\n",
        "  clf.fit(x_trn, y_trn, eval_set=[(x_val, y_val)], verbose=0, early_stopping_rounds=50)\n",
        "\n",
        "  vp = clf.predict(x_val)\n",
        "  oofs[val_idx] = vp\n",
        "  val_score = mean_squared_error((vp), (y_val), squared=False)\n",
        "  print(4*'---- --- ----')\n",
        "  print(f'fold {fold+1}   Val score: {val_score}')\n",
        "  print(4*'-- --- ---')\n",
        "\n",
        "  tp = clf.predict(test_)\n",
        "  test_predictions += tp / nfolds.n_splits\n",
        "\n",
        "print()\n",
        "print(3*'###', 10*\"^\", 3*'###')\n",
        "print(mean_squared_error(y, oofs, squared=False))\n"
      ],
      "execution_count": 33,
      "outputs": [
        {
          "output_type": "stream",
          "name": "stdout",
          "text": [
            "---- --- -------- --- -------- --- -------- --- ----\n",
            "fold 1   Val score: 0.1073980313557577\n",
            "-- --- ----- --- ----- --- ----- --- ---\n",
            "---- --- -------- --- -------- --- -------- --- ----\n",
            "fold 2   Val score: 0.10911173414216847\n",
            "-- --- ----- --- ----- --- ----- --- ---\n",
            "---- --- -------- --- -------- --- -------- --- ----\n",
            "fold 3   Val score: 0.10556719690484587\n",
            "-- --- ----- --- ----- --- ----- --- ---\n",
            "---- --- -------- --- -------- --- -------- --- ----\n",
            "fold 4   Val score: 0.10761429792684304\n",
            "-- --- ----- --- ----- --- ----- --- ---\n",
            "---- --- -------- --- -------- --- -------- --- ----\n",
            "fold 5   Val score: 0.10404222875081978\n",
            "-- --- ----- --- ----- --- ----- --- ---\n",
            "---- --- -------- --- -------- --- -------- --- ----\n",
            "fold 6   Val score: 0.10609231120400314\n",
            "-- --- ----- --- ----- --- ----- --- ---\n",
            "---- --- -------- --- -------- --- -------- --- ----\n",
            "fold 7   Val score: 0.10491151846903067\n",
            "-- --- ----- --- ----- --- ----- --- ---\n",
            "---- --- -------- --- -------- --- -------- --- ----\n",
            "fold 8   Val score: 0.10928449648164601\n",
            "-- --- ----- --- ----- --- ----- --- ---\n",
            "---- --- -------- --- -------- --- -------- --- ----\n",
            "fold 9   Val score: 0.1028784809551986\n",
            "-- --- ----- --- ----- --- ----- --- ---\n",
            "---- --- -------- --- -------- --- -------- --- ----\n",
            "fold 10   Val score: 0.10811170109476999\n",
            "-- --- ----- --- ----- --- ----- --- ---\n",
            "\n",
            "######### ^^^^^^^^^^ #########\n",
            "0.10652105616454913\n"
          ]
        }
      ]
    },
    {
      "cell_type": "code",
      "metadata": {
        "id": "w3Lslgxl7-db"
      },
      "source": [
        "n_sub = pd.DataFrame({'ID':sample['ID'], 'Target': test_predictions})\n",
        "#np.clip provides a limit for our submission file interval within the provided limit.\n",
        "n_sub.to_csv('stackingSub-1.csv', index=False)"
      ],
      "execution_count": 39,
      "outputs": []
    },
    {
      "cell_type": "code",
      "metadata": {
        "colab": {
          "base_uri": "https://localhost:8080/"
        },
        "id": "W0qsbqIoAe0m",
        "outputId": "71368d7b-6dc1-4463-e731-64848ca966b9"
      },
      "source": [
        "test_predictions.max(), test_predictions.min(), test_predictions.mean()"
      ],
      "execution_count": 36,
      "outputs": [
        {
          "output_type": "execute_result",
          "data": {
            "text/plain": [
              "(0.7833293671383459, 0.06672890476717307, 0.3219274399391191)"
            ]
          },
          "metadata": {},
          "execution_count": 36
        }
      ]
    },
    {
      "cell_type": "code",
      "metadata": {
        "id": "9zj0yGRdBCLT"
      },
      "source": [
        ""
      ],
      "execution_count": null,
      "outputs": []
    }
  ]
}