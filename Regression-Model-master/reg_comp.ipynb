{
 "cells": [
  {
   "cell_type": "code",
   "execution_count": null,
   "metadata": {},
   "outputs": [],
   "source": [
    "# Setting Directory"
   ]
  },
  {
   "cell_type": "code",
   "execution_count": 59,
   "metadata": {},
   "outputs": [],
   "source": [
    "import os\n",
    "os.chdir(r'C:\\Users\\admin\\Desktop\\git hub\\algos')"
   ]
  },
  {
   "cell_type": "code",
   "execution_count": null,
   "metadata": {},
   "outputs": [],
   "source": [
    "# Hide Warnings"
   ]
  },
  {
   "cell_type": "code",
   "execution_count": 60,
   "metadata": {},
   "outputs": [],
   "source": [
    "import warnings  \n",
    "warnings.filterwarnings('ignore')"
   ]
  },
  {
   "cell_type": "code",
   "execution_count": 61,
   "metadata": {},
   "outputs": [],
   "source": [
    "# Import relevant libraries"
   ]
  },
  {
   "cell_type": "code",
   "execution_count": 62,
   "metadata": {},
   "outputs": [],
   "source": [
    "import pandas as pd\n",
    "import numpy as np\n",
    "import seaborn as sns\n",
    "import matplotlib.pyplot as plt\n",
    "from pandas.plotting import scatter_matrix\n",
    "from sklearn import preprocessing\n",
    "from sklearn.preprocessing import StandardScaler\n",
    "from sklearn.preprocessing import MinMaxScaler\n",
    "from sklearn.preprocessing import RobustScaler\n",
    "import statsmodels.api as sm"
   ]
  },
  {
   "cell_type": "code",
   "execution_count": 63,
   "metadata": {},
   "outputs": [],
   "source": [
    "# Read data"
   ]
  },
  {
   "cell_type": "code",
   "execution_count": 64,
   "metadata": {},
   "outputs": [],
   "source": [
    "df1 = pd.read_csv('computers.csv')"
   ]
  },
  {
   "cell_type": "code",
   "execution_count": 4,
   "metadata": {},
   "outputs": [
    {
     "data": {
      "text/html": [
       "<div>\n",
       "<style scoped>\n",
       "    .dataframe tbody tr th:only-of-type {\n",
       "        vertical-align: middle;\n",
       "    }\n",
       "\n",
       "    .dataframe tbody tr th {\n",
       "        vertical-align: top;\n",
       "    }\n",
       "\n",
       "    .dataframe thead th {\n",
       "        text-align: right;\n",
       "    }\n",
       "</style>\n",
       "<table border=\"1\" class=\"dataframe\">\n",
       "  <thead>\n",
       "    <tr style=\"text-align: right;\">\n",
       "      <th></th>\n",
       "      <th>price</th>\n",
       "      <th>speed</th>\n",
       "      <th>hd</th>\n",
       "      <th>ram</th>\n",
       "      <th>screen</th>\n",
       "      <th>cd</th>\n",
       "      <th>multi</th>\n",
       "      <th>premium</th>\n",
       "      <th>ads</th>\n",
       "      <th>trend</th>\n",
       "    </tr>\n",
       "  </thead>\n",
       "  <tbody>\n",
       "    <tr>\n",
       "      <th>0</th>\n",
       "      <td>1994</td>\n",
       "      <td>50</td>\n",
       "      <td>107</td>\n",
       "      <td>2</td>\n",
       "      <td>14</td>\n",
       "      <td>yes</td>\n",
       "      <td>no</td>\n",
       "      <td>yes</td>\n",
       "      <td>283</td>\n",
       "      <td>10</td>\n",
       "    </tr>\n",
       "    <tr>\n",
       "      <th>1</th>\n",
       "      <td>2024</td>\n",
       "      <td>25</td>\n",
       "      <td>170</td>\n",
       "      <td>4</td>\n",
       "      <td>14</td>\n",
       "      <td>yes</td>\n",
       "      <td>no</td>\n",
       "      <td>no</td>\n",
       "      <td>275</td>\n",
       "      <td>12</td>\n",
       "    </tr>\n",
       "    <tr>\n",
       "      <th>2</th>\n",
       "      <td>2427</td>\n",
       "      <td>66</td>\n",
       "      <td>540</td>\n",
       "      <td>8</td>\n",
       "      <td>15</td>\n",
       "      <td>yes</td>\n",
       "      <td>yes</td>\n",
       "      <td>yes</td>\n",
       "      <td>339</td>\n",
       "      <td>17</td>\n",
       "    </tr>\n",
       "    <tr>\n",
       "      <th>3</th>\n",
       "      <td>1899</td>\n",
       "      <td>33</td>\n",
       "      <td>420</td>\n",
       "      <td>4</td>\n",
       "      <td>14</td>\n",
       "      <td>yes</td>\n",
       "      <td>no</td>\n",
       "      <td>yes</td>\n",
       "      <td>273</td>\n",
       "      <td>18</td>\n",
       "    </tr>\n",
       "    <tr>\n",
       "      <th>4</th>\n",
       "      <td>1973</td>\n",
       "      <td>33</td>\n",
       "      <td>528</td>\n",
       "      <td>8</td>\n",
       "      <td>14</td>\n",
       "      <td>yes</td>\n",
       "      <td>yes</td>\n",
       "      <td>yes</td>\n",
       "      <td>191</td>\n",
       "      <td>23</td>\n",
       "    </tr>\n",
       "  </tbody>\n",
       "</table>\n",
       "</div>"
      ],
      "text/plain": [
       "   price  speed   hd  ram  screen   cd multi premium  ads  trend\n",
       "0   1994     50  107    2      14  yes    no     yes  283     10\n",
       "1   2024     25  170    4      14  yes    no      no  275     12\n",
       "2   2427     66  540    8      15  yes   yes     yes  339     17\n",
       "3   1899     33  420    4      14  yes    no     yes  273     18\n",
       "4   1973     33  528    8      14  yes   yes     yes  191     23"
      ]
     },
     "execution_count": 4,
     "metadata": {},
     "output_type": "execute_result"
    }
   ],
   "source": [
    "df1.head()"
   ]
  },
  {
   "cell_type": "code",
   "execution_count": 5,
   "metadata": {},
   "outputs": [
    {
     "name": "stdout",
     "output_type": "stream",
     "text": [
      "<class 'pandas.core.frame.DataFrame'>\n",
      "RangeIndex: 1022 entries, 0 to 1021\n",
      "Data columns (total 10 columns):\n",
      "price      1022 non-null int64\n",
      "speed      1022 non-null int64\n",
      "hd         1022 non-null int64\n",
      "ram        1022 non-null int64\n",
      "screen     1022 non-null int64\n",
      "cd         1022 non-null object\n",
      "multi      1022 non-null object\n",
      "premium    1022 non-null object\n",
      "ads        1022 non-null int64\n",
      "trend      1022 non-null int64\n",
      "dtypes: int64(7), object(3)\n",
      "memory usage: 80.0+ KB\n"
     ]
    }
   ],
   "source": [
    "df1.info()"
   ]
  },
  {
   "cell_type": "code",
   "execution_count": null,
   "metadata": {},
   "outputs": [],
   "source": [
    "# Box Plot"
   ]
  },
  {
   "cell_type": "code",
   "execution_count": 6,
   "metadata": {},
   "outputs": [
    {
     "data": {
      "image/png": "[encoded data removed]",
      "text/plain": [
       "<Figure size 432x288 with 1 Axes>"
      ]
     },
     "metadata": {
      "needs_background": "light"
     },
     "output_type": "display_data"
    }
   ],
   "source": [
    "ax = sns.boxplot(data=df1, orient=\"h\", palette=\"Set2\")"
   ]
  },
  {
   "cell_type": "code",
   "execution_count": null,
   "metadata": {},
   "outputs": [],
   "source": [
    "# Encode the categorical variables"
   ]
  },
  {
   "cell_type": "code",
   "execution_count": 65,
   "metadata": {},
   "outputs": [
    {
     "data": {
      "text/html": [
       "<div>\n",
       "<style scoped>\n",
       "    .dataframe tbody tr th:only-of-type {\n",
       "        vertical-align: middle;\n",
       "    }\n",
       "\n",
       "    .dataframe tbody tr th {\n",
       "        vertical-align: top;\n",
       "    }\n",
       "\n",
       "    .dataframe thead th {\n",
       "        text-align: right;\n",
       "    }\n",
       "</style>\n",
       "<table border=\"1\" class=\"dataframe\">\n",
       "  <thead>\n",
       "    <tr style=\"text-align: right;\">\n",
       "      <th></th>\n",
       "      <th>price</th>\n",
       "      <th>speed</th>\n",
       "      <th>hd</th>\n",
       "      <th>ram</th>\n",
       "      <th>screen</th>\n",
       "      <th>ads</th>\n",
       "      <th>trend</th>\n",
       "      <th>cd_yes</th>\n",
       "      <th>multi_yes</th>\n",
       "      <th>premium_yes</th>\n",
       "    </tr>\n",
       "  </thead>\n",
       "  <tbody>\n",
       "    <tr>\n",
       "      <th>0</th>\n",
       "      <td>1994</td>\n",
       "      <td>50</td>\n",
       "      <td>107</td>\n",
       "      <td>2</td>\n",
       "      <td>14</td>\n",
       "      <td>283</td>\n",
       "      <td>10</td>\n",
       "      <td>1</td>\n",
       "      <td>0</td>\n",
       "      <td>1</td>\n",
       "    </tr>\n",
       "    <tr>\n",
       "      <th>1</th>\n",
       "      <td>2024</td>\n",
       "      <td>25</td>\n",
       "      <td>170</td>\n",
       "      <td>4</td>\n",
       "      <td>14</td>\n",
       "      <td>275</td>\n",
       "      <td>12</td>\n",
       "      <td>1</td>\n",
       "      <td>0</td>\n",
       "      <td>0</td>\n",
       "    </tr>\n",
       "    <tr>\n",
       "      <th>2</th>\n",
       "      <td>2427</td>\n",
       "      <td>66</td>\n",
       "      <td>540</td>\n",
       "      <td>8</td>\n",
       "      <td>15</td>\n",
       "      <td>339</td>\n",
       "      <td>17</td>\n",
       "      <td>1</td>\n",
       "      <td>1</td>\n",
       "      <td>1</td>\n",
       "    </tr>\n",
       "    <tr>\n",
       "      <th>3</th>\n",
       "      <td>1899</td>\n",
       "      <td>33</td>\n",
       "      <td>420</td>\n",
       "      <td>4</td>\n",
       "      <td>14</td>\n",
       "      <td>273</td>\n",
       "      <td>18</td>\n",
       "      <td>1</td>\n",
       "      <td>0</td>\n",
       "      <td>1</td>\n",
       "    </tr>\n",
       "    <tr>\n",
       "      <th>4</th>\n",
       "      <td>1973</td>\n",
       "      <td>33</td>\n",
       "      <td>528</td>\n",
       "      <td>8</td>\n",
       "      <td>14</td>\n",
       "      <td>191</td>\n",
       "      <td>23</td>\n",
       "      <td>1</td>\n",
       "      <td>1</td>\n",
       "      <td>1</td>\n",
       "    </tr>\n",
       "  </tbody>\n",
       "</table>\n",
       "</div>"
      ],
      "text/plain": [
       "   price  speed   hd  ram  screen  ads  trend  cd_yes  multi_yes  premium_yes\n",
       "0   1994     50  107    2      14  283     10       1          0            1\n",
       "1   2024     25  170    4      14  275     12       1          0            0\n",
       "2   2427     66  540    8      15  339     17       1          1            1\n",
       "3   1899     33  420    4      14  273     18       1          0            1\n",
       "4   1973     33  528    8      14  191     23       1          1            1"
      ]
     },
     "execution_count": 65,
     "metadata": {},
     "output_type": "execute_result"
    }
   ],
   "source": [
    "df = pd.get_dummies(df1,columns=['cd', 'multi', 'premium'],drop_first=True)\n",
    "df.head()"
   ]
  },
  {
   "cell_type": "code",
   "execution_count": null,
   "metadata": {},
   "outputs": [],
   "source": [
    "# summary statistics"
   ]
  },
  {
   "cell_type": "code",
   "execution_count": 8,
   "metadata": {},
   "outputs": [
    {
     "data": {
      "text/html": [
       "<div>\n",
       "<style scoped>\n",
       "    .dataframe tbody tr th:only-of-type {\n",
       "        vertical-align: middle;\n",
       "    }\n",
       "\n",
       "    .dataframe tbody tr th {\n",
       "        vertical-align: top;\n",
       "    }\n",
       "\n",
       "    .dataframe thead th {\n",
       "        text-align: right;\n",
       "    }\n",
       "</style>\n",
       "<table border=\"1\" class=\"dataframe\">\n",
       "  <thead>\n",
       "    <tr style=\"text-align: right;\">\n",
       "      <th></th>\n",
       "      <th>price</th>\n",
       "      <th>speed</th>\n",
       "      <th>hd</th>\n",
       "      <th>ram</th>\n",
       "      <th>screen</th>\n",
       "      <th>ads</th>\n",
       "      <th>trend</th>\n",
       "      <th>cd_yes</th>\n",
       "      <th>multi_yes</th>\n",
       "      <th>premium_yes</th>\n",
       "    </tr>\n",
       "  </thead>\n",
       "  <tbody>\n",
       "    <tr>\n",
       "      <th>count</th>\n",
       "      <td>1022.000000</td>\n",
       "      <td>1022.000000</td>\n",
       "      <td>1022.000000</td>\n",
       "      <td>1022.000000</td>\n",
       "      <td>1022.000000</td>\n",
       "      <td>1022.000000</td>\n",
       "      <td>1022.000000</td>\n",
       "      <td>1022.000000</td>\n",
       "      <td>1022.000000</td>\n",
       "      <td>1022.000000</td>\n",
       "    </tr>\n",
       "    <tr>\n",
       "      <th>mean</th>\n",
       "      <td>2192.758317</td>\n",
       "      <td>52.039139</td>\n",
       "      <td>406.703523</td>\n",
       "      <td>8.158513</td>\n",
       "      <td>14.646771</td>\n",
       "      <td>220.695695</td>\n",
       "      <td>16.202544</td>\n",
       "      <td>0.479452</td>\n",
       "      <td>0.146771</td>\n",
       "      <td>0.901174</td>\n",
       "    </tr>\n",
       "    <tr>\n",
       "      <th>std</th>\n",
       "      <td>592.114579</td>\n",
       "      <td>21.092503</td>\n",
       "      <td>250.637603</td>\n",
       "      <td>5.686756</td>\n",
       "      <td>0.935472</td>\n",
       "      <td>75.142609</td>\n",
       "      <td>7.810003</td>\n",
       "      <td>0.499822</td>\n",
       "      <td>0.354051</td>\n",
       "      <td>0.298574</td>\n",
       "    </tr>\n",
       "    <tr>\n",
       "      <th>min</th>\n",
       "      <td>949.000000</td>\n",
       "      <td>25.000000</td>\n",
       "      <td>85.000000</td>\n",
       "      <td>2.000000</td>\n",
       "      <td>14.000000</td>\n",
       "      <td>39.000000</td>\n",
       "      <td>1.000000</td>\n",
       "      <td>0.000000</td>\n",
       "      <td>0.000000</td>\n",
       "      <td>0.000000</td>\n",
       "    </tr>\n",
       "    <tr>\n",
       "      <th>25%</th>\n",
       "      <td>1790.000000</td>\n",
       "      <td>33.000000</td>\n",
       "      <td>214.000000</td>\n",
       "      <td>4.000000</td>\n",
       "      <td>14.000000</td>\n",
       "      <td>162.000000</td>\n",
       "      <td>10.000000</td>\n",
       "      <td>0.000000</td>\n",
       "      <td>0.000000</td>\n",
       "      <td>1.000000</td>\n",
       "    </tr>\n",
       "    <tr>\n",
       "      <th>50%</th>\n",
       "      <td>2095.000000</td>\n",
       "      <td>50.000000</td>\n",
       "      <td>340.000000</td>\n",
       "      <td>8.000000</td>\n",
       "      <td>14.000000</td>\n",
       "      <td>246.000000</td>\n",
       "      <td>16.000000</td>\n",
       "      <td>0.000000</td>\n",
       "      <td>0.000000</td>\n",
       "      <td>1.000000</td>\n",
       "    </tr>\n",
       "    <tr>\n",
       "      <th>75%</th>\n",
       "      <td>2567.250000</td>\n",
       "      <td>66.000000</td>\n",
       "      <td>528.000000</td>\n",
       "      <td>8.000000</td>\n",
       "      <td>15.000000</td>\n",
       "      <td>283.000000</td>\n",
       "      <td>22.000000</td>\n",
       "      <td>1.000000</td>\n",
       "      <td>0.000000</td>\n",
       "      <td>1.000000</td>\n",
       "    </tr>\n",
       "    <tr>\n",
       "      <th>max</th>\n",
       "      <td>5399.000000</td>\n",
       "      <td>100.000000</td>\n",
       "      <td>1600.000000</td>\n",
       "      <td>32.000000</td>\n",
       "      <td>17.000000</td>\n",
       "      <td>339.000000</td>\n",
       "      <td>35.000000</td>\n",
       "      <td>1.000000</td>\n",
       "      <td>1.000000</td>\n",
       "      <td>1.000000</td>\n",
       "    </tr>\n",
       "  </tbody>\n",
       "</table>\n",
       "</div>"
      ],
      "text/plain": [
       "             price        speed           hd          ram       screen  \\\n",
       "count  1022.000000  1022.000000  1022.000000  1022.000000  1022.000000   \n",
       "mean   2192.758317    52.039139   406.703523     8.158513    14.646771   \n",
       "std     592.114579    21.092503   250.637603     5.686756     0.935472   \n",
       "min     949.000000    25.000000    85.000000     2.000000    14.000000   \n",
       "25%    1790.000000    33.000000   214.000000     4.000000    14.000000   \n",
       "50%    2095.000000    50.000000   340.000000     8.000000    14.000000   \n",
       "75%    2567.250000    66.000000   528.000000     8.000000    15.000000   \n",
       "max    5399.000000   100.000000  1600.000000    32.000000    17.000000   \n",
       "\n",
       "               ads        trend       cd_yes    multi_yes  premium_yes  \n",
       "count  1022.000000  1022.000000  1022.000000  1022.000000  1022.000000  \n",
       "mean    220.695695    16.202544     0.479452     0.146771     0.901174  \n",
       "std      75.142609     7.810003     0.499822     0.354051     0.298574  \n",
       "min      39.000000     1.000000     0.000000     0.000000     0.000000  \n",
       "25%     162.000000    10.000000     0.000000     0.000000     1.000000  \n",
       "50%     246.000000    16.000000     0.000000     0.000000     1.000000  \n",
       "75%     283.000000    22.000000     1.000000     0.000000     1.000000  \n",
       "max     339.000000    35.000000     1.000000     1.000000     1.000000  "
      ]
     },
     "execution_count": 8,
     "metadata": {},
     "output_type": "execute_result"
    }
   ],
   "source": [
    "df.describe()"
   ]
  },
  {
   "cell_type": "code",
   "execution_count": null,
   "metadata": {},
   "outputs": [],
   "source": [
    "# We are going to predict price, so let’s see how each independent variable correlates with this dependent variable"
   ]
  },
  {
   "cell_type": "code",
   "execution_count": 9,
   "metadata": {},
   "outputs": [
    {
     "data": {
      "text/plain": [
       "[Text(0.5, 0, 'price'),\n",
       " Text(1.5, 0, 'speed'),\n",
       " Text(2.5, 0, 'hd'),\n",
       " Text(3.5, 0, 'ram'),\n",
       " Text(4.5, 0, 'screen'),\n",
       " Text(5.5, 0, 'ads'),\n",
       " Text(6.5, 0, 'trend'),\n",
       " Text(7.5, 0, 'cd_yes'),\n",
       " Text(8.5, 0, 'multi_yes'),\n",
       " Text(9.5, 0, 'premium_yes')]"
      ]
     },
     "execution_count": 9,
     "metadata": {},
     "output_type": "execute_result"
    },
    {
     "data": {
      "image/png": "[encoded data removed]",
      "text/plain": [
       "<Figure size 432x288 with 2 Axes>"
      ]
     },
     "metadata": {
      "needs_background": "light"
     },
     "output_type": "display_data"
    }
   ],
   "source": [
    "corr = df.corr()\n",
    "ax = sns.heatmap(\n",
    "    corr, \n",
    "    vmin=-1, vmax=1, center=0,\n",
    "    cmap=sns.diverging_palette(20, 220, n=200),\n",
    "    square=True\n",
    ")\n",
    "ax.set_xticklabels(\n",
    "    ax.get_xticklabels(),\n",
    "    rotation=45,\n",
    "    horizontalalignment='right'\n",
    ")"
   ]
  },
  {
   "cell_type": "code",
   "execution_count": null,
   "metadata": {},
   "outputs": [],
   "source": [
    "# Corr matrix"
   ]
  },
  {
   "cell_type": "code",
   "execution_count": 10,
   "metadata": {},
   "outputs": [
    {
     "data": {
      "text/plain": [
       "price          1.000000\n",
       "ram            0.623086\n",
       "hd             0.418913\n",
       "screen         0.333393\n",
       "speed          0.316486\n",
       "cd_yes         0.215482\n",
       "ads            0.056045\n",
       "multi_yes     -0.013688\n",
       "premium_yes   -0.090511\n",
       "trend         -0.215846\n",
       "Name: price, dtype: float64"
      ]
     },
     "execution_count": 10,
     "metadata": {},
     "output_type": "execute_result"
    }
   ],
   "source": [
    "corr_matrix = df.corr()\n",
    "corr_matrix['price'].sort_values(ascending=False)"
   ]
  },
  {
   "cell_type": "code",
   "execution_count": 11,
   "metadata": {},
   "outputs": [],
   "source": [
    "# Try different scales to find the most suitable"
   ]
  },
  {
   "cell_type": "code",
   "execution_count": 66,
   "metadata": {},
   "outputs": [
    {
     "data": {
      "image/png": "[encoded data removed]",
      "text/plain": [
       "<Figure size 648x360 with 4 Axes>"
      ]
     },
     "metadata": {
      "needs_background": "light"
     },
     "output_type": "display_data"
    }
   ],
   "source": [
    "x = pd.DataFrame({\n",
    "    'ram': df.ram,\n",
    "    'hd': df.hd,\n",
    "    'speed': df.speed,\n",
    "    'screen' : df.screen,\n",
    "    'ads': df.ads,\n",
    "    'trend' : df.trend,\n",
    "    'cd_yes': df.cd_yes,\n",
    "    'multi_yes': df.multi_yes,\n",
    "    'premium_yes':df.premium_yes\n",
    "})\n",
    "\n",
    "scaler = preprocessing.MinMaxScaler()\n",
    "minmax_scaled_df = scaler.fit_transform(x)\n",
    "minmax_scaled_df = pd.DataFrame(minmax_scaled_df, columns=['ram', 'hd', 'speed', 'screen', 'ads', 'trend','cd_yes', 'multi_yes', 'premium_yes'])\n",
    "\n",
    "scaler = preprocessing.StandardScaler()\n",
    "scaled_df = scaler.fit_transform(x)\n",
    "scaled_df = pd.DataFrame(scaled_df, columns=['ram', 'hd', 'speed', 'screen', 'ads', 'trend','cd_yes', 'multi_yes', 'premium_yes'])\n",
    "    \n",
    "scaler = preprocessing.RobustScaler()\n",
    "robust_scaled_df = scaler.fit_transform(x)\n",
    "robust_scaled_df = pd.DataFrame(robust_scaled_df, columns=['ram', 'hd', 'speed', 'screen', 'ads', 'trend', 'cd_yes', 'multi_yes', 'premium_yes'])\n",
    "\n",
    "\n",
    "fig, (ax1, ax2, ax3, ax4) = plt.subplots(ncols=4, figsize=(9, 5))\n",
    "ax1.set_title('Before Scaling')\n",
    "sns.kdeplot(x['ram'], ax=ax1)\n",
    "sns.kdeplot(x['hd'], ax=ax1)\n",
    "sns.kdeplot(x['speed'], ax=ax1)\n",
    "sns.kdeplot(x['screen'], ax=ax1)\n",
    "sns.kdeplot(x['ads'], ax=ax1)\n",
    "sns.kdeplot(x['trend'], ax=ax1)\n",
    "sns.kdeplot(x['cd_yes'], ax=ax1)\n",
    "sns.kdeplot(x['multi_yes'], ax=ax1)\n",
    "sns.kdeplot(x['premium_yes'], ax=ax1)\n",
    "\n",
    "ax2.set_title('After Min-Max Scaling')\n",
    "sns.kdeplot(minmax_scaled_df['ram'], ax=ax2)\n",
    "sns.kdeplot(minmax_scaled_df['hd'], ax=ax2)\n",
    "sns.kdeplot(minmax_scaled_df['speed'], ax=ax2)\n",
    "sns.kdeplot(minmax_scaled_df['screen'], ax=ax2)\n",
    "sns.kdeplot(minmax_scaled_df['ads'], ax=ax2)\n",
    "sns.kdeplot(minmax_scaled_df['trend'], ax=ax2)\n",
    "sns.kdeplot(minmax_scaled_df['cd_yes'], ax=ax2)\n",
    "sns.kdeplot(minmax_scaled_df['multi_yes'], ax=ax2)\n",
    "sns.kdeplot(minmax_scaled_df['premium_yes'], ax=ax2)\n",
    "\n",
    "ax3.set_title('After Standard Scaler')\n",
    "sns.kdeplot(scaled_df['ram'], ax=ax3)\n",
    "sns.kdeplot(scaled_df['hd'], ax=ax3)\n",
    "sns.kdeplot(scaled_df['speed'], ax=ax3)\n",
    "sns.kdeplot(scaled_df['screen'], ax=ax3)\n",
    "sns.kdeplot(scaled_df['ads'], ax=ax3)\n",
    "sns.kdeplot(scaled_df['trend'], ax=ax3)\n",
    "sns.kdeplot(scaled_df['cd_yes'], ax=ax3)\n",
    "sns.kdeplot(scaled_df['multi_yes'], ax=ax3)\n",
    "sns.kdeplot(scaled_df['premium_yes'], ax=ax3)\n",
    "\n",
    "ax4.set_title('After Robust Scaling')\n",
    "sns.kdeplot(robust_scaled_df['ram'], ax=ax4)\n",
    "sns.kdeplot(robust_scaled_df['hd'], ax=ax4)\n",
    "sns.kdeplot(robust_scaled_df['speed'], ax=ax4)\n",
    "sns.kdeplot(robust_scaled_df['screen'], ax=ax4)\n",
    "sns.kdeplot(robust_scaled_df['ads'], ax=ax4)\n",
    "sns.kdeplot(robust_scaled_df['trend'], ax=ax4)\n",
    "sns.kdeplot(robust_scaled_df['cd_yes'], ax=ax4)\n",
    "sns.kdeplot(robust_scaled_df['multi_yes'], ax=ax4)\n",
    "sns.kdeplot(robust_scaled_df['premium_yes'], ax=ax4)\n",
    "plt.show()"
   ]
  },
  {
   "cell_type": "code",
   "execution_count": null,
   "metadata": {},
   "outputs": [],
   "source": [
    "#Based on the result, Robust Scaler is preferred for this dataset"
   ]
  },
  {
   "cell_type": "code",
   "execution_count": null,
   "metadata": {},
   "outputs": [],
   "source": [
    "# predictor and target split"
   ]
  },
  {
   "cell_type": "code",
   "execution_count": 67,
   "metadata": {},
   "outputs": [],
   "source": [
    "X = df.drop(['price'], axis = 1)\n",
    "y = df['price']"
   ]
  },
  {
   "cell_type": "code",
   "execution_count": 68,
   "metadata": {},
   "outputs": [],
   "source": [
    "# Split the dataset "
   ]
  },
  {
   "cell_type": "code",
   "execution_count": 69,
   "metadata": {},
   "outputs": [],
   "source": [
    "from sklearn.model_selection import train_test_split\n",
    "X_train, X_test, y_train, y_test = train_test_split(X,y,random_state=0, test_size=0.3)"
   ]
  },
  {
   "cell_type": "code",
   "execution_count": 70,
   "metadata": {},
   "outputs": [],
   "source": [
    "# Import the relevant packages"
   ]
  },
  {
   "cell_type": "code",
   "execution_count": 71,
   "metadata": {},
   "outputs": [],
   "source": [
    "from sklearn.linear_model import LinearRegression\n",
    "import xgboost as xgb\n",
    "from sklearn.ensemble import AdaBoostRegressor\n",
    "from sklearn.tree import DecisionTreeRegressor\n",
    "from sklearn.ensemble import RandomForestRegressor\n",
    "from sklearn.neighbors import KNeighborsRegressor\n",
    "from sklearn.svm import SVR\n",
    "\n",
    "from sklearn.metrics import mean_squared_error, r2_score\n",
    "from sklearn.model_selection import GridSearchCV"
   ]
  },
  {
   "cell_type": "code",
   "execution_count": 72,
   "metadata": {},
   "outputs": [],
   "source": [
    "# Select features and Find the best hyper-parameters for the regressors"
   ]
  },
  {
   "cell_type": "code",
   "execution_count": 73,
   "metadata": {},
   "outputs": [
    {
     "name": "stdout",
     "output_type": "stream",
     "text": [
      "The selected features are : ['speed', 'hd', 'ram', 'screen', 'ads', 'trend', 'cd_yes', 'multi_yes', 'premium_yes']\n"
     ]
    }
   ],
   "source": [
    "# Linear Regression\n",
    "X1 = sm.add_constant(X_train)\n",
    "ols = sm.OLS(y_train,X1)\n",
    "lr = ols.fit()\n",
    "\n",
    "selected_features = list(X.columns)\n",
    "pmax = 1\n",
    "while (len(selected_features)>0):\n",
    "    p= []\n",
    "    X_1 = X[selected_features]\n",
    "    X_1 = sm.add_constant(X_1)\n",
    "    model = sm.OLS(y,X_1).fit()\n",
    "    p = pd.Series(model.pvalues.values[1:],index = selected_features)      \n",
    "    pmax = max(p)\n",
    "    feature_with_p_max = p.idxmax()\n",
    "    if(pmax>0.05):\n",
    "        selected_features.remove(feature_with_p_max)\n",
    "    else:\n",
    "        break  \n",
    "        \n",
    "print('The selected features are :', selected_features)"
   ]
  },
  {
   "cell_type": "code",
   "execution_count": 74,
   "metadata": {},
   "outputs": [],
   "source": [
    "# print(model.summary())"
   ]
  },
  {
   "cell_type": "code",
   "execution_count": 75,
   "metadata": {},
   "outputs": [
    {
     "name": "stdout",
     "output_type": "stream",
     "text": [
      "const           4.705365e-03\n",
      "speed           2.539097e-77\n",
      "hd              1.172543e-22\n",
      "ram             1.086303e-57\n",
      "screen          1.436415e-31\n",
      "ads             1.280965e-04\n",
      "trend          1.113142e-160\n",
      "cd_yes          9.363687e-04\n",
      "multi_yes       6.803273e-04\n",
      "premium_yes     1.242102e-54\n",
      "dtype: float64\n"
     ]
    }
   ],
   "source": [
    "print(model.pvalues)"
   ]
  },
  {
   "cell_type": "code",
   "execution_count": 81,
   "metadata": {},
   "outputs": [
    {
     "name": "stdout",
     "output_type": "stream",
     "text": [
      "The best hyper-parameters for XGBBoost are:  {'learning_rate': 0.1, 'max_depth': 5, 'n_estimators': 150}\n"
     ]
    }
   ],
   "source": [
    "# XGboost\n",
    "tuned_parameters = [{'max_depth': [5,10, 15, 20, 25, 30],'learning_rate':[0.001, 0.01, 0.1, 0.5], 'n_estimators': [100,150,200, 250, 300]}]\n",
    "MSE_xgb = ['mean_squared_error(y_test,y_pred2)']\n",
    "for value in MSE_xgb:\n",
    "    regr = GridSearchCV(xgb.XGBRegressor(silent = True), tuned_parameters, cv=4)\n",
    "    regr.fit(X_train, y_train)\n",
    "    y_true, y_pred2 = y_test, regr.predict(X_test)\n",
    "    \n",
    "print('The best hyper-parameters for XGBBoost are: ',regr.best_params_)"
   ]
  },
  {
   "cell_type": "code",
   "execution_count": 82,
   "metadata": {},
   "outputs": [
    {
     "name": "stdout",
     "output_type": "stream",
     "text": [
      "The best hyper-parameters for AdaBoost are:  {'learning_rate': 3, 'n_estimators': 200}\n"
     ]
    }
   ],
   "source": [
    "# AdaBoost\n",
    "tuned_parameters = [{'learning_rate': [0.1,1,2,3,4,5], 'n_estimators': [100,200,300, 400, 500]}]\n",
    "MSE_ada = ['mean_squared_error(y_test,y_pred3)']\n",
    "for value in MSE_ada:\n",
    "    adaregr = GridSearchCV(AdaBoostRegressor(), tuned_parameters, cv=4)\n",
    "    adaregr.fit(X_train, y_train)\n",
    "    y_true, y_pred3 = y_test, adaregr.predict(X_test)\n",
    "    \n",
    "print('The best hyper-parameters for AdaBoost are: ', adaregr.best_params_ )                               "
   ]
  },
  {
   "cell_type": "code",
   "execution_count": 83,
   "metadata": {},
   "outputs": [
    {
     "name": "stdout",
     "output_type": "stream",
     "text": [
      "The optimum max_depth for Decision Tree is:  {'max_depth': 10}\n"
     ]
    }
   ],
   "source": [
    "# Decision Tree\n",
    "tuned_parameters = [{'max_depth': [1,2,3,4,5,10, 15, 20, 25, 50, 100,200]}]\n",
    "MSE_dt = ['mean_squared_error(y_test,y_pred4)']\n",
    "for value in MSE_dt:\n",
    "    regressor_dt = GridSearchCV(DecisionTreeRegressor(), tuned_parameters, cv=4)\n",
    "    regressor_dt.fit(X_train, y_train)\n",
    "    y_true, y_pred4 = y_test, regressor_dt.predict(X_test)\n",
    "    \n",
    "print('The optimum max_depth for Decision Tree is: ', regressor_dt.best_params_ )                        "
   ]
  },
  {
   "cell_type": "code",
   "execution_count": 84,
   "metadata": {},
   "outputs": [
    {
     "name": "stdout",
     "output_type": "stream",
     "text": [
      "The best hyper-parameters for Random Forests are:  {'max_depth': 15, 'n_estimators': 25}\n"
     ]
    }
   ],
   "source": [
    "# Random Forests\n",
    "tuned_parameters = [{'max_depth': [5,10, 15, 20, 50, 70], 'n_estimators': [10, 25, 50, 100,150, 200, 250]}]\n",
    "MSE_rf = ['mean_squared_error(y_test, y_pred5)']\n",
    "for value in MSE_rf:\n",
    "    regr_rf = GridSearchCV(RandomForestRegressor(), tuned_parameters, cv=4)\n",
    "    regr_rf.fit(X_train, y_train)\n",
    "    y_true, y_pred5 = y_test, regr_rf.predict(X_test)\n",
    "    \n",
    "print('The best hyper-parameters for Random Forests are: ',regr_rf.best_params_)                             "
   ]
  },
  {
   "cell_type": "code",
   "execution_count": 85,
   "metadata": {},
   "outputs": [
    {
     "name": "stdout",
     "output_type": "stream",
     "text": [
      "The best hyper-parameters for KNN are:  {'n_neighbors': 3, 'p': 1}\n"
     ]
    }
   ],
   "source": [
    "# KNN\n",
    "scaler = preprocessing.RobustScaler()                         # Features Scaling is required for distance-based algorithms\n",
    "X_train_scaled = scaler.fit_transform(X_train)\n",
    "X_test_scaled = scaler.fit_transform(X_test)\n",
    "\n",
    "tuned_parameters = [{'n_neighbors': [1,2,3,4,5,10,15,20], 'p': [1,2]}]\n",
    "MSE_knn = ['mean_squared_error(y_test,y_pred)']\n",
    "for i in MSE_knn:\n",
    "    model = GridSearchCV(KNeighborsRegressor(), tuned_parameters, cv=4)\n",
    "    model.fit(X_train_scaled, y_train)\n",
    "    y_true, y_pred6 = y_test, model.predict(X_test_scaled)\n",
    "    \n",
    "print('The best hyper-parameters for KNN are: ', model.best_params_)                              "
   ]
  },
  {
   "cell_type": "code",
   "execution_count": 86,
   "metadata": {},
   "outputs": [
    {
     "name": "stdout",
     "output_type": "stream",
     "text": [
      "The best hyper-parameters for SVR are:  {'C': 10, 'gamma': 0.0001, 'kernel': 'linear'}\n"
     ]
    }
   ],
   "source": [
    "# SVM\n",
    "tuned_parameters = [{'kernel': ['linear', 'rbf', 'poly'], 'C':[1, 2, 3, 5, 6, 7, 10], 'gamma': [0.0001, 0.001, 0.01, 0.1, 1]}]\n",
    "MSE_svm = ['mean_squared_error(y_test,y_pred7)']\n",
    "for value in MSE_svm:\n",
    "    svr_regr = GridSearchCV(SVR(), tuned_parameters, cv=4)\n",
    "    svr_regr.fit(X_train_scaled, y_train)\n",
    "    y_true, y_pred7 = y_test, svr_regr.predict(X_test_scaled)\n",
    "    \n",
    "print('The best hyper-parameters for SVR are: ', svr_regr.best_params_)"
   ]
  },
  {
   "cell_type": "code",
   "execution_count": null,
   "metadata": {},
   "outputs": [],
   "source": [
    "# Build the models using the tuned hyper-parameters and fit"
   ]
  },
  {
   "cell_type": "code",
   "execution_count": 88,
   "metadata": {},
   "outputs": [
    {
     "data": {
      "text/plain": [
       "SVR(C=10, cache_size=200, coef0=0.0, degree=3, epsilon=0.1, gamma=0.0001,\n",
       "    kernel='linear', max_iter=-1, shrinking=True, tol=0.001, verbose=False)"
      ]
     },
     "execution_count": 88,
     "metadata": {},
     "output_type": "execute_result"
    }
   ],
   "source": [
    "# Linear Regression\n",
    "regressor = LinearRegression()\n",
    "regressor.fit(X_train_scaled, y_train)\n",
    "\n",
    "# XGBoost\n",
    "regr = xgb.XGBRegressor(learning_rate=0.1, max_depth=5, n_estimators=150, random_state = 0, silent = True)\n",
    "regr.fit(X_train, y_train)\n",
    "\n",
    "# AdaBoost\n",
    "adaregr = AdaBoostRegressor(random_state=0, learning_rate = 3, n_estimators=200)\n",
    "adaregr.fit(X_train, y_train)\n",
    "\n",
    "# Decision Tree\n",
    "regressor_dt = DecisionTreeRegressor(random_state=0, max_depth = 10)\n",
    "regressor_dt.fit(X_train,y_train)\n",
    "\n",
    "# Random Forests\n",
    "regr_rf = RandomForestRegressor(max_depth=15, random_state=0,\n",
    "                             n_estimators=25)\n",
    "regr_rf.fit(X_train, y_train)\n",
    "\n",
    "# KNN\n",
    "neigh = KNeighborsRegressor(n_neighbors = 3, metric = 'minkowski', p = 1)\n",
    "neigh.fit(X_train_scaled, y_train)\n",
    "\n",
    "# SVR\n",
    "svr_regr = SVR(gamma=0.0001, kernel = 'linear', C =10)\n",
    "svr_regr.fit(X_train_scaled, y_train) "
   ]
  },
  {
   "cell_type": "code",
   "execution_count": 89,
   "metadata": {},
   "outputs": [],
   "source": [
    "# Predict price using the models above"
   ]
  },
  {
   "cell_type": "code",
   "execution_count": 90,
   "metadata": {},
   "outputs": [],
   "source": [
    "y_pred1 = regressor.predict(X_test_scaled)    # Linear regression\n",
    "y_pred2 = regr.predict(X_test)                # XGBoost\n",
    "y_pred3 = adaregr.predict(X_test)             # AdaBoost\n",
    "y_pred4 = regressor_dt.predict(X_test)        # Decision Tree\n",
    "y_pred5 = regr_rf.predict(X_test)             # Random Forests\n",
    "y_pred6 = neigh.predict(X_test_scaled)        # KNN\n",
    "y_pred7 = svr_regr.predict(X_test_scaled)     # SVR"
   ]
  },
  {
   "cell_type": "code",
   "execution_count": 91,
   "metadata": {},
   "outputs": [],
   "source": [
    "# Find R Squared (R^2) Values"
   ]
  },
  {
   "cell_type": "code",
   "execution_count": 92,
   "metadata": {},
   "outputs": [
    {
     "name": "stdout",
     "output_type": "stream",
     "text": [
      "The R^2 value for Linear Regression is        : 0.806\n",
      "The R^2 value for XGBoost Regressor is        : 0.885\n",
      "The R^2 value for AdaBoost Regressor is       : 0.728\n",
      "The R^2 value for Decision Tree Regressor is  : 0.758\n",
      "The R^2 value for Random Forests Regressor is : 0.86\n",
      "The R^2 value for KNN Regressor is            : 0.795\n",
      "The R^2 value for SVM Regressor is            : 0.758\n"
     ]
    }
   ],
   "source": [
    "print('The R^2 value for Linear Regression is        :', round((r2_score(y_test,y_pred1)), 3))\n",
    "print('The R^2 value for XGBoost Regressor is        :', round((r2_score(y_test,y_pred2)), 3))\n",
    "print('The R^2 value for AdaBoost Regressor is       :', round((r2_score(y_test,y_pred3)), 3))\n",
    "print('The R^2 value for Decision Tree Regressor is  :', round((r2_score(y_test,y_pred4)), 3))\n",
    "print('The R^2 value for Random Forests Regressor is :', round((r2_score(y_test,y_pred5)), 3))\n",
    "print('The R^2 value for KNN Regressor is            :', round((r2_score(y_test,y_pred6)), 3))\n",
    "print('The R^2 value for SVM Regressor is            :', round((r2_score(y_test,y_pred7)), 3))"
   ]
  },
  {
   "cell_type": "code",
   "execution_count": null,
   "metadata": {},
   "outputs": [],
   "source": [
    "# Find adjusted R Squared (Adj R2) Values"
   ]
  },
  {
   "cell_type": "code",
   "execution_count": 118,
   "metadata": {},
   "outputs": [
    {
     "name": "stdout",
     "output_type": "stream",
     "text": [
      "The Adj R2 value for Linear Regression is        : 0.804\n",
      "The Adj R2 value for XGBoost Regressor is        : 0.884\n",
      "The Adj R2 value for AdaBoost Regressor is       : 0.725\n",
      "The Adj R2 value for Decision Tree Regressor is  : 0.756\n",
      "The Adj R2 value for Random Forests Regressor is : 0.859\n",
      "The Adj R2 value for KNN Regressor is            : 0.793\n",
      "The Adj R2 value for SVM Regressor is            : 0.756\n"
     ]
    }
   ],
   "source": [
    "print('The Adj R2 value for Linear Regression is        :', round((1 - (1-r2_score(y_test,y_pred1))*(len(y)-1)/(len(y)-X.shape[1]-1)),3))\n",
    "print('The Adj R2 value for XGBoost Regressor is        :', round((1 - (1-r2_score(y_test,y_pred2))*(len(y)-1)/(len(y)-X.shape[1]-1)),3))\n",
    "print('The Adj R2 value for AdaBoost Regressor is       :', round((1 - (1-r2_score(y_test,y_pred3))*(len(y)-1)/(len(y)-X.shape[1]-1)),3))\n",
    "print('The Adj R2 value for Decision Tree Regressor is  :', round((1 - (1-r2_score(y_test,y_pred4))*(len(y)-1)/(len(y)-X.shape[1]-1)),3))\n",
    "print('The Adj R2 value for Random Forests Regressor is :', round((1 - (1-r2_score(y_test,y_pred5))*(len(y)-1)/(len(y)-X.shape[1]-1)),3))\n",
    "print('The Adj R2 value for KNN Regressor is            :', round((1 - (1-r2_score(y_test,y_pred6))*(len(y)-1)/(len(y)-X.shape[1]-1)),3))\n",
    "print('The Adj R2 value for SVM Regressor is            :', round((1 - (1-r2_score(y_test,y_pred7))*(len(y)-1)/(len(y)-X.shape[1]-1)),3))"
   ]
  },
  {
   "cell_type": "code",
   "execution_count": 93,
   "metadata": {},
   "outputs": [],
   "source": [
    "# Find Mean Squared Errors (MSE) and Root Mean Squared Errors (RMSE)"
   ]
  },
  {
   "cell_type": "code",
   "execution_count": 94,
   "metadata": {},
   "outputs": [],
   "source": [
    "MSE_lr  = mean_squared_error(y_test,y_pred1)\n",
    "MSE_xgb = mean_squared_error(y_test,y_pred2)\n",
    "MSE_ada = mean_squared_error(y_test,y_pred3)\n",
    "MSE_dt  = mean_squared_error(y_test,y_pred4)\n",
    "MSE_rf  = mean_squared_error(y_test,y_pred5)\n",
    "MSE_knn = mean_squared_error(y_test,y_pred6)\n",
    "MSE_svr = mean_squared_error(y_test,y_pred7)"
   ]
  },
  {
   "cell_type": "code",
   "execution_count": 95,
   "metadata": {},
   "outputs": [
    {
     "name": "stdout",
     "output_type": "stream",
     "text": [
      "The RMSE value for Linear Regression is        : 268.0\n",
      "The RMSE value for XGBoost Regressor is        : 207.0\n",
      "The RMSE value for AdaBoost Regressor is       : 318.0\n",
      "The RMSE value for Decision Tree Regressor is  : 299.0\n",
      "The RMSE value for Random Forests Regressor is : 228.0\n",
      "The RMSE value for KNN Regressor is            : 276.0\n",
      "The RMSE value for SVM Regressor is            : 300.0\n"
     ]
    }
   ],
   "source": [
    "print('The RMSE value for Linear Regression is        :', round(np.sqrt(MSE_lr)));\n",
    "print('The RMSE value for XGBoost Regressor is        :', round(np.sqrt(MSE_xgb)));\n",
    "print('The RMSE value for AdaBoost Regressor is       :', round(np.sqrt(MSE_ada)));\n",
    "print('The RMSE value for Decision Tree Regressor is  :', round(np.sqrt(MSE_dt)));\n",
    "print('The RMSE value for Random Forests Regressor is :', round(np.sqrt(MSE_rf)));\n",
    "print('The RMSE value for KNN Regressor is            :', round(np.sqrt(MSE_knn)));\n",
    "print('The RMSE value for SVM Regressor is            :', round(np.sqrt(MSE_svr)));"
   ]
  },
  {
   "cell_type": "code",
   "execution_count": 96,
   "metadata": {},
   "outputs": [],
   "source": [
    "# Plot the actual vs predicted prices"
   ]
  },
  {
   "cell_type": "code",
   "execution_count": 97,
   "metadata": {},
   "outputs": [
    {
     "data": {
      "text/plain": [
       "Text(0.5, 1.0, 'Linear Regression')"
      ]
     },
     "execution_count": 97,
     "metadata": {},
     "output_type": "execute_result"
    },
    {
     "data": {
      "image/png": "[encoded data removed]",
      "text/plain": [
       "<Figure size 432x288 with 1 Axes>"
      ]
     },
     "metadata": {
      "needs_background": "light"
     },
     "output_type": "display_data"
    }
   ],
   "source": [
    "plt.scatter(y_test, y_pred1)\n",
    "plt.xlabel(\"Actual price\")\n",
    "plt.ylabel(\"Predicted price\")\n",
    "plt.title(\"Linear Regression\")"
   ]
  },
  {
   "cell_type": "code",
   "execution_count": 98,
   "metadata": {},
   "outputs": [
    {
     "data": {
      "text/plain": [
       "Text(0.5, 1.0, 'Xgboost')"
      ]
     },
     "execution_count": 98,
     "metadata": {},
     "output_type": "execute_result"
    },
    {
     "data": {
      "image/png": "[encoded data removed]",
      "text/plain": [
       "<Figure size 432x288 with 1 Axes>"
      ]
     },
     "metadata": {
      "needs_background": "light"
     },
     "output_type": "display_data"
    }
   ],
   "source": [
    "plt.scatter(y_test, y_pred2)\n",
    "plt.xlabel(\"Actual price\")\n",
    "plt.ylabel(\"Predicted price\")\n",
    "plt.title(\"Xgboost\")"
   ]
  },
  {
   "cell_type": "code",
   "execution_count": 99,
   "metadata": {},
   "outputs": [
    {
     "data": {
      "text/plain": [
       "Text(0.5, 1.0, 'Adaboost')"
      ]
     },
     "execution_count": 99,
     "metadata": {},
     "output_type": "execute_result"
    },
    {
     "data": {
      "image/png": "[encoded data removed]",
      "text/plain": [
       "<Figure size 432x288 with 1 Axes>"
      ]
     },
     "metadata": {
      "needs_background": "light"
     },
     "output_type": "display_data"
    }
   ],
   "source": [
    "plt.scatter(y_test, y_pred3)\n",
    "plt.xlabel(\"Actual price\")\n",
    "plt.ylabel(\"Predicted price\")\n",
    "plt.title(\"Adaboost\")"
   ]
  },
  {
   "cell_type": "code",
   "execution_count": 100,
   "metadata": {},
   "outputs": [
    {
     "data": {
      "text/plain": [
       "Text(0.5, 1.0, 'Decision Tree')"
      ]
     },
     "execution_count": 100,
     "metadata": {},
     "output_type": "execute_result"
    },
    {
     "data": {
      "image/png": "[encoded data removed]",
      "text/plain": [
       "<Figure size 432x288 with 1 Axes>"
      ]
     },
     "metadata": {
      "needs_background": "light"
     },
     "output_type": "display_data"
    }
   ],
   "source": [
    "plt.scatter(y_test, y_pred4)\n",
    "plt.xlabel(\"Actual price\")\n",
    "plt.ylabel(\"Predicted price\")\n",
    "plt.title(\"Decision Tree\")"
   ]
  },
  {
   "cell_type": "code",
   "execution_count": 101,
   "metadata": {},
   "outputs": [
    {
     "data": {
      "text/plain": [
       "Text(0.5, 1.0, 'Random Forest')"
      ]
     },
     "execution_count": 101,
     "metadata": {},
     "output_type": "execute_result"
    },
    {
     "data": {
      "image/png": "[encoded data removed]",
      "text/plain": [
       "<Figure size 432x288 with 1 Axes>"
      ]
     },
     "metadata": {
      "needs_background": "light"
     },
     "output_type": "display_data"
    }
   ],
   "source": [
    "plt.scatter(y_test, y_pred5)\n",
    "plt.xlabel(\"Actual price\")\n",
    "plt.ylabel(\"Predicted price\")\n",
    "plt.title(\"Random Forest\")"
   ]
  },
  {
   "cell_type": "code",
   "execution_count": 102,
   "metadata": {},
   "outputs": [
    {
     "data": {
      "text/plain": [
       "Text(0.5, 1.0, 'KNN')"
      ]
     },
     "execution_count": 102,
     "metadata": {},
     "output_type": "execute_result"
    },
    {
     "data": {
      "image/png": "[encoded data removed]",
      "text/plain": [
       "<Figure size 432x288 with 1 Axes>"
      ]
     },
     "metadata": {
      "needs_background": "light"
     },
     "output_type": "display_data"
    }
   ],
   "source": [
    "plt.scatter(y_test, y_pred6)\n",
    "plt.xlabel(\"Actual price\")\n",
    "plt.ylabel(\"Predicted price\")\n",
    "plt.title(\"KNN\")"
   ]
  },
  {
   "cell_type": "code",
   "execution_count": 103,
   "metadata": {},
   "outputs": [
    {
     "data": {
      "text/plain": [
       "Text(0.5, 1.0, 'SVM')"
      ]
     },
     "execution_count": 103,
     "metadata": {},
     "output_type": "execute_result"
    },
    {
     "data": {
      "image/png": "[encoded data removed]",
      "text/plain": [
       "<Figure size 432x288 with 1 Axes>"
      ]
     },
     "metadata": {
      "needs_background": "light"
     },
     "output_type": "display_data"
    }
   ],
   "source": [
    "plt.scatter(y_test, y_pred7)\n",
    "plt.xlabel(\"Actual price\")\n",
    "plt.ylabel(\"Predicted price\")\n",
    "plt.title(\"SVM\")"
   ]
  }
 ],
 "metadata": {
  "kernelspec": {
   "display_name": "Python 3",
   "language": "python",
   "name": "python3"
  },
  "language_info": {
   "codemirror_mode": {
    "name": "ipython",
    "version": 3
   },
   "file_extension": ".py",
   "mimetype": "text/x-python",
   "name": "python",
   "nbconvert_exporter": "python",
   "pygments_lexer": "ipython3",
   "version": "3.7.3"
  }
 },
 "nbformat": 4,
 "nbformat_minor": 2
}
