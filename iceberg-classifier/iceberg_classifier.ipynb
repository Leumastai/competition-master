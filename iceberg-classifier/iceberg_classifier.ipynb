{
  "nbformat": 4,
  "nbformat_minor": 0,
  "metadata": {
    "colab": {
      "provenance": []
    },
    "kernelspec": {
      "name": "python3",
      "display_name": "Python 3"
    },
    "language_info": {
      "name": "python"
    }
  },
  "cells": [
    {
      "cell_type": "markdown",
      "source": [
        "## Iceberg Classifier Submission"
      ],
      "metadata": {
        "id": "GipjIy6teu-X"
      }
    },
    {
      "cell_type": "markdown",
      "source": [
        "### DataLoader"
      ],
      "metadata": {
        "id": "oUay9Ee_e4jV"
      }
    },
    {
      "cell_type": "code",
      "source": [
        "%%capture\n",
        "!pip install xgboost\n",
        "!pip install hyperopt\n",
        "!pip install py7zr\n",
        "!pip install albumentations\n",
        "!pip install lightgbm\n",
        "#!pip install kaggle"
      ],
      "metadata": {
        "id": "n1E4HuQ6falE"
      },
      "execution_count": null,
      "outputs": []
    },
    {
      "cell_type": "code",
      "execution_count": null,
      "metadata": {
        "colab": {
          "base_uri": "https://localhost:8080/"
        },
        "id": "iy5ZoxbsgzeH",
        "outputId": "cd9377cb-bf9e-4f08-e122-ba2950873820"
      },
      "outputs": [
        {
          "output_type": "stream",
          "name": "stdout",
          "text": [
            "Mounted at /content/gdrive\n"
          ]
        }
      ],
      "source": [
        "from google.colab import drive\n",
        "drive.mount(\"/content/gdrive\")"
      ]
    },
    {
      "cell_type": "code",
      "source": [
        "import os\n",
        "\n",
        "# Kaggle configuration\n",
        "os.environ[\"KAGGLE_CONFIG_DIR\"] = \"/content/gdrive/My Drive/Kaggle\"\n",
        "MAIN_DIR = \"/content/gdrive/My Drive/Kaggle\"\n",
        "os.chdir(MAIN_DIR)\n",
        "\n",
        "# download data\n",
        "!kaggle competitions download -c statoil-iceberg-classifier-challenge"
      ],
      "metadata": {
        "id": "vH_Bs0gYpIjj"
      },
      "execution_count": null,
      "outputs": []
    },
    {
      "cell_type": "code",
      "source": [
        "!unzip /content/gdrive/MyDrive/Kaggle/statoil-iceberg-classifier-challenge.zip"
      ],
      "metadata": {
        "colab": {
          "base_uri": "https://localhost:8080/"
        },
        "id": "9kbumeU4rT_y",
        "outputId": "bb1080bf-f546-4359-8cd1-8609b5e5545d"
      },
      "execution_count": null,
      "outputs": [
        {
          "output_type": "stream",
          "name": "stdout",
          "text": [
            "Archive:  /content/gdrive/MyDrive/Kaggle/statoil-iceberg-classifier-challenge.zip\n",
            "  inflating: sample_submission.csv.7z  \n",
            "  inflating: test.json.7z            \n",
            "  inflating: train.json.7z           \n"
          ]
        }
      ]
    },
    {
      "cell_type": "code",
      "source": [],
      "metadata": {
        "id": "oaC0uRp9ruDF"
      },
      "execution_count": null,
      "outputs": []
    },
    {
      "cell_type": "code",
      "source": [
        "test_path = \"/content/gdrive/MyDrive/Kaggle/test.json.7z\"\n",
        "train_path = \"/content/gdrive/MyDrive/Kaggle/train.json.7z\""
      ],
      "metadata": {
        "id": "Ln5YzieOr1vB"
      },
      "execution_count": null,
      "outputs": []
    },
    {
      "cell_type": "code",
      "source": [
        "import os\n",
        "#os.chdir(\"/content\")\n",
        "import py7zr\n",
        "\n",
        "file = py7zr.SevenZipFile(test_path, mode='r')\n",
        "file.extractall('.')\n",
        "\n",
        "file = py7zr.SevenZipFile(train_path, mode='r')\n",
        "file.extractall('.')"
      ],
      "metadata": {
        "id": "X2xyk4l5sjdo"
      },
      "execution_count": null,
      "outputs": []
    },
    {
      "cell_type": "code",
      "source": [],
      "metadata": {
        "id": "Amzxb8QuulA0"
      },
      "execution_count": null,
      "outputs": []
    },
    {
      "cell_type": "markdown",
      "source": [
        "### Data Processing / Augmentation"
      ],
      "metadata": {
        "id": "_X_K43zJfFQQ"
      }
    },
    {
      "cell_type": "code",
      "source": [
        "import pandas as pd\n",
        "import numpy as np\n",
        "import math\n",
        "\n",
        "data_dir = \"/content/data/processed\"\n",
        "test_data = pd.read_json(os.path.join(data_dir, \"test.json\"))\n",
        "train_data = pd.read_json(os.path.join(data_dir, \"train.json\"))"
      ],
      "metadata": {
        "id": "ecJVGgvpu8fc"
      },
      "execution_count": null,
      "outputs": []
    },
    {
      "cell_type": "code",
      "source": [
        "train_data.head()"
      ],
      "metadata": {
        "colab": {
          "base_uri": "https://localhost:8080/",
          "height": 320
        },
        "id": "Ma6KE8cAvdoU",
        "outputId": "e992f4fc-a160-4720-8092-93e91587089f"
      },
      "execution_count": null,
      "outputs": [
        {
          "output_type": "execute_result",
          "data": {
            "text/plain": [
              "         id                                             band_1  \\\n",
              "0  dfd5f913  [-27.878360999999998, -27.15416, -28.668615, -...   \n",
              "1  e25388fd  [-12.242375, -14.920304999999999, -14.920363, ...   \n",
              "2  58b2aaa0  [-24.603676, -24.603714, -24.871029, -23.15277...   \n",
              "3  4cfc3a18  [-22.454607, -23.082819, -23.998013, -23.99805...   \n",
              "4  271f93f4  [-26.006956, -23.164886, -23.164886, -26.89116...   \n",
              "\n",
              "                                              band_2  inc_angle  is_iceberg  \n",
              "0  [-27.154118, -29.537888, -31.0306, -32.190483,...   0.766617         0.0  \n",
              "1  [-31.506321, -27.984554, -26.645678, -23.76760...   0.665951         0.0  \n",
              "2  [-24.870956, -24.092632, -20.653963, -19.41104...   0.790388         1.0  \n",
              "3  [-27.889421, -27.519794, -27.165262, -29.10350...   0.764988         0.0  \n",
              "4  [-27.206915, -30.259186, -30.259186, -23.16495...   0.621784         0.0  "
            ],
            "text/html": [
              "\n",
              "  <div id=\"df-9176c6bc-6011-4b27-9ae0-1719c71bfc0d\">\n",
              "    <div class=\"colab-df-container\">\n",
              "      <div>\n",
              "<style scoped>\n",
              "    .dataframe tbody tr th:only-of-type {\n",
              "        vertical-align: middle;\n",
              "    }\n",
              "\n",
              "    .dataframe tbody tr th {\n",
              "        vertical-align: top;\n",
              "    }\n",
              "\n",
              "    .dataframe thead th {\n",
              "        text-align: right;\n",
              "    }\n",
              "</style>\n",
              "<table border=\"1\" class=\"dataframe\">\n",
              "  <thead>\n",
              "    <tr style=\"text-align: right;\">\n",
              "      <th></th>\n",
              "      <th>id</th>\n",
              "      <th>band_1</th>\n",
              "      <th>band_2</th>\n",
              "      <th>inc_angle</th>\n",
              "      <th>is_iceberg</th>\n",
              "    </tr>\n",
              "  </thead>\n",
              "  <tbody>\n",
              "    <tr>\n",
              "      <th>0</th>\n",
              "      <td>dfd5f913</td>\n",
              "      <td>[-27.878360999999998, -27.15416, -28.668615, -...</td>\n",
              "      <td>[-27.154118, -29.537888, -31.0306, -32.190483,...</td>\n",
              "      <td>0.766617</td>\n",
              "      <td>0.0</td>\n",
              "    </tr>\n",
              "    <tr>\n",
              "      <th>1</th>\n",
              "      <td>e25388fd</td>\n",
              "      <td>[-12.242375, -14.920304999999999, -14.920363, ...</td>\n",
              "      <td>[-31.506321, -27.984554, -26.645678, -23.76760...</td>\n",
              "      <td>0.665951</td>\n",
              "      <td>0.0</td>\n",
              "    </tr>\n",
              "    <tr>\n",
              "      <th>2</th>\n",
              "      <td>58b2aaa0</td>\n",
              "      <td>[-24.603676, -24.603714, -24.871029, -23.15277...</td>\n",
              "      <td>[-24.870956, -24.092632, -20.653963, -19.41104...</td>\n",
              "      <td>0.790388</td>\n",
              "      <td>1.0</td>\n",
              "    </tr>\n",
              "    <tr>\n",
              "      <th>3</th>\n",
              "      <td>4cfc3a18</td>\n",
              "      <td>[-22.454607, -23.082819, -23.998013, -23.99805...</td>\n",
              "      <td>[-27.889421, -27.519794, -27.165262, -29.10350...</td>\n",
              "      <td>0.764988</td>\n",
              "      <td>0.0</td>\n",
              "    </tr>\n",
              "    <tr>\n",
              "      <th>4</th>\n",
              "      <td>271f93f4</td>\n",
              "      <td>[-26.006956, -23.164886, -23.164886, -26.89116...</td>\n",
              "      <td>[-27.206915, -30.259186, -30.259186, -23.16495...</td>\n",
              "      <td>0.621784</td>\n",
              "      <td>0.0</td>\n",
              "    </tr>\n",
              "  </tbody>\n",
              "</table>\n",
              "</div>\n",
              "      <button class=\"colab-df-convert\" onclick=\"convertToInteractive('df-9176c6bc-6011-4b27-9ae0-1719c71bfc0d')\"\n",
              "              title=\"Convert this dataframe to an interactive table.\"\n",
              "              style=\"display:none;\">\n",
              "        \n",
              "  <svg xmlns=\"http://www.w3.org/2000/svg\" height=\"24px\"viewBox=\"0 0 24 24\"\n",
              "       width=\"24px\">\n",
              "    <path d=\"M0 0h24v24H0V0z\" fill=\"none\"/>\n",
              "    <path d=\"M18.56 5.44l.94 2.06.94-2.06 2.06-.94-2.06-.94-.94-2.06-.94 2.06-2.06.94zm-11 1L8.5 8.5l.94-2.06 2.06-.94-2.06-.94L8.5 2.5l-.94 2.06-2.06.94zm10 10l.94 2.06.94-2.06 2.06-.94-2.06-.94-.94-2.06-.94 2.06-2.06.94z\"/><path d=\"M17.41 7.96l-1.37-1.37c-.4-.4-.92-.59-1.43-.59-.52 0-1.04.2-1.43.59L10.3 9.45l-7.72 7.72c-.78.78-.78 2.05 0 2.83L4 21.41c.39.39.9.59 1.41.59.51 0 1.02-.2 1.41-.59l7.78-7.78 2.81-2.81c.8-.78.8-2.07 0-2.86zM5.41 20L4 18.59l7.72-7.72 1.47 1.35L5.41 20z\"/>\n",
              "  </svg>\n",
              "      </button>\n",
              "      \n",
              "  <style>\n",
              "    .colab-df-container {\n",
              "      display:flex;\n",
              "      flex-wrap:wrap;\n",
              "      gap: 12px;\n",
              "    }\n",
              "\n",
              "    .colab-df-convert {\n",
              "      background-color: #E8F0FE;\n",
              "      border: none;\n",
              "      border-radius: 50%;\n",
              "      cursor: pointer;\n",
              "      display: none;\n",
              "      fill: #1967D2;\n",
              "      height: 32px;\n",
              "      padding: 0 0 0 0;\n",
              "      width: 32px;\n",
              "    }\n",
              "\n",
              "    .colab-df-convert:hover {\n",
              "      background-color: #E2EBFA;\n",
              "      box-shadow: 0px 1px 2px rgba(60, 64, 67, 0.3), 0px 1px 3px 1px rgba(60, 64, 67, 0.15);\n",
              "      fill: #174EA6;\n",
              "    }\n",
              "\n",
              "    [theme=dark] .colab-df-convert {\n",
              "      background-color: #3B4455;\n",
              "      fill: #D2E3FC;\n",
              "    }\n",
              "\n",
              "    [theme=dark] .colab-df-convert:hover {\n",
              "      background-color: #434B5C;\n",
              "      box-shadow: 0px 1px 3px 1px rgba(0, 0, 0, 0.15);\n",
              "      filter: drop-shadow(0px 1px 2px rgba(0, 0, 0, 0.3));\n",
              "      fill: #FFFFFF;\n",
              "    }\n",
              "  </style>\n",
              "\n",
              "      <script>\n",
              "        const buttonEl =\n",
              "          document.querySelector('#df-9176c6bc-6011-4b27-9ae0-1719c71bfc0d button.colab-df-convert');\n",
              "        buttonEl.style.display =\n",
              "          google.colab.kernel.accessAllowed ? 'block' : 'none';\n",
              "\n",
              "        async function convertToInteractive(key) {\n",
              "          const element = document.querySelector('#df-9176c6bc-6011-4b27-9ae0-1719c71bfc0d');\n",
              "          const dataTable =\n",
              "            await google.colab.kernel.invokeFunction('convertToInteractive',\n",
              "                                                     [key], {});\n",
              "          if (!dataTable) return;\n",
              "\n",
              "          const docLinkHtml = 'Like what you see? Visit the ' +\n",
              "            '<a target=\"_blank\" href=https://colab.research.google.com/notebooks/data_table.ipynb>data table notebook</a>'\n",
              "            + ' to learn more about interactive tables.';\n",
              "          element.innerHTML = '';\n",
              "          dataTable['output_type'] = 'display_data';\n",
              "          await google.colab.output.renderOutput(dataTable, element);\n",
              "          const docLink = document.createElement('div');\n",
              "          docLink.innerHTML = docLinkHtml;\n",
              "          element.appendChild(docLink);\n",
              "        }\n",
              "      </script>\n",
              "    </div>\n",
              "  </div>\n",
              "  "
            ]
          },
          "metadata": {},
          "execution_count": 12
        }
      ]
    },
    {
      "cell_type": "code",
      "source": [
        "train_data.id.nunique()"
      ],
      "metadata": {
        "colab": {
          "base_uri": "https://localhost:8080/"
        },
        "id": "GEmHLQ13vtrU",
        "outputId": "aec8979e-e5de-4b2d-9688-f10c427232d8"
      },
      "execution_count": null,
      "outputs": [
        {
          "output_type": "execute_result",
          "data": {
            "text/plain": [
              "1604"
            ]
          },
          "metadata": {},
          "execution_count": 19
        }
      ]
    },
    {
      "cell_type": "code",
      "source": [
        "import collections\n",
        "collections.Counter(train_data.is_iceberg)"
      ],
      "metadata": {
        "colab": {
          "base_uri": "https://localhost:8080/"
        },
        "id": "B6WXYBYuwI39",
        "outputId": "80f21324-191f-46e1-8f93-02c7b64141d9"
      },
      "execution_count": null,
      "outputs": [
        {
          "output_type": "execute_result",
          "data": {
            "text/plain": [
              "Counter({0: 851, 1: 753})"
            ]
          },
          "metadata": {},
          "execution_count": 22
        }
      ]
    },
    {
      "cell_type": "code",
      "source": [],
      "metadata": {
        "id": "t3flPxgsa7Ys"
      },
      "execution_count": null,
      "outputs": []
    },
    {
      "cell_type": "code",
      "source": [
        "# convert and reshape bands to numpy arrays\n",
        "X_band_1_train = np.array(\n",
        "    [np.array(band).astype(np.float32).reshape(75,75) for band in train_data['band_1']])\n",
        "\n",
        "X_band_2_train = np.array(\n",
        "    [np.array(band).astype(np.float32).reshape(75,75) for band in train_data['band_2']])\n",
        "\n",
        "YTrain = np.array(train_data['is_iceberg'])\n"
      ],
      "metadata": {
        "id": "l4HJhZzZ4xDl"
      },
      "execution_count": null,
      "outputs": []
    },
    {
      "cell_type": "code",
      "source": [
        "# convert and reshape bands to numpy arrays\n",
        "X_band_1_test = np.array(\n",
        "    [np.array(band).astype(np.float32).reshape(75,75) for band in test_data['band_1']])\n",
        "\n",
        "X_band_2_test = np.array(\n",
        "    [np.array(band).astype(np.float32).reshape(75,75) for band in test_data['band_2']])\n"
      ],
      "metadata": {
        "id": "3BuWut0Jda1p"
      },
      "execution_count": null,
      "outputs": []
    },
    {
      "cell_type": "code",
      "source": [
        "X_band_2_train.shape"
      ],
      "metadata": {
        "colab": {
          "base_uri": "https://localhost:8080/"
        },
        "id": "EK5DhWFtIYeq",
        "outputId": "4d21e1ae-f43f-4edc-af5d-45f939bd2430"
      },
      "execution_count": null,
      "outputs": [
        {
          "output_type": "execute_result",
          "data": {
            "text/plain": [
              "(1604, 75, 75)"
            ]
          },
          "metadata": {},
          "execution_count": 11
        }
      ]
    },
    {
      "cell_type": "code",
      "source": [
        "#fill missing inc_anlge with mean\n",
        "train_data[train_data['inc_angle']=='na'] = train_data[train_data['inc_angle']!='na']['inc_angle'].mean()\n",
        "train_data['inc_angle'] = train_data['inc_angle'].apply(lambda x : math.radians(x))\n",
        "\n",
        "#fill missing inc_anlge with mean\n",
        "test_data['inc_angle'] = test_data['inc_angle'].apply(lambda x : math.radians(x))\n",
        "\n",
        "X_train_angle = np.array(train_data['inc_angle'])\n",
        "test_angle = np.array(test_data['inc_angle'])\n",
        "\n",
        "train_data['inc_angle'].head()"
      ],
      "metadata": {
        "id": "3wGVRM5MHpJ4",
        "colab": {
          "base_uri": "https://localhost:8080/"
        },
        "outputId": "50918f1f-541d-4970-c3cb-ed085568f287"
      },
      "execution_count": null,
      "outputs": [
        {
          "output_type": "execute_result",
          "data": {
            "text/plain": [
              "0    0.766617\n",
              "1    0.665951\n",
              "2    0.790388\n",
              "3    0.764988\n",
              "4    0.621784\n",
              "Name: inc_angle, dtype: float64"
            ]
          },
          "metadata": {},
          "execution_count": 15
        }
      ]
    },
    {
      "cell_type": "code",
      "source": [],
      "metadata": {
        "id": "vl_mYY8N9daq"
      },
      "execution_count": null,
      "outputs": []
    },
    {
      "cell_type": "code",
      "source": [
        "# augument images\n",
        "#### Data Augmentation\n",
        "import albumentations as A\n",
        "\n",
        "def augment_data(band_1, band_2, labels, angles):\n",
        "\n",
        "  aug_band_1 = []\n",
        "  aug_band_2 = []\n",
        "  aug_label = []\n",
        "  aug_angle = []\n",
        "\n",
        "  for i in range(labels.shape[0]):\n",
        "\n",
        "    transform = A.Compose([\n",
        "        A.HorizontalFlip(p=0.9),\n",
        "        A.Flip(p=0.9),\n",
        "        A.Rotate(limit=25, p=0.9),\n",
        "        A.VerticalFlip(p=0.9),\n",
        "        A.CenterCrop(75,75, p=1),], p=1)\n",
        "\n",
        "\n",
        "    transformed_band_1 = transform(image = band_1[i])\n",
        "    transformed_band_2 = transform(image = band_2[i])\n",
        "\n",
        "    aug_band_1.append(transformed_band_1[\"image\"])\n",
        "    aug_band_2.append(transformed_band_2[\"image\"])\n",
        "\n",
        "    aug_label.append(labels[i])\n",
        "    aug_angle.append(angles[i])\n",
        "\n",
        "  aug_band_1 = np.array(aug_band_1)\n",
        "  aug_band_2 = np.array(aug_band_2)\n",
        "  aug_labels = np.array(aug_label)\n",
        "  aug_angles = np.array(aug_angle)\n",
        "\n",
        "  # concatenate generated data to the original\n",
        "  band1_generated = np.concatenate((aug_band_1, band_1), axis=0)\n",
        "  band2_generated = np.concatenate((aug_band_2, band_2), axis=0)\n",
        "  \n",
        "  label_generated = np.concatenate((aug_labels, labels), axis=0)\n",
        "  angle_generated = np.concatenate((aug_angles, angles), axis=0)\n",
        "\n",
        "  return band1_generated, band2_generated, label_generated, angle_generated"
      ],
      "metadata": {
        "id": "nguXhA2jPJv_"
      },
      "execution_count": null,
      "outputs": []
    },
    {
      "cell_type": "code",
      "source": [
        "band_1_train, band_2_train, YTrain, train_angles = augment_data(\n",
        "    X_band_1_train, X_band_2_train, YTrain, X_train_angle)"
      ],
      "metadata": {
        "id": "JHso8AOC88Oa"
      },
      "execution_count": null,
      "outputs": []
    },
    {
      "cell_type": "code",
      "source": [
        "''' # mao augment function to images\n",
        "band_1_train_aug = np.array(list(map(augment_data, (X_band_1_train))))\n",
        "band_2_train_aug = np.array(list(map(augment_data, (X_band_2_train))))\n",
        "\n",
        "# concat augmented data to original data\n",
        "X_band_1_aug = np.concatenate((X_band_1_train, band_1_train_aug), axis=0)\n",
        "X_band_2_aug = np.concatenate((X_band_2_train, band_2_train_aug), axis=0) '''"
      ],
      "metadata": {
        "id": "RJ_QAK2zJ9NA"
      },
      "execution_count": null,
      "outputs": []
    },
    {
      "cell_type": "code",
      "source": [
        "band_1_train[0]"
      ],
      "metadata": {
        "colab": {
          "base_uri": "https://localhost:8080/"
        },
        "id": "HeF6XGjWMwoI",
        "outputId": "bbce22ce-0910-4bb9-b1ff-60e0feefa448"
      },
      "execution_count": null,
      "outputs": [
        {
          "output_type": "execute_result",
          "data": {
            "text/plain": [
              "array([[-28.105844, -28.738033, -28.558332, ..., -28.353867, -29.07423 ,\n",
              "        -27.121317],\n",
              "       [-25.666115, -27.161491, -27.129658, ..., -27.765678, -29.562567,\n",
              "        -28.887262],\n",
              "       [-26.540318, -25.303204, -24.360777, ..., -30.183311, -32.93804 ,\n",
              "        -30.246176],\n",
              "       ...,\n",
              "       [-29.0778  , -28.191757, -27.53754 , ..., -29.065746, -31.17927 ,\n",
              "        -31.21338 ],\n",
              "       [-27.924107, -26.512068, -26.181843, ..., -28.799839, -28.698341,\n",
              "        -29.12733 ],\n",
              "       [-28.530588, -27.49492 , -26.141762, ..., -26.866722, -28.680359,\n",
              "        -28.510788]], dtype=float32)"
            ]
          },
          "metadata": {},
          "execution_count": 13
        }
      ]
    },
    {
      "cell_type": "code",
      "source": [
        "import matplotlib.pyplot as plt\n",
        "plt.imshow(band_1_train[10])"
      ],
      "metadata": {
        "colab": {
          "base_uri": "https://localhost:8080/",
          "height": 285
        },
        "id": "qWDAAe6iLka3",
        "outputId": "a3bdec50-ce68-44ee-96a5-c288427e8bfa"
      },
      "execution_count": null,
      "outputs": [
        {
          "output_type": "execute_result",
          "data": {
            "text/plain": [
              "<matplotlib.image.AxesImage at 0x7fb0b716ce20>"
            ]
          },
          "metadata": {},
          "execution_count": 11
        },
        {
          "output_type": "display_data",
          "data": {
            "text/plain": [
              "<Figure size 432x288 with 1 Axes>"
            ],
            "image/png": "[encoded data removed]"
          },
          "metadata": {
            "needs_background": "light"
          }
        }
      ]
    },
    {
      "cell_type": "code",
      "source": [
        "plt.imshow(X_band_1_train[10])"
      ],
      "metadata": {
        "colab": {
          "base_uri": "https://localhost:8080/",
          "height": 285
        },
        "id": "ltrbL1XKLFjT",
        "outputId": "3358d12f-af1d-4031-82a9-df5050b7639e"
      },
      "execution_count": null,
      "outputs": [
        {
          "output_type": "execute_result",
          "data": {
            "text/plain": [
              "<matplotlib.image.AxesImage at 0x7f62c30c1730>"
            ]
          },
          "metadata": {},
          "execution_count": 69
        },
        {
          "output_type": "display_data",
          "data": {
            "text/plain": [
              "<Figure size 432x288 with 1 Axes>"
            ],
            "image/png": "[encoded data removed]"
          },
          "metadata": {
            "needs_background": "light"
          }
        }
      ]
    },
    {
      "cell_type": "code",
      "source": [],
      "metadata": {
        "id": "Ts7-VAVKIsFK"
      },
      "execution_count": null,
      "outputs": []
    },
    {
      "cell_type": "code",
      "source": [
        "# rescale band\n",
        "\n",
        "X_band_1_train = (band_1_train - band_1_train.mean()) / (band_1_train.max() - band_1_train.min())\n",
        "X_band_2_train = (band_2_train - band_2_train.mean()) / (band_2_train.max() - band_2_train.min())\n",
        "\n",
        "X_band_3_train = (X_band_1_train + X_band_2_train)/2\n"
      ],
      "metadata": {
        "id": "QirnjES3IsvO"
      },
      "execution_count": null,
      "outputs": []
    },
    {
      "cell_type": "code",
      "source": [
        "# rescale band\n",
        "# you don't augment test data\n",
        "X_band_1_test = (X_band_1_test - X_band_1_test.mean()) / (X_band_1_test.max() - X_band_1_test.min())\n",
        "X_band_2_test = (X_band_2_test - X_band_2_test.mean()) / (X_band_2_test.max() - X_band_2_test.min())\n",
        "\n",
        "X_band_3_test = (X_band_1_test + X_band_2_test)/2"
      ],
      "metadata": {
        "id": "76VesOMEIsCL"
      },
      "execution_count": null,
      "outputs": []
    },
    {
      "cell_type": "code",
      "source": [
        "XTrain = np.concatenate(\n",
        "    [X_band_1_train[:, :, :, np.newaxis],\n",
        "    X_band_2_train[:, :, :, np.newaxis],\n",
        "    X_band_3_train[:, :, :, np.newaxis]], axis=-1,)"
      ],
      "metadata": {
        "id": "mAp9eJQpHF1u"
      },
      "execution_count": null,
      "outputs": []
    },
    {
      "cell_type": "code",
      "source": [
        "XTest = np.concatenate(\n",
        "    [X_band_1_test[:, :, :, np.newaxis],\n",
        "    X_band_2_test[:, :, :, np.newaxis],\n",
        "    X_band_3_test[:, :, :, np.newaxis],], axis=-1,)"
      ],
      "metadata": {
        "id": "r9W--NGVHLq9"
      },
      "execution_count": null,
      "outputs": []
    },
    {
      "cell_type": "code",
      "source": [
        "XTrain.shape"
      ],
      "metadata": {
        "id": "AHL9mOSmG8c_",
        "colab": {
          "base_uri": "https://localhost:8080/"
        },
        "outputId": "718436c0-548e-4c17-dd41-562da7a69e09"
      },
      "execution_count": null,
      "outputs": [
        {
          "output_type": "execute_result",
          "data": {
            "text/plain": [
              "(3208, 75, 75, 3)"
            ]
          },
          "metadata": {},
          "execution_count": 20
        }
      ]
    },
    {
      "cell_type": "code",
      "source": [],
      "metadata": {
        "id": "3ge-40v4NFoi"
      },
      "execution_count": null,
      "outputs": []
    },
    {
      "cell_type": "code",
      "source": [],
      "metadata": {
        "id": "kRQ9OgfII08k"
      },
      "execution_count": null,
      "outputs": []
    },
    {
      "cell_type": "code",
      "source": [],
      "metadata": {
        "id": "MjXEzQ2b5mqb"
      },
      "execution_count": null,
      "outputs": []
    },
    {
      "cell_type": "markdown",
      "source": [
        "### Feature Engineering"
      ],
      "metadata": {
        "id": "10mfJfk2fTAU"
      }
    },
    {
      "cell_type": "code",
      "source": [],
      "metadata": {
        "id": "Z6oe7dTp5pp1"
      },
      "execution_count": null,
      "outputs": []
    },
    {
      "cell_type": "code",
      "source": [
        "from sklearn.ensemble import RandomForestClassifier\n",
        "from xgboost import XGBClassifier\n",
        "\n",
        "from sklearn.model_selection import train_test_split\n",
        "from sklearn.metrics import accuracy_score\n",
        "from sklearn.metrics import precision_score\n",
        "from sklearn.metrics import recall_score\n",
        "from sklearn.metrics import f1_score, log_loss\n",
        "from sklearn.metrics import confusion_matrix\n",
        "from sklearn.metrics import classification_report\n",
        "\n",
        "from hyperopt import STATUS_OK, Trials, fmin, hp, tpe, space_eval"
      ],
      "metadata": {
        "id": "dNdufnbx5jeb"
      },
      "execution_count": null,
      "outputs": []
    },
    {
      "cell_type": "code",
      "source": [
        "### GLCM Features and LGBM\n",
        "\n",
        "from skimage import util, exposure\n",
        "from skimage.filters import sobel\n",
        "from skimage.feature import greycomatrix, greycoprops\n",
        "\n",
        "# convert rgb to grayscale\n",
        "rgb_weights = [0.2989, 0.5870, 0.1140] #Intensity to conver to greyscale\n",
        "images = np.dot(XTrain[...,:3], rgb_weights)\n",
        "images.shape"
      ],
      "metadata": {
        "colab": {
          "base_uri": "https://localhost:8080/"
        },
        "id": "fIVvf7eEToAA",
        "outputId": "4796ab5f-e9c4-4d38-9929-d0fb1de62ffd"
      },
      "execution_count": null,
      "outputs": [
        {
          "output_type": "execute_result",
          "data": {
            "text/plain": [
              "(3208, 75, 75)"
            ]
          },
          "metadata": {},
          "execution_count": 24
        }
      ]
    },
    {
      "cell_type": "code",
      "source": [
        "import matplotlib.pyplot as plt\n",
        "plt.imshow(images[1800], cmap=plt.get_cmap('gray'))\n",
        "plt.show()"
      ],
      "metadata": {
        "colab": {
          "base_uri": "https://localhost:8080/",
          "height": 268
        },
        "id": "piRHXJYMUb47",
        "outputId": "5cd978b9-e1f2-40fa-fccf-f3d8b333135d"
      },
      "execution_count": null,
      "outputs": [
        {
          "output_type": "display_data",
          "data": {
            "text/plain": [
              "<Figure size 432x288 with 1 Axes>"
            ],
            "image/png": "[encoded data removed]"
          },
          "metadata": {
            "needs_background": "light"
          }
        }
      ]
    },
    {
      "cell_type": "code",
      "source": [
        "#rescaling intensity to range [0,1] and converting to 8bit int\n",
        "\n",
        "bin_width = 32\n",
        "\n",
        "X_scaled = exposure.rescale_intensity(images, out_range=(0,1))\n",
        "X_binned = util.img_as_ubyte(X_scaled)\n",
        "X_binned = X_binned // bin_width\n",
        "X_binned.shape, X_scaled.shape"
      ],
      "metadata": {
        "colab": {
          "base_uri": "https://localhost:8080/"
        },
        "id": "xqEI35oUUrIc",
        "outputId": "ad7d823d-4f91-471e-e4a7-4b67e26b81b9"
      },
      "execution_count": null,
      "outputs": [
        {
          "output_type": "execute_result",
          "data": {
            "text/plain": [
              "((3208, 75, 75), (3208, 75, 75))"
            ]
          },
          "metadata": {},
          "execution_count": 27
        }
      ]
    },
    {
      "cell_type": "code",
      "source": [
        "plt.imshow(X_binned[1800])"
      ],
      "metadata": {
        "colab": {
          "base_uri": "https://localhost:8080/",
          "height": 285
        },
        "id": "sOIxCnY4NcUz",
        "outputId": "79c673a2-8e9c-46f0-a56d-dd389d9883d4"
      },
      "execution_count": null,
      "outputs": [
        {
          "output_type": "execute_result",
          "data": {
            "text/plain": [
              "<matplotlib.image.AxesImage at 0x7fc46efb3880>"
            ]
          },
          "metadata": {},
          "execution_count": 28
        },
        {
          "output_type": "display_data",
          "data": {
            "text/plain": [
              "<Figure size 432x288 with 1 Axes>"
            ],
            "image/png": "[encoded data removed]"
          },
          "metadata": {
            "needs_background": "light"
          }
        }
      ]
    },
    {
      "cell_type": "code",
      "source": [
        "train_idx = np.random.choice(len(YTrain), round(len(YTrain)*0.8), replace=False)\n",
        "val_idx = np.array(list(set(range(len(YTrain))) - set(train_idx)))"
      ],
      "metadata": {
        "id": "Lj36OzYKQyAL"
      },
      "execution_count": null,
      "outputs": []
    },
    {
      "cell_type": "code",
      "source": [
        "val_idx.shape"
      ],
      "metadata": {
        "colab": {
          "base_uri": "https://localhost:8080/"
        },
        "id": "wTBug6EtRxFf",
        "outputId": "82ea5e8d-a3bc-484c-eda2-e28665fe8cce"
      },
      "execution_count": null,
      "outputs": [
        {
          "output_type": "execute_result",
          "data": {
            "text/plain": [
              "(642,)"
            ]
          },
          "metadata": {},
          "execution_count": 99
        }
      ]
    },
    {
      "cell_type": "code",
      "source": [
        "X_train = X_binned[train_idx]\n",
        "X_val = X_binned[val_idx]\n",
        "Y_train = YTrain[train_idx]\n",
        "Y_val = YTrain[val_idx]\n",
        "X_train.shape, X_val.shape, Y_train.shape, Y_val.shape"
      ],
      "metadata": {
        "colab": {
          "base_uri": "https://localhost:8080/"
        },
        "id": "2suR_9ZURevw",
        "outputId": "a2432415-9de2-479e-b28c-7400f6445bce"
      },
      "execution_count": null,
      "outputs": [
        {
          "output_type": "execute_result",
          "data": {
            "text/plain": [
              "((2566, 75, 75), (642, 75, 75), (2566,), (642,))"
            ]
          },
          "metadata": {},
          "execution_count": 30
        }
      ]
    },
    {
      "cell_type": "code",
      "source": [
        "plt.imshow(X_train[0])"
      ],
      "metadata": {
        "colab": {
          "base_uri": "https://localhost:8080/",
          "height": 285
        },
        "id": "hZuqfMbUXoTW",
        "outputId": "7496cb85-5285-4887-972a-8fe27512687c"
      },
      "execution_count": null,
      "outputs": [
        {
          "output_type": "execute_result",
          "data": {
            "text/plain": [
              "<matplotlib.image.AxesImage at 0x7f62a4e529a0>"
            ]
          },
          "metadata": {},
          "execution_count": 79
        },
        {
          "output_type": "display_data",
          "data": {
            "text/plain": [
              "<Figure size 432x288 with 1 Axes>"
            ],
            "image/png": "[encoded data removed]"
          },
          "metadata": {
            "needs_background": "light"
          }
        }
      ]
    },
    {
      "cell_type": "code",
      "source": [
        "##Feature extraction using Gray-Level Co-Occurrence Matrix (GLCM)\n",
        "\n",
        "def GLCM_feature_extraction(data):\n",
        "  image_df = pd.DataFrame()\n",
        "\n",
        "  for img in range(data.shape[0]):\n",
        "    df = pd.DataFrame()\n",
        "    image = data[img, :,:]\n",
        "\n",
        "    GLCM = greycomatrix(image, [1], [0])\n",
        "    GLCM_energy = greycoprops(GLCM, \"energy\")[0]\n",
        "    df[\"Energy\"] = GLCM_energy\n",
        "    GLCM_corr = greycoprops(GLCM, \"correlation\")[0]\n",
        "    df[\"Correlation\"] = GLCM_corr\n",
        "    GLCM_diss = greycoprops(GLCM, \"dissimilarity\")[0]\n",
        "    df[\"Dissimilarity\"] = GLCM_diss\n",
        "    GLCM_homgen = greycoprops(GLCM, \"homogeneity\")[0]\n",
        "    df[\"Homogenity\"] = GLCM_homgen\n",
        "    GLCM_cont = greycoprops(GLCM, \"contrast\")[0]\n",
        "    df[\"Contrast\"] = GLCM_cont\n",
        "    \n",
        "    GLCM2 = greycomatrix(image, [3], [0])\n",
        "    GLCM_energy2 = greycoprops(GLCM2, \"energy\")[0]\n",
        "    df[\"Energy2\"] = GLCM_energy2\n",
        "    GLCM_corr2 = greycoprops(GLCM2, \"correlation\")[0]\n",
        "    df[\"Correlation2\"] = GLCM_corr2\n",
        "    GLCM_diss2 = greycoprops(GLCM2, \"dissimilarity\")[0]\n",
        "    df[\"Dissimilarity2\"] = GLCM_diss2\n",
        "    GLCM_homgen2 = greycoprops(GLCM2, \"homogeneity\")[0]\n",
        "    df[\"Homogeneity2\"] = GLCM_homgen2\n",
        "    GLCM_cont2 = greycoprops(GLCM2, \"contrast\")[0]\n",
        "    df[\"Contrast2\"] = GLCM_cont2\n",
        "    \n",
        "    # GLCM 3\n",
        "    GLCM3 = greycomatrix(image, [5], [0])\n",
        "    GLCM_energy = greycoprops(GLCM3, \"energy\")[0]\n",
        "    df[\"Energy3\"] = GLCM_energy\n",
        "    GLCM_corr3 = greycoprops(GLCM3, \"correlation\")[0]\n",
        "    df[\"Correlation3\"] = GLCM_corr3\n",
        "    GLCM_diss3 = greycoprops(GLCM3, \"dissimilarity\")[0]\n",
        "    df[\"Dissimilarity3\"] = GLCM_diss3\n",
        "    GLCM_homgen3 = greycoprops(GLCM3, \"homogeneity\")[0]\n",
        "    df[\"Homogeneity3\"] = GLCM_homgen3\n",
        "    GLCM_cont3 = greycoprops(GLCM3, \"contrast\")[0]\n",
        "    df[\"Contrast3\"] = GLCM_cont3\n",
        "    \n",
        "    # GLCM 4\n",
        "    GLCM4 = greycomatrix(image, [0], [np.pi/4])\n",
        "    GLCM_energy4 = greycoprops(GLCM4, \"energy\")[0]\n",
        "    df[\"Energy4\"] = GLCM_energy4\n",
        "    GLCM_corr4 = greycoprops(GLCM4, \"correlation\")[0]\n",
        "    df[\"Correlation4\"] = GLCM_corr4\n",
        "    GLCM_diss4 = greycoprops(GLCM4, \"dissimilarity\")[0]\n",
        "    df[\"Dissimilarity4\"] = GLCM_diss4\n",
        "    GLCM_homgen4 = greycoprops(GLCM4, \"homogeneity\")[0]\n",
        "    df[\"Homogeneity4\"] = GLCM_homgen4\n",
        "    GLCM_cont4 = greycoprops(GLCM4, \"contrast\")[0]\n",
        "    df[\"Contrast4\"] = GLCM_cont4\n",
        "    \n",
        "    # GLCM 5\n",
        "    GLCM5 = greycomatrix(image, [0], [np.pi/4])\n",
        "    GLCM_energy5 = greycoprops(GLCM5, \"energy\")[0]\n",
        "    df[\"Energy5\"] = GLCM_energy5\n",
        "    GLCM_corr5 = greycoprops(GLCM5, \"correlation\")[0]\n",
        "    df[\"Correlation5\"] = GLCM_corr5\n",
        "    GLCM_diss5 = greycoprops(GLCM5, \"dissimilarity\")[0]\n",
        "    df[\"Dissimilarity5\"] = GLCM_diss5\n",
        "    GLCM_homgen5 = greycoprops(GLCM5, \"homogeneity\")[0]\n",
        "    df[\"Homogeneity5\"] = GLCM_homgen5\n",
        "    GLCM_cont5 = greycoprops(GLCM5, \"contrast\")[0]\n",
        "    df[\"Contrast5\"] = GLCM_cont5\n",
        "\n",
        "    # Append all features into img_ds\n",
        "    image_df = image_df.append(df)\n",
        "\n",
        "  return image_df"
      ],
      "metadata": {
        "id": "3GG11YwNXxHJ"
      },
      "execution_count": null,
      "outputs": []
    },
    {
      "cell_type": "code",
      "source": [
        "X_train_features = GLCM_feature_extraction(X_train)\n",
        "X_val_features = GLCM_feature_extraction(X_val)"
      ],
      "metadata": {
        "id": "bF7j9DBtMpIS"
      },
      "execution_count": null,
      "outputs": []
    },
    {
      "cell_type": "code",
      "source": [
        "# append train angles to the dataset\n",
        "X_train_features[\"INC_ANGLE\"] = train_angles[train_idx]\n",
        "X_val_features[\"INC_ANGLE\"] = train_angles[val_idx]"
      ],
      "metadata": {
        "id": "Hq49B2NXTGJO"
      },
      "execution_count": null,
      "outputs": []
    },
    {
      "cell_type": "code",
      "source": [
        "X_train_features.head()"
      ],
      "metadata": {
        "colab": {
          "base_uri": "https://localhost:8080/",
          "height": 300
        },
        "id": "UWrPlXY4OFyM",
        "outputId": "4773ffe5-b3e0-45f7-ad38-2a5fb17f3891"
      },
      "execution_count": null,
      "outputs": [
        {
          "output_type": "execute_result",
          "data": {
            "text/plain": [
              "     Energy  Correlation  Dissimilarity  Homogenity  Contrast   Energy2  \\\n",
              "0  0.606660     0.612538       0.220180    0.889910  0.220180  0.544327   \n",
              "0  0.955487     0.575355       0.032973    0.983514  0.032973  0.949123   \n",
              "0  0.561194     0.422190       0.292252    0.853874  0.292252  0.521185   \n",
              "0  0.924466     0.468546       0.055315    0.972342  0.055315  0.913610   \n",
              "0  0.914984     0.742485       0.064324    0.968486  0.070811  0.896475   \n",
              "\n",
              "   Correlation2  Dissimilarity2  Homogeneity2  Contrast2  ...  Correlation4  \\\n",
              "0      0.254152        0.418333      0.791537   0.425370  ...           1.0   \n",
              "0      0.332476        0.048704      0.976056   0.052778  ...           1.0   \n",
              "0      0.108470        0.450000      0.775111   0.451111  ...           1.0   \n",
              "0      0.204353        0.079815      0.960426   0.083148  ...           1.0   \n",
              "0      0.309382        0.127222      0.943130   0.194630  ...           1.0   \n",
              "\n",
              "   Dissimilarity4  Homogeneity4  Contrast4   Energy5  Correlation5  \\\n",
              "0             0.0           1.0        0.0  0.729151           1.0   \n",
              "0             0.0           1.0        0.0  0.971211           1.0   \n",
              "0             0.0           1.0        0.0  0.720321           1.0   \n",
              "0             0.0           1.0        0.0  0.951494           1.0   \n",
              "0             0.0           1.0        0.0  0.939397           1.0   \n",
              "\n",
              "   Dissimilarity5  Homogeneity5  Contrast5  INC_ANGLE  \n",
              "0             0.0           1.0        0.0   0.649256  \n",
              "0             0.0           1.0        0.0   0.742809  \n",
              "0             0.0           1.0        0.0   0.644372  \n",
              "0             0.0           1.0        0.0   0.742910  \n",
              "0             0.0           1.0        0.0   0.776368  \n",
              "\n",
              "[5 rows x 26 columns]"
            ],
            "text/html": [
              "\n",
              "  <div id=\"df-bc9cf472-9384-4fae-91ea-cc4ca8966b2d\">\n",
              "    <div class=\"colab-df-container\">\n",
              "      <div>\n",
              "<style scoped>\n",
              "    .dataframe tbody tr th:only-of-type {\n",
              "        vertical-align: middle;\n",
              "    }\n",
              "\n",
              "    .dataframe tbody tr th {\n",
              "        vertical-align: top;\n",
              "    }\n",
              "\n",
              "    .dataframe thead th {\n",
              "        text-align: right;\n",
              "    }\n",
              "</style>\n",
              "<table border=\"1\" class=\"dataframe\">\n",
              "  <thead>\n",
              "    <tr style=\"text-align: right;\">\n",
              "      <th></th>\n",
              "      <th>Energy</th>\n",
              "      <th>Correlation</th>\n",
              "      <th>Dissimilarity</th>\n",
              "      <th>Homogenity</th>\n",
              "      <th>Contrast</th>\n",
              "      <th>Energy2</th>\n",
              "      <th>Correlation2</th>\n",
              "      <th>Dissimilarity2</th>\n",
              "      <th>Homogeneity2</th>\n",
              "      <th>Contrast2</th>\n",
              "      <th>...</th>\n",
              "      <th>Correlation4</th>\n",
              "      <th>Dissimilarity4</th>\n",
              "      <th>Homogeneity4</th>\n",
              "      <th>Contrast4</th>\n",
              "      <th>Energy5</th>\n",
              "      <th>Correlation5</th>\n",
              "      <th>Dissimilarity5</th>\n",
              "      <th>Homogeneity5</th>\n",
              "      <th>Contrast5</th>\n",
              "      <th>INC_ANGLE</th>\n",
              "    </tr>\n",
              "  </thead>\n",
              "  <tbody>\n",
              "    <tr>\n",
              "      <th>0</th>\n",
              "      <td>0.606660</td>\n",
              "      <td>0.612538</td>\n",
              "      <td>0.220180</td>\n",
              "      <td>0.889910</td>\n",
              "      <td>0.220180</td>\n",
              "      <td>0.544327</td>\n",
              "      <td>0.254152</td>\n",
              "      <td>0.418333</td>\n",
              "      <td>0.791537</td>\n",
              "      <td>0.425370</td>\n",
              "      <td>...</td>\n",
              "      <td>1.0</td>\n",
              "      <td>0.0</td>\n",
              "      <td>1.0</td>\n",
              "      <td>0.0</td>\n",
              "      <td>0.729151</td>\n",
              "      <td>1.0</td>\n",
              "      <td>0.0</td>\n",
              "      <td>1.0</td>\n",
              "      <td>0.0</td>\n",
              "      <td>0.649256</td>\n",
              "    </tr>\n",
              "    <tr>\n",
              "      <th>0</th>\n",
              "      <td>0.955487</td>\n",
              "      <td>0.575355</td>\n",
              "      <td>0.032973</td>\n",
              "      <td>0.983514</td>\n",
              "      <td>0.032973</td>\n",
              "      <td>0.949123</td>\n",
              "      <td>0.332476</td>\n",
              "      <td>0.048704</td>\n",
              "      <td>0.976056</td>\n",
              "      <td>0.052778</td>\n",
              "      <td>...</td>\n",
              "      <td>1.0</td>\n",
              "      <td>0.0</td>\n",
              "      <td>1.0</td>\n",
              "      <td>0.0</td>\n",
              "      <td>0.971211</td>\n",
              "      <td>1.0</td>\n",
              "      <td>0.0</td>\n",
              "      <td>1.0</td>\n",
              "      <td>0.0</td>\n",
              "      <td>0.742809</td>\n",
              "    </tr>\n",
              "    <tr>\n",
              "      <th>0</th>\n",
              "      <td>0.561194</td>\n",
              "      <td>0.422190</td>\n",
              "      <td>0.292252</td>\n",
              "      <td>0.853874</td>\n",
              "      <td>0.292252</td>\n",
              "      <td>0.521185</td>\n",
              "      <td>0.108470</td>\n",
              "      <td>0.450000</td>\n",
              "      <td>0.775111</td>\n",
              "      <td>0.451111</td>\n",
              "      <td>...</td>\n",
              "      <td>1.0</td>\n",
              "      <td>0.0</td>\n",
              "      <td>1.0</td>\n",
              "      <td>0.0</td>\n",
              "      <td>0.720321</td>\n",
              "      <td>1.0</td>\n",
              "      <td>0.0</td>\n",
              "      <td>1.0</td>\n",
              "      <td>0.0</td>\n",
              "      <td>0.644372</td>\n",
              "    </tr>\n",
              "    <tr>\n",
              "      <th>0</th>\n",
              "      <td>0.924466</td>\n",
              "      <td>0.468546</td>\n",
              "      <td>0.055315</td>\n",
              "      <td>0.972342</td>\n",
              "      <td>0.055315</td>\n",
              "      <td>0.913610</td>\n",
              "      <td>0.204353</td>\n",
              "      <td>0.079815</td>\n",
              "      <td>0.960426</td>\n",
              "      <td>0.083148</td>\n",
              "      <td>...</td>\n",
              "      <td>1.0</td>\n",
              "      <td>0.0</td>\n",
              "      <td>1.0</td>\n",
              "      <td>0.0</td>\n",
              "      <td>0.951494</td>\n",
              "      <td>1.0</td>\n",
              "      <td>0.0</td>\n",
              "      <td>1.0</td>\n",
              "      <td>0.0</td>\n",
              "      <td>0.742910</td>\n",
              "    </tr>\n",
              "    <tr>\n",
              "      <th>0</th>\n",
              "      <td>0.914984</td>\n",
              "      <td>0.742485</td>\n",
              "      <td>0.064324</td>\n",
              "      <td>0.968486</td>\n",
              "      <td>0.070811</td>\n",
              "      <td>0.896475</td>\n",
              "      <td>0.309382</td>\n",
              "      <td>0.127222</td>\n",
              "      <td>0.943130</td>\n",
              "      <td>0.194630</td>\n",
              "      <td>...</td>\n",
              "      <td>1.0</td>\n",
              "      <td>0.0</td>\n",
              "      <td>1.0</td>\n",
              "      <td>0.0</td>\n",
              "      <td>0.939397</td>\n",
              "      <td>1.0</td>\n",
              "      <td>0.0</td>\n",
              "      <td>1.0</td>\n",
              "      <td>0.0</td>\n",
              "      <td>0.776368</td>\n",
              "    </tr>\n",
              "  </tbody>\n",
              "</table>\n",
              "<p>5 rows × 26 columns</p>\n",
              "</div>\n",
              "      <button class=\"colab-df-convert\" onclick=\"convertToInteractive('df-bc9cf472-9384-4fae-91ea-cc4ca8966b2d')\"\n",
              "              title=\"Convert this dataframe to an interactive table.\"\n",
              "              style=\"display:none;\">\n",
              "        \n",
              "  <svg xmlns=\"http://www.w3.org/2000/svg\" height=\"24px\"viewBox=\"0 0 24 24\"\n",
              "       width=\"24px\">\n",
              "    <path d=\"M0 0h24v24H0V0z\" fill=\"none\"/>\n",
              "    <path d=\"M18.56 5.44l.94 2.06.94-2.06 2.06-.94-2.06-.94-.94-2.06-.94 2.06-2.06.94zm-11 1L8.5 8.5l.94-2.06 2.06-.94-2.06-.94L8.5 2.5l-.94 2.06-2.06.94zm10 10l.94 2.06.94-2.06 2.06-.94-2.06-.94-.94-2.06-.94 2.06-2.06.94z\"/><path d=\"M17.41 7.96l-1.37-1.37c-.4-.4-.92-.59-1.43-.59-.52 0-1.04.2-1.43.59L10.3 9.45l-7.72 7.72c-.78.78-.78 2.05 0 2.83L4 21.41c.39.39.9.59 1.41.59.51 0 1.02-.2 1.41-.59l7.78-7.78 2.81-2.81c.8-.78.8-2.07 0-2.86zM5.41 20L4 18.59l7.72-7.72 1.47 1.35L5.41 20z\"/>\n",
              "  </svg>\n",
              "      </button>\n",
              "      \n",
              "  <style>\n",
              "    .colab-df-container {\n",
              "      display:flex;\n",
              "      flex-wrap:wrap;\n",
              "      gap: 12px;\n",
              "    }\n",
              "\n",
              "    .colab-df-convert {\n",
              "      background-color: #E8F0FE;\n",
              "      border: none;\n",
              "      border-radius: 50%;\n",
              "      cursor: pointer;\n",
              "      display: none;\n",
              "      fill: #1967D2;\n",
              "      height: 32px;\n",
              "      padding: 0 0 0 0;\n",
              "      width: 32px;\n",
              "    }\n",
              "\n",
              "    .colab-df-convert:hover {\n",
              "      background-color: #E2EBFA;\n",
              "      box-shadow: 0px 1px 2px rgba(60, 64, 67, 0.3), 0px 1px 3px 1px rgba(60, 64, 67, 0.15);\n",
              "      fill: #174EA6;\n",
              "    }\n",
              "\n",
              "    [theme=dark] .colab-df-convert {\n",
              "      background-color: #3B4455;\n",
              "      fill: #D2E3FC;\n",
              "    }\n",
              "\n",
              "    [theme=dark] .colab-df-convert:hover {\n",
              "      background-color: #434B5C;\n",
              "      box-shadow: 0px 1px 3px 1px rgba(0, 0, 0, 0.15);\n",
              "      filter: drop-shadow(0px 1px 2px rgba(0, 0, 0, 0.3));\n",
              "      fill: #FFFFFF;\n",
              "    }\n",
              "  </style>\n",
              "\n",
              "      <script>\n",
              "        const buttonEl =\n",
              "          document.querySelector('#df-bc9cf472-9384-4fae-91ea-cc4ca8966b2d button.colab-df-convert');\n",
              "        buttonEl.style.display =\n",
              "          google.colab.kernel.accessAllowed ? 'block' : 'none';\n",
              "\n",
              "        async function convertToInteractive(key) {\n",
              "          const element = document.querySelector('#df-bc9cf472-9384-4fae-91ea-cc4ca8966b2d');\n",
              "          const dataTable =\n",
              "            await google.colab.kernel.invokeFunction('convertToInteractive',\n",
              "                                                     [key], {});\n",
              "          if (!dataTable) return;\n",
              "\n",
              "          const docLinkHtml = 'Like what you see? Visit the ' +\n",
              "            '<a target=\"_blank\" href=https://colab.research.google.com/notebooks/data_table.ipynb>data table notebook</a>'\n",
              "            + ' to learn more about interactive tables.';\n",
              "          element.innerHTML = '';\n",
              "          dataTable['output_type'] = 'display_data';\n",
              "          await google.colab.output.renderOutput(dataTable, element);\n",
              "          const docLink = document.createElement('div');\n",
              "          docLink.innerHTML = docLinkHtml;\n",
              "          element.appendChild(docLink);\n",
              "        }\n",
              "      </script>\n",
              "    </div>\n",
              "  </div>\n",
              "  "
            ]
          },
          "metadata": {},
          "execution_count": 34
        }
      ]
    },
    {
      "cell_type": "code",
      "source": [],
      "metadata": {
        "id": "p-v2gmKzOZLz"
      },
      "execution_count": null,
      "outputs": []
    },
    {
      "cell_type": "code",
      "source": [],
      "metadata": {
        "id": "SarQfbrDOJQe"
      },
      "execution_count": null,
      "outputs": []
    },
    {
      "cell_type": "code",
      "source": [
        "# Training "
      ],
      "metadata": {
        "id": "oOSAOe4KOJNp"
      },
      "execution_count": null,
      "outputs": []
    },
    {
      "cell_type": "code",
      "source": [],
      "metadata": {
        "id": "S2uJMjsity4j"
      },
      "execution_count": null,
      "outputs": []
    },
    {
      "cell_type": "markdown",
      "source": [
        "### Training"
      ],
      "metadata": {
        "id": "-qYLjoy9flp-"
      }
    },
    {
      "cell_type": "markdown",
      "source": [
        "#### RandomForest"
      ],
      "metadata": {
        "id": "lpvRQXmffnsi"
      }
    },
    {
      "cell_type": "code",
      "source": [
        "##Random Forest (BASE model)"
      ],
      "metadata": {
        "id": "F3-Gx6fTtycZ"
      },
      "execution_count": null,
      "outputs": []
    },
    {
      "cell_type": "code",
      "source": [
        "rfm= RandomForestClassifier(\n",
        "    n_estimators=100, random_state=23,)\n",
        "rfm.fit(X_train_features, Y_train)"
      ],
      "metadata": {
        "colab": {
          "base_uri": "https://localhost:8080/"
        },
        "id": "tocHJBFJcY2l",
        "outputId": "30d315aa-5414-47a4-b3b7-6b53cd8e2a07"
      },
      "execution_count": null,
      "outputs": [
        {
          "output_type": "execute_result",
          "data": {
            "text/plain": [
              "RandomForestClassifier(random_state=23)"
            ]
          },
          "metadata": {},
          "execution_count": 116
        }
      ]
    },
    {
      "cell_type": "code",
      "source": [
        "y_pred = rfm.predict(X_val_features)\n",
        "rand_acc = accuracy_score(Y_val, y_pred)\n",
        "rand_acc"
      ],
      "metadata": {
        "colab": {
          "base_uri": "https://localhost:8080/"
        },
        "id": "KFM6xm8BdFQX",
        "outputId": "415164a7-d899-4d00-a185-a3b003d34ed9"
      },
      "execution_count": null,
      "outputs": [
        {
          "output_type": "execute_result",
          "data": {
            "text/plain": [
              "0.7663551401869159"
            ]
          },
          "metadata": {},
          "execution_count": 117
        }
      ]
    },
    {
      "cell_type": "code",
      "source": [
        "import seaborn as sns\n",
        "cm = confusion_matrix(Y_val, y_pred.round())\n",
        "sns.heatmap(cm, annot=True)"
      ],
      "metadata": {
        "colab": {
          "base_uri": "https://localhost:8080/",
          "height": 285
        },
        "id": "S-tE2uEXL1HW",
        "outputId": "2446b540-e50b-46c6-dd44-c567369abc21"
      },
      "execution_count": null,
      "outputs": [
        {
          "output_type": "execute_result",
          "data": {
            "text/plain": [
              "<matplotlib.axes._subplots.AxesSubplot at 0x7f07b6163490>"
            ]
          },
          "metadata": {},
          "execution_count": 119
        },
        {
          "output_type": "display_data",
          "data": {
            "text/plain": [
              "<Figure size 432x288 with 2 Axes>"
            ],
            "image/png": "[encoded data removed]"
          },
          "metadata": {
            "needs_background": "light"
          }
        }
      ]
    },
    {
      "cell_type": "code",
      "source": [
        "print (classification_report(Y_val, y_pred.round()))"
      ],
      "metadata": {
        "colab": {
          "base_uri": "https://localhost:8080/"
        },
        "id": "sMFr1rSPuK1l",
        "outputId": "0ac53b72-dd15-4586-d7a7-38b3475bff4b"
      },
      "execution_count": null,
      "outputs": [
        {
          "output_type": "stream",
          "name": "stdout",
          "text": [
            "              precision    recall  f1-score   support\n",
            "\n",
            "           0       0.77      0.80      0.79       345\n",
            "           1       0.76      0.73      0.74       297\n",
            "\n",
            "    accuracy                           0.77       642\n",
            "   macro avg       0.77      0.76      0.76       642\n",
            "weighted avg       0.77      0.77      0.77       642\n",
            "\n"
          ]
        }
      ]
    },
    {
      "cell_type": "code",
      "source": [],
      "metadata": {
        "id": "wTqPfwKcuReq"
      },
      "execution_count": null,
      "outputs": []
    },
    {
      "cell_type": "code",
      "source": [
        "## XGBoost"
      ],
      "metadata": {
        "id": "Un7qNzfIuRGg"
      },
      "execution_count": null,
      "outputs": []
    },
    {
      "cell_type": "markdown",
      "source": [
        "#### XGBoost"
      ],
      "metadata": {
        "id": "HByPP-yAfuen"
      }
    },
    {
      "cell_type": "code",
      "source": [],
      "metadata": {
        "id": "Fp-7xyJtThPE"
      },
      "execution_count": null,
      "outputs": []
    },
    {
      "cell_type": "code",
      "source": [
        "# for more on hyperparameter tunning and xgboost parameter search\n",
        "# https://www.kaggle.com/code/prashant111/bayesian-optimization-using-hyperopt/notebook\n",
        "# https://www.kaggle.com/code/prashant111/a-guide-on-xgboost-hyperparameters-tuning/notebook\n"
      ],
      "metadata": {
        "id": "s0XhGCjIduik"
      },
      "execution_count": null,
      "outputs": []
    },
    {
      "cell_type": "code",
      "source": [
        "parameters_space = {\n",
        "    'max_depth': hp.quniform('max_depth', 3, 25, 1),\n",
        "    'gamma': hp.uniform('gamma', 1, 9),\n",
        "    'reg_alpha': hp.quniform('reg_alpha', 40, 180, 1),\n",
        "    'reg_lambda': hp.uniform('reg_lambda', 0, 1),\n",
        "    'colsample_bytree': hp.uniform('colsample_bytree', 0.5, 1),\n",
        "    'min_child_weight': hp.quniform('min_child_weight', 0, 20, 1),\n",
        "    'n_estimators': hp.choice('n_estimators', [50, 75, 100, 125, 150, 200]), \n",
        "    'learning_rate': hp.uniform('learning_rate', 0.01, 0.2), 'seed': 0, }"
      ],
      "metadata": {
        "id": "68zsNKXebjfJ"
      },
      "execution_count": null,
      "outputs": []
    },
    {
      "cell_type": "code",
      "source": [
        "def objective(space):\n",
        "  clf = XGBClassifier(\n",
        "      n_estimators = space['n_estimators'],\n",
        "      max_depth = int(space['max_depth']),\n",
        "      learning_rate = space['learning_rate'],\n",
        "      gamma = space['gamma'],\n",
        "      reg_alpha = int(space['reg_alpha']),\n",
        "      min_child_weight= int(space['min_child_weight']),\n",
        "      colsample_bytree = int(space['colsample_bytree']),)\n",
        "      #tree_method = 'gpu_hist',)\n",
        "  \n",
        "  evaluation = [(X_train_features, Y_train), (X_val_features, Y_val)]\n",
        "  clf.fit(\n",
        "      X_train_features, Y_train, eval_metric='auc',\n",
        "      eval_set=evaluation, early_stopping_rounds=10, verbose=False,)\n",
        "  \n",
        "  pred = clf.predict(X_val_features)\n",
        "  acc = accuracy_score(Y_val, pred>0.5)\n",
        "  \n",
        "  print (f'SCORE: {acc}')\n",
        "  return {'loss' : -acc, 'status': STATUS_OK}"
      ],
      "metadata": {
        "id": "PDNQG1S_R-bV"
      },
      "execution_count": null,
      "outputs": []
    },
    {
      "cell_type": "code",
      "source": [
        "trials = Trials()\n",
        "\n",
        "best_hyperparms = fmin(\n",
        "    fn=objective, space=parameters_space,\n",
        "    algo=tpe.suggest, max_evals=150, trials=trials,)\n"
      ],
      "metadata": {
        "id": "KyBK-EMBOJK3"
      },
      "execution_count": null,
      "outputs": []
    },
    {
      "cell_type": "code",
      "source": [
        "print (best_hyperparms)"
      ],
      "metadata": {
        "colab": {
          "base_uri": "https://localhost:8080/"
        },
        "id": "NUcEN-3WhwCr",
        "outputId": "e7ca1753-974a-4dad-dbc9-d3823aea2256"
      },
      "execution_count": null,
      "outputs": [
        {
          "output_type": "stream",
          "name": "stdout",
          "text": [
            "{'colsample_bytree': 0.7434680236499209, 'gamma': 8.62784410559131, 'learning_rate': 0.155481867661696, 'max_depth': 12.0, 'min_child_weight': 20.0, 'n_estimators': 2, 'reg_alpha': 40.0, 'reg_lambda': 0.6946303862582032}\n"
          ]
        }
      ]
    },
    {
      "cell_type": "code",
      "source": [],
      "metadata": {
        "id": "6YFblXMhqH8d"
      },
      "execution_count": null,
      "outputs": []
    },
    {
      "cell_type": "code",
      "source": [
        "\n",
        "params = {'colsample_bytree': 0.7434680236499209, 'gamma': 8.62784410559131, 'learning_rate': 0.155481867661696, 'max_depth': 12, 'min_child_weight': 20, 'n_estimators': 2, 'reg_alpha': 40, 'reg_lambda': 0.6946303862582032}\n",
        "clf = XGBClassifier(**params)\n",
        "  \n",
        "evaluation = [(X_train_features, Y_train), (X_val_features, Y_val)]\n",
        "clf.fit(\n",
        "    X_train_features, Y_train, eval_metric='auc',\n",
        "    eval_set=evaluation, early_stopping_rounds=10, verbose=False,)\n",
        "\n",
        "pred = clf.predict(X_val_features)\n",
        "acc = accuracy_score(Y_val, pred)"
      ],
      "metadata": {
        "id": "CdUoGELwqPgK"
      },
      "execution_count": null,
      "outputs": []
    },
    {
      "cell_type": "code",
      "source": [
        "acc = accuracy_score(Y_val, pred)\n",
        "acc"
      ],
      "metadata": {
        "colab": {
          "base_uri": "https://localhost:8080/"
        },
        "id": "gg_R8F19e8LP",
        "outputId": "d38648f4-6906-40df-acab-56ac26ba61b7"
      },
      "execution_count": null,
      "outputs": [
        {
          "output_type": "execute_result",
          "data": {
            "text/plain": [
              "0.6651090342679128"
            ]
          },
          "metadata": {},
          "execution_count": 34
        }
      ]
    },
    {
      "cell_type": "code",
      "source": [
        "import seaborn as sns\n",
        "cm = confusion_matrix(Y_val, pred.round())\n",
        "sns.heatmap(cm, annot=True)"
      ],
      "metadata": {
        "colab": {
          "base_uri": "https://localhost:8080/",
          "height": 282
        },
        "id": "V3Pab2wXrdlc",
        "outputId": "adf3c521-61ab-43f2-9d4b-661ec2287f1f"
      },
      "execution_count": null,
      "outputs": [
        {
          "output_type": "execute_result",
          "data": {
            "text/plain": [
              "<matplotlib.axes._subplots.AxesSubplot at 0x7fb0ecca1940>"
            ]
          },
          "metadata": {},
          "execution_count": 84
        },
        {
          "output_type": "display_data",
          "data": {
            "text/plain": [
              "<Figure size 432x288 with 2 Axes>"
            ],
            "image/png": "[encoded data removed]"
          },
          "metadata": {
            "needs_background": "light"
          }
        }
      ]
    },
    {
      "cell_type": "code",
      "source": [],
      "metadata": {
        "id": "XnJfb6DGCIR1"
      },
      "execution_count": null,
      "outputs": []
    },
    {
      "cell_type": "code",
      "source": [
        "print (classification_report(Y_val, y_pred.round()))"
      ],
      "metadata": {
        "colab": {
          "base_uri": "https://localhost:8080/"
        },
        "id": "ZTalqJLFr_Bi",
        "outputId": "2387906c-eb5d-4966-91cf-5e57149e61df"
      },
      "execution_count": null,
      "outputs": [
        {
          "output_type": "stream",
          "name": "stdout",
          "text": [
            "              precision    recall  f1-score   support\n",
            "\n",
            "           0       0.72      0.82      0.77       319\n",
            "           1       0.79      0.69      0.74       323\n",
            "\n",
            "    accuracy                           0.75       642\n",
            "   macro avg       0.76      0.75      0.75       642\n",
            "weighted avg       0.76      0.75      0.75       642\n",
            "\n"
          ]
        }
      ]
    },
    {
      "cell_type": "code",
      "source": [],
      "metadata": {
        "id": "Z761NkflL2kk"
      },
      "execution_count": null,
      "outputs": []
    },
    {
      "cell_type": "markdown",
      "source": [
        "#### LightGBM"
      ],
      "metadata": {
        "id": "19xggZfPf0co"
      }
    },
    {
      "cell_type": "code",
      "source": [
        "import lightgbm as lgb\n",
        "lgb_train = lgb.Dataset(X_train_features, label=Y_train)\n",
        "lgb_val = lgb.Dataset(X_val_features, label=Y_val)"
      ],
      "metadata": {
        "id": "r2oeUVA8sfLe"
      },
      "execution_count": null,
      "outputs": []
    },
    {
      "cell_type": "code",
      "source": [
        "lgb_parameter_space = {\n",
        "    \"learning_rate\": hp.loguniform(\"learning_rate\", np.log(0.01), np.log(0.3)),\n",
        "    \"num_leaves\": hp.choice(\"num_leaves\", [15, 31, 63, 127, 255]),\n",
        "    \"max_depth\": hp.choice(\"max_depth\", [-1, 4, 6, 8, 10]),\n",
        "    \"feature_fraction\": hp.quniform(\"feature_fraction\", .5, .9, 0.1),\n",
        "    \"bagging_fraction\": hp.quniform(\"bagging_fraction\", .5, .9, 0.1),\n",
        "    \"min_child_samples\": hp.choice('min_child_samples', [10, 25, 100]),\n",
        "    \"lambda_l1\": hp.choice('lambda_l1', [0, .1, 1, 10]),\n",
        "    \"lambda_l2\": hp.choice('lambda_l2', [0, .1, 1, 10]),}\n",
        "\n",
        "lgb_params = {'boosting_type':'gbdt', 'objective':'binary',\n",
        "      'metric':'auc', 'num_class':1}\n"
      ],
      "metadata": {
        "id": "AcN6uUh_NCLt"
      },
      "execution_count": null,
      "outputs": []
    },
    {
      "cell_type": "code",
      "source": [
        "\n",
        "def lgbm_objectvie(lgbm_space):\n",
        "  clf = lgb.train(\n",
        "      lgb_params, train_set=lgb_train, \n",
        "      num_boost_round=300, valid_sets=lgb_val,\n",
        "      early_stopping_rounds=45, verbose_eval=0)\n",
        "  \n",
        "  score = clf.best_score['valid_0'][lgb_params['metric']]\n",
        "\n",
        "  return {'loss': -score, 'status': STATUS_OK, 'model': clf}"
      ],
      "metadata": {
        "id": "CzU7ng0EQmo-"
      },
      "execution_count": null,
      "outputs": []
    },
    {
      "cell_type": "code",
      "source": [],
      "metadata": {
        "id": "MUTp2RgYeaoW"
      },
      "execution_count": null,
      "outputs": []
    },
    {
      "cell_type": "code",
      "source": [
        "import hyperopt\n",
        "trials = Trials()\n",
        "best = hyperopt.fmin(\n",
        "    fn=lgbm_objectvie, space=lgb_parameter_space, trials=trials,\n",
        "    algo=tpe.suggest, max_evals=150, verbose=1,\n",
        "    rstate=np.random.RandomState(23))\n",
        "\n",
        "hyperparams = space_eval(lgb_parameter_space, best)\n",
        "print (hyperparams)"
      ],
      "metadata": {
        "id": "RAtYxag1VK48"
      },
      "execution_count": null,
      "outputs": []
    },
    {
      "cell_type": "code",
      "source": [
        "hyperparams = space_eval(lgb_parameter_space, best)\n",
        "print (hyperparams)"
      ],
      "metadata": {
        "colab": {
          "base_uri": "https://localhost:8080/"
        },
        "id": "tPmt58nzQmGk",
        "outputId": "3ab3bd80-3f02-43e6-ad22-a4fe947e0b5b"
      },
      "execution_count": null,
      "outputs": [
        {
          "output_type": "stream",
          "name": "stdout",
          "text": [
            "{'bagging_fraction': 0.6000000000000001, 'feature_fraction': 0.9, 'lambda_l1': 0, 'lambda_l2': 0.1, 'learning_rate': 0.2360857587653838, 'max_depth': 4, 'min_child_samples': 100, 'num_leaves': 255}\n"
          ]
        }
      ]
    },
    {
      "cell_type": "code",
      "source": [
        "hyperparams.update({\n",
        "    \"metric\": \"auc\"})\n",
        "hyperparams"
      ],
      "metadata": {
        "id": "YN7jiGBOMrVC"
      },
      "execution_count": null,
      "outputs": []
    },
    {
      "cell_type": "code",
      "source": [
        "lgb_clf = lgb.train(\n",
        "      hyperparams, train_set=lgb_train, \n",
        "      num_boost_round=300, valid_sets=lgb_val,\n",
        "      early_stopping_rounds=45, verbose_eval=0)\n",
        "  \n",
        "score = lgb_clf.best_score['valid_0'][lgb_params['metric']]\n",
        "print (score)"
      ],
      "metadata": {
        "colab": {
          "base_uri": "https://localhost:8080/"
        },
        "id": "i39x34CWi9Go",
        "outputId": "a4c7308a-e7e8-4f44-e9fd-9d0b43c2ebf8"
      },
      "execution_count": null,
      "outputs": [
        {
          "output_type": "stream",
          "name": "stdout",
          "text": [
            "0.9467330307910018\n"
          ]
        }
      ]
    },
    {
      "cell_type": "code",
      "source": [
        "predict_y_proba_gbm = lgb_clf.predict(X_val_features, num_iteration=lgb_clf.best_iteration)\n",
        "predict_y_gbm = np.where(predict_y_proba_gbm.reshape((predict_y_proba_gbm.shape[0])) > 0.5, 1, 0)\n",
        "\n",
        "score_ll = log_loss(Y_val, predict_y_proba_gbm)\n",
        "score_ac = accuracy_score(Y_val, predict_y_gbm)\n",
        "score_pr = precision_score(Y_val, predict_y_gbm)\n",
        "score_re = recall_score(Y_val, predict_y_gbm)\n",
        "score = [score_ll, score_ac, score_pr, score_re]\n",
        "print (score)\n",
        "\n",
        "import matplotlib.pyplot as plt\n",
        "#if (importance == True):\n",
        "ax = lgb.plot_importance(lgb_clf, max_num_features=20, figsize=(16, 5))\n",
        "plt.show()\n",
        "\n",
        "gbmDF = pd.DataFrame([tuple(lgb_clf.feature_importance())], columns= lgb_clf.feature_name())\n",
        "gbmDF.sort_index(axis=1, inplace=True)"
      ],
      "metadata": {
        "colab": {
          "base_uri": "https://localhost:8080/",
          "height": 346
        },
        "id": "9DCky4LUi9Cx",
        "outputId": "21e4f5d4-2b77-428d-b454-e60c9ded33da"
      },
      "execution_count": null,
      "outputs": [
        {
          "output_type": "stream",
          "name": "stdout",
          "text": [
            "[0.32588269614722115, 0.8691588785046729, 0.8402555910543131, 0.8855218855218855]\n"
          ]
        },
        {
          "output_type": "display_data",
          "data": {
            "text/plain": [
              "<Figure size 1152x360 with 1 Axes>"
            ],
            "image/png": "[encoded data removed]"
          },
          "metadata": {
            "needs_background": "light"
          }
        }
      ]
    },
    {
      "cell_type": "code",
      "source": [
        "predict_y_gbm"
      ],
      "metadata": {
        "id": "Y89xvg3vjcOX"
      },
      "execution_count": null,
      "outputs": []
    },
    {
      "cell_type": "code",
      "source": [
        "lgb_class = lgb.LGBMClassifier(**hyperparams)\n",
        "\n",
        "lgb_class.fit(X_train_features, Y_train)\n",
        "lgb_cls_pred = lgb_class.predict(X_val_features)#, label=Y_val"
      ],
      "metadata": {
        "id": "fN4QqyUKmAK4"
      },
      "execution_count": null,
      "outputs": []
    },
    {
      "cell_type": "code",
      "source": [
        "score_ll = log_loss(Y_val, lgb_cls_pred)\n",
        "score_ac = accuracy_score(Y_val, lgb_cls_pred)\n",
        "score_pr = precision_score(Y_val, lgb_cls_pred)\n",
        "score_re = recall_score(Y_val, lgb_cls_pred)\n",
        "score = [score_ll, score_ac, score_pr, score_re]\n",
        "print (score)"
      ],
      "metadata": {
        "colab": {
          "base_uri": "https://localhost:8080/"
        },
        "id": "NNpPAPFuqrm5",
        "outputId": "454021ce-213f-483b-d88d-991e92e858e0"
      },
      "execution_count": null,
      "outputs": [
        {
          "output_type": "stream",
          "name": "stdout",
          "text": [
            "[6.025534783283643, 0.8255451713395638, 0.797427652733119, 0.835016835016835]\n"
          ]
        }
      ]
    },
    {
      "cell_type": "code",
      "source": [],
      "metadata": {
        "id": "TVMJHaxzqrjY"
      },
      "execution_count": null,
      "outputs": []
    },
    {
      "cell_type": "code",
      "source": [],
      "metadata": {
        "id": "ey9Lpbpnqrfu"
      },
      "execution_count": null,
      "outputs": []
    },
    {
      "cell_type": "markdown",
      "source": [
        "#### CNN"
      ],
      "metadata": {
        "id": "-S4Rf3gUf9yX"
      }
    },
    {
      "cell_type": "code",
      "source": [
        "#CNN\n",
        "## Functional API with Keras"
      ],
      "metadata": {
        "id": "SqVfuhG8mABk"
      },
      "execution_count": null,
      "outputs": []
    },
    {
      "cell_type": "code",
      "source": [
        "from tensorflow.keras.models import Sequential\n",
        "from tensorflow.keras import layers, Input\n",
        "from tensorflow.keras.optimizers import Adam\n",
        "from tensorflow.keras.preprocessing.image import ImageDataGenerator\n",
        "from tensorflow.keras.models import Model, load_model\n",
        "from tensorflow.keras.layers import Dense, Flatten, Dropout, Activation, Input, GlobalAveragePooling2D\n",
        "from tensorflow.keras.applications import InceptionV3, Xception\n",
        "from tensorflow.keras.applications import EfficientNetB4\n",
        "from tensorflow.keras.preprocessing.image import ImageDataGenerator\n",
        "#from tensorflow.keras.mixed_precision import experimental as mixed_precision\n",
        "from tensorflow.keras.callbacks import ModelCheckpoint, ReduceLROnPlateau, EarlyStopping\n"
      ],
      "metadata": {
        "id": "gx30NglKttOO"
      },
      "execution_count": null,
      "outputs": []
    },
    {
      "cell_type": "code",
      "source": [],
      "metadata": {
        "id": "3nTr3hWoG-s5"
      },
      "execution_count": null,
      "outputs": []
    },
    {
      "cell_type": "code",
      "source": [
        "params = {'img_shape': 75, 'activation': 'relu', 'batch_size': 32}\n",
        "inputs = Input(shape=(params['img_shape'], params['img_shape'], 3))\n",
        "\n",
        "# Layer 1\n",
        "conv2D = layers.Conv2D(64, kernel_size=(3,3), activation=params['activation'],\\\n",
        "              input_shape=(params['img_shape'], params['img_shape'], 3))(inputs)\n",
        "maxPool2D = layers.MaxPooling2D(pool_size=(3,3), strides=(2,2))(conv2D)\n",
        "dropout = layers.Dropout(0.2)(maxPool2D)\n",
        "\n",
        "# Layer 2\n",
        "conv2D_2 = layers.Conv2D(128, kernel_size=(3,3), activation='relu')(dropout)\n",
        "maxPool2D_2 = layers.MaxPooling2D(pool_size=(2,2), strides=(2,2))(conv2D_2)\n",
        "dropout_2 = layers.Dropout(0.2)(maxPool2D_2)\n",
        "\n",
        "# Layer 3\n",
        "conv2D_3 = layers.Conv2D(128, kernel_size=(3,3), activation='relu')(dropout_2)\n",
        "maxPool2D_3 = layers.MaxPooling2D(pool_size=(2,2), strides=(2,2))(conv2D_3)\n",
        "dropout_3 = layers.Dropout(0.2)(maxPool2D_3)\n",
        "\n",
        "#Layer 4\n",
        "conv2D_4 = layers.Conv2D(128, kernel_size=(3,3), activation='relu')(dropout_3)\n",
        "maxPool2D_4 = layers.MaxPooling2D(pool_size=(2,2), strides=(2,2))(conv2D_4)\n",
        "dropout_4 = layers.Dropout(0.2)(maxPool2D_4)\n",
        "\n",
        "flatten = layers.Flatten()(dropout_4)\n",
        "dense = layers.Dense(512, activation='relu')(flatten)\n",
        "dropout_5 = layers.Dropout(0.2)(dense)\n",
        "\n",
        "dense_2 = layers.Dense(256, activation='relu')(dropout_5)\n",
        "dropout_6 = layers.Dropout(0.2)(dense_2)\n",
        "\n",
        "outputs = layers.Dense(1, activation='sigmoid')(dropout_6)\n",
        "\n",
        "model = Model(inputs=inputs, outputs=outputs, name='iceberg')\n",
        "model.summary()"
      ],
      "metadata": {
        "id": "L-nvHlDvttKj",
        "colab": {
          "base_uri": "https://localhost:8080/"
        },
        "outputId": "37a930a5-57c8-49e4-be86-36649b231811"
      },
      "execution_count": null,
      "outputs": [
        {
          "output_type": "stream",
          "name": "stdout",
          "text": [
            "Model: \"iceberg\"\n",
            "_________________________________________________________________\n",
            " Layer (type)                Output Shape              Param #   \n",
            "=================================================================\n",
            " input_3 (InputLayer)        [(None, 75, 75, 3)]       0         \n",
            "                                                                 \n",
            " conv2d_8 (Conv2D)           (None, 73, 73, 64)        1792      \n",
            "                                                                 \n",
            " max_pooling2d_8 (MaxPooling  (None, 36, 36, 64)       0         \n",
            " 2D)                                                             \n",
            "                                                                 \n",
            " dropout_12 (Dropout)        (None, 36, 36, 64)        0         \n",
            "                                                                 \n",
            " conv2d_9 (Conv2D)           (None, 34, 34, 128)       73856     \n",
            "                                                                 \n",
            " max_pooling2d_9 (MaxPooling  (None, 17, 17, 128)      0         \n",
            " 2D)                                                             \n",
            "                                                                 \n",
            " dropout_13 (Dropout)        (None, 17, 17, 128)       0         \n",
            "                                                                 \n",
            " conv2d_10 (Conv2D)          (None, 15, 15, 128)       147584    \n",
            "                                                                 \n",
            " max_pooling2d_10 (MaxPoolin  (None, 7, 7, 128)        0         \n",
            " g2D)                                                            \n",
            "                                                                 \n",
            " dropout_14 (Dropout)        (None, 7, 7, 128)         0         \n",
            "                                                                 \n",
            " conv2d_11 (Conv2D)          (None, 5, 5, 128)         147584    \n",
            "                                                                 \n",
            " max_pooling2d_11 (MaxPoolin  (None, 2, 2, 128)        0         \n",
            " g2D)                                                            \n",
            "                                                                 \n",
            " dropout_15 (Dropout)        (None, 2, 2, 128)         0         \n",
            "                                                                 \n",
            " flatten_2 (Flatten)         (None, 512)               0         \n",
            "                                                                 \n",
            " dense_6 (Dense)             (None, 512)               262656    \n",
            "                                                                 \n",
            " dropout_16 (Dropout)        (None, 512)               0         \n",
            "                                                                 \n",
            " dense_7 (Dense)             (None, 256)               131328    \n",
            "                                                                 \n",
            " dropout_17 (Dropout)        (None, 256)               0         \n",
            "                                                                 \n",
            " dense_8 (Dense)             (None, 1)                 257       \n",
            "                                                                 \n",
            "=================================================================\n",
            "Total params: 765,057\n",
            "Trainable params: 765,057\n",
            "Non-trainable params: 0\n",
            "_________________________________________________________________\n"
          ]
        }
      ]
    },
    {
      "cell_type": "code",
      "source": [
        "optimizer = Adam()\n",
        "model.compile(\n",
        "    optimizer=optimizer, loss='binary_crossentropy',\n",
        "    metrics=['accuracy'])\n",
        "\n",
        "ES = EarlyStopping(\n",
        "    'val_loss', patience=5, mode='min')\n",
        "\n",
        "chk_pnt = ModelCheckpoint(\n",
        "    '.iceberg.hdf5', save_best_only=True)\n",
        "\n",
        "callbacks = [ES, chk_pnt]"
      ],
      "metadata": {
        "id": "i-ULpXAVEQBI"
      },
      "execution_count": null,
      "outputs": []
    },
    {
      "cell_type": "code",
      "source": [
        "X_train_features,X_val_features, Y_train, Y_val = train_test_split(XTrain, YTrain, train_size=0.8, shuffle=True, random_state=23)\n",
        "\n",
        "history = model.fit(\n",
        "    X_train_features, Y_train,\n",
        "    batch_size=32,\n",
        "    epochs=50,\n",
        "    verbose=1,\n",
        "    validation_data=(X_val_features, Y_val))"
      ],
      "metadata": {
        "colab": {
          "base_uri": "https://localhost:8080/"
        },
        "id": "DUrOaxkjEP-R",
        "outputId": "25b74dd0-84df-4f31-f77b-21e604fef1cf"
      },
      "execution_count": null,
      "outputs": [
        {
          "output_type": "stream",
          "name": "stdout",
          "text": [
            "Epoch 1/50\n",
            "81/81 [==============================] - 119s 1s/step - loss: 0.2525 - accuracy: 0.8924 - val_loss: 0.2709 - val_accuracy: 0.8925\n",
            "Epoch 2/50\n",
            "81/81 [==============================] - 83s 1s/step - loss: 0.2408 - accuracy: 0.8967 - val_loss: 0.2969 - val_accuracy: 0.8801\n",
            "Epoch 3/50\n",
            "81/81 [==============================] - 87s 1s/step - loss: 0.2242 - accuracy: 0.9041 - val_loss: 0.3156 - val_accuracy: 0.8801\n",
            "Epoch 4/50\n",
            "81/81 [==============================] - 83s 1s/step - loss: 0.2165 - accuracy: 0.9072 - val_loss: 0.2796 - val_accuracy: 0.8941\n",
            "Epoch 5/50\n",
            "81/81 [==============================] - 83s 1s/step - loss: 0.2444 - accuracy: 0.8991 - val_loss: 0.2727 - val_accuracy: 0.8847\n",
            "Epoch 6/50\n",
            "81/81 [==============================] - 85s 1s/step - loss: 0.2004 - accuracy: 0.9174 - val_loss: 0.2775 - val_accuracy: 0.8832\n",
            "Epoch 7/50\n",
            "81/81 [==============================] - 82s 1000ms/step - loss: 0.1996 - accuracy: 0.9150 - val_loss: 0.2480 - val_accuracy: 0.9034\n",
            "Epoch 8/50\n",
            "81/81 [==============================] - 104s 1s/step - loss: 0.1875 - accuracy: 0.9209 - val_loss: 0.3644 - val_accuracy: 0.8474\n",
            "Epoch 9/50\n",
            "81/81 [==============================] - 98s 1s/step - loss: 0.1791 - accuracy: 0.9189 - val_loss: 0.3530 - val_accuracy: 0.8676\n",
            "Epoch 10/50\n",
            "81/81 [==============================] - 108s 1s/step - loss: 0.1847 - accuracy: 0.9178 - val_loss: 0.3234 - val_accuracy: 0.8598\n",
            "Epoch 11/50\n",
            "81/81 [==============================] - 115s 1s/step - loss: 0.1887 - accuracy: 0.9263 - val_loss: 0.3048 - val_accuracy: 0.8863\n",
            "Epoch 12/50\n",
            "81/81 [==============================] - 96s 1s/step - loss: 0.1621 - accuracy: 0.9361 - val_loss: 0.2592 - val_accuracy: 0.8988\n",
            "Epoch 13/50\n",
            "81/81 [==============================] - 103s 1s/step - loss: 0.1588 - accuracy: 0.9306 - val_loss: 0.3166 - val_accuracy: 0.8738\n",
            "Epoch 14/50\n",
            "81/81 [==============================] - 83s 1s/step - loss: 0.1901 - accuracy: 0.9193 - val_loss: 0.2893 - val_accuracy: 0.8988\n",
            "Epoch 15/50\n",
            "81/81 [==============================] - 86s 1s/step - loss: 0.1400 - accuracy: 0.9451 - val_loss: 0.2806 - val_accuracy: 0.8956\n",
            "Epoch 16/50\n",
            "81/81 [==============================] - 87s 1s/step - loss: 0.1513 - accuracy: 0.9380 - val_loss: 0.3242 - val_accuracy: 0.8894\n",
            "Epoch 17/50\n",
            "81/81 [==============================] - 89s 1s/step - loss: 0.1410 - accuracy: 0.9423 - val_loss: 0.2725 - val_accuracy: 0.9128\n",
            "Epoch 18/50\n",
            "81/81 [==============================] - 78s 962ms/step - loss: 0.1069 - accuracy: 0.9540 - val_loss: 0.3306 - val_accuracy: 0.8894\n",
            "Epoch 19/50\n",
            "81/81 [==============================] - 80s 992ms/step - loss: 0.1320 - accuracy: 0.9486 - val_loss: 0.3083 - val_accuracy: 0.8988\n",
            "Epoch 20/50\n",
            "81/81 [==============================] - 84s 1s/step - loss: 0.1162 - accuracy: 0.9540 - val_loss: 0.3550 - val_accuracy: 0.8863\n",
            "Epoch 21/50\n",
            "81/81 [==============================] - 80s 991ms/step - loss: 0.1311 - accuracy: 0.9482 - val_loss: 0.3019 - val_accuracy: 0.9019\n",
            "Epoch 22/50\n",
            "81/81 [==============================] - 79s 976ms/step - loss: 0.0998 - accuracy: 0.9638 - val_loss: 0.2693 - val_accuracy: 0.9034\n",
            "Epoch 23/50\n",
            "81/81 [==============================] - 79s 971ms/step - loss: 0.0931 - accuracy: 0.9638 - val_loss: 0.3124 - val_accuracy: 0.8972\n",
            "Epoch 24/50\n",
            "81/81 [==============================] - 77s 948ms/step - loss: 0.0963 - accuracy: 0.9610 - val_loss: 0.3059 - val_accuracy: 0.8972\n",
            "Epoch 25/50\n",
            "81/81 [==============================] - 82s 1s/step - loss: 0.0922 - accuracy: 0.9638 - val_loss: 0.3350 - val_accuracy: 0.8988\n",
            "Epoch 26/50\n",
            "81/81 [==============================] - 78s 964ms/step - loss: 0.1000 - accuracy: 0.9602 - val_loss: 0.3144 - val_accuracy: 0.8941\n",
            "Epoch 27/50\n",
            "81/81 [==============================] - 78s 963ms/step - loss: 0.0806 - accuracy: 0.9680 - val_loss: 0.3380 - val_accuracy: 0.9097\n",
            "Epoch 28/50\n",
            "81/81 [==============================] - 80s 990ms/step - loss: 0.0753 - accuracy: 0.9704 - val_loss: 0.2924 - val_accuracy: 0.9081\n",
            "Epoch 29/50\n",
            "81/81 [==============================] - 77s 950ms/step - loss: 0.0653 - accuracy: 0.9770 - val_loss: 0.3208 - val_accuracy: 0.8894\n",
            "Epoch 30/50\n",
            "81/81 [==============================] - 81s 1s/step - loss: 0.0707 - accuracy: 0.9719 - val_loss: 0.3185 - val_accuracy: 0.9034\n",
            "Epoch 31/50\n",
            "81/81 [==============================] - 77s 957ms/step - loss: 0.0760 - accuracy: 0.9704 - val_loss: 0.3307 - val_accuracy: 0.9112\n",
            "Epoch 32/50\n",
            "81/81 [==============================] - 78s 961ms/step - loss: 0.0585 - accuracy: 0.9782 - val_loss: 0.3417 - val_accuracy: 0.9097\n",
            "Epoch 33/50\n",
            "81/81 [==============================] - 81s 999ms/step - loss: 0.0583 - accuracy: 0.9766 - val_loss: 0.4155 - val_accuracy: 0.9003\n",
            "Epoch 34/50\n",
            "81/81 [==============================] - 78s 969ms/step - loss: 0.0822 - accuracy: 0.9684 - val_loss: 0.3226 - val_accuracy: 0.8910\n",
            "Epoch 35/50\n",
            "81/81 [==============================] - 86s 1s/step - loss: 0.0669 - accuracy: 0.9762 - val_loss: 0.3497 - val_accuracy: 0.8972\n",
            "Epoch 36/50\n",
            "81/81 [==============================] - 79s 975ms/step - loss: 0.0530 - accuracy: 0.9801 - val_loss: 0.3908 - val_accuracy: 0.9050\n",
            "Epoch 37/50\n",
            "81/81 [==============================] - 77s 948ms/step - loss: 0.0596 - accuracy: 0.9762 - val_loss: 0.3783 - val_accuracy: 0.8801\n",
            "Epoch 38/50\n",
            "81/81 [==============================] - 82s 1s/step - loss: 0.0946 - accuracy: 0.9696 - val_loss: 0.3776 - val_accuracy: 0.8832\n",
            "Epoch 39/50\n",
            "81/81 [==============================] - 83s 1s/step - loss: 0.0742 - accuracy: 0.9727 - val_loss: 0.3276 - val_accuracy: 0.8941\n",
            "Epoch 40/50\n",
            "81/81 [==============================] - 78s 964ms/step - loss: 0.0486 - accuracy: 0.9817 - val_loss: 0.4096 - val_accuracy: 0.9097\n",
            "Epoch 41/50\n",
            "81/81 [==============================] - 80s 990ms/step - loss: 0.0588 - accuracy: 0.9762 - val_loss: 0.3918 - val_accuracy: 0.8956\n",
            "Epoch 42/50\n",
            "81/81 [==============================] - 78s 966ms/step - loss: 0.0510 - accuracy: 0.9786 - val_loss: 0.3651 - val_accuracy: 0.8925\n",
            "Epoch 43/50\n",
            "81/81 [==============================] - 78s 969ms/step - loss: 0.0664 - accuracy: 0.9774 - val_loss: 0.4004 - val_accuracy: 0.8925\n",
            "Epoch 44/50\n",
            "81/81 [==============================] - 79s 973ms/step - loss: 0.0387 - accuracy: 0.9864 - val_loss: 0.4350 - val_accuracy: 0.9050\n",
            "Epoch 45/50\n",
            "81/81 [==============================] - 78s 963ms/step - loss: 0.0484 - accuracy: 0.9813 - val_loss: 0.4166 - val_accuracy: 0.8894\n",
            "Epoch 46/50\n",
            "81/81 [==============================] - 80s 978ms/step - loss: 0.0496 - accuracy: 0.9836 - val_loss: 0.3395 - val_accuracy: 0.9034\n",
            "Epoch 47/50\n",
            "81/81 [==============================] - 83s 1s/step - loss: 0.0328 - accuracy: 0.9871 - val_loss: 0.3663 - val_accuracy: 0.9065\n",
            "Epoch 48/50\n",
            "81/81 [==============================] - 85s 1s/step - loss: 0.0361 - accuracy: 0.9848 - val_loss: 0.4369 - val_accuracy: 0.9003\n",
            "Epoch 49/50\n",
            "81/81 [==============================] - 78s 968ms/step - loss: 0.0275 - accuracy: 0.9887 - val_loss: 0.4296 - val_accuracy: 0.9019\n",
            "Epoch 50/50\n",
            "81/81 [==============================] - 78s 964ms/step - loss: 0.0767 - accuracy: 0.9692 - val_loss: 0.3398 - val_accuracy: 0.9034\n"
          ]
        }
      ]
    },
    {
      "cell_type": "code",
      "source": [
        "model.save('iceberg')"
      ],
      "metadata": {
        "colab": {
          "base_uri": "https://localhost:8080/"
        },
        "id": "P4trhNSRcN2r",
        "outputId": "0307a5a4-2164-498a-9a51-2f3abd3db40b"
      },
      "execution_count": null,
      "outputs": [
        {
          "output_type": "stream",
          "name": "stderr",
          "text": [
            "WARNING:absl:Found untraced functions such as _jit_compiled_convolution_op, _jit_compiled_convolution_op, _jit_compiled_convolution_op, _jit_compiled_convolution_op, _update_step_xla while saving (showing 5 of 5). These functions will not be directly callable after loading.\n"
          ]
        }
      ]
    },
    {
      "cell_type": "code",
      "source": [
        "model.evaluate(X_val_features, y_val)"
      ],
      "metadata": {
        "colab": {
          "base_uri": "https://localhost:8080/"
        },
        "id": "kNnQie-btkSH",
        "outputId": "3121ffdc-036f-468d-ddaf-a6f9cf919b29"
      },
      "execution_count": null,
      "outputs": [
        {
          "output_type": "stream",
          "name": "stdout",
          "text": [
            "21/21 [==============================] - 1s 19ms/step - loss: 0.0000e+00 - accuracy: 0.0000e+00\n"
          ]
        },
        {
          "output_type": "execute_result",
          "data": {
            "text/plain": [
              "[0.0, 0.0]"
            ]
          },
          "metadata": {},
          "execution_count": 42
        }
      ]
    },
    {
      "cell_type": "code",
      "source": [
        "model.load_weights(filepath='iceberg.hdf5')\n",
        "scr = model.evaluate(X_val_features, Y_val, verbose=1)\n",
        "print (f\"Loss: {scr[0]};; acc: {scr[1]}\")"
      ],
      "metadata": {
        "id": "Huri3P5_EPjz"
      },
      "execution_count": null,
      "outputs": []
    },
    {
      "cell_type": "code",
      "source": [
        "cnn_pred_test = model.predict_proba(XTest)"
      ],
      "metadata": {
        "id": "AZBoqf4bcHOL"
      },
      "execution_count": null,
      "outputs": []
    },
    {
      "cell_type": "code",
      "source": [
        "cnn_sub = pd.DataFrame(\n",
        "    {\n",
        "        \"id\": sub['id'],\n",
        "        \"is_iceberg\": cnn_pred_test\n",
        "    }\n",
        ")\n",
        "cnn_sub.to_csv('cnn_sub.csv', index=False)"
      ],
      "metadata": {
        "colab": {
          "base_uri": "https://localhost:8080/"
        },
        "id": "Fu4xi0s6EPg-",
        "outputId": "759aab44-5269-41db-e244-9607fe7d4d2d"
      },
      "execution_count": null,
      "outputs": [
        {
          "output_type": "execute_result",
          "data": {
            "text/plain": [
              "(8424, 75, 75, 3)"
            ]
          },
          "metadata": {},
          "execution_count": 45
        }
      ]
    },
    {
      "cell_type": "code",
      "source": [],
      "metadata": {
        "id": "fzcBK2-oEPd3"
      },
      "execution_count": null,
      "outputs": []
    },
    {
      "cell_type": "code",
      "source": [],
      "metadata": {
        "id": "rWH98dLIttG3"
      },
      "execution_count": null,
      "outputs": []
    },
    {
      "cell_type": "markdown",
      "source": [
        "### Testing and Submission"
      ],
      "metadata": {
        "id": "gGHQKMtrgDUQ"
      }
    },
    {
      "cell_type": "code",
      "source": [
        "## Testing"
      ],
      "metadata": {
        "id": "qeeIkY_ytWHG"
      },
      "execution_count": null,
      "outputs": []
    },
    {
      "cell_type": "code",
      "source": [
        "rgb_weights = [0.2989, 0.5870, 0.1140] #Intensity to conver to greyscale\n",
        "test_images = np.dot(XTest[...,:3], rgb_weights)\n",
        "test_images.shape"
      ],
      "metadata": {
        "colab": {
          "base_uri": "https://localhost:8080/"
        },
        "id": "Hhafd4KwtXlb",
        "outputId": "665688ed-e7a3-4ced-ed87-f45f00b1a01b"
      },
      "execution_count": null,
      "outputs": [
        {
          "output_type": "execute_result",
          "data": {
            "text/plain": [
              "(8424, 75, 75)"
            ]
          },
          "metadata": {},
          "execution_count": 28
        }
      ]
    },
    {
      "cell_type": "code",
      "source": [
        "#rescaling intensity to range [0,1] and converting to 8bit int\n",
        "\n",
        "bin_width = 32\n",
        "\n",
        "test_scaled = exposure.rescale_intensity(test_images, out_range=(0,1))\n",
        "test_binned = util.img_as_ubyte(test_scaled)\n",
        "test_binned = test_binned // bin_width\n",
        "test_binned.shape, test_scaled.shape"
      ],
      "metadata": {
        "colab": {
          "base_uri": "https://localhost:8080/"
        },
        "id": "LI6erilNtb_M",
        "outputId": "2e58498f-600f-4e08-f8b4-e365cbbf8240"
      },
      "execution_count": null,
      "outputs": [
        {
          "output_type": "execute_result",
          "data": {
            "text/plain": [
              "((8424, 75, 75), (8424, 75, 75))"
            ]
          },
          "metadata": {},
          "execution_count": 29
        }
      ]
    },
    {
      "cell_type": "code",
      "source": [
        "plt.imshow(test_binned[1800])"
      ],
      "metadata": {
        "colab": {
          "base_uri": "https://localhost:8080/",
          "height": 285
        },
        "id": "6C8_Y0titxEQ",
        "outputId": "f4be641b-3f5a-4cea-b6c6-91ba0b7105b5"
      },
      "execution_count": null,
      "outputs": [
        {
          "output_type": "execute_result",
          "data": {
            "text/plain": [
              "<matplotlib.image.AxesImage at 0x7fb0ea3b6520>"
            ]
          },
          "metadata": {},
          "execution_count": 94
        },
        {
          "output_type": "display_data",
          "data": {
            "text/plain": [
              "<Figure size 432x288 with 1 Axes>"
            ],
            "image/png": "[encoded data removed]"
          },
          "metadata": {
            "needs_background": "light"
          }
        }
      ]
    },
    {
      "cell_type": "code",
      "source": [
        "plt.imshow(test_images[1800], cmap=plt.get_cmap('gray'))\n",
        "plt.show()"
      ],
      "metadata": {
        "colab": {
          "base_uri": "https://localhost:8080/",
          "height": 268
        },
        "id": "f2YqiWCltyiC",
        "outputId": "4b713166-12d0-44b8-e6fb-b05634be961b"
      },
      "execution_count": null,
      "outputs": [
        {
          "output_type": "display_data",
          "data": {
            "text/plain": [
              "<Figure size 432x288 with 1 Axes>"
            ],
            "image/png": "[encoded data removed]"
          },
          "metadata": {
            "needs_background": "light"
          }
        }
      ]
    },
    {
      "cell_type": "code",
      "source": [
        "test_GLMC_features = GLCM_feature_extraction(test_binned)\n",
        "test_GLMC_features['INC_ANGLE'] = test_angle\n",
        "test_GLMC_features.head()"
      ],
      "metadata": {
        "colab": {
          "base_uri": "https://localhost:8080/",
          "height": 300
        },
        "id": "91IacMGrt4Kx",
        "outputId": "d81c0331-821e-4f95-a651-b9d9afbdb329"
      },
      "execution_count": null,
      "outputs": [
        {
          "output_type": "execute_result",
          "data": {
            "text/plain": [
              "     Energy  Correlation  Dissimilarity  Homogenity  Contrast   Energy2  \\\n",
              "0  0.919080     0.270738       0.067748    0.966126  0.067748  0.908461   \n",
              "0  0.628533     0.396804       0.254775    0.872649  0.255135  0.601356   \n",
              "0  0.437618     0.747022       0.309730    0.845676  0.315135  0.406993   \n",
              "0  0.933668     0.500385       0.044505    0.977748  0.044505  0.920981   \n",
              "0  0.539286     0.173616       0.393514    0.803279  0.393874  0.531140   \n",
              "\n",
              "   Correlation2  Dissimilarity2  Homogeneity2  Contrast2  ...  Correlation4  \\\n",
              "0      0.035843        0.090000      0.955000   0.090000  ...           1.0   \n",
              "0      0.207082        0.333889      0.833278   0.336111  ...           1.0   \n",
              "0      0.641024        0.413889      0.796511   0.448704  ...           1.0   \n",
              "0      0.189694        0.071296      0.964463   0.072407  ...           1.0   \n",
              "0      0.066188        0.441852      0.779481   0.445926  ...           1.0   \n",
              "\n",
              "   Dissimilarity4  Homogeneity4  Contrast4   Energy5  Correlation5  \\\n",
              "0             0.0           1.0        0.0  0.952744           1.0   \n",
              "0             0.0           1.0        0.0  0.764065           1.0   \n",
              "0             0.0           1.0        0.0  0.589440           1.0   \n",
              "0             0.0           1.0        0.0  0.956088           1.0   \n",
              "0             0.0           1.0        0.0  0.727557           1.0   \n",
              "\n",
              "   Dissimilarity5  Homogeneity5  Contrast5  INC_ANGLE  \n",
              "0             0.0           1.0        0.0   0.610279  \n",
              "0             0.0           1.0        0.0   0.569240  \n",
              "0             0.0           1.0        0.0   0.654593  \n",
              "0             0.0           1.0        0.0   0.601683  \n",
              "0             0.0           1.0        0.0   0.766529  \n",
              "\n",
              "[5 rows x 26 columns]"
            ],
            "text/html": [
              "\n",
              "  <div id=\"df-5d9fbffd-a6bc-46f5-ad98-c71ab6bdb3b1\">\n",
              "    <div class=\"colab-df-container\">\n",
              "      <div>\n",
              "<style scoped>\n",
              "    .dataframe tbody tr th:only-of-type {\n",
              "        vertical-align: middle;\n",
              "    }\n",
              "\n",
              "    .dataframe tbody tr th {\n",
              "        vertical-align: top;\n",
              "    }\n",
              "\n",
              "    .dataframe thead th {\n",
              "        text-align: right;\n",
              "    }\n",
              "</style>\n",
              "<table border=\"1\" class=\"dataframe\">\n",
              "  <thead>\n",
              "    <tr style=\"text-align: right;\">\n",
              "      <th></th>\n",
              "      <th>Energy</th>\n",
              "      <th>Correlation</th>\n",
              "      <th>Dissimilarity</th>\n",
              "      <th>Homogenity</th>\n",
              "      <th>Contrast</th>\n",
              "      <th>Energy2</th>\n",
              "      <th>Correlation2</th>\n",
              "      <th>Dissimilarity2</th>\n",
              "      <th>Homogeneity2</th>\n",
              "      <th>Contrast2</th>\n",
              "      <th>...</th>\n",
              "      <th>Correlation4</th>\n",
              "      <th>Dissimilarity4</th>\n",
              "      <th>Homogeneity4</th>\n",
              "      <th>Contrast4</th>\n",
              "      <th>Energy5</th>\n",
              "      <th>Correlation5</th>\n",
              "      <th>Dissimilarity5</th>\n",
              "      <th>Homogeneity5</th>\n",
              "      <th>Contrast5</th>\n",
              "      <th>INC_ANGLE</th>\n",
              "    </tr>\n",
              "  </thead>\n",
              "  <tbody>\n",
              "    <tr>\n",
              "      <th>0</th>\n",
              "      <td>0.919080</td>\n",
              "      <td>0.270738</td>\n",
              "      <td>0.067748</td>\n",
              "      <td>0.966126</td>\n",
              "      <td>0.067748</td>\n",
              "      <td>0.908461</td>\n",
              "      <td>0.035843</td>\n",
              "      <td>0.090000</td>\n",
              "      <td>0.955000</td>\n",
              "      <td>0.090000</td>\n",
              "      <td>...</td>\n",
              "      <td>1.0</td>\n",
              "      <td>0.0</td>\n",
              "      <td>1.0</td>\n",
              "      <td>0.0</td>\n",
              "      <td>0.952744</td>\n",
              "      <td>1.0</td>\n",
              "      <td>0.0</td>\n",
              "      <td>1.0</td>\n",
              "      <td>0.0</td>\n",
              "      <td>0.610279</td>\n",
              "    </tr>\n",
              "    <tr>\n",
              "      <th>0</th>\n",
              "      <td>0.628533</td>\n",
              "      <td>0.396804</td>\n",
              "      <td>0.254775</td>\n",
              "      <td>0.872649</td>\n",
              "      <td>0.255135</td>\n",
              "      <td>0.601356</td>\n",
              "      <td>0.207082</td>\n",
              "      <td>0.333889</td>\n",
              "      <td>0.833278</td>\n",
              "      <td>0.336111</td>\n",
              "      <td>...</td>\n",
              "      <td>1.0</td>\n",
              "      <td>0.0</td>\n",
              "      <td>1.0</td>\n",
              "      <td>0.0</td>\n",
              "      <td>0.764065</td>\n",
              "      <td>1.0</td>\n",
              "      <td>0.0</td>\n",
              "      <td>1.0</td>\n",
              "      <td>0.0</td>\n",
              "      <td>0.569240</td>\n",
              "    </tr>\n",
              "    <tr>\n",
              "      <th>0</th>\n",
              "      <td>0.437618</td>\n",
              "      <td>0.747022</td>\n",
              "      <td>0.309730</td>\n",
              "      <td>0.845676</td>\n",
              "      <td>0.315135</td>\n",
              "      <td>0.406993</td>\n",
              "      <td>0.641024</td>\n",
              "      <td>0.413889</td>\n",
              "      <td>0.796511</td>\n",
              "      <td>0.448704</td>\n",
              "      <td>...</td>\n",
              "      <td>1.0</td>\n",
              "      <td>0.0</td>\n",
              "      <td>1.0</td>\n",
              "      <td>0.0</td>\n",
              "      <td>0.589440</td>\n",
              "      <td>1.0</td>\n",
              "      <td>0.0</td>\n",
              "      <td>1.0</td>\n",
              "      <td>0.0</td>\n",
              "      <td>0.654593</td>\n",
              "    </tr>\n",
              "    <tr>\n",
              "      <th>0</th>\n",
              "      <td>0.933668</td>\n",
              "      <td>0.500385</td>\n",
              "      <td>0.044505</td>\n",
              "      <td>0.977748</td>\n",
              "      <td>0.044505</td>\n",
              "      <td>0.920981</td>\n",
              "      <td>0.189694</td>\n",
              "      <td>0.071296</td>\n",
              "      <td>0.964463</td>\n",
              "      <td>0.072407</td>\n",
              "      <td>...</td>\n",
              "      <td>1.0</td>\n",
              "      <td>0.0</td>\n",
              "      <td>1.0</td>\n",
              "      <td>0.0</td>\n",
              "      <td>0.956088</td>\n",
              "      <td>1.0</td>\n",
              "      <td>0.0</td>\n",
              "      <td>1.0</td>\n",
              "      <td>0.0</td>\n",
              "      <td>0.601683</td>\n",
              "    </tr>\n",
              "    <tr>\n",
              "      <th>0</th>\n",
              "      <td>0.539286</td>\n",
              "      <td>0.173616</td>\n",
              "      <td>0.393514</td>\n",
              "      <td>0.803279</td>\n",
              "      <td>0.393874</td>\n",
              "      <td>0.531140</td>\n",
              "      <td>0.066188</td>\n",
              "      <td>0.441852</td>\n",
              "      <td>0.779481</td>\n",
              "      <td>0.445926</td>\n",
              "      <td>...</td>\n",
              "      <td>1.0</td>\n",
              "      <td>0.0</td>\n",
              "      <td>1.0</td>\n",
              "      <td>0.0</td>\n",
              "      <td>0.727557</td>\n",
              "      <td>1.0</td>\n",
              "      <td>0.0</td>\n",
              "      <td>1.0</td>\n",
              "      <td>0.0</td>\n",
              "      <td>0.766529</td>\n",
              "    </tr>\n",
              "  </tbody>\n",
              "</table>\n",
              "<p>5 rows × 26 columns</p>\n",
              "</div>\n",
              "      <button class=\"colab-df-convert\" onclick=\"convertToInteractive('df-5d9fbffd-a6bc-46f5-ad98-c71ab6bdb3b1')\"\n",
              "              title=\"Convert this dataframe to an interactive table.\"\n",
              "              style=\"display:none;\">\n",
              "        \n",
              "  <svg xmlns=\"http://www.w3.org/2000/svg\" height=\"24px\"viewBox=\"0 0 24 24\"\n",
              "       width=\"24px\">\n",
              "    <path d=\"M0 0h24v24H0V0z\" fill=\"none\"/>\n",
              "    <path d=\"M18.56 5.44l.94 2.06.94-2.06 2.06-.94-2.06-.94-.94-2.06-.94 2.06-2.06.94zm-11 1L8.5 8.5l.94-2.06 2.06-.94-2.06-.94L8.5 2.5l-.94 2.06-2.06.94zm10 10l.94 2.06.94-2.06 2.06-.94-2.06-.94-.94-2.06-.94 2.06-2.06.94z\"/><path d=\"M17.41 7.96l-1.37-1.37c-.4-.4-.92-.59-1.43-.59-.52 0-1.04.2-1.43.59L10.3 9.45l-7.72 7.72c-.78.78-.78 2.05 0 2.83L4 21.41c.39.39.9.59 1.41.59.51 0 1.02-.2 1.41-.59l7.78-7.78 2.81-2.81c.8-.78.8-2.07 0-2.86zM5.41 20L4 18.59l7.72-7.72 1.47 1.35L5.41 20z\"/>\n",
              "  </svg>\n",
              "      </button>\n",
              "      \n",
              "  <style>\n",
              "    .colab-df-container {\n",
              "      display:flex;\n",
              "      flex-wrap:wrap;\n",
              "      gap: 12px;\n",
              "    }\n",
              "\n",
              "    .colab-df-convert {\n",
              "      background-color: #E8F0FE;\n",
              "      border: none;\n",
              "      border-radius: 50%;\n",
              "      cursor: pointer;\n",
              "      display: none;\n",
              "      fill: #1967D2;\n",
              "      height: 32px;\n",
              "      padding: 0 0 0 0;\n",
              "      width: 32px;\n",
              "    }\n",
              "\n",
              "    .colab-df-convert:hover {\n",
              "      background-color: #E2EBFA;\n",
              "      box-shadow: 0px 1px 2px rgba(60, 64, 67, 0.3), 0px 1px 3px 1px rgba(60, 64, 67, 0.15);\n",
              "      fill: #174EA6;\n",
              "    }\n",
              "\n",
              "    [theme=dark] .colab-df-convert {\n",
              "      background-color: #3B4455;\n",
              "      fill: #D2E3FC;\n",
              "    }\n",
              "\n",
              "    [theme=dark] .colab-df-convert:hover {\n",
              "      background-color: #434B5C;\n",
              "      box-shadow: 0px 1px 3px 1px rgba(0, 0, 0, 0.15);\n",
              "      filter: drop-shadow(0px 1px 2px rgba(0, 0, 0, 0.3));\n",
              "      fill: #FFFFFF;\n",
              "    }\n",
              "  </style>\n",
              "\n",
              "      <script>\n",
              "        const buttonEl =\n",
              "          document.querySelector('#df-5d9fbffd-a6bc-46f5-ad98-c71ab6bdb3b1 button.colab-df-convert');\n",
              "        buttonEl.style.display =\n",
              "          google.colab.kernel.accessAllowed ? 'block' : 'none';\n",
              "\n",
              "        async function convertToInteractive(key) {\n",
              "          const element = document.querySelector('#df-5d9fbffd-a6bc-46f5-ad98-c71ab6bdb3b1');\n",
              "          const dataTable =\n",
              "            await google.colab.kernel.invokeFunction('convertToInteractive',\n",
              "                                                     [key], {});\n",
              "          if (!dataTable) return;\n",
              "\n",
              "          const docLinkHtml = 'Like what you see? Visit the ' +\n",
              "            '<a target=\"_blank\" href=https://colab.research.google.com/notebooks/data_table.ipynb>data table notebook</a>'\n",
              "            + ' to learn more about interactive tables.';\n",
              "          element.innerHTML = '';\n",
              "          dataTable['output_type'] = 'display_data';\n",
              "          await google.colab.output.renderOutput(dataTable, element);\n",
              "          const docLink = document.createElement('div');\n",
              "          docLink.innerHTML = docLinkHtml;\n",
              "          element.appendChild(docLink);\n",
              "        }\n",
              "      </script>\n",
              "    </div>\n",
              "  </div>\n",
              "  "
            ]
          },
          "metadata": {},
          "execution_count": 30
        }
      ]
    },
    {
      "cell_type": "code",
      "source": [
        "sub_path = \"/content/gdrive/MyDrive/Kaggle/sample_submission.csv.7z\"\n",
        "file = py7zr.SevenZipFile(sub_path, mode='r')\n",
        "file.extractall('.')\n",
        "\n",
        "sub = pd.read_csv(\"/content/data/processed/sample_submission.csv\")\n",
        "sub.head()"
      ],
      "metadata": {
        "colab": {
          "base_uri": "https://localhost:8080/",
          "height": 206
        },
        "id": "XdBqPALZuEzh",
        "outputId": "27e2d304-ae9d-4b1a-8e47-2d8734e4056c"
      },
      "execution_count": null,
      "outputs": [
        {
          "output_type": "execute_result",
          "data": {
            "text/plain": [
              "         id  is_iceberg\n",
              "0  5941774d         0.5\n",
              "1  4023181e         0.5\n",
              "2  b20200e4         0.5\n",
              "3  e7f018bb         0.5\n",
              "4  4371c8c3         0.5"
            ],
            "text/html": [
              "\n",
              "  <div id=\"df-9607f258-3f62-4af0-a1f5-f41fee386ad7\">\n",
              "    <div class=\"colab-df-container\">\n",
              "      <div>\n",
              "<style scoped>\n",
              "    .dataframe tbody tr th:only-of-type {\n",
              "        vertical-align: middle;\n",
              "    }\n",
              "\n",
              "    .dataframe tbody tr th {\n",
              "        vertical-align: top;\n",
              "    }\n",
              "\n",
              "    .dataframe thead th {\n",
              "        text-align: right;\n",
              "    }\n",
              "</style>\n",
              "<table border=\"1\" class=\"dataframe\">\n",
              "  <thead>\n",
              "    <tr style=\"text-align: right;\">\n",
              "      <th></th>\n",
              "      <th>id</th>\n",
              "      <th>is_iceberg</th>\n",
              "    </tr>\n",
              "  </thead>\n",
              "  <tbody>\n",
              "    <tr>\n",
              "      <th>0</th>\n",
              "      <td>5941774d</td>\n",
              "      <td>0.5</td>\n",
              "    </tr>\n",
              "    <tr>\n",
              "      <th>1</th>\n",
              "      <td>4023181e</td>\n",
              "      <td>0.5</td>\n",
              "    </tr>\n",
              "    <tr>\n",
              "      <th>2</th>\n",
              "      <td>b20200e4</td>\n",
              "      <td>0.5</td>\n",
              "    </tr>\n",
              "    <tr>\n",
              "      <th>3</th>\n",
              "      <td>e7f018bb</td>\n",
              "      <td>0.5</td>\n",
              "    </tr>\n",
              "    <tr>\n",
              "      <th>4</th>\n",
              "      <td>4371c8c3</td>\n",
              "      <td>0.5</td>\n",
              "    </tr>\n",
              "  </tbody>\n",
              "</table>\n",
              "</div>\n",
              "      <button class=\"colab-df-convert\" onclick=\"convertToInteractive('df-9607f258-3f62-4af0-a1f5-f41fee386ad7')\"\n",
              "              title=\"Convert this dataframe to an interactive table.\"\n",
              "              style=\"display:none;\">\n",
              "        \n",
              "  <svg xmlns=\"http://www.w3.org/2000/svg\" height=\"24px\"viewBox=\"0 0 24 24\"\n",
              "       width=\"24px\">\n",
              "    <path d=\"M0 0h24v24H0V0z\" fill=\"none\"/>\n",
              "    <path d=\"M18.56 5.44l.94 2.06.94-2.06 2.06-.94-2.06-.94-.94-2.06-.94 2.06-2.06.94zm-11 1L8.5 8.5l.94-2.06 2.06-.94-2.06-.94L8.5 2.5l-.94 2.06-2.06.94zm10 10l.94 2.06.94-2.06 2.06-.94-2.06-.94-.94-2.06-.94 2.06-2.06.94z\"/><path d=\"M17.41 7.96l-1.37-1.37c-.4-.4-.92-.59-1.43-.59-.52 0-1.04.2-1.43.59L10.3 9.45l-7.72 7.72c-.78.78-.78 2.05 0 2.83L4 21.41c.39.39.9.59 1.41.59.51 0 1.02-.2 1.41-.59l7.78-7.78 2.81-2.81c.8-.78.8-2.07 0-2.86zM5.41 20L4 18.59l7.72-7.72 1.47 1.35L5.41 20z\"/>\n",
              "  </svg>\n",
              "      </button>\n",
              "      \n",
              "  <style>\n",
              "    .colab-df-container {\n",
              "      display:flex;\n",
              "      flex-wrap:wrap;\n",
              "      gap: 12px;\n",
              "    }\n",
              "\n",
              "    .colab-df-convert {\n",
              "      background-color: #E8F0FE;\n",
              "      border: none;\n",
              "      border-radius: 50%;\n",
              "      cursor: pointer;\n",
              "      display: none;\n",
              "      fill: #1967D2;\n",
              "      height: 32px;\n",
              "      padding: 0 0 0 0;\n",
              "      width: 32px;\n",
              "    }\n",
              "\n",
              "    .colab-df-convert:hover {\n",
              "      background-color: #E2EBFA;\n",
              "      box-shadow: 0px 1px 2px rgba(60, 64, 67, 0.3), 0px 1px 3px 1px rgba(60, 64, 67, 0.15);\n",
              "      fill: #174EA6;\n",
              "    }\n",
              "\n",
              "    [theme=dark] .colab-df-convert {\n",
              "      background-color: #3B4455;\n",
              "      fill: #D2E3FC;\n",
              "    }\n",
              "\n",
              "    [theme=dark] .colab-df-convert:hover {\n",
              "      background-color: #434B5C;\n",
              "      box-shadow: 0px 1px 3px 1px rgba(0, 0, 0, 0.15);\n",
              "      filter: drop-shadow(0px 1px 2px rgba(0, 0, 0, 0.3));\n",
              "      fill: #FFFFFF;\n",
              "    }\n",
              "  </style>\n",
              "\n",
              "      <script>\n",
              "        const buttonEl =\n",
              "          document.querySelector('#df-9607f258-3f62-4af0-a1f5-f41fee386ad7 button.colab-df-convert');\n",
              "        buttonEl.style.display =\n",
              "          google.colab.kernel.accessAllowed ? 'block' : 'none';\n",
              "\n",
              "        async function convertToInteractive(key) {\n",
              "          const element = document.querySelector('#df-9607f258-3f62-4af0-a1f5-f41fee386ad7');\n",
              "          const dataTable =\n",
              "            await google.colab.kernel.invokeFunction('convertToInteractive',\n",
              "                                                     [key], {});\n",
              "          if (!dataTable) return;\n",
              "\n",
              "          const docLinkHtml = 'Like what you see? Visit the ' +\n",
              "            '<a target=\"_blank\" href=https://colab.research.google.com/notebooks/data_table.ipynb>data table notebook</a>'\n",
              "            + ' to learn more about interactive tables.';\n",
              "          element.innerHTML = '';\n",
              "          dataTable['output_type'] = 'display_data';\n",
              "          await google.colab.output.renderOutput(dataTable, element);\n",
              "          const docLink = document.createElement('div');\n",
              "          docLink.innerHTML = docLinkHtml;\n",
              "          element.appendChild(docLink);\n",
              "        }\n",
              "      </script>\n",
              "    </div>\n",
              "  </div>\n",
              "  "
            ]
          },
          "metadata": {},
          "execution_count": 31
        }
      ]
    },
    {
      "cell_type": "code",
      "source": [],
      "metadata": {
        "id": "_0A-mjdgCrLy"
      },
      "execution_count": null,
      "outputs": []
    },
    {
      "cell_type": "code",
      "source": [
        "# xgboost submission"
      ],
      "metadata": {
        "id": "yOL_enNDCrIi"
      },
      "execution_count": null,
      "outputs": []
    },
    {
      "cell_type": "markdown",
      "source": [
        "#### XGB Sub"
      ],
      "metadata": {
        "id": "ZQIgym87gIom"
      }
    },
    {
      "cell_type": "code",
      "source": [
        "xgb_test_pred = clf.predict_proba(test_GLMC_features)\n",
        "xgb_proba = list(np.max(xgb_test_pred, axis=1))\n",
        "xgb_sub = pd.DataFrame(\n",
        "    {'id': sub['id'],\n",
        "    'is_iceberg': xgb_proba}\n",
        ")\n",
        "xgb_sub.to_csv('xgb_sub.csv', index=False)"
      ],
      "metadata": {
        "id": "KuLv6NNfCu77"
      },
      "execution_count": null,
      "outputs": []
    },
    {
      "cell_type": "code",
      "source": [],
      "metadata": {
        "id": "tM899BJxCry6"
      },
      "execution_count": null,
      "outputs": []
    },
    {
      "cell_type": "markdown",
      "source": [
        "#### Random Forest Sub"
      ],
      "metadata": {
        "id": "qoaYBcRXgMUi"
      }
    },
    {
      "cell_type": "code",
      "source": [
        "## random forest submission\n",
        "rand_test_pred = rfm.predict_proba(test_GLMC_features)\n",
        "rand_test_pred"
      ],
      "metadata": {
        "colab": {
          "base_uri": "https://localhost:8080/"
        },
        "id": "eSu1VmUSvH6T",
        "outputId": "73ba5034-9751-424d-d1e8-e8522478b206"
      },
      "execution_count": null,
      "outputs": [
        {
          "output_type": "execute_result",
          "data": {
            "text/plain": [
              "array([[0.31, 0.69],\n",
              "       [0.27, 0.73],\n",
              "       [0.77, 0.23],\n",
              "       ...,\n",
              "       [0.58, 0.42],\n",
              "       [0.09, 0.91],\n",
              "       [0.25, 0.75]])"
            ]
          },
          "metadata": {},
          "execution_count": 99
        }
      ]
    },
    {
      "cell_type": "code",
      "source": [
        "rand_proba = list(np.max(rand_test_pred, axis=1))\n",
        "rand_sub = pd.DataFrame(\n",
        "    {\n",
        "        \"id\": sub['id'],\n",
        "        \"is_iceberg\": rand_proba\n",
        "    }\n",
        ")\n",
        "\n",
        "rand_sub.head()"
      ],
      "metadata": {
        "colab": {
          "base_uri": "https://localhost:8080/",
          "height": 206
        },
        "id": "MNgyqqlSxDlG",
        "outputId": "4e9f78fd-16aa-4304-82da-c9c72c181db1"
      },
      "execution_count": null,
      "outputs": [
        {
          "output_type": "execute_result",
          "data": {
            "text/plain": [
              "         id  is_iceberg\n",
              "0  5941774d        0.69\n",
              "1  4023181e        0.73\n",
              "2  b20200e4        0.77\n",
              "3  e7f018bb        0.76\n",
              "4  4371c8c3        0.62"
            ],
            "text/html": [
              "\n",
              "  <div id=\"df-8076a860-8bb7-4222-9cc1-48a9ddce7f2c\">\n",
              "    <div class=\"colab-df-container\">\n",
              "      <div>\n",
              "<style scoped>\n",
              "    .dataframe tbody tr th:only-of-type {\n",
              "        vertical-align: middle;\n",
              "    }\n",
              "\n",
              "    .dataframe tbody tr th {\n",
              "        vertical-align: top;\n",
              "    }\n",
              "\n",
              "    .dataframe thead th {\n",
              "        text-align: right;\n",
              "    }\n",
              "</style>\n",
              "<table border=\"1\" class=\"dataframe\">\n",
              "  <thead>\n",
              "    <tr style=\"text-align: right;\">\n",
              "      <th></th>\n",
              "      <th>id</th>\n",
              "      <th>is_iceberg</th>\n",
              "    </tr>\n",
              "  </thead>\n",
              "  <tbody>\n",
              "    <tr>\n",
              "      <th>0</th>\n",
              "      <td>5941774d</td>\n",
              "      <td>0.69</td>\n",
              "    </tr>\n",
              "    <tr>\n",
              "      <th>1</th>\n",
              "      <td>4023181e</td>\n",
              "      <td>0.73</td>\n",
              "    </tr>\n",
              "    <tr>\n",
              "      <th>2</th>\n",
              "      <td>b20200e4</td>\n",
              "      <td>0.77</td>\n",
              "    </tr>\n",
              "    <tr>\n",
              "      <th>3</th>\n",
              "      <td>e7f018bb</td>\n",
              "      <td>0.76</td>\n",
              "    </tr>\n",
              "    <tr>\n",
              "      <th>4</th>\n",
              "      <td>4371c8c3</td>\n",
              "      <td>0.62</td>\n",
              "    </tr>\n",
              "  </tbody>\n",
              "</table>\n",
              "</div>\n",
              "      <button class=\"colab-df-convert\" onclick=\"convertToInteractive('df-8076a860-8bb7-4222-9cc1-48a9ddce7f2c')\"\n",
              "              title=\"Convert this dataframe to an interactive table.\"\n",
              "              style=\"display:none;\">\n",
              "        \n",
              "  <svg xmlns=\"http://www.w3.org/2000/svg\" height=\"24px\"viewBox=\"0 0 24 24\"\n",
              "       width=\"24px\">\n",
              "    <path d=\"M0 0h24v24H0V0z\" fill=\"none\"/>\n",
              "    <path d=\"M18.56 5.44l.94 2.06.94-2.06 2.06-.94-2.06-.94-.94-2.06-.94 2.06-2.06.94zm-11 1L8.5 8.5l.94-2.06 2.06-.94-2.06-.94L8.5 2.5l-.94 2.06-2.06.94zm10 10l.94 2.06.94-2.06 2.06-.94-2.06-.94-.94-2.06-.94 2.06-2.06.94z\"/><path d=\"M17.41 7.96l-1.37-1.37c-.4-.4-.92-.59-1.43-.59-.52 0-1.04.2-1.43.59L10.3 9.45l-7.72 7.72c-.78.78-.78 2.05 0 2.83L4 21.41c.39.39.9.59 1.41.59.51 0 1.02-.2 1.41-.59l7.78-7.78 2.81-2.81c.8-.78.8-2.07 0-2.86zM5.41 20L4 18.59l7.72-7.72 1.47 1.35L5.41 20z\"/>\n",
              "  </svg>\n",
              "      </button>\n",
              "      \n",
              "  <style>\n",
              "    .colab-df-container {\n",
              "      display:flex;\n",
              "      flex-wrap:wrap;\n",
              "      gap: 12px;\n",
              "    }\n",
              "\n",
              "    .colab-df-convert {\n",
              "      background-color: #E8F0FE;\n",
              "      border: none;\n",
              "      border-radius: 50%;\n",
              "      cursor: pointer;\n",
              "      display: none;\n",
              "      fill: #1967D2;\n",
              "      height: 32px;\n",
              "      padding: 0 0 0 0;\n",
              "      width: 32px;\n",
              "    }\n",
              "\n",
              "    .colab-df-convert:hover {\n",
              "      background-color: #E2EBFA;\n",
              "      box-shadow: 0px 1px 2px rgba(60, 64, 67, 0.3), 0px 1px 3px 1px rgba(60, 64, 67, 0.15);\n",
              "      fill: #174EA6;\n",
              "    }\n",
              "\n",
              "    [theme=dark] .colab-df-convert {\n",
              "      background-color: #3B4455;\n",
              "      fill: #D2E3FC;\n",
              "    }\n",
              "\n",
              "    [theme=dark] .colab-df-convert:hover {\n",
              "      background-color: #434B5C;\n",
              "      box-shadow: 0px 1px 3px 1px rgba(0, 0, 0, 0.15);\n",
              "      filter: drop-shadow(0px 1px 2px rgba(0, 0, 0, 0.3));\n",
              "      fill: #FFFFFF;\n",
              "    }\n",
              "  </style>\n",
              "\n",
              "      <script>\n",
              "        const buttonEl =\n",
              "          document.querySelector('#df-8076a860-8bb7-4222-9cc1-48a9ddce7f2c button.colab-df-convert');\n",
              "        buttonEl.style.display =\n",
              "          google.colab.kernel.accessAllowed ? 'block' : 'none';\n",
              "\n",
              "        async function convertToInteractive(key) {\n",
              "          const element = document.querySelector('#df-8076a860-8bb7-4222-9cc1-48a9ddce7f2c');\n",
              "          const dataTable =\n",
              "            await google.colab.kernel.invokeFunction('convertToInteractive',\n",
              "                                                     [key], {});\n",
              "          if (!dataTable) return;\n",
              "\n",
              "          const docLinkHtml = 'Like what you see? Visit the ' +\n",
              "            '<a target=\"_blank\" href=https://colab.research.google.com/notebooks/data_table.ipynb>data table notebook</a>'\n",
              "            + ' to learn more about interactive tables.';\n",
              "          element.innerHTML = '';\n",
              "          dataTable['output_type'] = 'display_data';\n",
              "          await google.colab.output.renderOutput(dataTable, element);\n",
              "          const docLink = document.createElement('div');\n",
              "          docLink.innerHTML = docLinkHtml;\n",
              "          element.appendChild(docLink);\n",
              "        }\n",
              "      </script>\n",
              "    </div>\n",
              "  </div>\n",
              "  "
            ]
          },
          "metadata": {},
          "execution_count": 106
        }
      ]
    },
    {
      "cell_type": "code",
      "source": [
        "rand_sub.to_csv('rand_sub.csv', index=False)"
      ],
      "metadata": {
        "id": "NVhmvxpNxQY_"
      },
      "execution_count": null,
      "outputs": []
    },
    {
      "cell_type": "code",
      "source": [],
      "metadata": {
        "id": "qJGRRePPxzlT"
      },
      "execution_count": null,
      "outputs": []
    },
    {
      "cell_type": "markdown",
      "source": [
        "#### LightGBM sub"
      ],
      "metadata": {
        "id": "_N-LBjBCgPmf"
      }
    },
    {
      "cell_type": "code",
      "source": [
        "## lgb submission\n",
        "lgb_test_pred = lgb_clf.predict(test_GLMC_features)\n",
        "lgb_test_pred"
      ],
      "metadata": {
        "id": "LMUeW_68vblv",
        "colab": {
          "base_uri": "https://localhost:8080/"
        },
        "outputId": "a5144e35-041d-4521-92c9-e506bf277c38"
      },
      "execution_count": null,
      "outputs": [
        {
          "output_type": "execute_result",
          "data": {
            "text/plain": [
              "array([ 0.51738735,  0.88548663, -0.05836222, ..., -0.01992477,\n",
              "        0.87906252,  0.91434491])"
            ]
          },
          "metadata": {},
          "execution_count": 94
        }
      ]
    },
    {
      "cell_type": "code",
      "source": [
        "lgb_cls_proba = lgb_class.predict_proba(test_GLMC_features)[:, 1]\n",
        "lgb_sub = pd.DataFrame(\n",
        "    {\n",
        "        \"id\": sub['id'],\n",
        "        \"is_iceberg\": lgb_cls_proba\n",
        "    }\n",
        ")\n",
        "lgb_sub.to_csv('lgb_sub.csv', index=False)"
      ],
      "metadata": {
        "id": "tcDwk5tvjrN1"
      },
      "execution_count": null,
      "outputs": []
    },
    {
      "cell_type": "code",
      "source": [],
      "metadata": {
        "id": "DSkPwvrLkRMz"
      },
      "execution_count": null,
      "outputs": []
    }
  ]
}